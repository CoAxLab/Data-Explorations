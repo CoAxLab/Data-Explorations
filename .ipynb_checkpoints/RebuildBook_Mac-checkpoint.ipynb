{
 "cells": [
  {
   "cell_type": "code",
   "execution_count": null,
   "id": "cea0b891-0d7b-45dd-b4bc-248aa1e3c2f0",
   "metadata": {},
   "outputs": [],
   "source": [
    "!rm -rf book/_build/\n",
    "!jupyter-book build --all book\n",
    "!ghp-import -n -p -f book/_build/html"
   ]
  }
 ],
 "metadata": {
  "kernelspec": {
   "display_name": "R",
   "language": "R",
   "name": "ir"
  },
  "language_info": {
   "codemirror_mode": "r",
   "file_extension": ".r",
   "mimetype": "text/x-r-source",
   "name": "R",
   "pygments_lexer": "r",
   "version": "4.4.1"
  }
 },
 "nbformat": 4,
 "nbformat_minor": 5
}
