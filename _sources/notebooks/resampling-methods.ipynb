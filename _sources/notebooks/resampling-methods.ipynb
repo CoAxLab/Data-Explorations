{
 "cells": [
  {
   "cell_type": "markdown",
   "metadata": {
    "id": "epIeQBhXujpJ"
   },
   "source": [
    "# Tutorial: Boostrap and permutation tests\n",
    "\n",
    "In this lab we will go over bootstrapping and permutation resampling methods. \n",
    "\n",
    "## Goals:\n",
    "* Learn to use the `boot()` function\n",
    "* Learn to write *for loops* to do permutation tests\n",
    "* Construct a null distribution by permutation as a way of testing hypotheses \n",
    "* Quantify the sampling distribution of a statistic via bootstrapping (construct confidence intervals for your results)\n",
    "\n",
    "This lab draws from the practice sets at the end of Chapter 5 in James, G., Witten, D., Hastie, T., & Tibshirani, R. (2013). \"An introduction to statistical learning: with applications in r.\" "
   ]
  },
  {
   "cell_type": "markdown",
   "metadata": {
    "id": "XtSvNee6ujpR"
   },
   "source": [
    "---\n",
    "#  A reminder of the difference between bootstrapping and permutation testing\n",
    "\n",
    "Both bootstrapping and permutation testing rely on randomization methods. However, their purposes are different, and often confused with each other.\n",
    "\n",
    "**Bootstrapping:** \n",
    "* quantifies uncertainty by reusing the data (random resampling with *replacement*)\n",
    "* answers the question: what is the range of values I can expect for a statistic, given the varaibility in my data? \n",
    "\n",
    "\n",
    "**Permutation testing:** \n",
    "* breaks whatever structure may exist between variables of interest while maintaining the structure between others (*permute*, or shuffle, the relationship between *x* and *y*, for example)\n",
    "* allows targeted null hypothesis testing \n",
    "* quantifies the null distribution for a given hypothesis \n",
    "* answers the question: what kind of pattern would you expect to see if there were no statistical relationship between two (or more) variables?\n",
    "\n",
    "\n",
    "These methods are useful if you need **non-parametric** estimates of uncertainty for a given statistic (bootstrapping) or if you need a non-parametric way of testing your hypotheses (permutation). In other words, if you don't want to risk making assumptions about the functional form of your data during uncertainty estimation or hypothesis testing, these randomization methods are for you.\n",
    "\n",
    "However, keep in mind that there are cons (and assumptions) associated with non-parametric methods. For example, one major limitation of bootstrapping is that you must make the assumption that your data contains variability similar to the kind of variability you might see when you sample new datasets in the wild, given the same statistical model, to make inferential interpretations. See [here](http://pillowlab.princeton.edu/teaching/mathtools16/slides/lec21_Bootstrap.pdf) and [here](http://evolution.gs.washington.edu/gs560/2011/lecture8.pdf) for more information. \n"
   ]
  },
  {
   "cell_type": "markdown",
   "metadata": {
    "id": "wmR30F8WujpS"
   },
   "source": [
    "---\n",
    "# Bootstrapping\n",
    "\n",
    "First, let's load the `ISLR` library to get the `Auto` dataset, and the `boot` library so we can use the `boot()` function. "
   ]
  },
  {
   "cell_type": "code",
   "execution_count": 3,
   "metadata": {
    "colab": {
     "base_uri": "https://localhost:8080/"
    },
    "executionInfo": {
     "elapsed": 4323,
     "status": "ok",
     "timestamp": 1612320918791,
     "user": {
      "displayName": "Patience Stevens",
      "photoUrl": "https://lh3.googleusercontent.com/a-/AOh14Gi-_9ZqhIFhAv1oMehJNvNuIKSTyrFQHzjxQKhx=s64",
      "userId": "01994571539255174942"
     },
     "user_tz": 300
    },
    "id": "pUg3IL_wujpU",
    "outputId": "9db49444-8f0c-46e7-fb25-14885857d535"
   },
   "outputs": [],
   "source": [
    "#install.packages(\"ISLR\")\n",
    "library(ISLR)\n",
    "library(boot)"
   ]
  },
  {
   "cell_type": "markdown",
   "metadata": {
    "id": "fyeQg3ah075f"
   },
   "source": [
    "When bootstrapping, we can write our own functions for maximum flexibility. (Review the tutorial from the [Models as Testable Hypotheses](https://coaxlab.github.io/Data-Explorations/notebooks/models-as-testable-hypotheses.html) lesson for info on writing functions in R.) \n",
    "\n",
    "We want a function that takes two inputs: a `data` set and an `index` of observations, and then returns the parameter of interest. In this example, we'll look at the regression coefficients for the model predicting `mpg` (miles per gallon) from `horsepower`. But remember, you can bootstrap any statistic of interest!"
   ]
  },
  {
   "cell_type": "code",
   "execution_count": 4,
   "metadata": {
    "executionInfo": {
     "elapsed": 270,
     "status": "ok",
     "timestamp": 1612320926725,
     "user": {
      "displayName": "Patience Stevens",
      "photoUrl": "https://lh3.googleusercontent.com/a-/AOh14Gi-_9ZqhIFhAv1oMehJNvNuIKSTyrFQHzjxQKhx=s64",
      "userId": "01994571539255174942"
     },
     "user_tz": 300
    },
    "id": "WNLCEw-SujpV"
   },
   "outputs": [],
   "source": [
    "# The function needs two inputs: Data, Index\n",
    "boot.fn <- function(data, index){  \n",
    "    # return: throw this as output\n",
    "    # coef: extract coefficients from model object \n",
    "    return(coef(lm(mpg~horsepower, data=data, subset=index)))}\n"
   ]
  },
  {
   "cell_type": "markdown",
   "metadata": {
    "id": "CY7_Ht_3ujpX"
   },
   "source": [
    "Let's test this to make sure it works. We'll use an index array that takes all 392 observations (rows) in the data set."
   ]
  },
  {
   "cell_type": "code",
   "execution_count": 5,
   "metadata": {
    "colab": {
     "base_uri": "https://localhost:8080/"
    },
    "executionInfo": {
     "elapsed": 487,
     "status": "ok",
     "timestamp": 1612321319996,
     "user": {
      "displayName": "Patience Stevens",
      "photoUrl": "https://lh3.googleusercontent.com/a-/AOh14Gi-_9ZqhIFhAv1oMehJNvNuIKSTyrFQHzjxQKhx=s64",
      "userId": "01994571539255174942"
     },
     "user_tz": 300
    },
    "id": "9OsWofFWujpY",
    "outputId": "f9570445-aa7f-4c48-fbd1-d10f404a22e5"
   },
   "outputs": [
    {
     "name": "stdout",
     "output_type": "stream",
     "text": [
      "(Intercept)  horsepower \n",
      " 39.9358610  -0.1578447 \n"
     ]
    }
   ],
   "source": [
    "print(boot.fn(Auto, 1:392)) # note: \"1:392\" means all the rows"
   ]
  },
  {
   "cell_type": "markdown",
   "metadata": {
    "id": "oAXXNXDqujpZ"
   },
   "source": [
    "Notice this is the same output as when you just run the `lm()` function with no subset selection (sanity check passed!)."
   ]
  },
  {
   "cell_type": "code",
   "execution_count": 6,
   "metadata": {
    "colab": {
     "base_uri": "https://localhost:8080/"
    },
    "executionInfo": {
     "elapsed": 281,
     "status": "ok",
     "timestamp": 1612321273675,
     "user": {
      "displayName": "Patience Stevens",
      "photoUrl": "https://lh3.googleusercontent.com/a-/AOh14Gi-_9ZqhIFhAv1oMehJNvNuIKSTyrFQHzjxQKhx=s64",
      "userId": "01994571539255174942"
     },
     "user_tz": 300
    },
    "id": "DZlS7aZwujpa",
    "outputId": "ef0d1b86-cae3-473c-fd90-7eac5528af62"
   },
   "outputs": [
    {
     "name": "stdout",
     "output_type": "stream",
     "text": [
      "(Intercept)  horsepower \n",
      " 39.9358610  -0.1578447 \n"
     ]
    }
   ],
   "source": [
    "print(coef(lm(mpg~horsepower, data=Auto)))"
   ]
  },
  {
   "cell_type": "markdown",
   "metadata": {
    "id": "oBp4GdIwujpb"
   },
   "source": [
    "Now we can use the `boot()` function, included in the `boot` library, to **randomly sample with replacement** to generate a confidence interval on the regression coefficient. We'll just test it out with 1000 iterations (set using the *R* value as an input)"
   ]
  },
  {
   "cell_type": "code",
   "execution_count": null,
   "metadata": {
    "id": "KHJb3yNVujpb"
   },
   "outputs": [],
   "source": [
    "# uncomment to learn more about the boot() function\n",
    "# ?boot"
   ]
  },
  {
   "cell_type": "code",
   "execution_count": 7,
   "metadata": {
    "id": "Rh8Yz66iujpc",
    "outputId": "7efaf1de-5a10-4a6f-c604-dd3a7e4c5222"
   },
   "outputs": [
    {
     "name": "stdout",
     "output_type": "stream",
     "text": [
      "\n",
      "ORDINARY NONPARAMETRIC BOOTSTRAP\n",
      "\n",
      "\n",
      "Call:\n",
      "boot(data = Auto, statistic = boot.fn, R = 1000)\n",
      "\n",
      "\n",
      "Bootstrap Statistics :\n",
      "      original        bias    std. error\n",
      "t1* 39.9358610 -3.975686e-03 0.832069278\n",
      "t2* -0.1578447 -2.689216e-05 0.007297162\n"
     ]
    }
   ],
   "source": [
    "boot_obj = boot(Auto, boot.fn, R=1000) #R=repetitions \n",
    "print(boot_obj) #t1 is the intercept and t2 is the horsepower coeff."
   ]
  },
  {
   "cell_type": "code",
   "execution_count": null,
   "metadata": {
    "id": "T_IxOoQ2ujpd",
    "outputId": "e758f8e7-c285-4ce7-b6ec-a267d807bc6b"
   },
   "outputs": [
    {
     "data": {
      "text/html": [
       "<dl>\n",
       "\t<dt>$names</dt>\n",
       "\t\t<dd><ol class=list-inline>\n",
       "\t<li>'t0'</li>\n",
       "\t<li>'t'</li>\n",
       "\t<li>'R'</li>\n",
       "\t<li>'data'</li>\n",
       "\t<li>'seed'</li>\n",
       "\t<li>'statistic'</li>\n",
       "\t<li>'sim'</li>\n",
       "\t<li>'call'</li>\n",
       "\t<li>'stype'</li>\n",
       "\t<li>'strata'</li>\n",
       "\t<li>'weights'</li>\n",
       "</ol>\n",
       "</dd>\n",
       "\t<dt>$class</dt>\n",
       "\t\t<dd>'boot'</dd>\n",
       "\t<dt>$boot_type</dt>\n",
       "\t\t<dd>'boot'</dd>\n",
       "</dl>\n"
      ],
      "text/latex": [
       "\\begin{description}\n",
       "\\item[\\$names] \\begin{enumerate*}\n",
       "\\item 't0'\n",
       "\\item 't'\n",
       "\\item 'R'\n",
       "\\item 'data'\n",
       "\\item 'seed'\n",
       "\\item 'statistic'\n",
       "\\item 'sim'\n",
       "\\item 'call'\n",
       "\\item 'stype'\n",
       "\\item 'strata'\n",
       "\\item 'weights'\n",
       "\\end{enumerate*}\n",
       "\n",
       "\\item[\\$class] 'boot'\n",
       "\\item[\\$boot\\_type] 'boot'\n",
       "\\end{description}\n"
      ],
      "text/markdown": [
       "$names\n",
       ":   1. 't0'\n",
       "2. 't'\n",
       "3. 'R'\n",
       "4. 'data'\n",
       "5. 'seed'\n",
       "6. 'statistic'\n",
       "7. 'sim'\n",
       "8. 'call'\n",
       "9. 'stype'\n",
       "10. 'strata'\n",
       "11. 'weights'\n",
       "\n",
       "\n",
       "\n",
       "$class\n",
       ":   'boot'\n",
       "$boot_type\n",
       ":   'boot'\n",
       "\n",
       "\n"
      ],
      "text/plain": [
       "$names\n",
       " [1] \"t0\"        \"t\"         \"R\"         \"data\"      \"seed\"      \"statistic\"\n",
       " [7] \"sim\"       \"call\"      \"stype\"     \"strata\"    \"weights\"  \n",
       "\n",
       "$class\n",
       "[1] \"boot\"\n",
       "\n",
       "$boot_type\n",
       "[1] \"boot\"\n"
      ]
     },
     "metadata": {
      "tags": []
     },
     "output_type": "display_data"
    }
   ],
   "source": [
    "attributes(boot_obj) #get all attributes of the boot object "
   ]
  },
  {
   "cell_type": "markdown",
   "metadata": {
    "id": "jbc65gFiujpe"
   },
   "source": [
    "Here the standard error estimate of the two regression coefficients (one for the intercept and one for `horsepower`) are calculated from the 1000 bootstrapped experiments on the data set. You can access these 1000 estimates by calling the `t` object -- here this has two columns, one for each parameter."
   ]
  },
  {
   "cell_type": "code",
   "execution_count": 12,
   "metadata": {
    "scrolled": true
   },
   "outputs": [
    {
     "data": {
      "text/html": [
       "<table class=\"dataframe\">\n",
       "<caption>A matrix: 6 × 2 of type dbl</caption>\n",
       "<tbody>\n",
       "\t<tr><td>40.23281</td><td>-0.1589410</td></tr>\n",
       "\t<tr><td>42.06411</td><td>-0.1733246</td></tr>\n",
       "\t<tr><td>39.90458</td><td>-0.1594424</td></tr>\n",
       "\t<tr><td>40.42686</td><td>-0.1656426</td></tr>\n",
       "\t<tr><td>39.42925</td><td>-0.1538178</td></tr>\n",
       "\t<tr><td>37.23158</td><td>-0.1373298</td></tr>\n",
       "</tbody>\n",
       "</table>\n"
      ],
      "text/latex": [
       "A matrix: 6 × 2 of type dbl\n",
       "\\begin{tabular}{ll}\n",
       "\t 40.23281 & -0.1589410\\\\\n",
       "\t 42.06411 & -0.1733246\\\\\n",
       "\t 39.90458 & -0.1594424\\\\\n",
       "\t 40.42686 & -0.1656426\\\\\n",
       "\t 39.42925 & -0.1538178\\\\\n",
       "\t 37.23158 & -0.1373298\\\\\n",
       "\\end{tabular}\n"
      ],
      "text/markdown": [
       "\n",
       "A matrix: 6 × 2 of type dbl\n",
       "\n",
       "| 40.23281 | -0.1589410 |\n",
       "| 42.06411 | -0.1733246 |\n",
       "| 39.90458 | -0.1594424 |\n",
       "| 40.42686 | -0.1656426 |\n",
       "| 39.42925 | -0.1538178 |\n",
       "| 37.23158 | -0.1373298 |\n",
       "\n"
      ],
      "text/plain": [
       "     [,1]     [,2]      \n",
       "[1,] 40.23281 -0.1589410\n",
       "[2,] 42.06411 -0.1733246\n",
       "[3,] 39.90458 -0.1594424\n",
       "[4,] 40.42686 -0.1656426\n",
       "[5,] 39.42925 -0.1538178\n",
       "[6,] 37.23158 -0.1373298"
      ]
     },
     "metadata": {},
     "output_type": "display_data"
    }
   ],
   "source": [
    "# first 6 estimates (out of 1000) for each beta\n",
    "head(boot_obj$t)"
   ]
  },
  {
   "cell_type": "markdown",
   "metadata": {},
   "source": [
    "And we can plot these estimates to visualize the distribution (below we'll plot just for $\\hat{\\beta}_{horsepower}$, since that's more interesting coefficient)."
   ]
  },
  {
   "cell_type": "code",
   "execution_count": 15,
   "metadata": {
    "colab": {
     "base_uri": "https://localhost:8080/",
     "height": 437
    },
    "executionInfo": {
     "elapsed": 2020,
     "status": "ok",
     "timestamp": 1612321638554,
     "user": {
      "displayName": "Patience Stevens",
      "photoUrl": "https://lh3.googleusercontent.com/a-/AOh14Gi-_9ZqhIFhAv1oMehJNvNuIKSTyrFQHzjxQKhx=s64",
      "userId": "01994571539255174942"
     },
     "user_tz": 300
    },
    "id": "e_TDlVAUujpf",
    "outputId": "75ca0d9a-5c29-4be7-a70f-45e879d9292e"
   },
   "outputs": [
    {
     "data": {
      "image/png": "[encoded data removed]",
      "text/plain": [
       "Plot with title “Histogram of boot(Auto, boot.fn, R = 1000)$t[, 2]”"
      ]
     },
     "metadata": {
      "image/png": {
       "height": 420,
       "width": 420
      }
     },
     "output_type": "display_data"
    }
   ],
   "source": [
    "hist(boot(Auto, boot.fn ,R=1000)$t[,2], #indexing 2nd column\n",
    "     xlab=\"Horsepower coefficient\")"
   ]
  },
  {
   "cell_type": "markdown",
   "metadata": {
    "id": "Bid-pzPQujpg"
   },
   "source": [
    "Now let's compare these results to the original model where we don't bootstrap."
   ]
  },
  {
   "cell_type": "code",
   "execution_count": 18,
   "metadata": {
    "id": "2E7VOMNoujpi",
    "outputId": "5d7032a2-a795-4e16-fa58-d603ca4db1ac"
   },
   "outputs": [
    {
     "data": {
      "text/html": [
       "<table class=\"dataframe\">\n",
       "<caption>A matrix: 2 × 4 of type dbl</caption>\n",
       "<thead>\n",
       "\t<tr><th></th><th scope=col>Estimate</th><th scope=col>Std. Error</th><th scope=col>t value</th><th scope=col>Pr(&gt;|t|)</th></tr>\n",
       "</thead>\n",
       "<tbody>\n",
       "\t<tr><th scope=row>(Intercept)</th><td>39.9358610</td><td>0.717498656</td><td> 55.65984</td><td>1.220362e-187</td></tr>\n",
       "\t<tr><th scope=row>horsepower</th><td>-0.1578447</td><td>0.006445501</td><td>-24.48914</td><td> 7.031989e-81</td></tr>\n",
       "</tbody>\n",
       "</table>\n"
      ],
      "text/latex": [
       "A matrix: 2 × 4 of type dbl\n",
       "\\begin{tabular}{r|llll}\n",
       "  & Estimate & Std. Error & t value & Pr(>\\textbar{}t\\textbar{})\\\\\n",
       "\\hline\n",
       "\t(Intercept) & 39.9358610 & 0.717498656 &  55.65984 & 1.220362e-187\\\\\n",
       "\thorsepower & -0.1578447 & 0.006445501 & -24.48914 &  7.031989e-81\\\\\n",
       "\\end{tabular}\n"
      ],
      "text/markdown": [
       "\n",
       "A matrix: 2 × 4 of type dbl\n",
       "\n",
       "| <!--/--> | Estimate | Std. Error | t value | Pr(&gt;|t|) |\n",
       "|---|---|---|---|---|\n",
       "| (Intercept) | 39.9358610 | 0.717498656 |  55.65984 | 1.220362e-187 |\n",
       "| horsepower | -0.1578447 | 0.006445501 | -24.48914 |  7.031989e-81 |\n",
       "\n"
      ],
      "text/plain": [
       "            Estimate   Std. Error  t value   Pr(>|t|)     \n",
       "(Intercept) 39.9358610 0.717498656  55.65984 1.220362e-187\n",
       "horsepower  -0.1578447 0.006445501 -24.48914  7.031989e-81"
      ]
     },
     "metadata": {},
     "output_type": "display_data"
    },
    {
     "data": {
      "text/html": [
       "<strong>horsepower:</strong> -0.157844733353654"
      ],
      "text/latex": [
       "\\textbf{horsepower:} -0.157844733353654"
      ],
      "text/markdown": [
       "**horsepower:** -0.157844733353654"
      ],
      "text/plain": [
       "horsepower \n",
       "-0.1578447 "
      ]
     },
     "metadata": {},
     "output_type": "display_data"
    }
   ],
   "source": [
    "# Parametric model\n",
    "summary(lm(mpg~horsepower, data=Auto))$coef\n",
    "\n",
    "# boot estimate\n",
    "boot_obj$t0[2]"
   ]
  },
  {
   "cell_type": "markdown",
   "metadata": {
    "id": "OtmaLbqEujpj"
   },
   "source": [
    "Notice that they produce qualitatively similar results in this case: the parametric estimate and the bootstrapped estimate are both about -0.1578. When the data fit the assumptions of the parametric linear regression model, the bootstrapped estimates will converge to the parametric ones."
   ]
  },
  {
   "cell_type": "markdown",
   "metadata": {
    "id": "F_Bu3_1-ujpk"
   },
   "source": [
    "---\n",
    "# Permutation tests\n",
    "\n",
    "Remember, that the goal of permutation tests is to use resampling *without replacement*. By doing this you define the specific null that you want to test and generate a random relationship with which to calculate $P(X|H_0)$. For this we can just use a simple *for loop*. But first, we need to define what our null is. Here let's define our null as being that there is no relationship between `horsepower` and `mpg`. In other words\n",
    "$$H_0 : \\hat{\\beta}_{horsepower} = 0$$\n",
    "\n",
    "If the null is that there is no relationship, then basically the question you're asking with your analysis is, \"Is the relationship between horsepower and mpg stronger than it would be for randomly shuffled pairings of these variables' observations?\"\n",
    "\n",
    "*Note: You are not restricted to these 'nil' hypotheses (effect of 0, $\\beta$ of 0). The advantage of these kinds of methods is that you can be as flexible as you like in defining your null.*"
   ]
  },
  {
   "cell_type": "code",
   "execution_count": 19,
   "metadata": {
    "colab": {
     "base_uri": "https://localhost:8080/",
     "height": 437
    },
    "executionInfo": {
     "elapsed": 1509,
     "status": "ok",
     "timestamp": 1612322247440,
     "user": {
      "displayName": "Patience Stevens",
      "photoUrl": "https://lh3.googleusercontent.com/a-/AOh14Gi-_9ZqhIFhAv1oMehJNvNuIKSTyrFQHzjxQKhx=s64",
      "userId": "01994571539255174942"
     },
     "user_tz": 300
    },
    "id": "VMJevlwWujpk",
    "outputId": "c1647de1-c197-48c3-e8eb-d7c58c4f0399"
   },
   "outputs": [
    {
     "data": {
      "image/png": "[encoded data removed]",
      "text/plain": [
       "Plot with title “Histogram of perm.coefs[, 2]”"
      ]
     },
     "metadata": {
      "image/png": {
       "height": 420,
       "width": 420
      }
     },
     "output_type": "display_data"
    }
   ],
   "source": [
    "# First let's make a copy of the data set that we'll keep permuting\n",
    "permAuto = Auto #want to preserve the non-permuted, true form of data!\n",
    "\n",
    "# Set the number of iterations\n",
    "R=1000\n",
    "\n",
    "# Next make an output object to store the results\n",
    "perm.coefs=matrix(NA,nrow=R, ncol=2) #filling with nas at first\n",
    "\n",
    "# Now just write a for loop where we scramble the observations\n",
    "# in X using the sample() function. \n",
    "for (i in 1:R){\n",
    "  # This is a shuffled version of the Auto$horsepower vector:\n",
    "  permAuto$horsepower=Auto$horsepower[sample(392)] \n",
    "  # then we get coeffs for linear model of shuffled horsepower to auto\n",
    "  perm.coefs[i,]=coef(lm(mpg~horsepower, data=permAuto)) \n",
    "}\n",
    "\n",
    "# Take a look at the null distributions\n",
    "hist(perm.coefs[,2])\n"
   ]
  },
  {
   "cell_type": "code",
   "execution_count": 20,
   "metadata": {
    "colab": {
     "base_uri": "https://localhost:8080/",
     "height": 34
    },
    "executionInfo": {
     "elapsed": 270,
     "status": "ok",
     "timestamp": 1612322435055,
     "user": {
      "displayName": "Patience Stevens",
      "photoUrl": "https://lh3.googleusercontent.com/a-/AOh14Gi-_9ZqhIFhAv1oMehJNvNuIKSTyrFQHzjxQKhx=s64",
      "userId": "01994571539255174942"
     },
     "user_tz": 300
    },
    "id": "0tDuC2sOujpm",
    "outputId": "9c7dbd35-b62e-4005-d311-27a2a51b02a0"
   },
   "outputs": [
    {
     "data": {
      "text/html": [
       "<style>\n",
       ".dl-inline {width: auto; margin:0; padding: 0}\n",
       ".dl-inline>dt, .dl-inline>dd {float: none; width: auto; display: inline-block}\n",
       ".dl-inline>dt::after {content: \":\\0020\"; padding-right: .5ex}\n",
       ".dl-inline>dt:not(:first-of-type) {padding-left: .5ex}\n",
       "</style><dl class=dl-inline><dt>(Intercept)</dt><dd>39.9358610211705</dd><dt>horsepower</dt><dd>-0.157844733353654</dd></dl>\n"
      ],
      "text/latex": [
       "\\begin{description*}\n",
       "\\item[(Intercept)] 39.9358610211705\n",
       "\\item[horsepower] -0.157844733353654\n",
       "\\end{description*}\n"
      ],
      "text/markdown": [
       "(Intercept)\n",
       ":   39.9358610211705horsepower\n",
       ":   -0.157844733353654\n",
       "\n"
      ],
      "text/plain": [
       "(Intercept)  horsepower \n",
       " 39.9358610  -0.1578447 "
      ]
     },
     "metadata": {},
     "output_type": "display_data"
    }
   ],
   "source": [
    "# Now re-estimate the real (unpermuted) effect \n",
    "perm.real = coef(lm(mpg~horsepower, data=Auto))\n",
    "perm.real"
   ]
  },
  {
   "cell_type": "markdown",
   "metadata": {
    "id": "lsGPtOO2ujpn"
   },
   "source": [
    "Notice that the real effect (-0.16) is *much* larger than the range of coefficient estimates we see for the permuted datasets - it falls outside the range of values in our empirically derived null distribution. But instead of eyeballing it, we can **empirically calculate** the probability of observing a stronger (i.e., more negative) effect (this is an empirical p-value!).\n",
    "\n",
    "What is the probability of observing a stronger negative effect than -0.16 due to chance?"
   ]
  },
  {
   "cell_type": "code",
   "execution_count": 15,
   "metadata": {
    "colab": {
     "base_uri": "https://localhost:8080/",
     "height": 34
    },
    "executionInfo": {
     "elapsed": 275,
     "status": "ok",
     "timestamp": 1612322437620,
     "user": {
      "displayName": "Patience Stevens",
      "photoUrl": "https://lh3.googleusercontent.com/a-/AOh14Gi-_9ZqhIFhAv1oMehJNvNuIKSTyrFQHzjxQKhx=s64",
      "userId": "01994571539255174942"
     },
     "user_tz": 300
    },
    "id": "nwAgMm6pujpn",
    "outputId": "4af9b6d9-6afc-439f-e7f0-df7d5d3ef15f"
   },
   "outputs": [
    {
     "data": {
      "text/html": [
       "0"
      ],
      "text/latex": [
       "0"
      ],
      "text/markdown": [
       "0"
      ],
      "text/plain": [
       "[1] 0"
      ]
     },
     "metadata": {
      "tags": []
     },
     "output_type": "display_data"
    }
   ],
   "source": [
    "#sum the coefficients less than the real coefficient estimate \n",
    "#and divide by the number of repetitions to get an empirical probability \n",
    "perm.p = sum(perm.coefs[,2]<perm.real[2])/R \n",
    "perm.p"
   ]
  },
  {
   "cell_type": "markdown",
   "metadata": {
    "id": "RiOl9VU_ujpo"
   },
   "source": [
    "So we do not see any permuted models that produce results that overlap with the results from the  intact model. We can reject the null hypothesis that the $\\beta$ estimate for the miles per gallon and horsepower is zero. "
   ]
  },
  {
   "cell_type": "markdown",
   "metadata": {
    "id": "nzuiUuO0u0HO"
   },
   "source": [
    "*Notebook authored by Ven Popov and edited by Krista Bond, Charles Wu, Patience Stevens, Amy Sentis, and Fiona Horner.*"
   ]
  }
 ],
 "metadata": {
  "colab": {
   "collapsed_sections": [],
   "name": "resampling-methods.ipynb",
   "provenance": []
  },
  "kernelspec": {
   "display_name": "R",
   "language": "R",
   "name": "ir"
  },
  "language_info": {
   "codemirror_mode": "r",
   "file_extension": ".r",
   "mimetype": "text/x-r-source",
   "name": "R",
   "pygments_lexer": "r",
   "version": "4.2.0"
  }
 },
 "nbformat": 4,
 "nbformat_minor": 1
}
