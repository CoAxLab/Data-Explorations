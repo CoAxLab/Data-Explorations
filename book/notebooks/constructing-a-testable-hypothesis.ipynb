{
 "cells": [
  {
   "cell_type": "markdown",
   "id": "aa2f7391",
   "metadata": {},
   "source": [
    "# Tutorial: Introduction to functions and good coding habits\n",
    "\n",
    "This lab walks through the basics of how to write your own function in R and provides some best practices for coding in a research environment in particular.\n",
    "\n",
    "## Goals:\n",
    "* Learn how to write a function in R\n",
    "* Learn best practices for writing and maintaining code\n",
    "\n",
    "This tutorial draws from [Software Carpentry: Programming with R](https://swcarpentry.github.io/r-novice-inflammation/) section 2, the R [tidyverse style guide](https://style.tidyverse.org), and the [Good Research Code Handbook](https://goodresearch.dev)."
   ]
  },
  {
   "cell_type": "markdown",
   "id": "fb9d2380",
   "metadata": {},
   "source": [
    "---\n",
    "# How to write a function in R"
   ]
  },
  {
   "cell_type": "markdown",
   "id": "210e0b8c",
   "metadata": {},
   "source": [
    "In the lecture and readings, you went over how to construct a testable hypothesis of the form:\n",
    "\n",
    "$Y=f(X)$\n",
    "\n",
    "This also describes the basic form of a function. A function takes an input set of variables ($X$), perfoms a basic operation on them ($f$), and generates an output or set of outputs ($Y$). What you will learn here is how to implement that with code."
   ]
  },
  {
   "cell_type": "markdown",
   "id": "4a84bbc1",
   "metadata": {},
   "source": [
    "Functions are useful in elminating redundant or repetitive code, as well as for separating discrete tasks. Function definitions contain certain components:\n",
    "* function name\n",
    "* input parameters\n",
    "* funcion operation\n",
    "* return statement\n",
    "* return parameters\n",
    "\n",
    "The example function below converts temperatures in Fanrenheit to temperatures in Celsius. Note the formatting structure of the function: \n",
    "* the first line contains a descriptive function name, `fahrenheit_to_celsius`, and the input parameter, `temp_F`\n",
    "* the body of the function performs the temperature conversion, the function operation, and is contained within curly braces\n",
    "* the last line contains the return statement and the return parameter, `temp_C`\n",
    "\n",
    "*Aside: R does not require a formal return statement. The variable in the last line of the function body will be return automatically. However, especially while in the learning phase, it is best to explicitly define the return statement.*\n",
    "\n",
    "The functional form of the converstion from $temp_F$ to $temp_C$ is: $temp_C = \\frac{(temp_F-32)*5}{9}$. Here we will just translate that into R form.\n"
   ]
  },
  {
   "cell_type": "code",
   "execution_count": 1,
   "id": "99c503cb",
   "metadata": {},
   "outputs": [],
   "source": [
    "fahrenheit_to_celsius <- function(temp_F) {\n",
    "  temp_C <- (temp_F - 32) * 5 / 9\n",
    "  return(temp_C)\n",
    "}"
   ]
  },
  {
   "cell_type": "markdown",
   "id": "436c8d9e",
   "metadata": {},
   "source": [
    "(Note: you have to execute the cell above for R to build the function **fahrenheit_to_celsius**)\n",
    "\n",
    "To call a function, simply invoke the function name with the required input parameters. For example:"
   ]
  },
  {
   "cell_type": "code",
   "execution_count": 2,
   "id": "248ad3f9",
   "metadata": {},
   "outputs": [
    {
     "data": {
      "text/html": [
       "0"
      ],
      "text/latex": [
       "0"
      ],
      "text/markdown": [
       "0"
      ],
      "text/plain": [
       "[1] 0"
      ]
     },
     "metadata": {},
     "output_type": "display_data"
    },
    {
     "data": {
      "text/html": [
       "100"
      ],
      "text/latex": [
       "100"
      ],
      "text/markdown": [
       "100"
      ],
      "text/plain": [
       "[1] 100"
      ]
     },
     "metadata": {},
     "output_type": "display_data"
    }
   ],
   "source": [
    "# freezing point of water\n",
    "fahrenheit_to_celsius(32)\n",
    "\n",
    "# boiling point of water\n",
    "fahrenheit_to_celsius(212)"
   ]
  },
  {
   "cell_type": "markdown",
   "id": "5b434fa4",
   "metadata": {},
   "source": [
    "There are two ways that functions in R can receive input parameters, somewhat dependent on the function definition. Parameters can be assigned to a variable, named in the function call itself, e.g., ```function_name(variable = value)```. Alternatively, parameters can be assigned simply by order and matched from left to right. Finally, not all input parameters are required if default values are set in the function definition.\n",
    "\n",
    "Let's illustrate with the following example:"
   ]
  },
  {
   "cell_type": "code",
   "execution_count": 3,
   "id": "a4bbde09",
   "metadata": {},
   "outputs": [],
   "source": [
    "input_1 <- 20\n",
    "my_sum <- function(input_1, input_2 = 10) { #input_2 is given a default value of 10\n",
    "  output <- input_1 + input_2\n",
    "  return(output)\n",
    "}"
   ]
  },
  {
   "cell_type": "markdown",
   "id": "9b4f21da",
   "metadata": {},
   "source": [
    "Now, let's try running our function a few different ways. Note the differing behavior depending on the form of the input parameters: "
   ]
  },
  {
   "cell_type": "code",
   "execution_count": 4,
   "id": "38227e73",
   "metadata": {},
   "outputs": [
    {
     "data": {
      "text/html": [
       "12"
      ],
      "text/latex": [
       "12"
      ],
      "text/markdown": [
       "12"
      ],
      "text/plain": [
       "[1] 12"
      ]
     },
     "metadata": {},
     "output_type": "display_data"
    }
   ],
   "source": [
    "my_sum(2)"
   ]
  },
  {
   "cell_type": "code",
   "execution_count": 5,
   "id": "7e3d24b4",
   "metadata": {},
   "outputs": [
    {
     "data": {
      "text/html": [
       "7"
      ],
      "text/latex": [
       "7"
      ],
      "text/markdown": [
       "7"
      ],
      "text/plain": [
       "[1] 7"
      ]
     },
     "metadata": {},
     "output_type": "display_data"
    }
   ],
   "source": [
    "my_sum(3, 4)"
   ]
  },
  {
   "cell_type": "code",
   "execution_count": 6,
   "id": "f8faf4cf",
   "metadata": {},
   "outputs": [
    {
     "data": {
      "text/html": [
       "4"
      ],
      "text/latex": [
       "4"
      ],
      "text/markdown": [
       "4"
      ],
      "text/plain": [
       "[1] 4"
      ]
     },
     "metadata": {},
     "output_type": "display_data"
    }
   ],
   "source": [
    "my_sum(input_1 = 1, 3)"
   ]
  },
  {
   "cell_type": "code",
   "execution_count": 7,
   "id": "8fe87611",
   "metadata": {},
   "outputs": [
    {
     "ename": "ERROR",
     "evalue": "Error in my_sum(input_2 = 3): argument \"input_1\" is missing, with no default\n",
     "output_type": "error",
     "traceback": [
      "Error in my_sum(input_2 = 3): argument \"input_1\" is missing, with no default\nTraceback:\n",
      "1. my_sum(input_2 = 3)"
     ]
    }
   ],
   "source": [
    "my_sum(input_2 = 3)"
   ]
  },
  {
   "cell_type": "markdown",
   "id": "d2242ea9",
   "metadata": {},
   "source": [
    "Why do we receive an error on the last function call? Looking at the error message is informative. The function definition doesn't contain a default value for `input_1`, and since the only input parameter comes in the form of a named variable for `input_2`, the function call doesn't provide a value to use for `input_1`. Thus, the addition operation in the function body can not be performed."
   ]
  },
  {
   "cell_type": "markdown",
   "id": "73dbc889",
   "metadata": {},
   "source": [
    "---\n",
    "# Good research code practices"
   ]
  },
  {
   "cell_type": "markdown",
   "id": "9d5ffda4",
   "metadata": {},
   "source": [
    "The [Good Research Code Handbook](https://goodresearch.dev) is an excellent resource written by Patrick Mineault, a software engineer at Google with a PhD in computational neuroscience. The handbook is particularly useful for grad students and postdocs whose research incorporates lots of programming. It contains helpful information about code organization such that it is clear and easy to understand and work reliably.\n",
    "\n",
    "Let's walk through some gems together:"
   ]
  },
  {
   "cell_type": "markdown",
   "id": "bf3d9306",
   "metadata": {},
   "source": [
    "## Keep code consistent"
   ]
  },
  {
   "cell_type": "markdown",
   "id": "a727632f",
   "metadata": {},
   "source": [
    "> \"Good coding style is like correct punctuation: you can manage without it, butitsuremakesthingseasiertoread.\" - The tidyverse style guide\n",
    "\n",
    "The R [tidyverse style guide](https://style.tidyverse.org), derived from Google's original R style guide, provides a set of consistent (if somewhat arbitrary) rules that facilitate writing clear code. \n",
    "\n",
    "This tutorial will only focus on some basic rules, but as always, there are more resources available that provide more detailed information."
   ]
  },
  {
   "cell_type": "markdown",
   "id": "5e896059",
   "metadata": {},
   "source": [
    "**File names** should be meaningful and limited to letters, numbers, dashes and underscores. Avoid using special characters. Some examples of good and bad file names:\n",
    "\n",
    "```\n",
    "# good\n",
    "fit_models.R\n",
    "utility_functions.R\n",
    "\n",
    "# bad\n",
    "fit models.R\n",
    "foo.r\n",
    "stuff.r\n",
    "```\n",
    "\n",
    "It is also often helpful to use a numerical prefix if a set of files are designed to be run in a specific order. "
   ]
  },
  {
   "cell_type": "markdown",
   "id": "afced442",
   "metadata": {},
   "source": [
    "Similarly, **object names** (variables and functions) should be limited to lowercase letters and numbers, with underscores used to separate words. This style is also known as snake case. For example:\n",
    "\n",
    "```\n",
    "# good\n",
    "day_one\n",
    "day_1\n",
    "\n",
    "# bad\n",
    "dayOne\n",
    "dayone\n",
    "```\n",
    "\n",
    "Note that certain object names should be avoided, such those that overlap with common operation, e.g., `mean`."
   ]
  },
  {
   "cell_type": "markdown",
   "id": "f637a9cf",
   "metadata": {},
   "source": [
    "**Long lines**: code should be limited to 80 characters per line. There are specific ways to handle longer lines that call or define functions.\n",
    "\n",
    "If a function call doesn't fit on a single line, separate the input parameters on the subsequent lines. For example:\n",
    "\n",
    "```\n",
    "# good\n",
    "do_something_very_complicated(\n",
    "  something = \"that\",\n",
    "  requires = many,\n",
    "  arguments = \"some of which may be long\"\n",
    ")\n",
    "\n",
    "# bad\n",
    "do_something_very_complicated(\"that\", requires, many, arguments,\n",
    "                              \"some of which may be long\"\n",
    "                              )\n",
    "```\n",
    "\n",
    "If a function definition doesn't fit on a single line, separate the input parameters on subsequent lines, indented to match the opening bracket of the function, as shown below:\n",
    "\n",
    "```\n",
    "long_function_name <- function(a = \"a long argument\",\n",
    "                               b = \"another argument\",\n",
    "                               c = \"another long argument\") {\n",
    "  # As usual code is indented by two spaces.\n",
    "}\n",
    "```"
   ]
  },
  {
   "cell_type": "markdown",
   "id": "d63253ba",
   "metadata": {},
   "source": [
    "**Assignment** should use the left arrow convention, `<-`, instead of the equal sign."
   ]
  },
  {
   "cell_type": "markdown",
   "id": "c5014543",
   "metadata": {},
   "source": [
    "**Logical variables and vectors** should be dfined using `TRUE` and `FALSE` instead of the shortened `T` and `F` forms.\n"
   ]
  },
  {
   "cell_type": "markdown",
   "id": "98de3231",
   "metadata": {},
   "source": [
    "## Keep jupyter notebooks tidy\n"
   ]
  },
  {
   "cell_type": "markdown",
   "id": "65edc1d9",
   "metadata": {},
   "source": [
    "There are additional considerations to keep in mind when working with jupyter notebooks. Since they are particularly useful for literate programming (combining code, graphics and text), they provide lots of flexibility and don't necessitate a rigid, linear flow through the notebook cells. It therefore requires even more discipline to maintain notebooks and the code within them.\n",
    "\n",
    "One of the most helpful tips for keeping notebook tidy is to ensure that your notebook runs from top to bottom. Restarting the notebook kernel and running through all the cells before commiting to git is a good habit to get into and can save time in the future.\n",
    "\n",
    "Thinking more broadly, using jupyter notebook for everything is not best practice. Developing code and analysis pipeline inside an integrated development environment ([IDE](https://en.wikipedia.org/wiki/Integrated_development_environment)), such as RStudio for R, is helpful for efficiency and developing good coding habits."
   ]
  },
  {
   "cell_type": "markdown",
   "id": "74151ecc",
   "metadata": {},
   "source": [
    "## Delete dead code\n"
   ]
  },
  {
   "cell_type": "markdown",
   "id": "1a0408e5",
   "metadata": {},
   "source": [
    "<img src=\"https://goodresearch.dev/_images/final.doc.gif\" alt=\"FINAL.doc\" width=\"400\"/>"
   ]
  },
  {
   "cell_type": "markdown",
   "id": "5631e323",
   "metadata": {},
   "source": [
    "Code that gets developed over time, as is often the case in research, can accumulate lots of no-longer-necessary components. This can lead to the phenomenon of dead code, code that never gets called or run. \n",
    "\n",
    "> \"You know who hates dead code? You, in three months.\" - Patrick Mineault. \n",
    "\n",
    "Not only can dead code create problems, it can also be an enormous waste of time to wade through. It is good to develop a habit of cleaning up code projects as you work, but particularly when wrapping up a project or putting it on the back burner. Remember that when using git to version control your projects, it is always possible to go back in time and recover deleted code or old versions if necessary. \n"
   ]
  },
  {
   "cell_type": "markdown",
   "id": "ad7eb42d",
   "metadata": {},
   "source": [
    "## Use pure functions\n",
    "\n"
   ]
  },
  {
   "cell_type": "markdown",
   "id": "e37bf5a3",
   "metadata": {},
   "source": [
    "Pure functions follow particular structure, with inputs coming from the input parameters and outputs returning in the return statement. For instance, using our sum function from earlier in the tutorial:\n",
    "\n",
    "```\n",
    "my_sum <- function(input_1, input_2) {\n",
    "  output <- input_1 + input_2\n",
    "  return(output)\n",
    "}\n",
    "```\n",
    "\n",
    "A pure function can also be thought of as static black box. Something goes into the box, operations occur, a result is output. In this case, both the inputs and the black box itself remains unchanged. \n"
   ]
  },
  {
   "cell_type": "markdown",
   "id": "7538ab3d",
   "metadata": {},
   "source": [
    "## Bad code: things not to do"
   ]
  },
  {
   "cell_type": "markdown",
   "id": "6d9c988d",
   "metadata": {},
   "source": [
    "Sometimes it can be equally helpful to know what not to do. Here's a brief list of some common pitfalls to avoid in your code:\n",
    "\n",
    "* mysterious object names that don’t provide hlepful info about function\n",
    "* magic numbers, or hard-coded values without explanation\n",
    "* redundant or duplicated code\n",
    "* large functions that do too much and become unwieldy (e.g., mixing IO and computation)\n",
    "* too many nested ifs and for loops"
   ]
  },
  {
   "cell_type": "markdown",
   "id": "6e1ffab0",
   "metadata": {},
   "source": [
    "## Documenting"
   ]
  },
  {
   "cell_type": "markdown",
   "id": "79241fe6",
   "metadata": {},
   "source": [
    "Most of you are probably familiar with comments within code as a way of documenting. However, this is only one type of documentation, albeit a very useful form. Documentation can really be though of as any meta-information that you write about the code. Therefore, all of the following can be considered documentation, and indeed, all are helpful to incorporate into your own practice:\n",
    "\n",
    "* comments (both single-line and multi-line)\n",
    "* docstrings located at the top of functions that describe function operations, inputs and outputs\n",
    "* README.md documents in github (and elsewhere)\n",
    "* usage documentation\n",
    "* jupyter notebooks as tutorials for using code/pipelines"
   ]
  },
  {
   "cell_type": "markdown",
   "id": "20d77f34",
   "metadata": {},
   "source": [
    "*Notebook authored by Amy Sentis.*"
   ]
  }
 ],
 "metadata": {
  "kernelspec": {
   "display_name": "R",
   "language": "R",
   "name": "ir"
  },
  "language_info": {
   "codemirror_mode": "r",
   "file_extension": ".r",
   "mimetype": "text/x-r-source",
   "name": "R",
   "pygments_lexer": "r",
   "version": "4.0.2"
  }
 },
 "nbformat": 4,
 "nbformat_minor": 5
}
