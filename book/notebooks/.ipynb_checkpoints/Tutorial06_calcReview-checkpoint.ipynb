{
 "cells": [
  {
   "cell_type": "markdown",
   "metadata": {
    "id": "5zLxcLjDuMuo"
   },
   "source": [
    "# An Overview of Relevant Calculus\n"
   ]
  },
  {
   "cell_type": "markdown",
   "metadata": {
    "id": "ahQqcU9qPPYd"
   },
   "source": [
    "This tutorial (and the next one) will go over some math concepts and skills that will help you understand lecture 9 (Orinary Least Squares and Model Evaluation) and complete the homework. Don't worry if this section is difficult for you - you don't need to be good at proofs in order to do data science well! These sections are mostly here to show the concrete connections between core concepts that appear throughout the class. It's also for the benefit of those who need or want to see the math in order to understand how it all fits together. "
   ]
  },
  {
   "cell_type": "markdown",
   "metadata": {
    "id": "wrTQ74JuSr9t"
   },
   "source": [
    "## 1. Derivatives"
   ]
  }
 ],
 "metadata": {
  "colab": {
   "name": "Tutorial06_calcReview.ipynb",
   "provenance": []
  },
  "kernelspec": {
   "display_name": "R",
   "language": "R",
   "name": "ir"
  },
  "language_info": {
   "codemirror_mode": "r",
   "file_extension": ".r",
   "mimetype": "text/x-r-source",
   "name": "R",
   "pygments_lexer": "r",
   "version": "3.6.2"
  }
 },
 "nbformat": 4,
 "nbformat_minor": 1
}
