{
 "cells": [
  {
   "cell_type": "markdown",
   "metadata": {},
   "source": [
    "# Tutorial: Data Cleansing and the Tidyverse\n",
    "\n",
    "This lab serves as an introduction to data processing in R using the `tidyverse` family of packages. We cover a lot of material in this tutorial, and recommend coming back to use this as a reference while you learn the `tidyverse` ropes.\n",
    "\n",
    "## Goals:\n",
    "* Learn about the pipe operator\n",
    "* Learn how to use `tidyverse`\n",
    "* Learn various data transformations in R"
   ]
  },
  {
   "cell_type": "markdown",
   "metadata": {
    "id": "J1TgD9BM0ZAG"
   },
   "source": [
    "---\n",
    "# Getting started\n",
    "\n",
    "For many people, their first instinct when it comes to data cleansing is to open their data with Excel and just start manually cleaning it up by replacing values, creating new columns, etc. The problem with that approach is that you cannot easily replicate the steps you have taken to transform the raw data into the final format you use for your analyses. This issue has many consequences, but among the two most common are, first, that if you get new or additional data from the same source, you would have to manually perform the same operations again, and second, if you make a mistake it would be difficult to identify where exactly that happened. The best approach is to preprocess your data with a script in the same way you do your analyses. However, doing so in base R can be quite cumbersome. In this tutorial, you will learn how to use tools for the **`tidyverse`** packages. Tidyverse is a collection of useful packages, which include **`ggplot2`**, **`tidyr`**, **`dplyr`**, etc, combined in a single package.\n",
    "\n",
    "Before we begin, you'll need to install and load the `tidyverse` package:"
   ]
  },
  {
   "cell_type": "code",
   "execution_count": null,
   "metadata": {
    "id": "azOT-wpb0ZAI"
   },
   "outputs": [],
   "source": [
    "# function to install the packages if missing, otherwise, just load them\n",
    "import_packages <- function(packages) {\n",
    "    for (package in packages) {\n",
    "        if (!(package %in% row.names(installed.packages()))) { #if the package is not installed\n",
    "            install.packages(package, repos = \"http://cran.us.r-project.org\") #install from archive\n",
    "        } \n",
    "        library(package, character.only = TRUE) #load the set of packages that you gave to the function\n",
    "    }\n",
    "}\n",
    "\n",
    "import_packages(c('tidyverse')) #call the function with tidyverse as the input"
   ]
  },
  {
   "cell_type": "markdown",
   "metadata": {
    "id": "iEsnhio60ZAJ"
   },
   "source": [
    "Or you can do this: "
   ]
  },
  {
   "cell_type": "code",
   "execution_count": 1,
   "metadata": {
    "scrolled": true
   },
   "outputs": [
    {
     "name": "stdout",
     "output_type": "stream",
     "text": [
      "\n",
      "The downloaded binary packages are in\n",
      "\t/var/folders/yg/xzc1rwm52nxc0l8mlvk8dkjw0000gp/T//RtmpbqB2L2/downloaded_packages\n"
     ]
    },
    {
     "name": "stderr",
     "output_type": "stream",
     "text": [
      "── \u001b[1mAttaching packages\u001b[22m ─────────────────────────────────────── tidyverse 1.3.2 ──\n",
      "\u001b[32m✔\u001b[39m \u001b[34mggplot2\u001b[39m 3.3.6      \u001b[32m✔\u001b[39m \u001b[34mpurrr  \u001b[39m 0.3.5 \n",
      "\u001b[32m✔\u001b[39m \u001b[34mtibble \u001b[39m 3.1.8      \u001b[32m✔\u001b[39m \u001b[34mdplyr  \u001b[39m 1.0.10\n",
      "\u001b[32m✔\u001b[39m \u001b[34mtidyr  \u001b[39m 1.2.1      \u001b[32m✔\u001b[39m \u001b[34mstringr\u001b[39m 1.4.1 \n",
      "\u001b[32m✔\u001b[39m \u001b[34mreadr  \u001b[39m 2.1.3      \u001b[32m✔\u001b[39m \u001b[34mforcats\u001b[39m 0.5.2 \n",
      "── \u001b[1mConflicts\u001b[22m ────────────────────────────────────────── tidyverse_conflicts() ──\n",
      "\u001b[31m✖\u001b[39m \u001b[34mdplyr\u001b[39m::\u001b[32mfilter()\u001b[39m masks \u001b[34mstats\u001b[39m::filter()\n",
      "\u001b[31m✖\u001b[39m \u001b[34mdplyr\u001b[39m::\u001b[32mlag()\u001b[39m    masks \u001b[34mstats\u001b[39m::lag()\n"
     ]
    }
   ],
   "source": [
    "install.packages('tidyverse')\n",
    "library(tidyverse)"
   ]
  },
  {
   "cell_type": "markdown",
   "metadata": {},
   "source": [
    "## Data \n",
    "\n",
    "We will use the `iris` dataset for illustrating the tidyverse functions. You can save it to a `dat` variable like this:"
   ]
  },
  {
   "cell_type": "code",
   "execution_count": 4,
   "metadata": {
    "scrolled": true
   },
   "outputs": [
    {
     "data": {
      "text/html": [
       "<table class=\"dataframe\">\n",
       "<caption>A data.frame: 6 × 5</caption>\n",
       "<thead>\n",
       "\t<tr><th></th><th scope=col>Sepal.Length</th><th scope=col>Sepal.Width</th><th scope=col>Petal.Length</th><th scope=col>Petal.Width</th><th scope=col>Species</th></tr>\n",
       "\t<tr><th></th><th scope=col>&lt;dbl&gt;</th><th scope=col>&lt;dbl&gt;</th><th scope=col>&lt;dbl&gt;</th><th scope=col>&lt;dbl&gt;</th><th scope=col>&lt;fct&gt;</th></tr>\n",
       "</thead>\n",
       "<tbody>\n",
       "\t<tr><th scope=row>1</th><td>5.1</td><td>3.5</td><td>1.4</td><td>0.2</td><td>setosa</td></tr>\n",
       "\t<tr><th scope=row>2</th><td>4.9</td><td>3.0</td><td>1.4</td><td>0.2</td><td>setosa</td></tr>\n",
       "\t<tr><th scope=row>3</th><td>4.7</td><td>3.2</td><td>1.3</td><td>0.2</td><td>setosa</td></tr>\n",
       "\t<tr><th scope=row>4</th><td>4.6</td><td>3.1</td><td>1.5</td><td>0.2</td><td>setosa</td></tr>\n",
       "\t<tr><th scope=row>5</th><td>5.0</td><td>3.6</td><td>1.4</td><td>0.2</td><td>setosa</td></tr>\n",
       "\t<tr><th scope=row>6</th><td>5.4</td><td>3.9</td><td>1.7</td><td>0.4</td><td>setosa</td></tr>\n",
       "</tbody>\n",
       "</table>\n"
      ],
      "text/latex": [
       "A data.frame: 6 × 5\n",
       "\\begin{tabular}{r|lllll}\n",
       "  & Sepal.Length & Sepal.Width & Petal.Length & Petal.Width & Species\\\\\n",
       "  & <dbl> & <dbl> & <dbl> & <dbl> & <fct>\\\\\n",
       "\\hline\n",
       "\t1 & 5.1 & 3.5 & 1.4 & 0.2 & setosa\\\\\n",
       "\t2 & 4.9 & 3.0 & 1.4 & 0.2 & setosa\\\\\n",
       "\t3 & 4.7 & 3.2 & 1.3 & 0.2 & setosa\\\\\n",
       "\t4 & 4.6 & 3.1 & 1.5 & 0.2 & setosa\\\\\n",
       "\t5 & 5.0 & 3.6 & 1.4 & 0.2 & setosa\\\\\n",
       "\t6 & 5.4 & 3.9 & 1.7 & 0.4 & setosa\\\\\n",
       "\\end{tabular}\n"
      ],
      "text/markdown": [
       "\n",
       "A data.frame: 6 × 5\n",
       "\n",
       "| <!--/--> | Sepal.Length &lt;dbl&gt; | Sepal.Width &lt;dbl&gt; | Petal.Length &lt;dbl&gt; | Petal.Width &lt;dbl&gt; | Species &lt;fct&gt; |\n",
       "|---|---|---|---|---|---|\n",
       "| 1 | 5.1 | 3.5 | 1.4 | 0.2 | setosa |\n",
       "| 2 | 4.9 | 3.0 | 1.4 | 0.2 | setosa |\n",
       "| 3 | 4.7 | 3.2 | 1.3 | 0.2 | setosa |\n",
       "| 4 | 4.6 | 3.1 | 1.5 | 0.2 | setosa |\n",
       "| 5 | 5.0 | 3.6 | 1.4 | 0.2 | setosa |\n",
       "| 6 | 5.4 | 3.9 | 1.7 | 0.4 | setosa |\n",
       "\n"
      ],
      "text/plain": [
       "  Sepal.Length Sepal.Width Petal.Length Petal.Width Species\n",
       "1 5.1          3.5         1.4          0.2         setosa \n",
       "2 4.9          3.0         1.4          0.2         setosa \n",
       "3 4.7          3.2         1.3          0.2         setosa \n",
       "4 4.6          3.1         1.5          0.2         setosa \n",
       "5 5.0          3.6         1.4          0.2         setosa \n",
       "6 5.4          3.9         1.7          0.4         setosa "
      ]
     },
     "metadata": {},
     "output_type": "display_data"
    }
   ],
   "source": [
    "dat <- iris\n",
    "head(dat)"
   ]
  },
  {
   "cell_type": "markdown",
   "metadata": {},
   "source": [
    "The `iris` dataset contains [measurement data](https://eloquentarduino.github.io/2019/12/iris-classification-on-arduino/) for different species of iris flowers. You can view a detailed description of the dataset by typing:\n",
    "```\n",
    "?iris\n",
    "```"
   ]
  },
  {
   "cell_type": "markdown",
   "metadata": {},
   "source": [
    "---\n",
    "# A standardized grammar\n",
    "One of the reasons that the tidyverse is so popular for data manipulation and analysis is that it uses a **standardized grammar** across all of its packages. This means that it's really easy to make different functions talk to each other, and function options or additional arguments all match the same style so they're easier to remember.\n",
    "\n",
    "In the tidyverse, the first argument of a function is always the **object** that you want to perform the given function on. For example,\n",
    "\n",
    "```\n",
    "mutate(data, var1 = c(1, 2, 3, 4))\n",
    "```\n",
    "would take the data frame `data`, and add a new column called `var1` consisting of the given vector.\n",
    "\n",
    "This object-as-first-argument style is really helpful when you want to take the output of one function and funnel it in as the input of the next function. This is achieved using the **pipe**."
   ]
  },
  {
   "cell_type": "markdown",
   "metadata": {
    "id": "_W5_oFhn0ZAL"
   },
   "source": [
    "## Pipes: the %>% operator"
   ]
  },
  {
   "cell_type": "markdown",
   "metadata": {
    "id": "8lP3oIjy0ZAL"
   },
   "source": [
    "You might have noticed the weird **`%>%`** operator in the code in prior tutorials. This operator is called a **'pipe'**. Pipes are present in many programming languages, but not in the base R, so you might not be familiar with them. Pipes are an added feature from the Tidyverse package. \n",
    "\n",
    "A pipe serves as a link between two objects, whether they be variables or functions. The pipe tells R to take the object on its left side and pass it as the first argument to the function on the right. \n",
    "\n",
    "Typically in R, if you want to pass an argument to a function, you specify it as `function(argument)`. For example, if you want to find the mean of the iris `Sepal.Width`, in base R you would do this:"
   ]
  },
  {
   "cell_type": "code",
   "execution_count": 5,
   "metadata": {
    "colab": {
     "base_uri": "https://localhost:8080/",
     "height": 34
    },
    "executionInfo": {
     "elapsed": 1334,
     "status": "ok",
     "timestamp": 1611095669015,
     "user": {
      "displayName": "Patience Stevens",
      "photoUrl": "https://lh3.googleusercontent.com/a-/AOh14Gi-_9ZqhIFhAv1oMehJNvNuIKSTyrFQHzjxQKhx=s64",
      "userId": "01994571539255174942"
     },
     "user_tz": 300
    },
    "id": "H1ozV5Ve0ZAM",
    "outputId": "2abf5df6-9d0c-4e3b-9304-56dffde30444"
   },
   "outputs": [
    {
     "data": {
      "text/html": [
       "3.05733333333333"
      ],
      "text/latex": [
       "3.05733333333333"
      ],
      "text/markdown": [
       "3.05733333333333"
      ],
      "text/plain": [
       "[1] 3.057333"
      ]
     },
     "metadata": {},
     "output_type": "display_data"
    }
   ],
   "source": [
    "mean(iris$Sepal.Width)"
   ]
  },
  {
   "cell_type": "markdown",
   "metadata": {
    "id": "esHOVJne0ZAM"
   },
   "source": [
    "If you use a pipe, you just put the argument on its left side, and the function on the right, i.e., `variable  %>% function()`:"
   ]
  },
  {
   "cell_type": "code",
   "execution_count": 6,
   "metadata": {
    "colab": {
     "base_uri": "https://localhost:8080/",
     "height": 34
    },
    "executionInfo": {
     "elapsed": 1626,
     "status": "ok",
     "timestamp": 1611095669325,
     "user": {
      "displayName": "Patience Stevens",
      "photoUrl": "https://lh3.googleusercontent.com/a-/AOh14Gi-_9ZqhIFhAv1oMehJNvNuIKSTyrFQHzjxQKhx=s64",
      "userId": "01994571539255174942"
     },
     "user_tz": 300
    },
    "id": "XYBMiqiK0ZAM",
    "outputId": "62949326-ba78-4ec5-96ca-042738d18287"
   },
   "outputs": [
    {
     "data": {
      "text/html": [
       "3.05733333333333"
      ],
      "text/latex": [
       "3.05733333333333"
      ],
      "text/markdown": [
       "3.05733333333333"
      ],
      "text/plain": [
       "[1] 3.057333"
      ]
     },
     "metadata": {},
     "output_type": "display_data"
    }
   ],
   "source": [
    "iris$Sepal.Width %>% mean()"
   ]
  },
  {
   "cell_type": "markdown",
   "metadata": {
    "id": "PmYedpSk0ZAM"
   },
   "source": [
    "Now, you might be asking, why would you want to use **x %>% mean()** instead of **mean(x)**? Pipes come in handy, particularly when you have to run a series of functions on the same input. For example, let's say you want to find the mean of the observations, and then round the value to 2 significant digits. In base R, you can do this in two ways:\n",
    "\n",
    "1. nest the functions within one another\n",
    "2. assign a temporary variable for the mean, and then round that value"
   ]
  },
  {
   "cell_type": "code",
   "execution_count": 7,
   "metadata": {
    "colab": {
     "base_uri": "https://localhost:8080/",
     "height": 52
    },
    "executionInfo": {
     "elapsed": 1612,
     "status": "ok",
     "timestamp": 1611095669327,
     "user": {
      "displayName": "Patience Stevens",
      "photoUrl": "https://lh3.googleusercontent.com/a-/AOh14Gi-_9ZqhIFhAv1oMehJNvNuIKSTyrFQHzjxQKhx=s64",
      "userId": "01994571539255174942"
     },
     "user_tz": 300
    },
    "id": "8tZTqAAq0ZAN",
    "outputId": "73c88721-f681-4976-acc1-dfa30edcaaa2"
   },
   "outputs": [
    {
     "data": {
      "text/html": [
       "3.06"
      ],
      "text/latex": [
       "3.06"
      ],
      "text/markdown": [
       "3.06"
      ],
      "text/plain": [
       "[1] 3.06"
      ]
     },
     "metadata": {},
     "output_type": "display_data"
    },
    {
     "data": {
      "text/html": [
       "3.06"
      ],
      "text/latex": [
       "3.06"
      ],
      "text/markdown": [
       "3.06"
      ],
      "text/plain": [
       "[1] 3.06"
      ]
     },
     "metadata": {},
     "output_type": "display_data"
    }
   ],
   "source": [
    "# nested\n",
    "round(mean(iris$Sepal.Width), 2)\n",
    "\n",
    "# tmp variable\n",
    "obs_mean = mean(iris$Sepal.Width)\n",
    "round(obs_mean, 2)"
   ]
  },
  {
   "cell_type": "markdown",
   "metadata": {
    "id": "Q5TTG1CU0ZAN"
   },
   "source": [
    "Since pipes take the output of the expression on the left and send it as the first input to the expression on the right, you can do the following with pipes:"
   ]
  },
  {
   "cell_type": "code",
   "execution_count": 8,
   "metadata": {
    "colab": {
     "base_uri": "https://localhost:8080/",
     "height": 34
    },
    "executionInfo": {
     "elapsed": 1597,
     "status": "ok",
     "timestamp": 1611095669328,
     "user": {
      "displayName": "Patience Stevens",
      "photoUrl": "https://lh3.googleusercontent.com/a-/AOh14Gi-_9ZqhIFhAv1oMehJNvNuIKSTyrFQHzjxQKhx=s64",
      "userId": "01994571539255174942"
     },
     "user_tz": 300
    },
    "id": "5xjWJPJS0ZAO",
    "outputId": "2f26de20-3ba4-4ae5-fb63-41395fb84de3"
   },
   "outputs": [
    {
     "data": {
      "text/html": [
       "3.06"
      ],
      "text/latex": [
       "3.06"
      ],
      "text/markdown": [
       "3.06"
      ],
      "text/plain": [
       "[1] 3.06"
      ]
     },
     "metadata": {},
     "output_type": "display_data"
    }
   ],
   "source": [
    "# with pipes\n",
    "iris$Sepal.Width %>% \n",
    "    mean() %>% \n",
    "    round(2)"
   ]
  },
  {
   "cell_type": "markdown",
   "metadata": {
    "id": "RMI5SW420ZAP"
   },
   "source": [
    "This reads smoothly from start to finish as, \"Take the observations, find the mean, and then round it to two decimals.\" \n",
    "\n",
    "Note that it's best practice to start a new row after each pipe operator, with the following functions indented.\n",
    "\n",
    "`round()` is not a tidyverse function, but notice that it also typically takes as first argument the **value** to be rounded, and as a second argument the number of digits to which to round. When you use a pipe, the first argument is implicitly filled in with the value on the left, so the first argument you actually type corresponds to the number of significant digits to which to round. \n",
    "\n",
    "This is the magic of the tidyverse pipe. As we'll see with our tidyverse functions below, you often want to use many of them, all in a row, on the same data object. While the above example might be easy to read in its nested form, it becomes very difficult to track what is going on with this approach as your code gets more complex. \n",
    "\n",
    "**Thus pipes have two advantages:**\n",
    "\n",
    "1. **Readability** - it is easier to see what goes on, because you can track the sequence naturally top to bottom. In contrast, with nested functions, you have to identify the inner-most function and then work your way outwards.\n",
    "2. **Efficiency** - do not clutter your environment with temporary variables that you needed for only one intermediary observation.\n",
    "\n",
    "To show the difference in readability, here is how the code for the long to wide functions would look if we wrote it with nested functions, rather than with pipes:"
   ]
  },
  {
   "cell_type": "code",
   "execution_count": null,
   "metadata": {
    "colab": {
     "base_uri": "https://localhost:8080/",
     "height": 396
    },
    "executionInfo": {
     "elapsed": 1568,
     "status": "ok",
     "timestamp": 1611095669331,
     "user": {
      "displayName": "Patience Stevens",
      "photoUrl": "https://lh3.googleusercontent.com/a-/AOh14Gi-_9ZqhIFhAv1oMehJNvNuIKSTyrFQHzjxQKhx=s64",
      "userId": "01994571539255174942"
     },
     "user_tz": 300
    },
    "id": "0I4mRLi_0ZAR",
    "outputId": "f226627c-0580-47fe-c358-be9ec0b15f54"
   },
   "outputs": [
    {
     "data": {
      "text/html": [
       "<table>\n",
       "<caption>A data.frame: 3 × 5</caption>\n",
       "<thead>\n",
       "\t<tr><th scope=col>subject</th><th scope=col>time1</th><th scope=col>time2</th><th scope=col>time3</th><th scope=col>time4</th></tr>\n",
       "\t<tr><th scope=col>&lt;int&gt;</th><th scope=col>&lt;dbl&gt;</th><th scope=col>&lt;dbl&gt;</th><th scope=col>&lt;dbl&gt;</th><th scope=col>&lt;dbl&gt;</th></tr>\n",
       "</thead>\n",
       "<tbody>\n",
       "\t<tr><td>1</td><td> 0.56</td><td>-0.48</td><td> 0.64</td><td>-0.18</td></tr>\n",
       "\t<tr><td>2</td><td> 0.38</td><td> 0.56</td><td>-1.83</td><td>-0.43</td></tr>\n",
       "\t<tr><td>3</td><td>-0.94</td><td>-1.57</td><td> 1.32</td><td>-0.31</td></tr>\n",
       "</tbody>\n",
       "</table>\n"
      ],
      "text/latex": [
       "A data.frame: 3 × 5\n",
       "\\begin{tabular}{lllll}\n",
       " subject & time1 & time2 & time3 & time4\\\\\n",
       " <int> & <dbl> & <dbl> & <dbl> & <dbl>\\\\\n",
       "\\hline\n",
       "\t 1 &  0.56 & -0.48 &  0.64 & -0.18\\\\\n",
       "\t 2 &  0.38 &  0.56 & -1.83 & -0.43\\\\\n",
       "\t 3 & -0.94 & -1.57 &  1.32 & -0.31\\\\\n",
       "\\end{tabular}\n"
      ],
      "text/markdown": [
       "\n",
       "A data.frame: 3 × 5\n",
       "\n",
       "| subject &lt;int&gt; | time1 &lt;dbl&gt; | time2 &lt;dbl&gt; | time3 &lt;dbl&gt; | time4 &lt;dbl&gt; |\n",
       "|---|---|---|---|---|\n",
       "| 1 |  0.56 | -0.48 |  0.64 | -0.18 |\n",
       "| 2 |  0.38 |  0.56 | -1.83 | -0.43 |\n",
       "| 3 | -0.94 | -1.57 |  1.32 | -0.31 |\n",
       "\n"
      ],
      "text/plain": [
       "  subject time1 time2 time3 time4\n",
       "1 1        0.56 -0.48  0.64 -0.18\n",
       "2 2        0.38  0.56 -1.83 -0.43\n",
       "3 3       -0.94 -1.57  1.32 -0.31"
      ]
     },
     "metadata": {
      "tags": []
     },
     "output_type": "display_data"
    },
    {
     "data": {
      "text/html": [
       "<table>\n",
       "<caption>A data.frame: 3 × 5</caption>\n",
       "<thead>\n",
       "\t<tr><th scope=col>subject</th><th scope=col>time1</th><th scope=col>time2</th><th scope=col>time3</th><th scope=col>time4</th></tr>\n",
       "\t<tr><th scope=col>&lt;int&gt;</th><th scope=col>&lt;dbl&gt;</th><th scope=col>&lt;dbl&gt;</th><th scope=col>&lt;dbl&gt;</th><th scope=col>&lt;dbl&gt;</th></tr>\n",
       "</thead>\n",
       "<tbody>\n",
       "\t<tr><td>1</td><td> 0.56</td><td>-0.48</td><td> 0.64</td><td>-0.18</td></tr>\n",
       "\t<tr><td>2</td><td> 0.38</td><td> 0.56</td><td>-1.83</td><td>-0.43</td></tr>\n",
       "\t<tr><td>3</td><td>-0.94</td><td>-1.57</td><td> 1.32</td><td>-0.31</td></tr>\n",
       "</tbody>\n",
       "</table>\n"
      ],
      "text/latex": [
       "A data.frame: 3 × 5\n",
       "\\begin{tabular}{lllll}\n",
       " subject & time1 & time2 & time3 & time4\\\\\n",
       " <int> & <dbl> & <dbl> & <dbl> & <dbl>\\\\\n",
       "\\hline\n",
       "\t 1 &  0.56 & -0.48 &  0.64 & -0.18\\\\\n",
       "\t 2 &  0.38 &  0.56 & -1.83 & -0.43\\\\\n",
       "\t 3 & -0.94 & -1.57 &  1.32 & -0.31\\\\\n",
       "\\end{tabular}\n"
      ],
      "text/markdown": [
       "\n",
       "A data.frame: 3 × 5\n",
       "\n",
       "| subject &lt;int&gt; | time1 &lt;dbl&gt; | time2 &lt;dbl&gt; | time3 &lt;dbl&gt; | time4 &lt;dbl&gt; |\n",
       "|---|---|---|---|---|\n",
       "| 1 |  0.56 | -0.48 |  0.64 | -0.18 |\n",
       "| 2 |  0.38 |  0.56 | -1.83 | -0.43 |\n",
       "| 3 | -0.94 | -1.57 |  1.32 | -0.31 |\n",
       "\n"
      ],
      "text/plain": [
       "  subject time1 time2 time3 time4\n",
       "1 1        0.56 -0.48  0.64 -0.18\n",
       "2 2        0.38  0.56 -1.83 -0.43\n",
       "3 3       -0.94 -1.57  1.32 -0.31"
      ]
     },
     "metadata": {
      "tags": []
     },
     "output_type": "display_data"
    },
    {
     "data": {
      "text/html": [
       "<table>\n",
       "<caption>A data.frame: 3 × 5</caption>\n",
       "<thead>\n",
       "\t<tr><th scope=col>subject</th><th scope=col>time1</th><th scope=col>time2</th><th scope=col>time3</th><th scope=col>time4</th></tr>\n",
       "\t<tr><th scope=col>&lt;int&gt;</th><th scope=col>&lt;dbl&gt;</th><th scope=col>&lt;dbl&gt;</th><th scope=col>&lt;dbl&gt;</th><th scope=col>&lt;dbl&gt;</th></tr>\n",
       "</thead>\n",
       "<tbody>\n",
       "\t<tr><td>1</td><td> 0.56</td><td>-0.48</td><td> 0.64</td><td>-0.18</td></tr>\n",
       "\t<tr><td>2</td><td> 0.38</td><td> 0.56</td><td>-1.83</td><td>-0.43</td></tr>\n",
       "\t<tr><td>3</td><td>-0.94</td><td>-1.57</td><td> 1.32</td><td>-0.31</td></tr>\n",
       "</tbody>\n",
       "</table>\n"
      ],
      "text/latex": [
       "A data.frame: 3 × 5\n",
       "\\begin{tabular}{lllll}\n",
       " subject & time1 & time2 & time3 & time4\\\\\n",
       " <int> & <dbl> & <dbl> & <dbl> & <dbl>\\\\\n",
       "\\hline\n",
       "\t 1 &  0.56 & -0.48 &  0.64 & -0.18\\\\\n",
       "\t 2 &  0.38 &  0.56 & -1.83 & -0.43\\\\\n",
       "\t 3 & -0.94 & -1.57 &  1.32 & -0.31\\\\\n",
       "\\end{tabular}\n"
      ],
      "text/markdown": [
       "\n",
       "A data.frame: 3 × 5\n",
       "\n",
       "| subject &lt;int&gt; | time1 &lt;dbl&gt; | time2 &lt;dbl&gt; | time3 &lt;dbl&gt; | time4 &lt;dbl&gt; |\n",
       "|---|---|---|---|---|\n",
       "| 1 |  0.56 | -0.48 |  0.64 | -0.18 |\n",
       "| 2 |  0.38 |  0.56 | -1.83 | -0.43 |\n",
       "| 3 | -0.94 | -1.57 |  1.32 | -0.31 |\n",
       "\n"
      ],
      "text/plain": [
       "  subject time1 time2 time3 time4\n",
       "1 1        0.56 -0.48  0.64 -0.18\n",
       "2 2        0.38  0.56 -1.83 -0.43\n",
       "3 3       -0.94 -1.57  1.32 -0.31"
      ]
     },
     "metadata": {
      "tags": []
     },
     "output_type": "display_data"
    }
   ],
   "source": [
    "# with pipes\n",
    "long_data  %>% \n",
    "    mutate(timepoint = paste0('time',timepoint))  %>% \n",
    "    spread(timepoint, observation)\n",
    "\n",
    "# nested functions\n",
    "spread(mutate(long_data, timepoint = paste0('time',timepoint)), timepoint, observation)\n",
    "\n",
    "# temporary variables\n",
    "mutated_data <- mutate(long_data, timepoint = paste0('time',timepoint))\n",
    "spread(mutated_data, timepoint, observation)"
   ]
  },
  {
   "cell_type": "markdown",
   "metadata": {},
   "source": [
    "We can see how much easier it is to interpret the tidyverse version.\n",
    "\n",
    "Because the pipe is so annoying to type, there is a handy keyboard shortcut:\n",
    "\n",
    "\n",
    "**Mac**: shift + command + M\n",
    "\n",
    "**PC**: shift + control + M"
   ]
  },
  {
   "cell_type": "markdown",
   "metadata": {
    "id": "e5yZZfJS0ZAJ"
   },
   "source": [
    "---\n",
    "# Transforming data with tidyverse functions\n",
    "\n",
    "Below is a summary of the functions we will review and their general description:\n",
    "\n",
    "* **`mutate()`** - transforming existing variables and creating new variables\n",
    "* **`summarise()`** - summarizing variables\n",
    "* **`filter()`** - filtering dataframes\n",
    "* **`select()`** - selecting columns to keep/remove\n",
    "* **`arrange()`** - sorting by column/columns\n",
    "* **`unite()`** - combine two columns into one\n",
    "* **`separate()`** - split one column into multiple columns\n",
    "* **`*_join()`** - merging multiple dataframes\n",
    "* **`group_by()`** - performing the same operation to different subgroups of data and combining the results\n",
    "* **`nest()`** - subgroup data such that a cell holds an entire data frame\n",
    "* **`pivot_wider()`** - transforming data to wide format (formerly `spread()`)\n",
    "* **`pivot_longer()`** - transforming data to long format (formerly `gather()`)\n",
    "* **`map()`** - perform the same function on each element of list or vector"
   ]
  },
  {
   "cell_type": "markdown",
   "metadata": {
    "id": "8P2Yjlvj0ZAU"
   },
   "source": [
    "## `mutate()`: Transforming existing variables and creating new variables"
   ]
  },
  {
   "cell_type": "markdown",
   "metadata": {
    "id": "Yyg73p_p0ZAU"
   },
   "source": [
    "`mutate()` is part of `dplyr`, one of the packages included in `tidyverse` that is handy for data manipulation. The `mutate()` command allows you to create new columns, i.e. new variables.  Let's say you want to center the sepal lengths in the `iris` dataset by subtracting the mean:"
   ]
  },
  {
   "cell_type": "code",
   "execution_count": null,
   "metadata": {
    "colab": {
     "base_uri": "https://localhost:8080/",
     "height": 207
    },
    "executionInfo": {
     "elapsed": 1766,
     "status": "ok",
     "timestamp": 1611095669584,
     "user": {
      "displayName": "Patience Stevens",
      "photoUrl": "https://lh3.googleusercontent.com/a-/AOh14Gi-_9ZqhIFhAv1oMehJNvNuIKSTyrFQHzjxQKhx=s64",
      "userId": "01994571539255174942"
     },
     "user_tz": 300
    },
    "id": "eOJI8TPg0ZAU",
    "outputId": "d2784afe-0eb9-440e-a4f4-0e237a9a8355"
   },
   "outputs": [
    {
     "data": {
      "text/html": [
       "<table>\n",
       "<caption>A data.frame: 6 × 6</caption>\n",
       "<thead>\n",
       "\t<tr><th></th><th scope=col>Sepal.Length</th><th scope=col>Sepal.Width</th><th scope=col>Petal.Length</th><th scope=col>Petal.Width</th><th scope=col>Species</th><th scope=col>centered_SepLen</th></tr>\n",
       "\t<tr><th></th><th scope=col>&lt;dbl&gt;</th><th scope=col>&lt;dbl&gt;</th><th scope=col>&lt;dbl&gt;</th><th scope=col>&lt;dbl&gt;</th><th scope=col>&lt;fct&gt;</th><th scope=col>&lt;dbl&gt;</th></tr>\n",
       "</thead>\n",
       "<tbody>\n",
       "\t<tr><th scope=row>1</th><td>5.1</td><td>3.5</td><td>1.4</td><td>0.2</td><td>setosa</td><td>-0.7433333</td></tr>\n",
       "\t<tr><th scope=row>2</th><td>4.9</td><td>3.0</td><td>1.4</td><td>0.2</td><td>setosa</td><td>-0.9433333</td></tr>\n",
       "\t<tr><th scope=row>3</th><td>4.7</td><td>3.2</td><td>1.3</td><td>0.2</td><td>setosa</td><td>-1.1433333</td></tr>\n",
       "\t<tr><th scope=row>4</th><td>4.6</td><td>3.1</td><td>1.5</td><td>0.2</td><td>setosa</td><td>-1.2433333</td></tr>\n",
       "\t<tr><th scope=row>5</th><td>5.0</td><td>3.6</td><td>1.4</td><td>0.2</td><td>setosa</td><td>-0.8433333</td></tr>\n",
       "\t<tr><th scope=row>6</th><td>5.4</td><td>3.9</td><td>1.7</td><td>0.4</td><td>setosa</td><td>-0.4433333</td></tr>\n",
       "</tbody>\n",
       "</table>\n"
      ],
      "text/latex": [
       "A data.frame: 6 × 6\n",
       "\\begin{tabular}{r|llllll}\n",
       "  & Sepal.Length & Sepal.Width & Petal.Length & Petal.Width & Species & centered\\_SepLen\\\\\n",
       "  & <dbl> & <dbl> & <dbl> & <dbl> & <fct> & <dbl>\\\\\n",
       "\\hline\n",
       "\t1 & 5.1 & 3.5 & 1.4 & 0.2 & setosa & -0.7433333\\\\\n",
       "\t2 & 4.9 & 3.0 & 1.4 & 0.2 & setosa & -0.9433333\\\\\n",
       "\t3 & 4.7 & 3.2 & 1.3 & 0.2 & setosa & -1.1433333\\\\\n",
       "\t4 & 4.6 & 3.1 & 1.5 & 0.2 & setosa & -1.2433333\\\\\n",
       "\t5 & 5.0 & 3.6 & 1.4 & 0.2 & setosa & -0.8433333\\\\\n",
       "\t6 & 5.4 & 3.9 & 1.7 & 0.4 & setosa & -0.4433333\\\\\n",
       "\\end{tabular}\n"
      ],
      "text/markdown": [
       "\n",
       "A data.frame: 6 × 6\n",
       "\n",
       "| <!--/--> | Sepal.Length &lt;dbl&gt; | Sepal.Width &lt;dbl&gt; | Petal.Length &lt;dbl&gt; | Petal.Width &lt;dbl&gt; | Species &lt;fct&gt; | centered_SepLen &lt;dbl&gt; |\n",
       "|---|---|---|---|---|---|---|\n",
       "| 1 | 5.1 | 3.5 | 1.4 | 0.2 | setosa | -0.7433333 |\n",
       "| 2 | 4.9 | 3.0 | 1.4 | 0.2 | setosa | -0.9433333 |\n",
       "| 3 | 4.7 | 3.2 | 1.3 | 0.2 | setosa | -1.1433333 |\n",
       "| 4 | 4.6 | 3.1 | 1.5 | 0.2 | setosa | -1.2433333 |\n",
       "| 5 | 5.0 | 3.6 | 1.4 | 0.2 | setosa | -0.8433333 |\n",
       "| 6 | 5.4 | 3.9 | 1.7 | 0.4 | setosa | -0.4433333 |\n",
       "\n"
      ],
      "text/plain": [
       "  Sepal.Length Sepal.Width Petal.Length Petal.Width Species centered_SepLen\n",
       "1 5.1          3.5         1.4          0.2         setosa  -0.7433333     \n",
       "2 4.9          3.0         1.4          0.2         setosa  -0.9433333     \n",
       "3 4.7          3.2         1.3          0.2         setosa  -1.1433333     \n",
       "4 4.6          3.1         1.5          0.2         setosa  -1.2433333     \n",
       "5 5.0          3.6         1.4          0.2         setosa  -0.8433333     \n",
       "6 5.4          3.9         1.7          0.4         setosa  -0.4433333     "
      ]
     },
     "metadata": {
      "tags": []
     },
     "output_type": "display_data"
    }
   ],
   "source": [
    "dat <- dat  %>%  #need to reassign the dat object with our new changes\n",
    "    mutate(centered_SepLen = Sepal.Length - mean(Sepal.Length))\n",
    "\n",
    "head(dat)"
   ]
  },
  {
   "cell_type": "markdown",
   "metadata": {
    "id": "gaQ6AejC0ZAU"
   },
   "source": [
    "All commands in the `dplyr` package (and most in the broader tidyverse) allow you to create and reference variables within a data.frame object, without needing to type in the name of the data.frame each time. This is called **tidy evaluation**. \n",
    "\n",
    "For example, if you want to create several variables in base R (that is, without using `dplyr` functions), you would have to do this everytime:"
   ]
  },
  {
   "cell_type": "code",
   "execution_count": null,
   "metadata": {
    "id": "UGPeDg4s0ZAU"
   },
   "outputs": [],
   "source": [
    "# center sepal length\n",
    "dat$centered_SepLen = dat$Sepal.Length - mean(dat$Sepal.Length) \n",
    "# transforms petal length into zscores\n",
    "dat$PetLen_zscores = (dat$Petal.Length - mean(dat$Petal.Length))/sd(dat$Petal.Length)"
   ]
  },
  {
   "cell_type": "markdown",
   "metadata": {
    "id": "MIZ2mqba0ZAU"
   },
   "source": [
    "Using `dplyr`, you don't have to write `dat$` every time you refer to a variable:"
   ]
  },
  {
   "cell_type": "code",
   "execution_count": null,
   "metadata": {
    "colab": {
     "base_uri": "https://localhost:8080/",
     "height": 207
    },
    "executionInfo": {
     "elapsed": 2437,
     "status": "ok",
     "timestamp": 1611095670273,
     "user": {
      "displayName": "Patience Stevens",
      "photoUrl": "https://lh3.googleusercontent.com/a-/AOh14Gi-_9ZqhIFhAv1oMehJNvNuIKSTyrFQHzjxQKhx=s64",
      "userId": "01994571539255174942"
     },
     "user_tz": 300
    },
    "id": "9ZEsYPEK0ZAV",
    "outputId": "4ba1ff8f-bb02-4f02-9de1-e204d1f99b70"
   },
   "outputs": [
    {
     "data": {
      "text/html": [
       "<table>\n",
       "<caption>A data.frame: 6 × 8</caption>\n",
       "<thead>\n",
       "\t<tr><th></th><th scope=col>Sepal.Length</th><th scope=col>Sepal.Width</th><th scope=col>Petal.Length</th><th scope=col>Petal.Width</th><th scope=col>Species</th><th scope=col>centered_SepLen</th><th scope=col>PetLen_zscores</th><th scope=col>n_flowers</th></tr>\n",
       "\t<tr><th></th><th scope=col>&lt;dbl&gt;</th><th scope=col>&lt;dbl&gt;</th><th scope=col>&lt;dbl&gt;</th><th scope=col>&lt;dbl&gt;</th><th scope=col>&lt;fct&gt;</th><th scope=col>&lt;dbl&gt;</th><th scope=col>&lt;dbl&gt;</th><th scope=col>&lt;int&gt;</th></tr>\n",
       "</thead>\n",
       "<tbody>\n",
       "\t<tr><th scope=row>1</th><td>5.1</td><td>3.5</td><td>1.4</td><td>0.2</td><td>setosa</td><td>-0.7433333</td><td>-1.335752</td><td>150</td></tr>\n",
       "\t<tr><th scope=row>2</th><td>4.9</td><td>3.0</td><td>1.4</td><td>0.2</td><td>setosa</td><td>-0.9433333</td><td>-1.335752</td><td>150</td></tr>\n",
       "\t<tr><th scope=row>3</th><td>4.7</td><td>3.2</td><td>1.3</td><td>0.2</td><td>setosa</td><td>-1.1433333</td><td>-1.392399</td><td>150</td></tr>\n",
       "\t<tr><th scope=row>4</th><td>4.6</td><td>3.1</td><td>1.5</td><td>0.2</td><td>setosa</td><td>-1.2433333</td><td>-1.279104</td><td>150</td></tr>\n",
       "\t<tr><th scope=row>5</th><td>5.0</td><td>3.6</td><td>1.4</td><td>0.2</td><td>setosa</td><td>-0.8433333</td><td>-1.335752</td><td>150</td></tr>\n",
       "\t<tr><th scope=row>6</th><td>5.4</td><td>3.9</td><td>1.7</td><td>0.4</td><td>setosa</td><td>-0.4433333</td><td>-1.165809</td><td>150</td></tr>\n",
       "</tbody>\n",
       "</table>\n"
      ],
      "text/latex": [
       "A data.frame: 6 × 8\n",
       "\\begin{tabular}{r|llllllll}\n",
       "  & Sepal.Length & Sepal.Width & Petal.Length & Petal.Width & Species & centered\\_SepLen & PetLen\\_zscores & n\\_flowers\\\\\n",
       "  & <dbl> & <dbl> & <dbl> & <dbl> & <fct> & <dbl> & <dbl> & <int>\\\\\n",
       "\\hline\n",
       "\t1 & 5.1 & 3.5 & 1.4 & 0.2 & setosa & -0.7433333 & -1.335752 & 150\\\\\n",
       "\t2 & 4.9 & 3.0 & 1.4 & 0.2 & setosa & -0.9433333 & -1.335752 & 150\\\\\n",
       "\t3 & 4.7 & 3.2 & 1.3 & 0.2 & setosa & -1.1433333 & -1.392399 & 150\\\\\n",
       "\t4 & 4.6 & 3.1 & 1.5 & 0.2 & setosa & -1.2433333 & -1.279104 & 150\\\\\n",
       "\t5 & 5.0 & 3.6 & 1.4 & 0.2 & setosa & -0.8433333 & -1.335752 & 150\\\\\n",
       "\t6 & 5.4 & 3.9 & 1.7 & 0.4 & setosa & -0.4433333 & -1.165809 & 150\\\\\n",
       "\\end{tabular}\n"
      ],
      "text/markdown": [
       "\n",
       "A data.frame: 6 × 8\n",
       "\n",
       "| <!--/--> | Sepal.Length &lt;dbl&gt; | Sepal.Width &lt;dbl&gt; | Petal.Length &lt;dbl&gt; | Petal.Width &lt;dbl&gt; | Species &lt;fct&gt; | centered_SepLen &lt;dbl&gt; | PetLen_zscores &lt;dbl&gt; | n_flowers &lt;int&gt; |\n",
       "|---|---|---|---|---|---|---|---|---|\n",
       "| 1 | 5.1 | 3.5 | 1.4 | 0.2 | setosa | -0.7433333 | -1.335752 | 150 |\n",
       "| 2 | 4.9 | 3.0 | 1.4 | 0.2 | setosa | -0.9433333 | -1.335752 | 150 |\n",
       "| 3 | 4.7 | 3.2 | 1.3 | 0.2 | setosa | -1.1433333 | -1.392399 | 150 |\n",
       "| 4 | 4.6 | 3.1 | 1.5 | 0.2 | setosa | -1.2433333 | -1.279104 | 150 |\n",
       "| 5 | 5.0 | 3.6 | 1.4 | 0.2 | setosa | -0.8433333 | -1.335752 | 150 |\n",
       "| 6 | 5.4 | 3.9 | 1.7 | 0.4 | setosa | -0.4433333 | -1.165809 | 150 |\n",
       "\n"
      ],
      "text/plain": [
       "  Sepal.Length Sepal.Width Petal.Length Petal.Width Species centered_SepLen\n",
       "1 5.1          3.5         1.4          0.2         setosa  -0.7433333     \n",
       "2 4.9          3.0         1.4          0.2         setosa  -0.9433333     \n",
       "3 4.7          3.2         1.3          0.2         setosa  -1.1433333     \n",
       "4 4.6          3.1         1.5          0.2         setosa  -1.2433333     \n",
       "5 5.0          3.6         1.4          0.2         setosa  -0.8433333     \n",
       "6 5.4          3.9         1.7          0.4         setosa  -0.4433333     \n",
       "  PetLen_zscores n_flowers\n",
       "1 -1.335752      150      \n",
       "2 -1.335752      150      \n",
       "3 -1.392399      150      \n",
       "4 -1.279104      150      \n",
       "5 -1.335752      150      \n",
       "6 -1.165809      150      "
      ]
     },
     "metadata": {
      "tags": []
     },
     "output_type": "display_data"
    }
   ],
   "source": [
    "dat <- dat  %>%  \n",
    "    mutate(centered_SepLen = Sepal.Length - mean(Sepal.Length),  # center Sepal Lengths\n",
    "           PetLen_zscores = (Petal.Length - mean(Petal.Length))/sd(Petal.Length),  # zscore the Petal Lengths\n",
    "           n_flowers = length(Species))              # calculate the total number of flowers\n",
    "head(dat)"
   ]
  },
  {
   "cell_type": "markdown",
   "metadata": {
    "id": "KeGAInjb0ZAV"
   },
   "source": [
    "As you see, you can create multiple variables at the same time within a single `mutate` command, by separating them with commas. It's best practice to start each new variable on a new line to maintain readability."
   ]
  },
  {
   "cell_type": "markdown",
   "metadata": {
    "id": "qHYA9eW30ZAV"
   },
   "source": [
    "## `summarise()`: Summarizing variables"
   ]
  },
  {
   "cell_type": "markdown",
   "metadata": {
    "id": "_eO-11nr0ZAV"
   },
   "source": [
    "`Mutate()` creates new variables within the existing dataset and does not change the number of rows. You might also want to calculate statistics that summarize the whole data set. For example, in the example above I calculated how many flowers were measured total (`n_flowers`) - but it doesn't really make sense to output this as a variable with entries for every observation. If you want to create a new data.frame in which you store the summary values for one or more variables, you can use the `summarise()` command. Let's get summaries for a few of the existing variables:"
   ]
  },
  {
   "cell_type": "code",
   "execution_count": null,
   "metadata": {
    "colab": {
     "base_uri": "https://localhost:8080/",
     "height": 100
    },
    "executionInfo": {
     "elapsed": 2421,
     "status": "ok",
     "timestamp": 1611095670273,
     "user": {
      "displayName": "Patience Stevens",
      "photoUrl": "https://lh3.googleusercontent.com/a-/AOh14Gi-_9ZqhIFhAv1oMehJNvNuIKSTyrFQHzjxQKhx=s64",
      "userId": "01994571539255174942"
     },
     "user_tz": 300
    },
    "id": "n02qoPTD0ZAV",
    "outputId": "1972d1e1-bd88-46a1-8063-0cc7325ad6f2"
   },
   "outputs": [
    {
     "data": {
      "text/html": [
       "<table>\n",
       "<caption>A data.frame: 1 × 6</caption>\n",
       "<thead>\n",
       "\t<tr><th scope=col>n_flowers</th><th scope=col>shortSepal_prop</th><th scope=col>setosa_prop</th><th scope=col>SepLen_mean</th><th scope=col>SepLen_sd</th><th scope=col>SepLen_se</th></tr>\n",
       "\t<tr><th scope=col>&lt;int&gt;</th><th scope=col>&lt;dbl&gt;</th><th scope=col>&lt;dbl&gt;</th><th scope=col>&lt;dbl&gt;</th><th scope=col>&lt;dbl&gt;</th><th scope=col>&lt;dbl&gt;</th></tr>\n",
       "</thead>\n",
       "<tbody>\n",
       "\t<tr><td>150</td><td>0.5333333</td><td>0.3333333</td><td>5.843333</td><td>0.8280661</td><td>0.06761132</td></tr>\n",
       "</tbody>\n",
       "</table>\n"
      ],
      "text/latex": [
       "A data.frame: 1 × 6\n",
       "\\begin{tabular}{llllll}\n",
       " n\\_flowers & shortSepal\\_prop & setosa\\_prop & SepLen\\_mean & SepLen\\_sd & SepLen\\_se\\\\\n",
       " <int> & <dbl> & <dbl> & <dbl> & <dbl> & <dbl>\\\\\n",
       "\\hline\n",
       "\t 150 & 0.5333333 & 0.3333333 & 5.843333 & 0.8280661 & 0.06761132\\\\\n",
       "\\end{tabular}\n"
      ],
      "text/markdown": [
       "\n",
       "A data.frame: 1 × 6\n",
       "\n",
       "| n_flowers &lt;int&gt; | shortSepal_prop &lt;dbl&gt; | setosa_prop &lt;dbl&gt; | SepLen_mean &lt;dbl&gt; | SepLen_sd &lt;dbl&gt; | SepLen_se &lt;dbl&gt; |\n",
       "|---|---|---|---|---|---|\n",
       "| 150 | 0.5333333 | 0.3333333 | 5.843333 | 0.8280661 | 0.06761132 |\n",
       "\n"
      ],
      "text/plain": [
       "  n_flowers shortSepal_prop setosa_prop SepLen_mean SepLen_sd SepLen_se \n",
       "1 150       0.5333333       0.3333333   5.843333    0.8280661 0.06761132"
      ]
     },
     "metadata": {
      "tags": []
     },
     "output_type": "display_data"
    }
   ],
   "source": [
    "smry <- dat  %>% #creating new smry object\n",
    "    summarise(n_flowers = length(Species), #how many observations (flowers) are there total? \n",
    "              shortSepal_prop = mean(centered_SepLen < 0), #what prop. have smaller-than-average sepal length?\n",
    "              setosa_prop = mean(Species == 'setosa'), #what prop. of measured flowers are species Setosa?\n",
    "              SepLen_mean = mean(Sepal.Length), #mean sepal length\n",
    "              SepLen_sd = sd(Sepal.Length), #standard deviation of sepal length\n",
    "              SepLen_se = SepLen_sd / sqrt(n_flowers)\n",
    "              )\n",
    "smry\n",
    "              "
   ]
  },
  {
   "cell_type": "markdown",
   "metadata": {
    "id": "SYCurmYK0ZAW"
   },
   "source": [
    "You should note several things. When you get to a new row, you can refer to a variable you have already created on a previous row. (The same is true of `mutate`.) For example, when we calculate the standard error for `Sepal.Length`, we have put `SepLen_se = SepLen_sd / sqrt(n_flowers)`, in which SepLen_sd and n_flowers do not exist in the original data.frame, but are variables that we created on previous rows. We could have written it directly as `SepLen_se = sd(Sepal.Length) / sqrt(length(Species))`, but doing it in the above way is more efficient and readable."
   ]
  },
  {
   "cell_type": "markdown",
   "metadata": {
    "id": "UHrvl9A10ZAW"
   },
   "source": [
    "## `filter()`: Retaining or removing rows based on a condition"
   ]
  },
  {
   "cell_type": "markdown",
   "metadata": {
    "id": "64Fl2ALU0ZAX"
   },
   "source": [
    "Here are three scenarios:\n",
    "* you find that there was an error with data collection for one species of flower (e.g. setosa) and you want to remove it from the data.frame\n",
    "* you find out that some flowers have a negative `Sepal.Length` value, which is an error, and you want to remove them\n",
    "* you want to separate the data for the remaining two species into separate datasets\n",
    "\n",
    "You can do all of these things with the **`filter`** command, which uses a logical argument to identify subsets of rows (observations). Rows for which the logical is TRUE will be retained in the data frame, and all others will be removed:"
   ]
  },
  {
   "cell_type": "code",
   "execution_count": 18,
   "metadata": {
    "colab": {
     "base_uri": "https://localhost:8080/",
     "height": 605
    },
    "executionInfo": {
     "elapsed": 2407,
     "status": "ok",
     "timestamp": 1611095670275,
     "user": {
      "displayName": "Patience Stevens",
      "photoUrl": "https://lh3.googleusercontent.com/a-/AOh14Gi-_9ZqhIFhAv1oMehJNvNuIKSTyrFQHzjxQKhx=s64",
      "userId": "01994571539255174942"
     },
     "user_tz": 300
    },
    "id": "OzlTsEOE0ZAX",
    "outputId": "fc088bc2-f2af-41cc-cb64-287321e215c8",
    "scrolled": false
   },
   "outputs": [
    {
     "name": "stdout",
     "output_type": "stream",
     "text": [
      "[1] \"species options: setosa, versicolor, virginica\"\n"
     ]
    },
    {
     "data": {
      "text/html": [
       "<table class=\"dataframe\">\n",
       "<caption>A data.frame: 6 × 6</caption>\n",
       "<thead>\n",
       "\t<tr><th></th><th scope=col>Sepal.Length</th><th scope=col>Sepal.Width</th><th scope=col>Petal.Length</th><th scope=col>Petal.Width</th><th scope=col>Species</th><th scope=col>PetalType</th></tr>\n",
       "\t<tr><th></th><th scope=col>&lt;dbl&gt;</th><th scope=col>&lt;dbl&gt;</th><th scope=col>&lt;dbl&gt;</th><th scope=col>&lt;dbl&gt;</th><th scope=col>&lt;fct&gt;</th><th scope=col>&lt;chr&gt;</th></tr>\n",
       "</thead>\n",
       "<tbody>\n",
       "\t<tr><th scope=row>1</th><td>7.0</td><td>3.2</td><td>4.7</td><td>1.4</td><td>versicolor</td><td>long</td></tr>\n",
       "\t<tr><th scope=row>2</th><td>6.4</td><td>3.2</td><td>4.5</td><td>1.5</td><td>versicolor</td><td>long</td></tr>\n",
       "\t<tr><th scope=row>3</th><td>6.9</td><td>3.1</td><td>4.9</td><td>1.5</td><td>versicolor</td><td>long</td></tr>\n",
       "\t<tr><th scope=row>4</th><td>5.5</td><td>2.3</td><td>4.0</td><td>1.3</td><td>versicolor</td><td>long</td></tr>\n",
       "\t<tr><th scope=row>5</th><td>6.5</td><td>2.8</td><td>4.6</td><td>1.5</td><td>versicolor</td><td>long</td></tr>\n",
       "\t<tr><th scope=row>6</th><td>5.7</td><td>2.8</td><td>4.5</td><td>1.3</td><td>versicolor</td><td>long</td></tr>\n",
       "</tbody>\n",
       "</table>\n"
      ],
      "text/latex": [
       "A data.frame: 6 × 6\n",
       "\\begin{tabular}{r|llllll}\n",
       "  & Sepal.Length & Sepal.Width & Petal.Length & Petal.Width & Species & PetalType\\\\\n",
       "  & <dbl> & <dbl> & <dbl> & <dbl> & <fct> & <chr>\\\\\n",
       "\\hline\n",
       "\t1 & 7.0 & 3.2 & 4.7 & 1.4 & versicolor & long\\\\\n",
       "\t2 & 6.4 & 3.2 & 4.5 & 1.5 & versicolor & long\\\\\n",
       "\t3 & 6.9 & 3.1 & 4.9 & 1.5 & versicolor & long\\\\\n",
       "\t4 & 5.5 & 2.3 & 4.0 & 1.3 & versicolor & long\\\\\n",
       "\t5 & 6.5 & 2.8 & 4.6 & 1.5 & versicolor & long\\\\\n",
       "\t6 & 5.7 & 2.8 & 4.5 & 1.3 & versicolor & long\\\\\n",
       "\\end{tabular}\n"
      ],
      "text/markdown": [
       "\n",
       "A data.frame: 6 × 6\n",
       "\n",
       "| <!--/--> | Sepal.Length &lt;dbl&gt; | Sepal.Width &lt;dbl&gt; | Petal.Length &lt;dbl&gt; | Petal.Width &lt;dbl&gt; | Species &lt;fct&gt; | PetalType &lt;chr&gt; |\n",
       "|---|---|---|---|---|---|---|\n",
       "| 1 | 7.0 | 3.2 | 4.7 | 1.4 | versicolor | long |\n",
       "| 2 | 6.4 | 3.2 | 4.5 | 1.5 | versicolor | long |\n",
       "| 3 | 6.9 | 3.1 | 4.9 | 1.5 | versicolor | long |\n",
       "| 4 | 5.5 | 2.3 | 4.0 | 1.3 | versicolor | long |\n",
       "| 5 | 6.5 | 2.8 | 4.6 | 1.5 | versicolor | long |\n",
       "| 6 | 5.7 | 2.8 | 4.5 | 1.3 | versicolor | long |\n",
       "\n"
      ],
      "text/plain": [
       "  Sepal.Length Sepal.Width Petal.Length Petal.Width Species    PetalType\n",
       "1 7.0          3.2         4.7          1.4         versicolor long     \n",
       "2 6.4          3.2         4.5          1.5         versicolor long     \n",
       "3 6.9          3.1         4.9          1.5         versicolor long     \n",
       "4 5.5          2.3         4.0          1.3         versicolor long     \n",
       "5 6.5          2.8         4.6          1.5         versicolor long     \n",
       "6 5.7          2.8         4.5          1.3         versicolor long     "
      ]
     },
     "metadata": {},
     "output_type": "display_data"
    },
    {
     "data": {
      "text/html": [
       "<table class=\"dataframe\">\n",
       "<caption>A data.frame: 6 × 6</caption>\n",
       "<thead>\n",
       "\t<tr><th></th><th scope=col>Sepal.Length</th><th scope=col>Sepal.Width</th><th scope=col>Petal.Length</th><th scope=col>Petal.Width</th><th scope=col>Species</th><th scope=col>PetalType</th></tr>\n",
       "\t<tr><th></th><th scope=col>&lt;dbl&gt;</th><th scope=col>&lt;dbl&gt;</th><th scope=col>&lt;dbl&gt;</th><th scope=col>&lt;dbl&gt;</th><th scope=col>&lt;fct&gt;</th><th scope=col>&lt;chr&gt;</th></tr>\n",
       "</thead>\n",
       "<tbody>\n",
       "\t<tr><th scope=row>1</th><td>7.0</td><td>3.2</td><td>4.7</td><td>1.4</td><td>versicolor</td><td>long</td></tr>\n",
       "\t<tr><th scope=row>2</th><td>6.4</td><td>3.2</td><td>4.5</td><td>1.5</td><td>versicolor</td><td>long</td></tr>\n",
       "\t<tr><th scope=row>3</th><td>6.9</td><td>3.1</td><td>4.9</td><td>1.5</td><td>versicolor</td><td>long</td></tr>\n",
       "\t<tr><th scope=row>4</th><td>5.5</td><td>2.3</td><td>4.0</td><td>1.3</td><td>versicolor</td><td>long</td></tr>\n",
       "\t<tr><th scope=row>5</th><td>6.5</td><td>2.8</td><td>4.6</td><td>1.5</td><td>versicolor</td><td>long</td></tr>\n",
       "\t<tr><th scope=row>6</th><td>5.7</td><td>2.8</td><td>4.5</td><td>1.3</td><td>versicolor</td><td>long</td></tr>\n",
       "</tbody>\n",
       "</table>\n"
      ],
      "text/latex": [
       "A data.frame: 6 × 6\n",
       "\\begin{tabular}{r|llllll}\n",
       "  & Sepal.Length & Sepal.Width & Petal.Length & Petal.Width & Species & PetalType\\\\\n",
       "  & <dbl> & <dbl> & <dbl> & <dbl> & <fct> & <chr>\\\\\n",
       "\\hline\n",
       "\t1 & 7.0 & 3.2 & 4.7 & 1.4 & versicolor & long\\\\\n",
       "\t2 & 6.4 & 3.2 & 4.5 & 1.5 & versicolor & long\\\\\n",
       "\t3 & 6.9 & 3.1 & 4.9 & 1.5 & versicolor & long\\\\\n",
       "\t4 & 5.5 & 2.3 & 4.0 & 1.3 & versicolor & long\\\\\n",
       "\t5 & 6.5 & 2.8 & 4.6 & 1.5 & versicolor & long\\\\\n",
       "\t6 & 5.7 & 2.8 & 4.5 & 1.3 & versicolor & long\\\\\n",
       "\\end{tabular}\n"
      ],
      "text/markdown": [
       "\n",
       "A data.frame: 6 × 6\n",
       "\n",
       "| <!--/--> | Sepal.Length &lt;dbl&gt; | Sepal.Width &lt;dbl&gt; | Petal.Length &lt;dbl&gt; | Petal.Width &lt;dbl&gt; | Species &lt;fct&gt; | PetalType &lt;chr&gt; |\n",
       "|---|---|---|---|---|---|---|\n",
       "| 1 | 7.0 | 3.2 | 4.7 | 1.4 | versicolor | long |\n",
       "| 2 | 6.4 | 3.2 | 4.5 | 1.5 | versicolor | long |\n",
       "| 3 | 6.9 | 3.1 | 4.9 | 1.5 | versicolor | long |\n",
       "| 4 | 5.5 | 2.3 | 4.0 | 1.3 | versicolor | long |\n",
       "| 5 | 6.5 | 2.8 | 4.6 | 1.5 | versicolor | long |\n",
       "| 6 | 5.7 | 2.8 | 4.5 | 1.3 | versicolor | long |\n",
       "\n"
      ],
      "text/plain": [
       "  Sepal.Length Sepal.Width Petal.Length Petal.Width Species    PetalType\n",
       "1 7.0          3.2         4.7          1.4         versicolor long     \n",
       "2 6.4          3.2         4.5          1.5         versicolor long     \n",
       "3 6.9          3.1         4.9          1.5         versicolor long     \n",
       "4 5.5          2.3         4.0          1.3         versicolor long     \n",
       "5 6.5          2.8         4.6          1.5         versicolor long     \n",
       "6 5.7          2.8         4.5          1.3         versicolor long     "
      ]
     },
     "metadata": {},
     "output_type": "display_data"
    },
    {
     "data": {
      "text/html": [
       "<table class=\"dataframe\">\n",
       "<caption>A data.frame: 6 × 6</caption>\n",
       "<thead>\n",
       "\t<tr><th></th><th scope=col>Sepal.Length</th><th scope=col>Sepal.Width</th><th scope=col>Petal.Length</th><th scope=col>Petal.Width</th><th scope=col>Species</th><th scope=col>PetalType</th></tr>\n",
       "\t<tr><th></th><th scope=col>&lt;dbl&gt;</th><th scope=col>&lt;dbl&gt;</th><th scope=col>&lt;dbl&gt;</th><th scope=col>&lt;dbl&gt;</th><th scope=col>&lt;fct&gt;</th><th scope=col>&lt;chr&gt;</th></tr>\n",
       "</thead>\n",
       "<tbody>\n",
       "\t<tr><th scope=row>1</th><td>6.3</td><td>3.3</td><td>6.0</td><td>2.5</td><td>virginica</td><td>long</td></tr>\n",
       "\t<tr><th scope=row>2</th><td>5.8</td><td>2.7</td><td>5.1</td><td>1.9</td><td>virginica</td><td>long</td></tr>\n",
       "\t<tr><th scope=row>3</th><td>7.1</td><td>3.0</td><td>5.9</td><td>2.1</td><td>virginica</td><td>long</td></tr>\n",
       "\t<tr><th scope=row>4</th><td>6.3</td><td>2.9</td><td>5.6</td><td>1.8</td><td>virginica</td><td>long</td></tr>\n",
       "\t<tr><th scope=row>5</th><td>6.5</td><td>3.0</td><td>5.8</td><td>2.2</td><td>virginica</td><td>long</td></tr>\n",
       "\t<tr><th scope=row>6</th><td>7.6</td><td>3.0</td><td>6.6</td><td>2.1</td><td>virginica</td><td>long</td></tr>\n",
       "</tbody>\n",
       "</table>\n"
      ],
      "text/latex": [
       "A data.frame: 6 × 6\n",
       "\\begin{tabular}{r|llllll}\n",
       "  & Sepal.Length & Sepal.Width & Petal.Length & Petal.Width & Species & PetalType\\\\\n",
       "  & <dbl> & <dbl> & <dbl> & <dbl> & <fct> & <chr>\\\\\n",
       "\\hline\n",
       "\t1 & 6.3 & 3.3 & 6.0 & 2.5 & virginica & long\\\\\n",
       "\t2 & 5.8 & 2.7 & 5.1 & 1.9 & virginica & long\\\\\n",
       "\t3 & 7.1 & 3.0 & 5.9 & 2.1 & virginica & long\\\\\n",
       "\t4 & 6.3 & 2.9 & 5.6 & 1.8 & virginica & long\\\\\n",
       "\t5 & 6.5 & 3.0 & 5.8 & 2.2 & virginica & long\\\\\n",
       "\t6 & 7.6 & 3.0 & 6.6 & 2.1 & virginica & long\\\\\n",
       "\\end{tabular}\n"
      ],
      "text/markdown": [
       "\n",
       "A data.frame: 6 × 6\n",
       "\n",
       "| <!--/--> | Sepal.Length &lt;dbl&gt; | Sepal.Width &lt;dbl&gt; | Petal.Length &lt;dbl&gt; | Petal.Width &lt;dbl&gt; | Species &lt;fct&gt; | PetalType &lt;chr&gt; |\n",
       "|---|---|---|---|---|---|---|\n",
       "| 1 | 6.3 | 3.3 | 6.0 | 2.5 | virginica | long |\n",
       "| 2 | 5.8 | 2.7 | 5.1 | 1.9 | virginica | long |\n",
       "| 3 | 7.1 | 3.0 | 5.9 | 2.1 | virginica | long |\n",
       "| 4 | 6.3 | 2.9 | 5.6 | 1.8 | virginica | long |\n",
       "| 5 | 6.5 | 3.0 | 5.8 | 2.2 | virginica | long |\n",
       "| 6 | 7.6 | 3.0 | 6.6 | 2.1 | virginica | long |\n",
       "\n"
      ],
      "text/plain": [
       "  Sepal.Length Sepal.Width Petal.Length Petal.Width Species   PetalType\n",
       "1 6.3          3.3         6.0          2.5         virginica long     \n",
       "2 5.8          2.7         5.1          1.9         virginica long     \n",
       "3 7.1          3.0         5.9          2.1         virginica long     \n",
       "4 6.3          2.9         5.6          1.8         virginica long     \n",
       "5 6.5          3.0         5.8          2.2         virginica long     \n",
       "6 7.6          3.0         6.6          2.1         virginica long     "
      ]
     },
     "metadata": {},
     "output_type": "display_data"
    }
   ],
   "source": [
    "print(paste('species options:',paste(levels(dat$Species),collapse=\", \")))\n",
    "\n",
    "# get rid of all setosa flowers and any flowers with negative sepal lengths\n",
    "cleaned_dat <- dat  %>% \n",
    "    filter(Species != 'setosa', #!= is read \"not equal to\"\n",
    "           Sepal.Length >= 0)\n",
    "\n",
    "# make new data.frames for the remaining two species\n",
    "versi.dat <- filter(cleaned_dat, Species == 'versicolor')\n",
    "virgi.dat <- filter(cleaned_dat, Species == 'virginica')\n",
    "\n",
    "# look at first six rows of all three data.frames\n",
    "head(cleaned_dat); head(versi.dat); head(virgi.dat)"
   ]
  },
  {
   "cell_type": "markdown",
   "metadata": {
    "id": "BWZJWEG00ZAX"
   },
   "source": [
    "Here's where the pipe becomes useful. Let's say you want to calculate the summarise we described above separately for the versicolor and virginica species. I will show you later how to do it more efficiently, but for the moment we can illustrate how you can chain commands with pipes. Rather than creating the intermediate `versi.dat` and `virgi.dat` dataframes, we can chain the `summarise` function after the `filter` function. In the example below, we pass `dat` as the first argument of `filter`, then specify to keep only versicolor flowers, and then the resulting data.frame is passed on as the first argument to `summarise`:"
   ]
  },
  {
   "cell_type": "code",
   "execution_count": 19,
   "metadata": {
    "colab": {
     "base_uri": "https://localhost:8080/",
     "height": 184
    },
    "executionInfo": {
     "elapsed": 2393,
     "status": "ok",
     "timestamp": 1611095670277,
     "user": {
      "displayName": "Patience Stevens",
      "photoUrl": "https://lh3.googleusercontent.com/a-/AOh14Gi-_9ZqhIFhAv1oMehJNvNuIKSTyrFQHzjxQKhx=s64",
      "userId": "01994571539255174942"
     },
     "user_tz": 300
    },
    "id": "j0O40e7G0ZAX",
    "outputId": "664550ec-c2ee-4d0d-d9e3-db5137204fb8"
   },
   "outputs": [
    {
     "data": {
      "text/html": [
       "<table class=\"dataframe\">\n",
       "<caption>A data.frame: 1 × 2</caption>\n",
       "<thead>\n",
       "\t<tr><th scope=col>SepLen_mean</th><th scope=col>SepLen_sd</th></tr>\n",
       "\t<tr><th scope=col>&lt;dbl&gt;</th><th scope=col>&lt;dbl&gt;</th></tr>\n",
       "</thead>\n",
       "<tbody>\n",
       "\t<tr><td>5.936</td><td>0.5161711</td></tr>\n",
       "</tbody>\n",
       "</table>\n"
      ],
      "text/latex": [
       "A data.frame: 1 × 2\n",
       "\\begin{tabular}{ll}\n",
       " SepLen\\_mean & SepLen\\_sd\\\\\n",
       " <dbl> & <dbl>\\\\\n",
       "\\hline\n",
       "\t 5.936 & 0.5161711\\\\\n",
       "\\end{tabular}\n"
      ],
      "text/markdown": [
       "\n",
       "A data.frame: 1 × 2\n",
       "\n",
       "| SepLen_mean &lt;dbl&gt; | SepLen_sd &lt;dbl&gt; |\n",
       "|---|---|\n",
       "| 5.936 | 0.5161711 |\n",
       "\n"
      ],
      "text/plain": [
       "  SepLen_mean SepLen_sd\n",
       "1 5.936       0.5161711"
      ]
     },
     "metadata": {},
     "output_type": "display_data"
    },
    {
     "data": {
      "text/html": [
       "<table class=\"dataframe\">\n",
       "<caption>A data.frame: 1 × 2</caption>\n",
       "<thead>\n",
       "\t<tr><th scope=col>SepLen_mean</th><th scope=col>SepLen_sd</th></tr>\n",
       "\t<tr><th scope=col>&lt;dbl&gt;</th><th scope=col>&lt;dbl&gt;</th></tr>\n",
       "</thead>\n",
       "<tbody>\n",
       "\t<tr><td>6.588</td><td>0.6358796</td></tr>\n",
       "</tbody>\n",
       "</table>\n"
      ],
      "text/latex": [
       "A data.frame: 1 × 2\n",
       "\\begin{tabular}{ll}\n",
       " SepLen\\_mean & SepLen\\_sd\\\\\n",
       " <dbl> & <dbl>\\\\\n",
       "\\hline\n",
       "\t 6.588 & 0.6358796\\\\\n",
       "\\end{tabular}\n"
      ],
      "text/markdown": [
       "\n",
       "A data.frame: 1 × 2\n",
       "\n",
       "| SepLen_mean &lt;dbl&gt; | SepLen_sd &lt;dbl&gt; |\n",
       "|---|---|\n",
       "| 6.588 | 0.6358796 |\n",
       "\n"
      ],
      "text/plain": [
       "  SepLen_mean SepLen_sd\n",
       "1 6.588       0.6358796"
      ]
     },
     "metadata": {},
     "output_type": "display_data"
    }
   ],
   "source": [
    "# calculate summarise for versicolor species\n",
    "dat  %>% \n",
    " filter(Species == 'versicolor')  %>% \n",
    " summarise(SepLen_mean = mean(Sepal.Length),\n",
    "           SepLen_sd = sd(Sepal.Length))\n",
    "\n",
    "# calculate summarise for virginica species\n",
    "dat  %>% \n",
    " filter(Species == 'virginica')  %>% \n",
    " summarise(SepLen_mean = mean(Sepal.Length),\n",
    "           SepLen_sd = sd(Sepal.Length))"
   ]
  },
  {
   "cell_type": "markdown",
   "metadata": {
    "id": "iXCX5F7r0ZAY"
   },
   "source": [
    "**_TIP_**: it is very easy to remove missing values by using the `!is.na(variable)` command. E.g. if some flowers are missing petal length measurements, you can exclude them by doing **`filter(dat, !is.na(Petal.Length))`**"
   ]
  },
  {
   "cell_type": "markdown",
   "metadata": {
    "id": "QOP2juim0ZAY"
   },
   "source": [
    "## `select()`: Removing/selecting columns to keep"
   ]
  },
  {
   "cell_type": "markdown",
   "metadata": {
    "id": "3hSuLskc0ZAY"
   },
   "source": [
    "Often the dataset contains many irrelevant columns that make it difficult to display the dataframe all at once. You can easily choose which columns to keep or remove in a data.frame with the **`select()`** command. It has complex usage, and I suggest checking the help, i.e. type `?select`. However, the basic usage is as follows: "
   ]
  },
  {
   "cell_type": "code",
   "execution_count": 20,
   "metadata": {
    "colab": {
     "base_uri": "https://localhost:8080/",
     "height": 207
    },
    "executionInfo": {
     "elapsed": 2378,
     "status": "ok",
     "timestamp": 1611095670278,
     "user": {
      "displayName": "Patience Stevens",
      "photoUrl": "https://lh3.googleusercontent.com/a-/AOh14Gi-_9ZqhIFhAv1oMehJNvNuIKSTyrFQHzjxQKhx=s64",
      "userId": "01994571539255174942"
     },
     "user_tz": 300
    },
    "id": "6HO_umTi0ZAY",
    "outputId": "b7906442-4aa0-4648-f8fe-ab703e465bd7"
   },
   "outputs": [
    {
     "data": {
      "text/html": [
       "<table class=\"dataframe\">\n",
       "<caption>A data.frame: 6 × 3</caption>\n",
       "<thead>\n",
       "\t<tr><th></th><th scope=col>Species</th><th scope=col>Petal.Length</th><th scope=col>Petal.Width</th></tr>\n",
       "\t<tr><th></th><th scope=col>&lt;fct&gt;</th><th scope=col>&lt;dbl&gt;</th><th scope=col>&lt;dbl&gt;</th></tr>\n",
       "</thead>\n",
       "<tbody>\n",
       "\t<tr><th scope=row>1</th><td>setosa</td><td>1.4</td><td>0.2</td></tr>\n",
       "\t<tr><th scope=row>2</th><td>setosa</td><td>1.4</td><td>0.2</td></tr>\n",
       "\t<tr><th scope=row>3</th><td>setosa</td><td>1.3</td><td>0.2</td></tr>\n",
       "\t<tr><th scope=row>4</th><td>setosa</td><td>1.5</td><td>0.2</td></tr>\n",
       "\t<tr><th scope=row>5</th><td>setosa</td><td>1.4</td><td>0.2</td></tr>\n",
       "\t<tr><th scope=row>6</th><td>setosa</td><td>1.7</td><td>0.4</td></tr>\n",
       "</tbody>\n",
       "</table>\n"
      ],
      "text/latex": [
       "A data.frame: 6 × 3\n",
       "\\begin{tabular}{r|lll}\n",
       "  & Species & Petal.Length & Petal.Width\\\\\n",
       "  & <fct> & <dbl> & <dbl>\\\\\n",
       "\\hline\n",
       "\t1 & setosa & 1.4 & 0.2\\\\\n",
       "\t2 & setosa & 1.4 & 0.2\\\\\n",
       "\t3 & setosa & 1.3 & 0.2\\\\\n",
       "\t4 & setosa & 1.5 & 0.2\\\\\n",
       "\t5 & setosa & 1.4 & 0.2\\\\\n",
       "\t6 & setosa & 1.7 & 0.4\\\\\n",
       "\\end{tabular}\n"
      ],
      "text/markdown": [
       "\n",
       "A data.frame: 6 × 3\n",
       "\n",
       "| <!--/--> | Species &lt;fct&gt; | Petal.Length &lt;dbl&gt; | Petal.Width &lt;dbl&gt; |\n",
       "|---|---|---|---|\n",
       "| 1 | setosa | 1.4 | 0.2 |\n",
       "| 2 | setosa | 1.4 | 0.2 |\n",
       "| 3 | setosa | 1.3 | 0.2 |\n",
       "| 4 | setosa | 1.5 | 0.2 |\n",
       "| 5 | setosa | 1.4 | 0.2 |\n",
       "| 6 | setosa | 1.7 | 0.4 |\n",
       "\n"
      ],
      "text/plain": [
       "  Species Petal.Length Petal.Width\n",
       "1 setosa  1.4          0.2        \n",
       "2 setosa  1.4          0.2        \n",
       "3 setosa  1.3          0.2        \n",
       "4 setosa  1.5          0.2        \n",
       "5 setosa  1.4          0.2        \n",
       "6 setosa  1.7          0.4        "
      ]
     },
     "metadata": {},
     "output_type": "display_data"
    }
   ],
   "source": [
    "dat  %>% \n",
    "    select(Species, Petal.Length, Petal.Width) %>%\n",
    "    head() \n",
    "#to keep only specific variables, list them one after another like above"
   ]
  },
  {
   "cell_type": "markdown",
   "metadata": {
    "id": "WZLNn4id0ZAY"
   },
   "source": [
    "* If you want to **remove** only specific variables, list each with a **-** sign:"
   ]
  },
  {
   "cell_type": "code",
   "execution_count": 21,
   "metadata": {
    "colab": {
     "base_uri": "https://localhost:8080/",
     "height": 207
    },
    "executionInfo": {
     "elapsed": 2633,
     "status": "ok",
     "timestamp": 1611095670548,
     "user": {
      "displayName": "Patience Stevens",
      "photoUrl": "https://lh3.googleusercontent.com/a-/AOh14Gi-_9ZqhIFhAv1oMehJNvNuIKSTyrFQHzjxQKhx=s64",
      "userId": "01994571539255174942"
     },
     "user_tz": 300
    },
    "id": "uPkomyI90ZAY",
    "outputId": "6ab1967f-d88d-4dae-9e23-d8c46c7b62e3"
   },
   "outputs": [
    {
     "data": {
      "text/html": [
       "<table class=\"dataframe\">\n",
       "<caption>A data.frame: 6 × 4</caption>\n",
       "<thead>\n",
       "\t<tr><th></th><th scope=col>Sepal.Length</th><th scope=col>Sepal.Width</th><th scope=col>Species</th><th scope=col>PetalType</th></tr>\n",
       "\t<tr><th></th><th scope=col>&lt;dbl&gt;</th><th scope=col>&lt;dbl&gt;</th><th scope=col>&lt;fct&gt;</th><th scope=col>&lt;chr&gt;</th></tr>\n",
       "</thead>\n",
       "<tbody>\n",
       "\t<tr><th scope=row>1</th><td>5.1</td><td>3.5</td><td>setosa</td><td>short</td></tr>\n",
       "\t<tr><th scope=row>2</th><td>4.9</td><td>3.0</td><td>setosa</td><td>short</td></tr>\n",
       "\t<tr><th scope=row>3</th><td>4.7</td><td>3.2</td><td>setosa</td><td>short</td></tr>\n",
       "\t<tr><th scope=row>4</th><td>4.6</td><td>3.1</td><td>setosa</td><td>short</td></tr>\n",
       "\t<tr><th scope=row>5</th><td>5.0</td><td>3.6</td><td>setosa</td><td>short</td></tr>\n",
       "\t<tr><th scope=row>6</th><td>5.4</td><td>3.9</td><td>setosa</td><td>short</td></tr>\n",
       "</tbody>\n",
       "</table>\n"
      ],
      "text/latex": [
       "A data.frame: 6 × 4\n",
       "\\begin{tabular}{r|llll}\n",
       "  & Sepal.Length & Sepal.Width & Species & PetalType\\\\\n",
       "  & <dbl> & <dbl> & <fct> & <chr>\\\\\n",
       "\\hline\n",
       "\t1 & 5.1 & 3.5 & setosa & short\\\\\n",
       "\t2 & 4.9 & 3.0 & setosa & short\\\\\n",
       "\t3 & 4.7 & 3.2 & setosa & short\\\\\n",
       "\t4 & 4.6 & 3.1 & setosa & short\\\\\n",
       "\t5 & 5.0 & 3.6 & setosa & short\\\\\n",
       "\t6 & 5.4 & 3.9 & setosa & short\\\\\n",
       "\\end{tabular}\n"
      ],
      "text/markdown": [
       "\n",
       "A data.frame: 6 × 4\n",
       "\n",
       "| <!--/--> | Sepal.Length &lt;dbl&gt; | Sepal.Width &lt;dbl&gt; | Species &lt;fct&gt; | PetalType &lt;chr&gt; |\n",
       "|---|---|---|---|---|\n",
       "| 1 | 5.1 | 3.5 | setosa | short |\n",
       "| 2 | 4.9 | 3.0 | setosa | short |\n",
       "| 3 | 4.7 | 3.2 | setosa | short |\n",
       "| 4 | 4.6 | 3.1 | setosa | short |\n",
       "| 5 | 5.0 | 3.6 | setosa | short |\n",
       "| 6 | 5.4 | 3.9 | setosa | short |\n",
       "\n"
      ],
      "text/plain": [
       "  Sepal.Length Sepal.Width Species PetalType\n",
       "1 5.1          3.5         setosa  short    \n",
       "2 4.9          3.0         setosa  short    \n",
       "3 4.7          3.2         setosa  short    \n",
       "4 4.6          3.1         setosa  short    \n",
       "5 5.0          3.6         setosa  short    \n",
       "6 5.4          3.9         setosa  short    "
      ]
     },
     "metadata": {},
     "output_type": "display_data"
    }
   ],
   "source": [
    "dat  %>% \n",
    "    select(-Petal.Length, -Petal.Width) %>%\n",
    "    head()  #remove original sepal length & width variables"
   ]
  },
  {
   "cell_type": "markdown",
   "metadata": {
    "id": "wYwrBSmT0ZAY"
   },
   "source": [
    "* If you want to keep a sequence of variables, you can specify the first and the last using a range:"
   ]
  },
  {
   "cell_type": "code",
   "execution_count": null,
   "metadata": {
    "colab": {
     "base_uri": "https://localhost:8080/",
     "height": 398
    },
    "executionInfo": {
     "elapsed": 2619,
     "status": "ok",
     "timestamp": 1611095670549,
     "user": {
      "displayName": "Patience Stevens",
      "photoUrl": "https://lh3.googleusercontent.com/a-/AOh14Gi-_9ZqhIFhAv1oMehJNvNuIKSTyrFQHzjxQKhx=s64",
      "userId": "01994571539255174942"
     },
     "user_tz": 300
    },
    "id": "-qC7uW7q0ZAZ",
    "outputId": "f0c5e7dd-c17b-4bea-f4e6-162da4605190"
   },
   "outputs": [
    {
     "data": {
      "text/html": [
       "<table>\n",
       "<caption>A data.frame: 6 × 8</caption>\n",
       "<thead>\n",
       "\t<tr><th></th><th scope=col>Sepal.Length</th><th scope=col>Sepal.Width</th><th scope=col>Petal.Length</th><th scope=col>Petal.Width</th><th scope=col>Species</th><th scope=col>centered_SepLen</th><th scope=col>PetLen_zscores</th><th scope=col>n_flowers</th></tr>\n",
       "\t<tr><th></th><th scope=col>&lt;dbl&gt;</th><th scope=col>&lt;dbl&gt;</th><th scope=col>&lt;dbl&gt;</th><th scope=col>&lt;dbl&gt;</th><th scope=col>&lt;fct&gt;</th><th scope=col>&lt;dbl&gt;</th><th scope=col>&lt;dbl&gt;</th><th scope=col>&lt;int&gt;</th></tr>\n",
       "</thead>\n",
       "<tbody>\n",
       "\t<tr><th scope=row>1</th><td>5.1</td><td>3.5</td><td>1.4</td><td>0.2</td><td>setosa</td><td>-0.7433333</td><td>-1.335752</td><td>150</td></tr>\n",
       "\t<tr><th scope=row>2</th><td>4.9</td><td>3.0</td><td>1.4</td><td>0.2</td><td>setosa</td><td>-0.9433333</td><td>-1.335752</td><td>150</td></tr>\n",
       "\t<tr><th scope=row>3</th><td>4.7</td><td>3.2</td><td>1.3</td><td>0.2</td><td>setosa</td><td>-1.1433333</td><td>-1.392399</td><td>150</td></tr>\n",
       "\t<tr><th scope=row>4</th><td>4.6</td><td>3.1</td><td>1.5</td><td>0.2</td><td>setosa</td><td>-1.2433333</td><td>-1.279104</td><td>150</td></tr>\n",
       "\t<tr><th scope=row>5</th><td>5.0</td><td>3.6</td><td>1.4</td><td>0.2</td><td>setosa</td><td>-0.8433333</td><td>-1.335752</td><td>150</td></tr>\n",
       "\t<tr><th scope=row>6</th><td>5.4</td><td>3.9</td><td>1.7</td><td>0.4</td><td>setosa</td><td>-0.4433333</td><td>-1.165809</td><td>150</td></tr>\n",
       "</tbody>\n",
       "</table>\n"
      ],
      "text/latex": [
       "A data.frame: 6 × 8\n",
       "\\begin{tabular}{r|llllllll}\n",
       "  & Sepal.Length & Sepal.Width & Petal.Length & Petal.Width & Species & centered\\_SepLen & PetLen\\_zscores & n\\_flowers\\\\\n",
       "  & <dbl> & <dbl> & <dbl> & <dbl> & <fct> & <dbl> & <dbl> & <int>\\\\\n",
       "\\hline\n",
       "\t1 & 5.1 & 3.5 & 1.4 & 0.2 & setosa & -0.7433333 & -1.335752 & 150\\\\\n",
       "\t2 & 4.9 & 3.0 & 1.4 & 0.2 & setosa & -0.9433333 & -1.335752 & 150\\\\\n",
       "\t3 & 4.7 & 3.2 & 1.3 & 0.2 & setosa & -1.1433333 & -1.392399 & 150\\\\\n",
       "\t4 & 4.6 & 3.1 & 1.5 & 0.2 & setosa & -1.2433333 & -1.279104 & 150\\\\\n",
       "\t5 & 5.0 & 3.6 & 1.4 & 0.2 & setosa & -0.8433333 & -1.335752 & 150\\\\\n",
       "\t6 & 5.4 & 3.9 & 1.7 & 0.4 & setosa & -0.4433333 & -1.165809 & 150\\\\\n",
       "\\end{tabular}\n"
      ],
      "text/markdown": [
       "\n",
       "A data.frame: 6 × 8\n",
       "\n",
       "| <!--/--> | Sepal.Length &lt;dbl&gt; | Sepal.Width &lt;dbl&gt; | Petal.Length &lt;dbl&gt; | Petal.Width &lt;dbl&gt; | Species &lt;fct&gt; | centered_SepLen &lt;dbl&gt; | PetLen_zscores &lt;dbl&gt; | n_flowers &lt;int&gt; |\n",
       "|---|---|---|---|---|---|---|---|---|\n",
       "| 1 | 5.1 | 3.5 | 1.4 | 0.2 | setosa | -0.7433333 | -1.335752 | 150 |\n",
       "| 2 | 4.9 | 3.0 | 1.4 | 0.2 | setosa | -0.9433333 | -1.335752 | 150 |\n",
       "| 3 | 4.7 | 3.2 | 1.3 | 0.2 | setosa | -1.1433333 | -1.392399 | 150 |\n",
       "| 4 | 4.6 | 3.1 | 1.5 | 0.2 | setosa | -1.2433333 | -1.279104 | 150 |\n",
       "| 5 | 5.0 | 3.6 | 1.4 | 0.2 | setosa | -0.8433333 | -1.335752 | 150 |\n",
       "| 6 | 5.4 | 3.9 | 1.7 | 0.4 | setosa | -0.4433333 | -1.165809 | 150 |\n",
       "\n"
      ],
      "text/plain": [
       "  Sepal.Length Sepal.Width Petal.Length Petal.Width Species centered_SepLen\n",
       "1 5.1          3.5         1.4          0.2         setosa  -0.7433333     \n",
       "2 4.9          3.0         1.4          0.2         setosa  -0.9433333     \n",
       "3 4.7          3.2         1.3          0.2         setosa  -1.1433333     \n",
       "4 4.6          3.1         1.5          0.2         setosa  -1.2433333     \n",
       "5 5.0          3.6         1.4          0.2         setosa  -0.8433333     \n",
       "6 5.4          3.9         1.7          0.4         setosa  -0.4433333     \n",
       "  PetLen_zscores n_flowers\n",
       "1 -1.335752      150      \n",
       "2 -1.335752      150      \n",
       "3 -1.392399      150      \n",
       "4 -1.279104      150      \n",
       "5 -1.335752      150      \n",
       "6 -1.165809      150      "
      ]
     },
     "metadata": {
      "tags": []
     },
     "output_type": "display_data"
    },
    {
     "data": {
      "text/html": [
       "<table>\n",
       "<caption>A data.frame: 6 × 5</caption>\n",
       "<thead>\n",
       "\t<tr><th></th><th scope=col>Sepal.Length</th><th scope=col>Sepal.Width</th><th scope=col>Petal.Length</th><th scope=col>Petal.Width</th><th scope=col>Species</th></tr>\n",
       "\t<tr><th></th><th scope=col>&lt;dbl&gt;</th><th scope=col>&lt;dbl&gt;</th><th scope=col>&lt;dbl&gt;</th><th scope=col>&lt;dbl&gt;</th><th scope=col>&lt;fct&gt;</th></tr>\n",
       "</thead>\n",
       "<tbody>\n",
       "\t<tr><th scope=row>1</th><td>5.1</td><td>3.5</td><td>1.4</td><td>0.2</td><td>setosa</td></tr>\n",
       "\t<tr><th scope=row>2</th><td>4.9</td><td>3.0</td><td>1.4</td><td>0.2</td><td>setosa</td></tr>\n",
       "\t<tr><th scope=row>3</th><td>4.7</td><td>3.2</td><td>1.3</td><td>0.2</td><td>setosa</td></tr>\n",
       "\t<tr><th scope=row>4</th><td>4.6</td><td>3.1</td><td>1.5</td><td>0.2</td><td>setosa</td></tr>\n",
       "\t<tr><th scope=row>5</th><td>5.0</td><td>3.6</td><td>1.4</td><td>0.2</td><td>setosa</td></tr>\n",
       "\t<tr><th scope=row>6</th><td>5.4</td><td>3.9</td><td>1.7</td><td>0.4</td><td>setosa</td></tr>\n",
       "</tbody>\n",
       "</table>\n"
      ],
      "text/latex": [
       "A data.frame: 6 × 5\n",
       "\\begin{tabular}{r|lllll}\n",
       "  & Sepal.Length & Sepal.Width & Petal.Length & Petal.Width & Species\\\\\n",
       "  & <dbl> & <dbl> & <dbl> & <dbl> & <fct>\\\\\n",
       "\\hline\n",
       "\t1 & 5.1 & 3.5 & 1.4 & 0.2 & setosa\\\\\n",
       "\t2 & 4.9 & 3.0 & 1.4 & 0.2 & setosa\\\\\n",
       "\t3 & 4.7 & 3.2 & 1.3 & 0.2 & setosa\\\\\n",
       "\t4 & 4.6 & 3.1 & 1.5 & 0.2 & setosa\\\\\n",
       "\t5 & 5.0 & 3.6 & 1.4 & 0.2 & setosa\\\\\n",
       "\t6 & 5.4 & 3.9 & 1.7 & 0.4 & setosa\\\\\n",
       "\\end{tabular}\n"
      ],
      "text/markdown": [
       "\n",
       "A data.frame: 6 × 5\n",
       "\n",
       "| <!--/--> | Sepal.Length &lt;dbl&gt; | Sepal.Width &lt;dbl&gt; | Petal.Length &lt;dbl&gt; | Petal.Width &lt;dbl&gt; | Species &lt;fct&gt; |\n",
       "|---|---|---|---|---|---|\n",
       "| 1 | 5.1 | 3.5 | 1.4 | 0.2 | setosa |\n",
       "| 2 | 4.9 | 3.0 | 1.4 | 0.2 | setosa |\n",
       "| 3 | 4.7 | 3.2 | 1.3 | 0.2 | setosa |\n",
       "| 4 | 4.6 | 3.1 | 1.5 | 0.2 | setosa |\n",
       "| 5 | 5.0 | 3.6 | 1.4 | 0.2 | setosa |\n",
       "| 6 | 5.4 | 3.9 | 1.7 | 0.4 | setosa |\n",
       "\n"
      ],
      "text/plain": [
       "  Sepal.Length Sepal.Width Petal.Length Petal.Width Species\n",
       "1 5.1          3.5         1.4          0.2         setosa \n",
       "2 4.9          3.0         1.4          0.2         setosa \n",
       "3 4.7          3.2         1.3          0.2         setosa \n",
       "4 4.6          3.1         1.5          0.2         setosa \n",
       "5 5.0          3.6         1.4          0.2         setosa \n",
       "6 5.4          3.9         1.7          0.4         setosa "
      ]
     },
     "metadata": {
      "tags": []
     },
     "output_type": "display_data"
    }
   ],
   "source": [
    "# look at full data set\n",
    "head(dat)\n",
    "\n",
    "# look at just a certain range of variables\n",
    "dat  %>% \n",
    "    select(Sepal.Length:Species) %>%\n",
    "    head()  #note: this is an inclusive range (first and last variables included)"
   ]
  },
  {
   "cell_type": "markdown",
   "metadata": {},
   "source": [
    "The tidyverse also has something called **tidy selection** which makes it easy to \"batch\" select based on patterns in variable names. For example, we can use `starts_with()` to select all columns starting with \"Petal\":"
   ]
  },
  {
   "cell_type": "code",
   "execution_count": 13,
   "metadata": {},
   "outputs": [
    {
     "data": {
      "text/html": [
       "<table class=\"dataframe\">\n",
       "<caption>A data.frame: 6 × 2</caption>\n",
       "<thead>\n",
       "\t<tr><th></th><th scope=col>Petal.Length</th><th scope=col>Petal.Width</th></tr>\n",
       "\t<tr><th></th><th scope=col>&lt;dbl&gt;</th><th scope=col>&lt;dbl&gt;</th></tr>\n",
       "</thead>\n",
       "<tbody>\n",
       "\t<tr><th scope=row>1</th><td>1.4</td><td>0.2</td></tr>\n",
       "\t<tr><th scope=row>2</th><td>1.4</td><td>0.2</td></tr>\n",
       "\t<tr><th scope=row>3</th><td>1.3</td><td>0.2</td></tr>\n",
       "\t<tr><th scope=row>4</th><td>1.5</td><td>0.2</td></tr>\n",
       "\t<tr><th scope=row>5</th><td>1.4</td><td>0.2</td></tr>\n",
       "\t<tr><th scope=row>6</th><td>1.7</td><td>0.4</td></tr>\n",
       "</tbody>\n",
       "</table>\n"
      ],
      "text/latex": [
       "A data.frame: 6 × 2\n",
       "\\begin{tabular}{r|ll}\n",
       "  & Petal.Length & Petal.Width\\\\\n",
       "  & <dbl> & <dbl>\\\\\n",
       "\\hline\n",
       "\t1 & 1.4 & 0.2\\\\\n",
       "\t2 & 1.4 & 0.2\\\\\n",
       "\t3 & 1.3 & 0.2\\\\\n",
       "\t4 & 1.5 & 0.2\\\\\n",
       "\t5 & 1.4 & 0.2\\\\\n",
       "\t6 & 1.7 & 0.4\\\\\n",
       "\\end{tabular}\n"
      ],
      "text/markdown": [
       "\n",
       "A data.frame: 6 × 2\n",
       "\n",
       "| <!--/--> | Petal.Length &lt;dbl&gt; | Petal.Width &lt;dbl&gt; |\n",
       "|---|---|---|\n",
       "| 1 | 1.4 | 0.2 |\n",
       "| 2 | 1.4 | 0.2 |\n",
       "| 3 | 1.3 | 0.2 |\n",
       "| 4 | 1.5 | 0.2 |\n",
       "| 5 | 1.4 | 0.2 |\n",
       "| 6 | 1.7 | 0.4 |\n",
       "\n"
      ],
      "text/plain": [
       "  Petal.Length Petal.Width\n",
       "1 1.4          0.2        \n",
       "2 1.4          0.2        \n",
       "3 1.3          0.2        \n",
       "4 1.5          0.2        \n",
       "5 1.4          0.2        \n",
       "6 1.7          0.4        "
      ]
     },
     "metadata": {},
     "output_type": "display_data"
    }
   ],
   "source": [
    "dat  %>% \n",
    "    select(starts_with(\"Petal\")) %>% \n",
    "    head()"
   ]
  },
  {
   "cell_type": "markdown",
   "metadata": {},
   "source": [
    "Other selection helpers include `ends_with()`, `contains()`, `matches()` and `num_range()`. Learn more with `?tidyselect::ends_with()`."
   ]
  },
  {
   "cell_type": "markdown",
   "metadata": {
    "id": "IH9yxLQB0ZAZ"
   },
   "source": [
    "## `arrange()`: Sorting the data.frame by columns"
   ]
  },
  {
   "cell_type": "markdown",
   "metadata": {
    "id": "5Pztgqld0ZAZ"
   },
   "source": [
    "If you want to sort your data.frame by one or more columns you can use the `arrange()` command, where you list the variables in the order in which you want the sorting to occur. The default is to sort by ascending order for each variable. If you want to sort by descending order for one of them, you can surround the variable in the `desc()` command. Let's sort the flowers by species, and then within each species, by descending petal length:"
   ]
  },
  {
   "cell_type": "code",
   "execution_count": null,
   "metadata": {
    "colab": {
     "base_uri": "https://localhost:8080/",
     "height": 207
    },
    "executionInfo": {
     "elapsed": 2605,
     "status": "ok",
     "timestamp": 1611095670551,
     "user": {
      "displayName": "Patience Stevens",
      "photoUrl": "https://lh3.googleusercontent.com/a-/AOh14Gi-_9ZqhIFhAv1oMehJNvNuIKSTyrFQHzjxQKhx=s64",
      "userId": "01994571539255174942"
     },
     "user_tz": 300
    },
    "id": "ju148EdW0ZAZ",
    "outputId": "f382bf99-4cb8-443a-f5f4-84c9ff47bd00"
   },
   "outputs": [
    {
     "data": {
      "text/html": [
       "<table>\n",
       "<caption>A data.frame: 6 × 8</caption>\n",
       "<thead>\n",
       "\t<tr><th></th><th scope=col>Sepal.Length</th><th scope=col>Sepal.Width</th><th scope=col>Petal.Length</th><th scope=col>Petal.Width</th><th scope=col>Species</th><th scope=col>centered_SepLen</th><th scope=col>PetLen_zscores</th><th scope=col>n_flowers</th></tr>\n",
       "\t<tr><th></th><th scope=col>&lt;dbl&gt;</th><th scope=col>&lt;dbl&gt;</th><th scope=col>&lt;dbl&gt;</th><th scope=col>&lt;dbl&gt;</th><th scope=col>&lt;fct&gt;</th><th scope=col>&lt;dbl&gt;</th><th scope=col>&lt;dbl&gt;</th><th scope=col>&lt;int&gt;</th></tr>\n",
       "</thead>\n",
       "<tbody>\n",
       "\t<tr><th scope=row>1</th><td>4.8</td><td>3.4</td><td>1.9</td><td>0.2</td><td>setosa</td><td>-1.0433333</td><td>-1.052513</td><td>150</td></tr>\n",
       "\t<tr><th scope=row>2</th><td>5.1</td><td>3.8</td><td>1.9</td><td>0.4</td><td>setosa</td><td>-0.7433333</td><td>-1.052513</td><td>150</td></tr>\n",
       "\t<tr><th scope=row>3</th><td>5.4</td><td>3.9</td><td>1.7</td><td>0.4</td><td>setosa</td><td>-0.4433333</td><td>-1.165809</td><td>150</td></tr>\n",
       "\t<tr><th scope=row>4</th><td>5.7</td><td>3.8</td><td>1.7</td><td>0.3</td><td>setosa</td><td>-0.1433333</td><td>-1.165809</td><td>150</td></tr>\n",
       "\t<tr><th scope=row>5</th><td>5.4</td><td>3.4</td><td>1.7</td><td>0.2</td><td>setosa</td><td>-0.4433333</td><td>-1.165809</td><td>150</td></tr>\n",
       "\t<tr><th scope=row>6</th><td>5.1</td><td>3.3</td><td>1.7</td><td>0.5</td><td>setosa</td><td>-0.7433333</td><td>-1.165809</td><td>150</td></tr>\n",
       "</tbody>\n",
       "</table>\n"
      ],
      "text/latex": [
       "A data.frame: 6 × 8\n",
       "\\begin{tabular}{r|llllllll}\n",
       "  & Sepal.Length & Sepal.Width & Petal.Length & Petal.Width & Species & centered\\_SepLen & PetLen\\_zscores & n\\_flowers\\\\\n",
       "  & <dbl> & <dbl> & <dbl> & <dbl> & <fct> & <dbl> & <dbl> & <int>\\\\\n",
       "\\hline\n",
       "\t1 & 4.8 & 3.4 & 1.9 & 0.2 & setosa & -1.0433333 & -1.052513 & 150\\\\\n",
       "\t2 & 5.1 & 3.8 & 1.9 & 0.4 & setosa & -0.7433333 & -1.052513 & 150\\\\\n",
       "\t3 & 5.4 & 3.9 & 1.7 & 0.4 & setosa & -0.4433333 & -1.165809 & 150\\\\\n",
       "\t4 & 5.7 & 3.8 & 1.7 & 0.3 & setosa & -0.1433333 & -1.165809 & 150\\\\\n",
       "\t5 & 5.4 & 3.4 & 1.7 & 0.2 & setosa & -0.4433333 & -1.165809 & 150\\\\\n",
       "\t6 & 5.1 & 3.3 & 1.7 & 0.5 & setosa & -0.7433333 & -1.165809 & 150\\\\\n",
       "\\end{tabular}\n"
      ],
      "text/markdown": [
       "\n",
       "A data.frame: 6 × 8\n",
       "\n",
       "| <!--/--> | Sepal.Length &lt;dbl&gt; | Sepal.Width &lt;dbl&gt; | Petal.Length &lt;dbl&gt; | Petal.Width &lt;dbl&gt; | Species &lt;fct&gt; | centered_SepLen &lt;dbl&gt; | PetLen_zscores &lt;dbl&gt; | n_flowers &lt;int&gt; |\n",
       "|---|---|---|---|---|---|---|---|---|\n",
       "| 1 | 4.8 | 3.4 | 1.9 | 0.2 | setosa | -1.0433333 | -1.052513 | 150 |\n",
       "| 2 | 5.1 | 3.8 | 1.9 | 0.4 | setosa | -0.7433333 | -1.052513 | 150 |\n",
       "| 3 | 5.4 | 3.9 | 1.7 | 0.4 | setosa | -0.4433333 | -1.165809 | 150 |\n",
       "| 4 | 5.7 | 3.8 | 1.7 | 0.3 | setosa | -0.1433333 | -1.165809 | 150 |\n",
       "| 5 | 5.4 | 3.4 | 1.7 | 0.2 | setosa | -0.4433333 | -1.165809 | 150 |\n",
       "| 6 | 5.1 | 3.3 | 1.7 | 0.5 | setosa | -0.7433333 | -1.165809 | 150 |\n",
       "\n"
      ],
      "text/plain": [
       "  Sepal.Length Sepal.Width Petal.Length Petal.Width Species centered_SepLen\n",
       "1 4.8          3.4         1.9          0.2         setosa  -1.0433333     \n",
       "2 5.1          3.8         1.9          0.4         setosa  -0.7433333     \n",
       "3 5.4          3.9         1.7          0.4         setosa  -0.4433333     \n",
       "4 5.7          3.8         1.7          0.3         setosa  -0.1433333     \n",
       "5 5.4          3.4         1.7          0.2         setosa  -0.4433333     \n",
       "6 5.1          3.3         1.7          0.5         setosa  -0.7433333     \n",
       "  PetLen_zscores n_flowers\n",
       "1 -1.052513      150      \n",
       "2 -1.052513      150      \n",
       "3 -1.165809      150      \n",
       "4 -1.165809      150      \n",
       "5 -1.165809      150      \n",
       "6 -1.165809      150      "
      ]
     },
     "metadata": {
      "tags": []
     },
     "output_type": "display_data"
    }
   ],
   "source": [
    "dat %>% \n",
    "    arrange(Species, desc(Petal.Length)) %>%\n",
    "    head()\n",
    "\n",
    "#dat  %>% \n",
    "#    arrange(desc(Species), desc(Petal.Length)) %>%\n",
    "#    head()"
   ]
  },
  {
   "cell_type": "markdown",
   "metadata": {
    "id": "pRhRKPghWoqn"
   },
   "source": [
    "Note: since the `Species` variable is a factor, not a numeric variable, it will be sorted by the order listed by `levels(dat$Species)`. You can test this out by uncommenting the second line in the code cell above - since the flowers are now sorted in the reverse `Species` order, the first six rows shown by `head()` are now virginica, not setosa. "
   ]
  },
  {
   "cell_type": "markdown",
   "metadata": {
    "id": "za8IdRYR0ZAZ"
   },
   "source": [
    "## `unite()`: Combine/concatenate values from two columns into one"
   ]
  },
  {
   "cell_type": "markdown",
   "metadata": {
    "id": "5FmR7HHxYVTV"
   },
   "source": [
    "Let's say flowers with short petals are fundamentally different from those with long petals. I'm going to make a new categorical variable, `PetalType`, that can either be \"long\" or \"short\". *To learn more about the `if_else()` function used below, type `?if_else`.*"
   ]
  },
  {
   "cell_type": "code",
   "execution_count": 22,
   "metadata": {
    "colab": {
     "base_uri": "https://localhost:8080/",
     "height": 627
    },
    "executionInfo": {
     "elapsed": 2589,
     "status": "ok",
     "timestamp": 1611095670552,
     "user": {
      "displayName": "Patience Stevens",
      "photoUrl": "https://lh3.googleusercontent.com/a-/AOh14Gi-_9ZqhIFhAv1oMehJNvNuIKSTyrFQHzjxQKhx=s64",
      "userId": "01994571539255174942"
     },
     "user_tz": 300
    },
    "id": "VP2I_EOIYrm-",
    "outputId": "3ba25c34-0f8b-4a82-80bc-83a1d314711b"
   },
   "outputs": [
    {
     "data": {
      "text/html": [
       "<table class=\"dataframe\">\n",
       "<caption>A data.frame: 6 × 6</caption>\n",
       "<thead>\n",
       "\t<tr><th></th><th scope=col>Sepal.Length</th><th scope=col>Sepal.Width</th><th scope=col>Petal.Length</th><th scope=col>Petal.Width</th><th scope=col>Species</th><th scope=col>PetalType</th></tr>\n",
       "\t<tr><th></th><th scope=col>&lt;dbl&gt;</th><th scope=col>&lt;dbl&gt;</th><th scope=col>&lt;dbl&gt;</th><th scope=col>&lt;dbl&gt;</th><th scope=col>&lt;fct&gt;</th><th scope=col>&lt;chr&gt;</th></tr>\n",
       "</thead>\n",
       "<tbody>\n",
       "\t<tr><th scope=row>1</th><td>5.1</td><td>3.5</td><td>1.4</td><td>0.2</td><td>setosa</td><td>short</td></tr>\n",
       "\t<tr><th scope=row>2</th><td>4.9</td><td>3.0</td><td>1.4</td><td>0.2</td><td>setosa</td><td>short</td></tr>\n",
       "\t<tr><th scope=row>3</th><td>4.7</td><td>3.2</td><td>1.3</td><td>0.2</td><td>setosa</td><td>short</td></tr>\n",
       "\t<tr><th scope=row>4</th><td>4.6</td><td>3.1</td><td>1.5</td><td>0.2</td><td>setosa</td><td>short</td></tr>\n",
       "\t<tr><th scope=row>5</th><td>5.0</td><td>3.6</td><td>1.4</td><td>0.2</td><td>setosa</td><td>short</td></tr>\n",
       "\t<tr><th scope=row>6</th><td>5.4</td><td>3.9</td><td>1.7</td><td>0.4</td><td>setosa</td><td>short</td></tr>\n",
       "</tbody>\n",
       "</table>\n"
      ],
      "text/latex": [
       "A data.frame: 6 × 6\n",
       "\\begin{tabular}{r|llllll}\n",
       "  & Sepal.Length & Sepal.Width & Petal.Length & Petal.Width & Species & PetalType\\\\\n",
       "  & <dbl> & <dbl> & <dbl> & <dbl> & <fct> & <chr>\\\\\n",
       "\\hline\n",
       "\t1 & 5.1 & 3.5 & 1.4 & 0.2 & setosa & short\\\\\n",
       "\t2 & 4.9 & 3.0 & 1.4 & 0.2 & setosa & short\\\\\n",
       "\t3 & 4.7 & 3.2 & 1.3 & 0.2 & setosa & short\\\\\n",
       "\t4 & 4.6 & 3.1 & 1.5 & 0.2 & setosa & short\\\\\n",
       "\t5 & 5.0 & 3.6 & 1.4 & 0.2 & setosa & short\\\\\n",
       "\t6 & 5.4 & 3.9 & 1.7 & 0.4 & setosa & short\\\\\n",
       "\\end{tabular}\n"
      ],
      "text/markdown": [
       "\n",
       "A data.frame: 6 × 6\n",
       "\n",
       "| <!--/--> | Sepal.Length &lt;dbl&gt; | Sepal.Width &lt;dbl&gt; | Petal.Length &lt;dbl&gt; | Petal.Width &lt;dbl&gt; | Species &lt;fct&gt; | PetalType &lt;chr&gt; |\n",
       "|---|---|---|---|---|---|---|\n",
       "| 1 | 5.1 | 3.5 | 1.4 | 0.2 | setosa | short |\n",
       "| 2 | 4.9 | 3.0 | 1.4 | 0.2 | setosa | short |\n",
       "| 3 | 4.7 | 3.2 | 1.3 | 0.2 | setosa | short |\n",
       "| 4 | 4.6 | 3.1 | 1.5 | 0.2 | setosa | short |\n",
       "| 5 | 5.0 | 3.6 | 1.4 | 0.2 | setosa | short |\n",
       "| 6 | 5.4 | 3.9 | 1.7 | 0.4 | setosa | short |\n",
       "\n"
      ],
      "text/plain": [
       "  Sepal.Length Sepal.Width Petal.Length Petal.Width Species PetalType\n",
       "1 5.1          3.5         1.4          0.2         setosa  short    \n",
       "2 4.9          3.0         1.4          0.2         setosa  short    \n",
       "3 4.7          3.2         1.3          0.2         setosa  short    \n",
       "4 4.6          3.1         1.5          0.2         setosa  short    \n",
       "5 5.0          3.6         1.4          0.2         setosa  short    \n",
       "6 5.4          3.9         1.7          0.4         setosa  short    "
      ]
     },
     "metadata": {},
     "output_type": "display_data"
    },
    {
     "data": {
      "image/png": "[encoded data removed]",
      "text/plain": [
       "Plot with title “Number of flowers for each PetalType”"
      ]
     },
     "metadata": {
      "image/png": {
       "height": 420,
       "width": 420
      }
     },
     "output_type": "display_data"
    }
   ],
   "source": [
    "dat <- dat  %>%  \n",
    "    mutate(PetalType = if_else(Petal.Length > mean(Petal.Length),\"long\",\"short\"))\n",
    "\n",
    "barplot(table(dat$PetalType), main= \"Number of flowers for each PetalType\")\n",
    "\n",
    "head(dat)"
   ]
  },
  {
   "cell_type": "markdown",
   "metadata": {
    "id": "q5xy1F8u0ZAZ"
   },
   "source": [
    "Right now `Species` and `PetalType` are two different variables. Let's say for some reason you want a new variable that specifies both, e.g. 'short virginica', 'long setosa', etc. This is often useful when you are plotting and you want to use a color to denote each combination of two variables, instead of using a combination of colors and shapes. You can combine variables with the `unite()` command, which takes the arguments `unite(new_var, input1, input2)`. The `remove = FALSE` means it won't remove the two input variables. This is set to `TRUE` by default."
   ]
  },
  {
   "cell_type": "code",
   "execution_count": 23,
   "metadata": {
    "colab": {
     "base_uri": "https://localhost:8080/",
     "height": 207
    },
    "executionInfo": {
     "elapsed": 2573,
     "status": "ok",
     "timestamp": 1611095670553,
     "user": {
      "displayName": "Patience Stevens",
      "photoUrl": "https://lh3.googleusercontent.com/a-/AOh14Gi-_9ZqhIFhAv1oMehJNvNuIKSTyrFQHzjxQKhx=s64",
      "userId": "01994571539255174942"
     },
     "user_tz": 300
    },
    "id": "pZEnK09-0ZAa",
    "outputId": "21bf1919-bd37-4aee-bde4-41c92ba5593b"
   },
   "outputs": [
    {
     "data": {
      "text/html": [
       "<table class=\"dataframe\">\n",
       "<caption>A data.frame: 6 × 7</caption>\n",
       "<thead>\n",
       "\t<tr><th></th><th scope=col>Sepal.Length</th><th scope=col>Sepal.Width</th><th scope=col>Petal.Length</th><th scope=col>Petal.Width</th><th scope=col>Combined_var</th><th scope=col>Species</th><th scope=col>PetalType</th></tr>\n",
       "\t<tr><th></th><th scope=col>&lt;dbl&gt;</th><th scope=col>&lt;dbl&gt;</th><th scope=col>&lt;dbl&gt;</th><th scope=col>&lt;dbl&gt;</th><th scope=col>&lt;chr&gt;</th><th scope=col>&lt;fct&gt;</th><th scope=col>&lt;chr&gt;</th></tr>\n",
       "</thead>\n",
       "<tbody>\n",
       "\t<tr><th scope=row>1</th><td>5.1</td><td>3.5</td><td>1.4</td><td>0.2</td><td>setosa_short</td><td>setosa</td><td>short</td></tr>\n",
       "\t<tr><th scope=row>2</th><td>4.9</td><td>3.0</td><td>1.4</td><td>0.2</td><td>setosa_short</td><td>setosa</td><td>short</td></tr>\n",
       "\t<tr><th scope=row>3</th><td>4.7</td><td>3.2</td><td>1.3</td><td>0.2</td><td>setosa_short</td><td>setosa</td><td>short</td></tr>\n",
       "\t<tr><th scope=row>4</th><td>4.6</td><td>3.1</td><td>1.5</td><td>0.2</td><td>setosa_short</td><td>setosa</td><td>short</td></tr>\n",
       "\t<tr><th scope=row>5</th><td>5.0</td><td>3.6</td><td>1.4</td><td>0.2</td><td>setosa_short</td><td>setosa</td><td>short</td></tr>\n",
       "\t<tr><th scope=row>6</th><td>5.4</td><td>3.9</td><td>1.7</td><td>0.4</td><td>setosa_short</td><td>setosa</td><td>short</td></tr>\n",
       "</tbody>\n",
       "</table>\n"
      ],
      "text/latex": [
       "A data.frame: 6 × 7\n",
       "\\begin{tabular}{r|lllllll}\n",
       "  & Sepal.Length & Sepal.Width & Petal.Length & Petal.Width & Combined\\_var & Species & PetalType\\\\\n",
       "  & <dbl> & <dbl> & <dbl> & <dbl> & <chr> & <fct> & <chr>\\\\\n",
       "\\hline\n",
       "\t1 & 5.1 & 3.5 & 1.4 & 0.2 & setosa\\_short & setosa & short\\\\\n",
       "\t2 & 4.9 & 3.0 & 1.4 & 0.2 & setosa\\_short & setosa & short\\\\\n",
       "\t3 & 4.7 & 3.2 & 1.3 & 0.2 & setosa\\_short & setosa & short\\\\\n",
       "\t4 & 4.6 & 3.1 & 1.5 & 0.2 & setosa\\_short & setosa & short\\\\\n",
       "\t5 & 5.0 & 3.6 & 1.4 & 0.2 & setosa\\_short & setosa & short\\\\\n",
       "\t6 & 5.4 & 3.9 & 1.7 & 0.4 & setosa\\_short & setosa & short\\\\\n",
       "\\end{tabular}\n"
      ],
      "text/markdown": [
       "\n",
       "A data.frame: 6 × 7\n",
       "\n",
       "| <!--/--> | Sepal.Length &lt;dbl&gt; | Sepal.Width &lt;dbl&gt; | Petal.Length &lt;dbl&gt; | Petal.Width &lt;dbl&gt; | Combined_var &lt;chr&gt; | Species &lt;fct&gt; | PetalType &lt;chr&gt; |\n",
       "|---|---|---|---|---|---|---|---|\n",
       "| 1 | 5.1 | 3.5 | 1.4 | 0.2 | setosa_short | setosa | short |\n",
       "| 2 | 4.9 | 3.0 | 1.4 | 0.2 | setosa_short | setosa | short |\n",
       "| 3 | 4.7 | 3.2 | 1.3 | 0.2 | setosa_short | setosa | short |\n",
       "| 4 | 4.6 | 3.1 | 1.5 | 0.2 | setosa_short | setosa | short |\n",
       "| 5 | 5.0 | 3.6 | 1.4 | 0.2 | setosa_short | setosa | short |\n",
       "| 6 | 5.4 | 3.9 | 1.7 | 0.4 | setosa_short | setosa | short |\n",
       "\n"
      ],
      "text/plain": [
       "  Sepal.Length Sepal.Width Petal.Length Petal.Width Combined_var Species\n",
       "1 5.1          3.5         1.4          0.2         setosa_short setosa \n",
       "2 4.9          3.0         1.4          0.2         setosa_short setosa \n",
       "3 4.7          3.2         1.3          0.2         setosa_short setosa \n",
       "4 4.6          3.1         1.5          0.2         setosa_short setosa \n",
       "5 5.0          3.6         1.4          0.2         setosa_short setosa \n",
       "6 5.4          3.9         1.7          0.4         setosa_short setosa \n",
       "  PetalType\n",
       "1 short    \n",
       "2 short    \n",
       "3 short    \n",
       "4 short    \n",
       "5 short    \n",
       "6 short    "
      ]
     },
     "metadata": {},
     "output_type": "display_data"
    }
   ],
   "source": [
    "dat <- dat %>% \n",
    "      unite(Combined_var, Species, PetalType, remove=FALSE)\n",
    "head(dat)"
   ]
  },
  {
   "cell_type": "markdown",
   "metadata": {
    "id": "xS_M3Z2q0ZAa"
   },
   "source": [
    "With `mutate()`, you can also specify the separator (by default it is '\\_') and whether to remove the original variables. Check the help section for more on how to do this (`?unite`). Note that in the commented section of the cell above, I generated the new variable and the combined variable all at once. "
   ]
  },
  {
   "cell_type": "markdown",
   "metadata": {
    "id": "1A9LI6580ZAa"
   },
   "source": [
    "## `separate()`: Split variable into multiple variables"
   ]
  },
  {
   "cell_type": "markdown",
   "metadata": {
    "id": "-tl2-rOw0ZAa"
   },
   "source": [
    "The reverse of the operation above is called `separate()`. It becomes useful, for example, if you have the name of participants stored in one variable, but you want to separate it into First and Last name. For the illustration, I will just reverse the above example (adding 1 to the new variables, to distinguish them from the existing Species and PetalType variables):"
   ]
  },
  {
   "cell_type": "code",
   "execution_count": 24,
   "metadata": {
    "colab": {
     "base_uri": "https://localhost:8080/",
     "height": 207
    },
    "executionInfo": {
     "elapsed": 2558,
     "status": "ok",
     "timestamp": 1611095670554,
     "user": {
      "displayName": "Patience Stevens",
      "photoUrl": "https://lh3.googleusercontent.com/a-/AOh14Gi-_9ZqhIFhAv1oMehJNvNuIKSTyrFQHzjxQKhx=s64",
      "userId": "01994571539255174942"
     },
     "user_tz": 300
    },
    "id": "kM6DbKC50ZAa",
    "outputId": "eec54e8d-c108-47d4-e6b2-d424e34d749a",
    "scrolled": true
   },
   "outputs": [
    {
     "data": {
      "text/html": [
       "<table class=\"dataframe\">\n",
       "<caption>A data.frame: 6 × 8</caption>\n",
       "<thead>\n",
       "\t<tr><th></th><th scope=col>Sepal.Length</th><th scope=col>Sepal.Width</th><th scope=col>Petal.Length</th><th scope=col>Petal.Width</th><th scope=col>Species1</th><th scope=col>PetalType1</th><th scope=col>Species</th><th scope=col>PetalType</th></tr>\n",
       "\t<tr><th></th><th scope=col>&lt;dbl&gt;</th><th scope=col>&lt;dbl&gt;</th><th scope=col>&lt;dbl&gt;</th><th scope=col>&lt;dbl&gt;</th><th scope=col>&lt;chr&gt;</th><th scope=col>&lt;chr&gt;</th><th scope=col>&lt;fct&gt;</th><th scope=col>&lt;chr&gt;</th></tr>\n",
       "</thead>\n",
       "<tbody>\n",
       "\t<tr><th scope=row>1</th><td>5.1</td><td>3.5</td><td>1.4</td><td>0.2</td><td>setosa</td><td>short</td><td>setosa</td><td>short</td></tr>\n",
       "\t<tr><th scope=row>2</th><td>4.9</td><td>3.0</td><td>1.4</td><td>0.2</td><td>setosa</td><td>short</td><td>setosa</td><td>short</td></tr>\n",
       "\t<tr><th scope=row>3</th><td>4.7</td><td>3.2</td><td>1.3</td><td>0.2</td><td>setosa</td><td>short</td><td>setosa</td><td>short</td></tr>\n",
       "\t<tr><th scope=row>4</th><td>4.6</td><td>3.1</td><td>1.5</td><td>0.2</td><td>setosa</td><td>short</td><td>setosa</td><td>short</td></tr>\n",
       "\t<tr><th scope=row>5</th><td>5.0</td><td>3.6</td><td>1.4</td><td>0.2</td><td>setosa</td><td>short</td><td>setosa</td><td>short</td></tr>\n",
       "\t<tr><th scope=row>6</th><td>5.4</td><td>3.9</td><td>1.7</td><td>0.4</td><td>setosa</td><td>short</td><td>setosa</td><td>short</td></tr>\n",
       "</tbody>\n",
       "</table>\n"
      ],
      "text/latex": [
       "A data.frame: 6 × 8\n",
       "\\begin{tabular}{r|llllllll}\n",
       "  & Sepal.Length & Sepal.Width & Petal.Length & Petal.Width & Species1 & PetalType1 & Species & PetalType\\\\\n",
       "  & <dbl> & <dbl> & <dbl> & <dbl> & <chr> & <chr> & <fct> & <chr>\\\\\n",
       "\\hline\n",
       "\t1 & 5.1 & 3.5 & 1.4 & 0.2 & setosa & short & setosa & short\\\\\n",
       "\t2 & 4.9 & 3.0 & 1.4 & 0.2 & setosa & short & setosa & short\\\\\n",
       "\t3 & 4.7 & 3.2 & 1.3 & 0.2 & setosa & short & setosa & short\\\\\n",
       "\t4 & 4.6 & 3.1 & 1.5 & 0.2 & setosa & short & setosa & short\\\\\n",
       "\t5 & 5.0 & 3.6 & 1.4 & 0.2 & setosa & short & setosa & short\\\\\n",
       "\t6 & 5.4 & 3.9 & 1.7 & 0.4 & setosa & short & setosa & short\\\\\n",
       "\\end{tabular}\n"
      ],
      "text/markdown": [
       "\n",
       "A data.frame: 6 × 8\n",
       "\n",
       "| <!--/--> | Sepal.Length &lt;dbl&gt; | Sepal.Width &lt;dbl&gt; | Petal.Length &lt;dbl&gt; | Petal.Width &lt;dbl&gt; | Species1 &lt;chr&gt; | PetalType1 &lt;chr&gt; | Species &lt;fct&gt; | PetalType &lt;chr&gt; |\n",
       "|---|---|---|---|---|---|---|---|---|\n",
       "| 1 | 5.1 | 3.5 | 1.4 | 0.2 | setosa | short | setosa | short |\n",
       "| 2 | 4.9 | 3.0 | 1.4 | 0.2 | setosa | short | setosa | short |\n",
       "| 3 | 4.7 | 3.2 | 1.3 | 0.2 | setosa | short | setosa | short |\n",
       "| 4 | 4.6 | 3.1 | 1.5 | 0.2 | setosa | short | setosa | short |\n",
       "| 5 | 5.0 | 3.6 | 1.4 | 0.2 | setosa | short | setosa | short |\n",
       "| 6 | 5.4 | 3.9 | 1.7 | 0.4 | setosa | short | setosa | short |\n",
       "\n"
      ],
      "text/plain": [
       "  Sepal.Length Sepal.Width Petal.Length Petal.Width Species1 PetalType1 Species\n",
       "1 5.1          3.5         1.4          0.2         setosa   short      setosa \n",
       "2 4.9          3.0         1.4          0.2         setosa   short      setosa \n",
       "3 4.7          3.2         1.3          0.2         setosa   short      setosa \n",
       "4 4.6          3.1         1.5          0.2         setosa   short      setosa \n",
       "5 5.0          3.6         1.4          0.2         setosa   short      setosa \n",
       "6 5.4          3.9         1.7          0.4         setosa   short      setosa \n",
       "  PetalType\n",
       "1 short    \n",
       "2 short    \n",
       "3 short    \n",
       "4 short    \n",
       "5 short    \n",
       "6 short    "
      ]
     },
     "metadata": {},
     "output_type": "display_data"
    }
   ],
   "source": [
    "dat <- dat  %>% \n",
    "    separate(Combined_var, into=c('Species1', 'PetalType1')) #separate combined var into the 2 original variables \n",
    "head(dat)"
   ]
  },
  {
   "cell_type": "markdown",
   "metadata": {
    "id": "0qnJTfjleG2v"
   },
   "source": [
    "Like with `unite()`, you can specify the character you want `separate()` to split. For example, splitting at \" \" instead of at the default \"_\" for the First, Last name example. See `?separate` for more info."
   ]
  },
  {
   "cell_type": "markdown",
   "metadata": {
    "id": "TKlDT_I-0ZAa"
   },
   "source": [
    "## `group_by()`: Group data by a variable & perform operations individually by group"
   ]
  },
  {
   "cell_type": "markdown",
   "metadata": {
    "id": "6WFQokKg0ZAa"
   },
   "source": [
    "In the filtering example in section 4.3, we saw how to subset the data.frame separately for different species, and then to calculate the summaries. This is inefficient and also creates two separate data.frames. While you can join them manually afterwards, there is a much easier way with the **`group_by`** command.\n",
    "\n",
    "When you pass a data.frame to a **group_by** command, you can specify names of variables, by which to split the data.frame. For example, if we specify the `Species` and `PetalType` variables in the group_by command, the data.frame will be **_implicitly_** split into 4 data.frames - one for each combination of species and petal type (note that there are only 2 species for `cleaned_dat` now because we got rid of the \"setosa\" species in section 4.3). E.g.:"
   ]
  },
  {
   "cell_type": "code",
   "execution_count": 25,
   "metadata": {
    "colab": {
     "base_uri": "https://localhost:8080/"
    },
    "executionInfo": {
     "elapsed": 2544,
     "status": "ok",
     "timestamp": 1611095670555,
     "user": {
      "displayName": "Patience Stevens",
      "photoUrl": "https://lh3.googleusercontent.com/a-/AOh14Gi-_9ZqhIFhAv1oMehJNvNuIKSTyrFQHzjxQKhx=s64",
      "userId": "01994571539255174942"
     },
     "user_tz": 300
    },
    "id": "E6KlSAS90ZAb",
    "outputId": "767de59d-39ff-48b5-dd28-e0569d4338f7"
   },
   "outputs": [
    {
     "name": "stdout",
     "output_type": "stream",
     "text": [
      "\u001b[90m# A tibble: 100 × 6\u001b[39m\n",
      "\u001b[90m# Groups:   Species, PetalType [4]\u001b[39m\n",
      "   Sepal.Length Sepal.Width Petal.Length Petal.Width Species    PetalType\n",
      "          \u001b[3m\u001b[90m<dbl>\u001b[39m\u001b[23m       \u001b[3m\u001b[90m<dbl>\u001b[39m\u001b[23m        \u001b[3m\u001b[90m<dbl>\u001b[39m\u001b[23m       \u001b[3m\u001b[90m<dbl>\u001b[39m\u001b[23m \u001b[3m\u001b[90m<fct>\u001b[39m\u001b[23m      \u001b[3m\u001b[90m<chr>\u001b[39m\u001b[23m    \n",
      "\u001b[90m 1\u001b[39m          7           3.2          4.7         1.4 versicolor short    \n",
      "\u001b[90m 2\u001b[39m          6.4         3.2          4.5         1.5 versicolor short    \n",
      "\u001b[90m 3\u001b[39m          6.9         3.1          4.9         1.5 versicolor short    \n",
      "\u001b[90m 4\u001b[39m          5.5         2.3          4           1.3 versicolor short    \n",
      "\u001b[90m 5\u001b[39m          6.5         2.8          4.6         1.5 versicolor short    \n",
      "\u001b[90m 6\u001b[39m          5.7         2.8          4.5         1.3 versicolor short    \n",
      "\u001b[90m 7\u001b[39m          6.3         3.3          4.7         1.6 versicolor short    \n",
      "\u001b[90m 8\u001b[39m          4.9         2.4          3.3         1   versicolor short    \n",
      "\u001b[90m 9\u001b[39m          6.6         2.9          4.6         1.3 versicolor short    \n",
      "\u001b[90m10\u001b[39m          5.2         2.7          3.9         1.4 versicolor short    \n",
      "\u001b[90m# … with 90 more rows\u001b[39m\n"
     ]
    }
   ],
   "source": [
    "# this creates the PetalType variable for cleaned_dat\n",
    "cleaned_dat <- cleaned_dat %>%  \n",
    "    mutate(PetalType = if_else(Petal.Length > mean(Petal.Length),\"long\",\"short\")) \n",
    "\n",
    "cleaned_dat %>% \n",
    "    group_by(Species, PetalType) %>%\n",
    "    print()"
   ]
  },
  {
   "cell_type": "markdown",
   "metadata": {
    "id": "DcONDAd00ZAb"
   },
   "source": [
    "Now, the key is that the split is implicit - as you can see above, we still only have one data.frame, but now it has the specification:\n",
    "\n",
    "`# Groups:   Species, PetalType [4]`\n",
    "\n",
    "Every function that you add after `group_by()`, will be evaluated separately for each group, and then the results will be combined. Let's say you want to calculate the mean and sd for `Sepal.Length` and `Sepal.Width` separately for the four groups:"
   ]
  },
  {
   "cell_type": "code",
   "execution_count": 32,
   "metadata": {
    "colab": {
     "base_uri": "https://localhost:8080/",
     "height": 199
    },
    "executionInfo": {
     "elapsed": 2530,
     "status": "ok",
     "timestamp": 1611095670557,
     "user": {
      "displayName": "Patience Stevens",
      "photoUrl": "https://lh3.googleusercontent.com/a-/AOh14Gi-_9ZqhIFhAv1oMehJNvNuIKSTyrFQHzjxQKhx=s64",
      "userId": "01994571539255174942"
     },
     "user_tz": 300
    },
    "id": "_UxGcbX80ZAb",
    "outputId": "cc9a7607-fd6a-441f-c16e-7a2973626fdb"
   },
   "outputs": [
    {
     "name": "stderr",
     "output_type": "stream",
     "text": [
      "\u001b[1m\u001b[22m`summarise()` has grouped output by 'Species'. You can override using the\n",
      "`.groups` argument.\n"
     ]
    },
    {
     "data": {
      "text/html": [
       "<table class=\"dataframe\">\n",
       "<caption>A grouped_df: 4 × 6</caption>\n",
       "<thead>\n",
       "\t<tr><th scope=col>Species</th><th scope=col>PetalType</th><th scope=col>SepLen_mean</th><th scope=col>SepLen_sd</th><th scope=col>SepWid_mean</th><th scope=col>SepWid_sd</th></tr>\n",
       "\t<tr><th scope=col>&lt;fct&gt;</th><th scope=col>&lt;chr&gt;</th><th scope=col>&lt;dbl&gt;</th><th scope=col>&lt;dbl&gt;</th><th scope=col>&lt;dbl&gt;</th><th scope=col>&lt;dbl&gt;</th></tr>\n",
       "</thead>\n",
       "<tbody>\n",
       "\t<tr><td>versicolor</td><td>long </td><td>6.350000</td><td>0.4949747</td><td>2.850000</td><td>0.4949747</td></tr>\n",
       "\t<tr><td>versicolor</td><td>short</td><td>5.918750</td><td>0.5147428</td><td>2.766667</td><td>0.5147428</td></tr>\n",
       "\t<tr><td>virginica </td><td>long </td><td>6.688636</td><td>0.5851718</td><td>2.997727</td><td>0.5851718</td></tr>\n",
       "\t<tr><td>virginica </td><td>short</td><td>5.850000</td><td>0.5244044</td><td>2.800000</td><td>0.5244044</td></tr>\n",
       "</tbody>\n",
       "</table>\n"
      ],
      "text/latex": [
       "A grouped\\_df: 4 × 6\n",
       "\\begin{tabular}{llllll}\n",
       " Species & PetalType & SepLen\\_mean & SepLen\\_sd & SepWid\\_mean & SepWid\\_sd\\\\\n",
       " <fct> & <chr> & <dbl> & <dbl> & <dbl> & <dbl>\\\\\n",
       "\\hline\n",
       "\t versicolor & long  & 6.350000 & 0.4949747 & 2.850000 & 0.4949747\\\\\n",
       "\t versicolor & short & 5.918750 & 0.5147428 & 2.766667 & 0.5147428\\\\\n",
       "\t virginica  & long  & 6.688636 & 0.5851718 & 2.997727 & 0.5851718\\\\\n",
       "\t virginica  & short & 5.850000 & 0.5244044 & 2.800000 & 0.5244044\\\\\n",
       "\\end{tabular}\n"
      ],
      "text/markdown": [
       "\n",
       "A grouped_df: 4 × 6\n",
       "\n",
       "| Species &lt;fct&gt; | PetalType &lt;chr&gt; | SepLen_mean &lt;dbl&gt; | SepLen_sd &lt;dbl&gt; | SepWid_mean &lt;dbl&gt; | SepWid_sd &lt;dbl&gt; |\n",
       "|---|---|---|---|---|---|\n",
       "| versicolor | long  | 6.350000 | 0.4949747 | 2.850000 | 0.4949747 |\n",
       "| versicolor | short | 5.918750 | 0.5147428 | 2.766667 | 0.5147428 |\n",
       "| virginica  | long  | 6.688636 | 0.5851718 | 2.997727 | 0.5851718 |\n",
       "| virginica  | short | 5.850000 | 0.5244044 | 2.800000 | 0.5244044 |\n",
       "\n"
      ],
      "text/plain": [
       "  Species    PetalType SepLen_mean SepLen_sd SepWid_mean SepWid_sd\n",
       "1 versicolor long      6.350000    0.4949747 2.850000    0.4949747\n",
       "2 versicolor short     5.918750    0.5147428 2.766667    0.5147428\n",
       "3 virginica  long      6.688636    0.5851718 2.997727    0.5851718\n",
       "4 virginica  short     5.850000    0.5244044 2.800000    0.5244044"
      ]
     },
     "metadata": {},
     "output_type": "display_data"
    },
    {
     "name": "stderr",
     "output_type": "stream",
     "text": [
      "\u001b[1m\u001b[22m`summarise()` has grouped output by 'PetalType'. You can override using the\n",
      "`.groups` argument.\n"
     ]
    },
    {
     "data": {
      "text/html": [
       "<table class=\"dataframe\">\n",
       "<caption>A grouped_df: 4 × 6</caption>\n",
       "<thead>\n",
       "\t<tr><th scope=col>PetalType</th><th scope=col>Species</th><th scope=col>SepLen_mean</th><th scope=col>SepLen_sd</th><th scope=col>SepWid_mean</th><th scope=col>SepWid_sd</th></tr>\n",
       "\t<tr><th scope=col>&lt;chr&gt;</th><th scope=col>&lt;fct&gt;</th><th scope=col>&lt;dbl&gt;</th><th scope=col>&lt;dbl&gt;</th><th scope=col>&lt;dbl&gt;</th><th scope=col>&lt;dbl&gt;</th></tr>\n",
       "</thead>\n",
       "<tbody>\n",
       "\t<tr><td>long </td><td>versicolor</td><td>6.350000</td><td>0.4949747</td><td>2.850000</td><td>0.4949747</td></tr>\n",
       "\t<tr><td>long </td><td>virginica </td><td>6.688636</td><td>0.5851718</td><td>2.997727</td><td>0.5851718</td></tr>\n",
       "\t<tr><td>short</td><td>versicolor</td><td>5.918750</td><td>0.5147428</td><td>2.766667</td><td>0.5147428</td></tr>\n",
       "\t<tr><td>short</td><td>virginica </td><td>5.850000</td><td>0.5244044</td><td>2.800000</td><td>0.5244044</td></tr>\n",
       "</tbody>\n",
       "</table>\n"
      ],
      "text/latex": [
       "A grouped\\_df: 4 × 6\n",
       "\\begin{tabular}{llllll}\n",
       " PetalType & Species & SepLen\\_mean & SepLen\\_sd & SepWid\\_mean & SepWid\\_sd\\\\\n",
       " <chr> & <fct> & <dbl> & <dbl> & <dbl> & <dbl>\\\\\n",
       "\\hline\n",
       "\t long  & versicolor & 6.350000 & 0.4949747 & 2.850000 & 0.4949747\\\\\n",
       "\t long  & virginica  & 6.688636 & 0.5851718 & 2.997727 & 0.5851718\\\\\n",
       "\t short & versicolor & 5.918750 & 0.5147428 & 2.766667 & 0.5147428\\\\\n",
       "\t short & virginica  & 5.850000 & 0.5244044 & 2.800000 & 0.5244044\\\\\n",
       "\\end{tabular}\n"
      ],
      "text/markdown": [
       "\n",
       "A grouped_df: 4 × 6\n",
       "\n",
       "| PetalType &lt;chr&gt; | Species &lt;fct&gt; | SepLen_mean &lt;dbl&gt; | SepLen_sd &lt;dbl&gt; | SepWid_mean &lt;dbl&gt; | SepWid_sd &lt;dbl&gt; |\n",
       "|---|---|---|---|---|---|\n",
       "| long  | versicolor | 6.350000 | 0.4949747 | 2.850000 | 0.4949747 |\n",
       "| long  | virginica  | 6.688636 | 0.5851718 | 2.997727 | 0.5851718 |\n",
       "| short | versicolor | 5.918750 | 0.5147428 | 2.766667 | 0.5147428 |\n",
       "| short | virginica  | 5.850000 | 0.5244044 | 2.800000 | 0.5244044 |\n",
       "\n"
      ],
      "text/plain": [
       "  PetalType Species    SepLen_mean SepLen_sd SepWid_mean SepWid_sd\n",
       "1 long      versicolor 6.350000    0.4949747 2.850000    0.4949747\n",
       "2 long      virginica  6.688636    0.5851718 2.997727    0.5851718\n",
       "3 short     versicolor 5.918750    0.5147428 2.766667    0.5147428\n",
       "4 short     virginica  5.850000    0.5244044 2.800000    0.5244044"
      ]
     },
     "metadata": {},
     "output_type": "display_data"
    }
   ],
   "source": [
    "cleaned_dat  %>% \n",
    "    group_by(Species, PetalType)  %>% \n",
    "    summarise(SepLen_mean = mean(Sepal.Length),\n",
    "              SepLen_sd = sd(Sepal.Length),\n",
    "              SepWid_mean = mean(Sepal.Width),\n",
    "              SepWid_sd = sd(Sepal.Length))\n"
   ]
  },
  {
   "cell_type": "markdown",
   "metadata": {
    "id": "P2EDfqdQ0ZAb"
   },
   "source": [
    "And that's all the code you need. If you have tried to do something like this in base R (i.e., without `dplyr` commands), you know how involved it is! `dplyr` can make your code **much** cleaner. What is going on behind the scenes is that the data.frame is separated into multiple data.frames, one for each combination of variables. Then the `summarise` function is executed on each, and the resulting 4 data.frames are automatically combined into a new resulting data.frame.\n",
    "\n",
    "Note that the order by which you group variables matters. You can ungroup using `ungroup()`.\n",
    "\n",
    "The `group_by` command works not only with `summarise`, but also with `mutate`. While with `summarise` it creates a new data.frame with summary results, with `mutate` it creates a new variable that is calculated separately for each group, and then combined into the final data.frame. This is useful, when, for example, we want to standardize variables within groups. Earlier we saw how to subtract the overall mean of `Sepal.Length` to center a variable. Let's say that we want to subtract the mean `Sepal.Length` of each species only from the flowers in that species. So, for our example we can do:"
   ]
  },
  {
   "cell_type": "code",
   "execution_count": 30,
   "metadata": {
    "colab": {
     "base_uri": "https://localhost:8080/",
     "height": 207
    },
    "executionInfo": {
     "elapsed": 2736,
     "status": "ok",
     "timestamp": 1611095670778,
     "user": {
      "displayName": "Patience Stevens",
      "photoUrl": "https://lh3.googleusercontent.com/a-/AOh14Gi-_9ZqhIFhAv1oMehJNvNuIKSTyrFQHzjxQKhx=s64",
      "userId": "01994571539255174942"
     },
     "user_tz": 300
    },
    "id": "5tlnhAp30ZAc",
    "outputId": "80e278a1-e092-4fc5-f657-fcd6bda08d4f"
   },
   "outputs": [
    {
     "data": {
      "text/html": [
       "<table class=\"dataframe\">\n",
       "<caption>A grouped_df: 6 × 3</caption>\n",
       "<thead>\n",
       "\t<tr><th scope=col>Species</th><th scope=col>SepLen_centered_overall</th><th scope=col>SepLen_centered_byspecies</th></tr>\n",
       "\t<tr><th scope=col>&lt;fct&gt;</th><th scope=col>&lt;dbl&gt;</th><th scope=col>&lt;dbl&gt;</th></tr>\n",
       "</thead>\n",
       "<tbody>\n",
       "\t<tr><td>setosa</td><td>-0.7433333</td><td> 0.094</td></tr>\n",
       "\t<tr><td>setosa</td><td>-0.9433333</td><td>-0.106</td></tr>\n",
       "\t<tr><td>setosa</td><td>-1.1433333</td><td>-0.306</td></tr>\n",
       "\t<tr><td>setosa</td><td>-1.2433333</td><td>-0.406</td></tr>\n",
       "\t<tr><td>setosa</td><td>-0.8433333</td><td>-0.006</td></tr>\n",
       "\t<tr><td>setosa</td><td>-0.4433333</td><td> 0.394</td></tr>\n",
       "</tbody>\n",
       "</table>\n"
      ],
      "text/latex": [
       "A grouped\\_df: 6 × 3\n",
       "\\begin{tabular}{lll}\n",
       " Species & SepLen\\_centered\\_overall & SepLen\\_centered\\_byspecies\\\\\n",
       " <fct> & <dbl> & <dbl>\\\\\n",
       "\\hline\n",
       "\t setosa & -0.7433333 &  0.094\\\\\n",
       "\t setosa & -0.9433333 & -0.106\\\\\n",
       "\t setosa & -1.1433333 & -0.306\\\\\n",
       "\t setosa & -1.2433333 & -0.406\\\\\n",
       "\t setosa & -0.8433333 & -0.006\\\\\n",
       "\t setosa & -0.4433333 &  0.394\\\\\n",
       "\\end{tabular}\n"
      ],
      "text/markdown": [
       "\n",
       "A grouped_df: 6 × 3\n",
       "\n",
       "| Species &lt;fct&gt; | SepLen_centered_overall &lt;dbl&gt; | SepLen_centered_byspecies &lt;dbl&gt; |\n",
       "|---|---|---|\n",
       "| setosa | -0.7433333 |  0.094 |\n",
       "| setosa | -0.9433333 | -0.106 |\n",
       "| setosa | -1.1433333 | -0.306 |\n",
       "| setosa | -1.2433333 | -0.406 |\n",
       "| setosa | -0.8433333 | -0.006 |\n",
       "| setosa | -0.4433333 |  0.394 |\n",
       "\n"
      ],
      "text/plain": [
       "  Species SepLen_centered_overall SepLen_centered_byspecies\n",
       "1 setosa  -0.7433333               0.094                   \n",
       "2 setosa  -0.9433333              -0.106                   \n",
       "3 setosa  -1.1433333              -0.306                   \n",
       "4 setosa  -1.2433333              -0.406                   \n",
       "5 setosa  -0.8433333              -0.006                   \n",
       "6 setosa  -0.4433333               0.394                   "
      ]
     },
     "metadata": {},
     "output_type": "display_data"
    }
   ],
   "source": [
    "dat  %>% \n",
    " #center values by mean for all data:\n",
    " mutate(SepLen_centered_overall = Sepal.Length - mean(Sepal.Length)) %>% \n",
    " group_by(Species)  %>% \n",
    " #center values by mean for each species:\n",
    " mutate(SepLen_centered_byspecies = Sepal.Length - mean(Sepal.Length)) %>% \n",
    " #just show the relevant variables (there are a lot of variables in this data.frame now!):\n",
    " select(Species, SepLen_centered_overall:SepLen_centered_byspecies) %>% \n",
    " head()"
   ]
  },
  {
   "cell_type": "markdown",
   "metadata": {
    "id": "zIrqCevU0ZAc"
   },
   "source": [
    "The second column above gives us the sepal lengths centered over the whole sample, while the third line, even though it looks the same, gives us the sepal lengths centered separately for each species. To illustrate, I will plot the means for each species under the two centerings (don't worry about the code if you don't know `ggplot2` yet):"
   ]
  },
  {
   "cell_type": "code",
   "execution_count": 31,
   "metadata": {
    "colab": {
     "base_uri": "https://localhost:8080/",
     "height": 437
    },
    "executionInfo": {
     "elapsed": 579,
     "status": "ok",
     "timestamp": 1611095726181,
     "user": {
      "displayName": "Patience Stevens",
      "photoUrl": "https://lh3.googleusercontent.com/a-/AOh14Gi-_9ZqhIFhAv1oMehJNvNuIKSTyrFQHzjxQKhx=s64",
      "userId": "01994571539255174942"
     },
     "user_tz": 300
    },
    "id": "c0HLucst0ZAc",
    "outputId": "7c332eac-0011-4ec9-9ea3-44e6d756205a"
   },
   "outputs": [
    {
     "data": {
      "image/png": "[encoded data removed]",
      "text/plain": [
       "plot without title"
      ]
     },
     "metadata": {
      "image/png": {
       "height": 420,
       "width": 420
      }
     },
     "output_type": "display_data"
    }
   ],
   "source": [
    "dat  %>% \n",
    " mutate(SepLen_centered_overall = Sepal.Length - mean(Sepal.Length))  %>%\n",
    " group_by(Species)  %>% \n",
    " mutate(SepLen_centered_byspecies = Sepal.Length - mean(Sepal.Length))  %>% \n",
    " gather(key = centering_type, value = SepLen_centered, SepLen_centered_overall, SepLen_centered_byspecies)  %>% \n",
    " ggplot(aes(Species, SepLen_centered, color=centering_type)) +\n",
    "    stat_summary(geom='point',fun=mean) +\n",
    "    theme_classic()"
   ]
  },
  {
   "cell_type": "markdown",
   "metadata": {
    "id": "NB9JgDMR0ZAc"
   },
   "source": [
    "This plot makes sense, because if you're calculating `SepLen_centering_byspecies` by subtracting the species mean from each `Sepal.Length` value, the mean of the new values should be 0 for every species. Meanwhile, the `SepLen_centering_overall` values were calculated by subtracting the same amount from all `Sepal.Length` values, regardless of species, so we still see variation for these means across species.\n",
    "\n",
    "There are a lot of other handy uses for `group_by`, which will be covered in future tutorials. "
   ]
  },
  {
   "cell_type": "markdown",
   "metadata": {},
   "source": [
    "# `nest()`: Explicitly grouping data"
   ]
  },
  {
   "cell_type": "markdown",
   "metadata": {},
   "source": [
    "Recall from above that `group_by()` implicitly grouped our data: when we printed the dataframe, everything looked the same except for a small `Groups:   Species, PetalType [4]` message.\n",
    "\n",
    "`nest()` functions similarly to `group_by()`, except it makes these groupings explicit. That is, it takes the subset of data associated with a certain grouping, and *nests* it within a single cell. That's right, it puts a whole data frame (ok technically a tibble) in a single cell.\n",
    "\n",
    "Replicating our example from above:"
   ]
  },
  {
   "cell_type": "code",
   "execution_count": 40,
   "metadata": {},
   "outputs": [
    {
     "data": {
      "text/html": [
       "<table class=\"dataframe\">\n",
       "<caption>A data.frame: 6 × 6</caption>\n",
       "<thead>\n",
       "\t<tr><th></th><th scope=col>Sepal.Length</th><th scope=col>Sepal.Width</th><th scope=col>Petal.Length</th><th scope=col>Petal.Width</th><th scope=col>Species</th><th scope=col>PetalType</th></tr>\n",
       "\t<tr><th></th><th scope=col>&lt;dbl&gt;</th><th scope=col>&lt;dbl&gt;</th><th scope=col>&lt;dbl&gt;</th><th scope=col>&lt;dbl&gt;</th><th scope=col>&lt;fct&gt;</th><th scope=col>&lt;chr&gt;</th></tr>\n",
       "</thead>\n",
       "<tbody>\n",
       "\t<tr><th scope=row>1</th><td>7.0</td><td>3.2</td><td>4.7</td><td>1.4</td><td>versicolor</td><td>short</td></tr>\n",
       "\t<tr><th scope=row>2</th><td>6.4</td><td>3.2</td><td>4.5</td><td>1.5</td><td>versicolor</td><td>short</td></tr>\n",
       "\t<tr><th scope=row>3</th><td>6.9</td><td>3.1</td><td>4.9</td><td>1.5</td><td>versicolor</td><td>short</td></tr>\n",
       "\t<tr><th scope=row>4</th><td>5.5</td><td>2.3</td><td>4.0</td><td>1.3</td><td>versicolor</td><td>short</td></tr>\n",
       "\t<tr><th scope=row>5</th><td>6.5</td><td>2.8</td><td>4.6</td><td>1.5</td><td>versicolor</td><td>short</td></tr>\n",
       "\t<tr><th scope=row>6</th><td>5.7</td><td>2.8</td><td>4.5</td><td>1.3</td><td>versicolor</td><td>short</td></tr>\n",
       "</tbody>\n",
       "</table>\n"
      ],
      "text/latex": [
       "A data.frame: 6 × 6\n",
       "\\begin{tabular}{r|llllll}\n",
       "  & Sepal.Length & Sepal.Width & Petal.Length & Petal.Width & Species & PetalType\\\\\n",
       "  & <dbl> & <dbl> & <dbl> & <dbl> & <fct> & <chr>\\\\\n",
       "\\hline\n",
       "\t1 & 7.0 & 3.2 & 4.7 & 1.4 & versicolor & short\\\\\n",
       "\t2 & 6.4 & 3.2 & 4.5 & 1.5 & versicolor & short\\\\\n",
       "\t3 & 6.9 & 3.1 & 4.9 & 1.5 & versicolor & short\\\\\n",
       "\t4 & 5.5 & 2.3 & 4.0 & 1.3 & versicolor & short\\\\\n",
       "\t5 & 6.5 & 2.8 & 4.6 & 1.5 & versicolor & short\\\\\n",
       "\t6 & 5.7 & 2.8 & 4.5 & 1.3 & versicolor & short\\\\\n",
       "\\end{tabular}\n"
      ],
      "text/markdown": [
       "\n",
       "A data.frame: 6 × 6\n",
       "\n",
       "| <!--/--> | Sepal.Length &lt;dbl&gt; | Sepal.Width &lt;dbl&gt; | Petal.Length &lt;dbl&gt; | Petal.Width &lt;dbl&gt; | Species &lt;fct&gt; | PetalType &lt;chr&gt; |\n",
       "|---|---|---|---|---|---|---|\n",
       "| 1 | 7.0 | 3.2 | 4.7 | 1.4 | versicolor | short |\n",
       "| 2 | 6.4 | 3.2 | 4.5 | 1.5 | versicolor | short |\n",
       "| 3 | 6.9 | 3.1 | 4.9 | 1.5 | versicolor | short |\n",
       "| 4 | 5.5 | 2.3 | 4.0 | 1.3 | versicolor | short |\n",
       "| 5 | 6.5 | 2.8 | 4.6 | 1.5 | versicolor | short |\n",
       "| 6 | 5.7 | 2.8 | 4.5 | 1.3 | versicolor | short |\n",
       "\n"
      ],
      "text/plain": [
       "  Sepal.Length Sepal.Width Petal.Length Petal.Width Species    PetalType\n",
       "1 7.0          3.2         4.7          1.4         versicolor short    \n",
       "2 6.4          3.2         4.5          1.5         versicolor short    \n",
       "3 6.9          3.1         4.9          1.5         versicolor short    \n",
       "4 5.5          2.3         4.0          1.3         versicolor short    \n",
       "5 6.5          2.8         4.6          1.5         versicolor short    \n",
       "6 5.7          2.8         4.5          1.3         versicolor short    "
      ]
     },
     "metadata": {},
     "output_type": "display_data"
    }
   ],
   "source": [
    "head(cleaned_dat)"
   ]
  },
  {
   "cell_type": "code",
   "execution_count": 48,
   "metadata": {
    "scrolled": true
   },
   "outputs": [
    {
     "name": "stdout",
     "output_type": "stream",
     "text": [
      "\u001b[90m# A tibble: 2 × 2\u001b[39m\n",
      "  Species    data             \n",
      "  \u001b[3m\u001b[90m<fct>\u001b[39m\u001b[23m      \u001b[3m\u001b[90m<list>\u001b[39m\u001b[23m           \n",
      "\u001b[90m1\u001b[39m versicolor \u001b[90m<tibble [50 × 5]>\u001b[39m\n",
      "\u001b[90m2\u001b[39m virginica  \u001b[90m<tibble [50 × 5]>\u001b[39m\n"
     ]
    }
   ],
   "source": [
    "nested  <- cleaned_dat %>% \n",
    "    nest(data = c(Sepal.Length:Petal.Width, PetalType)) %>%\n",
    "    print()"
   ]
  },
  {
   "cell_type": "markdown",
   "metadata": {},
   "source": [
    "Notice under \"data\", we have a 50 x 5 tibble for each species of iris. Let's see what's really in cell [1, 2]:"
   ]
  },
  {
   "cell_type": "code",
   "execution_count": 50,
   "metadata": {},
   "outputs": [
    {
     "data": {
      "text/html": [
       "<table class=\"dataframe\">\n",
       "<caption>A tibble: 1 × 1</caption>\n",
       "<thead>\n",
       "\t<tr><th scope=col>data</th></tr>\n",
       "\t<tr><th scope=col>&lt;list&gt;</th></tr>\n",
       "</thead>\n",
       "<tbody>\n",
       "\t<tr><td>7    , 6.4  , 6.9  , 5.5  , 6.5  , 5.7  , 6.3  , 4.9  , 6.6  , 5.2  , 5    , 5.9  , 6    , 6.1  , 5.6  , 6.7  , 5.6  , 5.8  , 6.2  , 5.6  , 5.9  , 6.1  , 6.3  , 6.1  , 6.4  , 6.6  , 6.8  , 6.7  , 6    , 5.7  , 5.5  , 5.5  , 5.8  , 6    , 5.4  , 6    , 6.7  , 6.3  , 5.6  , 5.5  , 5.5  , 6.1  , 5.8  , 5    , 5.6  , 5.7  , 5.7  , 6.2  , 5.1  , 5.7  , 3.2  , 3.2  , 3.1  , 2.3  , 2.8  , 2.8  , 3.3  , 2.4  , 2.9  , 2.7  , 2    , 3    , 2.2  , 2.9  , 2.9  , 3.1  , 3    , 2.7  , 2.2  , 2.5  , 3.2  , 2.8  , 2.5  , 2.8  , 2.9  , 3    , 2.8  , 3    , 2.9  , 2.6  , 2.4  , 2.4  , 2.7  , 2.7  , 3    , 3.4  , 3.1  , 2.3  , 3    , 2.5  , 2.6  , 3    , 2.6  , 2.3  , 2.7  , 3    , 2.9  , 2.9  , 2.5  , 2.8  , 4.7  , 4.5  , 4.9  , 4    , 4.6  , 4.5  , 4.7  , 3.3  , 4.6  , 3.9  , 3.5  , 4.2  , 4    , 4.7  , 3.6  , 4.4  , 4.5  , 4.1  , 4.5  , 3.9  , 4.8  , 4    , 4.9  , 4.7  , 4.3  , 4.4  , 4.8  , 5    , 4.5  , 3.5  , 3.8  , 3.7  , 3.9  , 5.1  , 4.5  , 4.5  , 4.7  , 4.4  , 4.1  , 4    , 4.4  , 4.6  , 4    , 3.3  , 4.2  , 4.2  , 4.2  , 4.3  , 3    , 4.1  , 1.4  , 1.5  , 1.5  , 1.3  , 1.5  , 1.3  , 1.6  , 1    , 1.3  , 1.4  , 1    , 1.5  , 1    , 1.4  , 1.3  , 1.4  , 1.5  , 1    , 1.5  , 1.1  , 1.8  , 1.3  , 1.5  , 1.2  , 1.3  , 1.4  , 1.4  , 1.7  , 1.5  , 1    , 1.1  , 1    , 1.2  , 1.6  , 1.5  , 1.6  , 1.5  , 1.3  , 1.3  , 1.3  , 1.2  , 1.4  , 1.2  , 1    , 1.3  , 1.2  , 1.3  , 1.3  , 1.1  , 1.3  , short, short, short, short, short, short, short, short, short, short, short, short, short, short, short, short, short, short, short, short, short, short, short, short, short, short, short, long , short, short, short, short, short, long , short, short, short, short, short, short, short, short, short, short, short, short, short, short, short, short</td></tr>\n",
       "</tbody>\n",
       "</table>\n"
      ],
      "text/latex": [
       "A tibble: 1 × 1\n",
       "\\begin{tabular}{l}\n",
       " data\\\\\n",
       " <list>\\\\\n",
       "\\hline\n",
       "\t 7    , 6.4  , 6.9  , 5.5  , 6.5  , 5.7  , 6.3  , 4.9  , 6.6  , 5.2  , 5    , 5.9  , 6    , 6.1  , 5.6  , 6.7  , 5.6  , 5.8  , 6.2  , 5.6  , 5.9  , 6.1  , 6.3  , 6.1  , 6.4  , 6.6  , 6.8  , 6.7  , 6    , 5.7  , 5.5  , 5.5  , 5.8  , 6    , 5.4  , 6    , 6.7  , 6.3  , 5.6  , 5.5  , 5.5  , 6.1  , 5.8  , 5    , 5.6  , 5.7  , 5.7  , 6.2  , 5.1  , 5.7  , 3.2  , 3.2  , 3.1  , 2.3  , 2.8  , 2.8  , 3.3  , 2.4  , 2.9  , 2.7  , 2    , 3    , 2.2  , 2.9  , 2.9  , 3.1  , 3    , 2.7  , 2.2  , 2.5  , 3.2  , 2.8  , 2.5  , 2.8  , 2.9  , 3    , 2.8  , 3    , 2.9  , 2.6  , 2.4  , 2.4  , 2.7  , 2.7  , 3    , 3.4  , 3.1  , 2.3  , 3    , 2.5  , 2.6  , 3    , 2.6  , 2.3  , 2.7  , 3    , 2.9  , 2.9  , 2.5  , 2.8  , 4.7  , 4.5  , 4.9  , 4    , 4.6  , 4.5  , 4.7  , 3.3  , 4.6  , 3.9  , 3.5  , 4.2  , 4    , 4.7  , 3.6  , 4.4  , 4.5  , 4.1  , 4.5  , 3.9  , 4.8  , 4    , 4.9  , 4.7  , 4.3  , 4.4  , 4.8  , 5    , 4.5  , 3.5  , 3.8  , 3.7  , 3.9  , 5.1  , 4.5  , 4.5  , 4.7  , 4.4  , 4.1  , 4    , 4.4  , 4.6  , 4    , 3.3  , 4.2  , 4.2  , 4.2  , 4.3  , 3    , 4.1  , 1.4  , 1.5  , 1.5  , 1.3  , 1.5  , 1.3  , 1.6  , 1    , 1.3  , 1.4  , 1    , 1.5  , 1    , 1.4  , 1.3  , 1.4  , 1.5  , 1    , 1.5  , 1.1  , 1.8  , 1.3  , 1.5  , 1.2  , 1.3  , 1.4  , 1.4  , 1.7  , 1.5  , 1    , 1.1  , 1    , 1.2  , 1.6  , 1.5  , 1.6  , 1.5  , 1.3  , 1.3  , 1.3  , 1.2  , 1.4  , 1.2  , 1    , 1.3  , 1.2  , 1.3  , 1.3  , 1.1  , 1.3  , short, short, short, short, short, short, short, short, short, short, short, short, short, short, short, short, short, short, short, short, short, short, short, short, short, short, short, long , short, short, short, short, short, long , short, short, short, short, short, short, short, short, short, short, short, short, short, short, short, short\\\\\n",
       "\\end{tabular}\n"
      ],
      "text/markdown": [
       "\n",
       "A tibble: 1 × 1\n",
       "\n",
       "| data &lt;list&gt; |\n",
       "|---|\n",
       "| 7    , 6.4  , 6.9  , 5.5  , 6.5  , 5.7  , 6.3  , 4.9  , 6.6  , 5.2  , 5    , 5.9  , 6    , 6.1  , 5.6  , 6.7  , 5.6  , 5.8  , 6.2  , 5.6  , 5.9  , 6.1  , 6.3  , 6.1  , 6.4  , 6.6  , 6.8  , 6.7  , 6    , 5.7  , 5.5  , 5.5  , 5.8  , 6    , 5.4  , 6    , 6.7  , 6.3  , 5.6  , 5.5  , 5.5  , 6.1  , 5.8  , 5    , 5.6  , 5.7  , 5.7  , 6.2  , 5.1  , 5.7  , 3.2  , 3.2  , 3.1  , 2.3  , 2.8  , 2.8  , 3.3  , 2.4  , 2.9  , 2.7  , 2    , 3    , 2.2  , 2.9  , 2.9  , 3.1  , 3    , 2.7  , 2.2  , 2.5  , 3.2  , 2.8  , 2.5  , 2.8  , 2.9  , 3    , 2.8  , 3    , 2.9  , 2.6  , 2.4  , 2.4  , 2.7  , 2.7  , 3    , 3.4  , 3.1  , 2.3  , 3    , 2.5  , 2.6  , 3    , 2.6  , 2.3  , 2.7  , 3    , 2.9  , 2.9  , 2.5  , 2.8  , 4.7  , 4.5  , 4.9  , 4    , 4.6  , 4.5  , 4.7  , 3.3  , 4.6  , 3.9  , 3.5  , 4.2  , 4    , 4.7  , 3.6  , 4.4  , 4.5  , 4.1  , 4.5  , 3.9  , 4.8  , 4    , 4.9  , 4.7  , 4.3  , 4.4  , 4.8  , 5    , 4.5  , 3.5  , 3.8  , 3.7  , 3.9  , 5.1  , 4.5  , 4.5  , 4.7  , 4.4  , 4.1  , 4    , 4.4  , 4.6  , 4    , 3.3  , 4.2  , 4.2  , 4.2  , 4.3  , 3    , 4.1  , 1.4  , 1.5  , 1.5  , 1.3  , 1.5  , 1.3  , 1.6  , 1    , 1.3  , 1.4  , 1    , 1.5  , 1    , 1.4  , 1.3  , 1.4  , 1.5  , 1    , 1.5  , 1.1  , 1.8  , 1.3  , 1.5  , 1.2  , 1.3  , 1.4  , 1.4  , 1.7  , 1.5  , 1    , 1.1  , 1    , 1.2  , 1.6  , 1.5  , 1.6  , 1.5  , 1.3  , 1.3  , 1.3  , 1.2  , 1.4  , 1.2  , 1    , 1.3  , 1.2  , 1.3  , 1.3  , 1.1  , 1.3  , short, short, short, short, short, short, short, short, short, short, short, short, short, short, short, short, short, short, short, short, short, short, short, short, short, short, short, long , short, short, short, short, short, long , short, short, short, short, short, short, short, short, short, short, short, short, short, short, short, short |\n",
       "\n"
      ],
      "text/plain": [
       "  data                                                                                                                                                                                                                                                                                                                                                                                                                                                                                                                                                                                                                                                                                                                                                                                                                                                                                                                                                                                                                                                                                                                                                                                                                                                                                                                                                                                                                                                                                                                                                                                                                                                                                                                                                                                                                \n",
       "1 7    , 6.4  , 6.9  , 5.5  , 6.5  , 5.7  , 6.3  , 4.9  , 6.6  , 5.2  , 5    , 5.9  , 6    , 6.1  , 5.6  , 6.7  , 5.6  , 5.8  , 6.2  , 5.6  , 5.9  , 6.1  , 6.3  , 6.1  , 6.4  , 6.6  , 6.8  , 6.7  , 6    , 5.7  , 5.5  , 5.5  , 5.8  , 6    , 5.4  , 6    , 6.7  , 6.3  , 5.6  , 5.5  , 5.5  , 6.1  , 5.8  , 5    , 5.6  , 5.7  , 5.7  , 6.2  , 5.1  , 5.7  , 3.2  , 3.2  , 3.1  , 2.3  , 2.8  , 2.8  , 3.3  , 2.4  , 2.9  , 2.7  , 2    , 3    , 2.2  , 2.9  , 2.9  , 3.1  , 3    , 2.7  , 2.2  , 2.5  , 3.2  , 2.8  , 2.5  , 2.8  , 2.9  , 3    , 2.8  , 3    , 2.9  , 2.6  , 2.4  , 2.4  , 2.7  , 2.7  , 3    , 3.4  , 3.1  , 2.3  , 3    , 2.5  , 2.6  , 3    , 2.6  , 2.3  , 2.7  , 3    , 2.9  , 2.9  , 2.5  , 2.8  , 4.7  , 4.5  , 4.9  , 4    , 4.6  , 4.5  , 4.7  , 3.3  , 4.6  , 3.9  , 3.5  , 4.2  , 4    , 4.7  , 3.6  , 4.4  , 4.5  , 4.1  , 4.5  , 3.9  , 4.8  , 4    , 4.9  , 4.7  , 4.3  , 4.4  , 4.8  , 5    , 4.5  , 3.5  , 3.8  , 3.7  , 3.9  , 5.1  , 4.5  , 4.5  , 4.7  , 4.4  , 4.1  , 4    , 4.4  , 4.6  , 4    , 3.3  , 4.2  , 4.2  , 4.2  , 4.3  , 3    , 4.1  , 1.4  , 1.5  , 1.5  , 1.3  , 1.5  , 1.3  , 1.6  , 1    , 1.3  , 1.4  , 1    , 1.5  , 1    , 1.4  , 1.3  , 1.4  , 1.5  , 1    , 1.5  , 1.1  , 1.8  , 1.3  , 1.5  , 1.2  , 1.3  , 1.4  , 1.4  , 1.7  , 1.5  , 1    , 1.1  , 1    , 1.2  , 1.6  , 1.5  , 1.6  , 1.5  , 1.3  , 1.3  , 1.3  , 1.2  , 1.4  , 1.2  , 1    , 1.3  , 1.2  , 1.3  , 1.3  , 1.1  , 1.3  , short, short, short, short, short, short, short, short, short, short, short, short, short, short, short, short, short, short, short, short, short, short, short, short, short, short, short, long , short, short, short, short, short, long , short, short, short, short, short, short, short, short, short, short, short, short, short, short, short, short"
      ]
     },
     "metadata": {},
     "output_type": "display_data"
    }
   ],
   "source": [
    "nested[1,2]"
   ]
  },
  {
   "cell_type": "markdown",
   "metadata": {},
   "source": [
    "Not very pretty, but we can see all our data stored in there!\n",
    "\n",
    "In this example, we had to specify in the `data =` argument which columns we wanted to nest. Because we left out Species, this became our grouping variable, with all other data getting nested under the new `data` column.\n",
    "\n",
    "If we leave out both species and PetalType, we get more nests. This is analogous to grouping by multiple variables:"
   ]
  },
  {
   "cell_type": "code",
   "execution_count": 47,
   "metadata": {},
   "outputs": [
    {
     "name": "stdout",
     "output_type": "stream",
     "text": [
      "\u001b[90m# A tibble: 4 × 3\u001b[39m\n",
      "  Species    PetalType data             \n",
      "  \u001b[3m\u001b[90m<fct>\u001b[39m\u001b[23m      \u001b[3m\u001b[90m<chr>\u001b[39m\u001b[23m     \u001b[3m\u001b[90m<list>\u001b[39m\u001b[23m           \n",
      "\u001b[90m1\u001b[39m versicolor short     \u001b[90m<tibble [48 × 4]>\u001b[39m\n",
      "\u001b[90m2\u001b[39m versicolor long      \u001b[90m<tibble [2 × 4]>\u001b[39m \n",
      "\u001b[90m3\u001b[39m virginica  long      \u001b[90m<tibble [44 × 4]>\u001b[39m\n",
      "\u001b[90m4\u001b[39m virginica  short     \u001b[90m<tibble [6 × 4]>\u001b[39m \n"
     ]
    }
   ],
   "source": [
    "cleaned_dat %>% \n",
    "    nest(data = c(Sepal.Length:Petal.Width)) %>%\n",
    "    print()"
   ]
  },
  {
   "cell_type": "markdown",
   "metadata": {},
   "source": [
    "You can even combine `group_by()` with `nest()` to streamline the variable selection. The below will nest all variables aside from the `group_by()` variable:"
   ]
  },
  {
   "cell_type": "code",
   "execution_count": 39,
   "metadata": {},
   "outputs": [
    {
     "name": "stdout",
     "output_type": "stream",
     "text": [
      "\u001b[90m# A tibble: 2 × 2\u001b[39m\n",
      "\u001b[90m# Groups:   Species [2]\u001b[39m\n",
      "  Species    data             \n",
      "  \u001b[3m\u001b[90m<fct>\u001b[39m\u001b[23m      \u001b[3m\u001b[90m<list>\u001b[39m\u001b[23m           \n",
      "\u001b[90m1\u001b[39m versicolor \u001b[90m<tibble [50 × 5]>\u001b[39m\n",
      "\u001b[90m2\u001b[39m virginica  \u001b[90m<tibble [50 × 5]>\u001b[39m\n"
     ]
    }
   ],
   "source": [
    "cleaned_dat  %>% \n",
    "    group_by(Species) %>% \n",
    "    nest() %>% \n",
    "    print()"
   ]
  },
  {
   "cell_type": "markdown",
   "metadata": {},
   "source": [
    "Note that any variables supplied to the `nest()` function above will override the `group_by()` variables.\n",
    "\n",
    "So what is the difference between using `group_by()` versus `nest()`? For most of your operations, `group_by()` will probably be your go-to. However, `nest()` comes into play when the operations you need to perform over each group require a data frame as input (e.g., models). We'll see some examples of this below with `map()`."
   ]
  },
  {
   "cell_type": "markdown",
   "metadata": {
    "id": "Nzshj3o60ZAc"
   },
   "source": [
    "---\n",
    "# Restructuring data.frames - long to wide, wide to long, and merging"
   ]
  },
  {
   "cell_type": "markdown",
   "metadata": {
    "id": "7KCb-yDtnyUJ"
   },
   "source": [
    "Remember how in section 2 we talked about how it's better to have a single observation in each row, instead of multiple observations per row? In this section we'll use the `dplyr` functions `pivot_longer` (formerly `gather`) and `pivot_wider` (formerly `spread`) to switch between short and long forms of the data. We'll also try out combining data.frames using the `*_join` family of functions. \n",
    "\n",
    "The `iris` data set has multiple measurements per row, so it is currently in the \"wide\" format. To put it in long format, we can make each row only have one measurement, and then variables that specify whether that measurment is for \"sepal\" or \"petal\", \"length\" or \"width\". "
   ]
  },
  {
   "cell_type": "code",
   "execution_count": null,
   "metadata": {
    "colab": {
     "base_uri": "https://localhost:8080/",
     "height": 207
    },
    "executionInfo": {
     "elapsed": 285,
     "status": "ok",
     "timestamp": 1611099739020,
     "user": {
      "displayName": "Patience Stevens",
      "photoUrl": "https://lh3.googleusercontent.com/a-/AOh14Gi-_9ZqhIFhAv1oMehJNvNuIKSTyrFQHzjxQKhx=s64",
      "userId": "01994571539255174942"
     },
     "user_tz": 300
    },
    "id": "aRWGmwp9rkgI",
    "outputId": "843ab4f4-b87c-4ae8-ea44-6d38c4cd3b48"
   },
   "outputs": [
    {
     "data": {
      "text/html": [
       "<table>\n",
       "<caption>A data.frame: 6 × 4</caption>\n",
       "<thead>\n",
       "\t<tr><th></th><th scope=col>Species</th><th scope=col>flower.num</th><th scope=col>flower_att</th><th scope=col>measurement</th></tr>\n",
       "\t<tr><th></th><th scope=col>&lt;fct&gt;</th><th scope=col>&lt;int&gt;</th><th scope=col>&lt;chr&gt;</th><th scope=col>&lt;dbl&gt;</th></tr>\n",
       "</thead>\n",
       "<tbody>\n",
       "\t<tr><th scope=row>1</th><td>setosa</td><td>1</td><td>Sepal.Length</td><td>5.1</td></tr>\n",
       "\t<tr><th scope=row>2</th><td>setosa</td><td>2</td><td>Sepal.Length</td><td>4.9</td></tr>\n",
       "\t<tr><th scope=row>3</th><td>setosa</td><td>3</td><td>Sepal.Length</td><td>4.7</td></tr>\n",
       "\t<tr><th scope=row>4</th><td>setosa</td><td>4</td><td>Sepal.Length</td><td>4.6</td></tr>\n",
       "\t<tr><th scope=row>5</th><td>setosa</td><td>5</td><td>Sepal.Length</td><td>5.0</td></tr>\n",
       "\t<tr><th scope=row>6</th><td>setosa</td><td>6</td><td>Sepal.Length</td><td>5.4</td></tr>\n",
       "</tbody>\n",
       "</table>\n"
      ],
      "text/latex": [
       "A data.frame: 6 × 4\n",
       "\\begin{tabular}{r|llll}\n",
       "  & Species & flower.num & flower\\_att & measurement\\\\\n",
       "  & <fct> & <int> & <chr> & <dbl>\\\\\n",
       "\\hline\n",
       "\t1 & setosa & 1 & Sepal.Length & 5.1\\\\\n",
       "\t2 & setosa & 2 & Sepal.Length & 4.9\\\\\n",
       "\t3 & setosa & 3 & Sepal.Length & 4.7\\\\\n",
       "\t4 & setosa & 4 & Sepal.Length & 4.6\\\\\n",
       "\t5 & setosa & 5 & Sepal.Length & 5.0\\\\\n",
       "\t6 & setosa & 6 & Sepal.Length & 5.4\\\\\n",
       "\\end{tabular}\n"
      ],
      "text/markdown": [
       "\n",
       "A data.frame: 6 × 4\n",
       "\n",
       "| <!--/--> | Species &lt;fct&gt; | flower.num &lt;int&gt; | flower_att &lt;chr&gt; | measurement &lt;dbl&gt; |\n",
       "|---|---|---|---|---|\n",
       "| 1 | setosa | 1 | Sepal.Length | 5.1 |\n",
       "| 2 | setosa | 2 | Sepal.Length | 4.9 |\n",
       "| 3 | setosa | 3 | Sepal.Length | 4.7 |\n",
       "| 4 | setosa | 4 | Sepal.Length | 4.6 |\n",
       "| 5 | setosa | 5 | Sepal.Length | 5.0 |\n",
       "| 6 | setosa | 6 | Sepal.Length | 5.4 |\n",
       "\n"
      ],
      "text/plain": [
       "  Species flower.num flower_att   measurement\n",
       "1 setosa  1          Sepal.Length 5.1        \n",
       "2 setosa  2          Sepal.Length 4.9        \n",
       "3 setosa  3          Sepal.Length 4.7        \n",
       "4 setosa  4          Sepal.Length 4.6        \n",
       "5 setosa  5          Sepal.Length 5.0        \n",
       "6 setosa  6          Sepal.Length 5.4        "
      ]
     },
     "metadata": {
      "tags": []
     },
     "output_type": "display_data"
    }
   ],
   "source": [
    "newdat <- iris # new duplicate of iris dataset so we don't have to deal with all the messy variables we created\n",
    "newdat$flower.num <- 1:nrow(newdat) # like a participant ID, so we can put these back where they came from using \"spread\"\n",
    "newdat <- newdat %>%\n",
    "      gather(key=\"flower_att\",value=\"measurement\",\n",
    "      Sepal.Length, Sepal.Width, Petal.Length, Petal.Width)\n",
    "head(newdat)\n",
    "\n",
    "\n"
   ]
  },
  {
   "cell_type": "markdown",
   "metadata": {
    "id": "lTkYLiTKzgvM"
   },
   "source": [
    "Now this data set is in a long format, which is a tidier format for answering analysis questions (\"Are petals longer than they are wide?\") and for visualization. If I wanted to, I could use `separate()` to make the `flower_att` variable into two variables. We can also easily put it back in \"wide\" format using `spread`:"
   ]
  },
  {
   "cell_type": "code",
   "execution_count": null,
   "metadata": {
    "colab": {
     "base_uri": "https://localhost:8080/",
     "height": 207
    },
    "executionInfo": {
     "elapsed": 304,
     "status": "ok",
     "timestamp": 1611099742110,
     "user": {
      "displayName": "Patience Stevens",
      "photoUrl": "https://lh3.googleusercontent.com/a-/AOh14Gi-_9ZqhIFhAv1oMehJNvNuIKSTyrFQHzjxQKhx=s64",
      "userId": "01994571539255174942"
     },
     "user_tz": 300
    },
    "id": "LE2Q-0FTz9Sb",
    "outputId": "6ef4b907-cda8-4dbe-c793-110bc50dab5f"
   },
   "outputs": [
    {
     "data": {
      "text/html": [
       "<table>\n",
       "<caption>A data.frame: 6 × 6</caption>\n",
       "<thead>\n",
       "\t<tr><th></th><th scope=col>Species</th><th scope=col>flower.num</th><th scope=col>Petal.Length</th><th scope=col>Petal.Width</th><th scope=col>Sepal.Length</th><th scope=col>Sepal.Width</th></tr>\n",
       "\t<tr><th></th><th scope=col>&lt;fct&gt;</th><th scope=col>&lt;int&gt;</th><th scope=col>&lt;dbl&gt;</th><th scope=col>&lt;dbl&gt;</th><th scope=col>&lt;dbl&gt;</th><th scope=col>&lt;dbl&gt;</th></tr>\n",
       "</thead>\n",
       "<tbody>\n",
       "\t<tr><th scope=row>1</th><td>setosa</td><td>1</td><td>1.4</td><td>0.2</td><td>5.1</td><td>3.5</td></tr>\n",
       "\t<tr><th scope=row>2</th><td>setosa</td><td>2</td><td>1.4</td><td>0.2</td><td>4.9</td><td>3.0</td></tr>\n",
       "\t<tr><th scope=row>3</th><td>setosa</td><td>3</td><td>1.3</td><td>0.2</td><td>4.7</td><td>3.2</td></tr>\n",
       "\t<tr><th scope=row>4</th><td>setosa</td><td>4</td><td>1.5</td><td>0.2</td><td>4.6</td><td>3.1</td></tr>\n",
       "\t<tr><th scope=row>5</th><td>setosa</td><td>5</td><td>1.4</td><td>0.2</td><td>5.0</td><td>3.6</td></tr>\n",
       "\t<tr><th scope=row>6</th><td>setosa</td><td>6</td><td>1.7</td><td>0.4</td><td>5.4</td><td>3.9</td></tr>\n",
       "</tbody>\n",
       "</table>\n"
      ],
      "text/latex": [
       "A data.frame: 6 × 6\n",
       "\\begin{tabular}{r|llllll}\n",
       "  & Species & flower.num & Petal.Length & Petal.Width & Sepal.Length & Sepal.Width\\\\\n",
       "  & <fct> & <int> & <dbl> & <dbl> & <dbl> & <dbl>\\\\\n",
       "\\hline\n",
       "\t1 & setosa & 1 & 1.4 & 0.2 & 5.1 & 3.5\\\\\n",
       "\t2 & setosa & 2 & 1.4 & 0.2 & 4.9 & 3.0\\\\\n",
       "\t3 & setosa & 3 & 1.3 & 0.2 & 4.7 & 3.2\\\\\n",
       "\t4 & setosa & 4 & 1.5 & 0.2 & 4.6 & 3.1\\\\\n",
       "\t5 & setosa & 5 & 1.4 & 0.2 & 5.0 & 3.6\\\\\n",
       "\t6 & setosa & 6 & 1.7 & 0.4 & 5.4 & 3.9\\\\\n",
       "\\end{tabular}\n"
      ],
      "text/markdown": [
       "\n",
       "A data.frame: 6 × 6\n",
       "\n",
       "| <!--/--> | Species &lt;fct&gt; | flower.num &lt;int&gt; | Petal.Length &lt;dbl&gt; | Petal.Width &lt;dbl&gt; | Sepal.Length &lt;dbl&gt; | Sepal.Width &lt;dbl&gt; |\n",
       "|---|---|---|---|---|---|---|\n",
       "| 1 | setosa | 1 | 1.4 | 0.2 | 5.1 | 3.5 |\n",
       "| 2 | setosa | 2 | 1.4 | 0.2 | 4.9 | 3.0 |\n",
       "| 3 | setosa | 3 | 1.3 | 0.2 | 4.7 | 3.2 |\n",
       "| 4 | setosa | 4 | 1.5 | 0.2 | 4.6 | 3.1 |\n",
       "| 5 | setosa | 5 | 1.4 | 0.2 | 5.0 | 3.6 |\n",
       "| 6 | setosa | 6 | 1.7 | 0.4 | 5.4 | 3.9 |\n",
       "\n"
      ],
      "text/plain": [
       "  Species flower.num Petal.Length Petal.Width Sepal.Length Sepal.Width\n",
       "1 setosa  1          1.4          0.2         5.1          3.5        \n",
       "2 setosa  2          1.4          0.2         4.9          3.0        \n",
       "3 setosa  3          1.3          0.2         4.7          3.2        \n",
       "4 setosa  4          1.5          0.2         4.6          3.1        \n",
       "5 setosa  5          1.4          0.2         5.0          3.6        \n",
       "6 setosa  6          1.7          0.4         5.4          3.9        "
      ]
     },
     "metadata": {
      "tags": []
     },
     "output_type": "display_data"
    }
   ],
   "source": [
    "newdat <- newdat %>%\n",
    "      spread(flower_att,measurement)\n",
    "head(newdat)"
   ]
  },
  {
   "cell_type": "markdown",
   "metadata": {
    "id": "lmghfOw60ZAh"
   },
   "source": [
    "The last function we'll cover in this tutorial is the `left_join()` function. Imagine that you saved your data so that personal information such as age was saved separately from your participants' response data. However, now you want to see if age impacts your effect size, and you'd like to add age as a variable in your main dataset. As long as both your response dataset and your personal information dataset have the participant ID in them, you should be able to add the participants' ages to the dataset easily using `left_join()`. See [this page](https://dplyr.tidyverse.org/reference/join.html) for more versions of the `join()` function that you can use to make merging datasets easier."
   ]
  },
  {
   "cell_type": "code",
   "execution_count": null,
   "metadata": {
    "colab": {
     "base_uri": "https://localhost:8080/",
     "height": 347
    },
    "executionInfo": {
     "elapsed": 321,
     "status": "ok",
     "timestamp": 1611100691444,
     "user": {
      "displayName": "Patience Stevens",
      "photoUrl": "https://lh3.googleusercontent.com/a-/AOh14Gi-_9ZqhIFhAv1oMehJNvNuIKSTyrFQHzjxQKhx=s64",
      "userId": "01994571539255174942"
     },
     "user_tz": 300
    },
    "id": "tmWGxsgYDagC",
    "outputId": "919c5fe5-b24a-4a49-b5e2-c9a0216e90dc"
   },
   "outputs": [
    {
     "data": {
      "text/html": [
       "<table>\n",
       "<caption>A data.frame: 4 × 2</caption>\n",
       "<thead>\n",
       "\t<tr><th></th><th scope=col>name</th><th scope=col>response</th></tr>\n",
       "\t<tr><th></th><th scope=col>&lt;chr&gt;</th><th scope=col>&lt;dbl&gt;</th></tr>\n",
       "</thead>\n",
       "<tbody>\n",
       "\t<tr><th scope=row>1</th><td>p01</td><td>0</td></tr>\n",
       "\t<tr><th scope=row>2</th><td>p01</td><td>1</td></tr>\n",
       "\t<tr><th scope=row>3</th><td>p02</td><td>1</td></tr>\n",
       "\t<tr><th scope=row>4</th><td>p02</td><td>0</td></tr>\n",
       "</tbody>\n",
       "</table>\n"
      ],
      "text/latex": [
       "A data.frame: 4 × 2\n",
       "\\begin{tabular}{r|ll}\n",
       "  & name & response\\\\\n",
       "  & <chr> & <dbl>\\\\\n",
       "\\hline\n",
       "\t1 & p01 & 0\\\\\n",
       "\t2 & p01 & 1\\\\\n",
       "\t3 & p02 & 1\\\\\n",
       "\t4 & p02 & 0\\\\\n",
       "\\end{tabular}\n"
      ],
      "text/markdown": [
       "\n",
       "A data.frame: 4 × 2\n",
       "\n",
       "| <!--/--> | name &lt;chr&gt; | response &lt;dbl&gt; |\n",
       "|---|---|---|\n",
       "| 1 | p01 | 0 |\n",
       "| 2 | p01 | 1 |\n",
       "| 3 | p02 | 1 |\n",
       "| 4 | p02 | 0 |\n",
       "\n"
      ],
      "text/plain": [
       "  name response\n",
       "1 p01  0       \n",
       "2 p01  1       \n",
       "3 p02  1       \n",
       "4 p02  0       "
      ]
     },
     "metadata": {
      "tags": []
     },
     "output_type": "display_data"
    },
    {
     "name": "stderr",
     "output_type": "stream",
     "text": [
      "Joining, by = \"name\"\n",
      "\n"
     ]
    },
    {
     "data": {
      "text/html": [
       "<table>\n",
       "<caption>A data.frame: 4 × 3</caption>\n",
       "<thead>\n",
       "\t<tr><th></th><th scope=col>name</th><th scope=col>response</th><th scope=col>age</th></tr>\n",
       "\t<tr><th></th><th scope=col>&lt;chr&gt;</th><th scope=col>&lt;dbl&gt;</th><th scope=col>&lt;dbl&gt;</th></tr>\n",
       "</thead>\n",
       "<tbody>\n",
       "\t<tr><th scope=row>1</th><td>p01</td><td>0</td><td>18</td></tr>\n",
       "\t<tr><th scope=row>2</th><td>p01</td><td>1</td><td>18</td></tr>\n",
       "\t<tr><th scope=row>3</th><td>p02</td><td>1</td><td>21</td></tr>\n",
       "\t<tr><th scope=row>4</th><td>p02</td><td>0</td><td>21</td></tr>\n",
       "</tbody>\n",
       "</table>\n"
      ],
      "text/latex": [
       "A data.frame: 4 × 3\n",
       "\\begin{tabular}{r|lll}\n",
       "  & name & response & age\\\\\n",
       "  & <chr> & <dbl> & <dbl>\\\\\n",
       "\\hline\n",
       "\t1 & p01 & 0 & 18\\\\\n",
       "\t2 & p01 & 1 & 18\\\\\n",
       "\t3 & p02 & 1 & 21\\\\\n",
       "\t4 & p02 & 0 & 21\\\\\n",
       "\\end{tabular}\n"
      ],
      "text/markdown": [
       "\n",
       "A data.frame: 4 × 3\n",
       "\n",
       "| <!--/--> | name &lt;chr&gt; | response &lt;dbl&gt; | age &lt;dbl&gt; |\n",
       "|---|---|---|---|\n",
       "| 1 | p01 | 0 | 18 |\n",
       "| 2 | p01 | 1 | 18 |\n",
       "| 3 | p02 | 1 | 21 |\n",
       "| 4 | p02 | 0 | 21 |\n",
       "\n"
      ],
      "text/plain": [
       "  name response age\n",
       "1 p01  0        18 \n",
       "2 p01  1        18 \n",
       "3 p02  1        21 \n",
       "4 p02  0        21 "
      ]
     },
     "metadata": {
      "tags": []
     },
     "output_type": "display_data"
    }
   ],
   "source": [
    "personal <- data.frame(name = c(\"p01\",\"p02\"), age = c(18,21), firstlang = c(\"English\", \"Chinese\")) # participant info\n",
    "response <- data.frame(name= c(\"p01\",\"p01\",\"p02\",\"p02\"),response=c(0,1,1,0)) # response database\n",
    "head(response)\n",
    "\n",
    "response <- response %>% left_join(select(personal,name:age)) # don't need to use \"select\", but it avoids adding info not needed \n",
    "head(response)"
   ]
  },
  {
   "cell_type": "markdown",
   "metadata": {},
   "source": [
    "# nest() and map ()"
   ]
  },
  {
   "cell_type": "code",
   "execution_count": 66,
   "metadata": {},
   "outputs": [],
   "source": [
    "#simulating data: see prior tutorial for details\n",
    "x1 <- seq(-4,4,0.5)\n",
    "x2 <- seq(-4,4,0.5)\n",
    "dat <- expand.grid(x1=x1, x2=x2) %>% \n",
    "    mutate(y = 1/(1+exp(-x1)) + 0.1*x2)\n",
    "dat <- mutate(dat, y_obs = y + rnorm(length(y), mean=0, sd=0.1)) \n",
    "\n",
    "#fit a linear model to find the regression coefficients\n",
    "model_fit <- lm(y_obs ~ x1 + x2, data=dat) "
   ]
  },
  {
   "cell_type": "markdown",
   "metadata": {
    "id": "2VrX-f-A0ZAk"
   },
   "source": [
    "This is where the fun part comes in. You can use the `nest` and `map` commands from `tidyverse` to fit a model for different subgroups, then extract the results of all models. Let's pretend that x1 is the participant number and we have different subjects, for which we have y and x2 values.\n",
    "\n",
    "First, nest creates a nested data.frame, in which the data.frame for each group is stored in a different cell"
   ]
  },
  {
   "cell_type": "code",
   "execution_count": 67,
   "metadata": {
    "colab": {
     "base_uri": "https://localhost:8080/"
    },
    "executionInfo": {
     "elapsed": 299,
     "status": "ok",
     "timestamp": 1611102085416,
     "user": {
      "displayName": "Patience Stevens",
      "photoUrl": "https://lh3.googleusercontent.com/a-/AOh14Gi-_9ZqhIFhAv1oMehJNvNuIKSTyrFQHzjxQKhx=s64",
      "userId": "01994571539255174942"
     },
     "user_tz": 300
    },
    "id": "pN3moNim0ZAl",
    "outputId": "3776234f-8f4b-4e80-cb15-ae4407e24dd6",
    "scrolled": true
   },
   "outputs": [
    {
     "name": "stdout",
     "output_type": "stream",
     "text": [
      "\u001b[90m# A tibble: 17 × 2\u001b[39m\n",
      "\u001b[90m# Groups:   x1 [17]\u001b[39m\n",
      "      x1 data             \n",
      "   \u001b[3m\u001b[90m<dbl>\u001b[39m\u001b[23m \u001b[3m\u001b[90m<list>\u001b[39m\u001b[23m           \n",
      "\u001b[90m 1\u001b[39m  -\u001b[31m4\u001b[39m   \u001b[90m<tibble [17 × 3]>\u001b[39m\n",
      "\u001b[90m 2\u001b[39m  -\u001b[31m3\u001b[39m\u001b[31m.\u001b[39m\u001b[31m5\u001b[39m \u001b[90m<tibble [17 × 3]>\u001b[39m\n",
      "\u001b[90m 3\u001b[39m  -\u001b[31m3\u001b[39m   \u001b[90m<tibble [17 × 3]>\u001b[39m\n",
      "\u001b[90m 4\u001b[39m  -\u001b[31m2\u001b[39m\u001b[31m.\u001b[39m\u001b[31m5\u001b[39m \u001b[90m<tibble [17 × 3]>\u001b[39m\n",
      "\u001b[90m 5\u001b[39m  -\u001b[31m2\u001b[39m   \u001b[90m<tibble [17 × 3]>\u001b[39m\n",
      "\u001b[90m 6\u001b[39m  -\u001b[31m1\u001b[39m\u001b[31m.\u001b[39m\u001b[31m5\u001b[39m \u001b[90m<tibble [17 × 3]>\u001b[39m\n",
      "\u001b[90m 7\u001b[39m  -\u001b[31m1\u001b[39m   \u001b[90m<tibble [17 × 3]>\u001b[39m\n",
      "\u001b[90m 8\u001b[39m  -\u001b[31m0\u001b[39m\u001b[31m.\u001b[39m\u001b[31m5\u001b[39m \u001b[90m<tibble [17 × 3]>\u001b[39m\n",
      "\u001b[90m 9\u001b[39m   0   \u001b[90m<tibble [17 × 3]>\u001b[39m\n",
      "\u001b[90m10\u001b[39m   0.5 \u001b[90m<tibble [17 × 3]>\u001b[39m\n",
      "\u001b[90m11\u001b[39m   1   \u001b[90m<tibble [17 × 3]>\u001b[39m\n",
      "\u001b[90m12\u001b[39m   1.5 \u001b[90m<tibble [17 × 3]>\u001b[39m\n",
      "\u001b[90m13\u001b[39m   2   \u001b[90m<tibble [17 × 3]>\u001b[39m\n",
      "\u001b[90m14\u001b[39m   2.5 \u001b[90m<tibble [17 × 3]>\u001b[39m\n",
      "\u001b[90m15\u001b[39m   3   \u001b[90m<tibble [17 × 3]>\u001b[39m\n",
      "\u001b[90m16\u001b[39m   3.5 \u001b[90m<tibble [17 × 3]>\u001b[39m\n",
      "\u001b[90m17\u001b[39m   4   \u001b[90m<tibble [17 × 3]>\u001b[39m\n"
     ]
    }
   ],
   "source": [
    "dat  <- dat  %>%\n",
    "        group_by(x1) %>%\n",
    "        nest()\n",
    "\n",
    "print(dat)"
   ]
  },
  {
   "cell_type": "markdown",
   "metadata": {},
   "source": [
    "What we see here is that each \"participant\" has their own 17 x 3 tibble. Why these dimensions? We simulated `x1` and `x2` to be identical, both 17 observations long. The 3 columns are for `x2`, `y`, and `y_obs`. They are just now grouped by `x1`."
   ]
  },
  {
   "cell_type": "markdown",
   "metadata": {
    "id": "MzwhQ05-0ZAl"
   },
   "source": [
    "Remember, we want to fit models to each subgroup. The `map` function applies a given function to a set of data in an iterative way -- so this would be a convenient approach. Some of the benefits of using `map` are that you do not have to write a series of for-loops (it's efficient/vectorized) and it makes your code easier to read (and thus error check). Now you can use `map` to fit a model to each subgroup like this:"
   ]
  },
  {
   "cell_type": "code",
   "execution_count": 68,
   "metadata": {},
   "outputs": [
    {
     "name": "stdout",
     "output_type": "stream",
     "text": [
      "\u001b[90m# A tibble: 17 × 3\u001b[39m\n",
      "\u001b[90m# Groups:   x1 [17]\u001b[39m\n",
      "      x1 data              model_fit\n",
      "   \u001b[3m\u001b[90m<dbl>\u001b[39m\u001b[23m \u001b[3m\u001b[90m<list>\u001b[39m\u001b[23m            \u001b[3m\u001b[90m<list>\u001b[39m\u001b[23m   \n",
      "\u001b[90m 1\u001b[39m  -\u001b[31m4\u001b[39m   \u001b[90m<tibble [17 × 3]>\u001b[39m \u001b[90m<lm>\u001b[39m     \n",
      "\u001b[90m 2\u001b[39m  -\u001b[31m3\u001b[39m\u001b[31m.\u001b[39m\u001b[31m5\u001b[39m \u001b[90m<tibble [17 × 3]>\u001b[39m \u001b[90m<lm>\u001b[39m     \n",
      "\u001b[90m 3\u001b[39m  -\u001b[31m3\u001b[39m   \u001b[90m<tibble [17 × 3]>\u001b[39m \u001b[90m<lm>\u001b[39m     \n",
      "\u001b[90m 4\u001b[39m  -\u001b[31m2\u001b[39m\u001b[31m.\u001b[39m\u001b[31m5\u001b[39m \u001b[90m<tibble [17 × 3]>\u001b[39m \u001b[90m<lm>\u001b[39m     \n",
      "\u001b[90m 5\u001b[39m  -\u001b[31m2\u001b[39m   \u001b[90m<tibble [17 × 3]>\u001b[39m \u001b[90m<lm>\u001b[39m     \n",
      "\u001b[90m 6\u001b[39m  -\u001b[31m1\u001b[39m\u001b[31m.\u001b[39m\u001b[31m5\u001b[39m \u001b[90m<tibble [17 × 3]>\u001b[39m \u001b[90m<lm>\u001b[39m     \n",
      "\u001b[90m 7\u001b[39m  -\u001b[31m1\u001b[39m   \u001b[90m<tibble [17 × 3]>\u001b[39m \u001b[90m<lm>\u001b[39m     \n",
      "\u001b[90m 8\u001b[39m  -\u001b[31m0\u001b[39m\u001b[31m.\u001b[39m\u001b[31m5\u001b[39m \u001b[90m<tibble [17 × 3]>\u001b[39m \u001b[90m<lm>\u001b[39m     \n",
      "\u001b[90m 9\u001b[39m   0   \u001b[90m<tibble [17 × 3]>\u001b[39m \u001b[90m<lm>\u001b[39m     \n",
      "\u001b[90m10\u001b[39m   0.5 \u001b[90m<tibble [17 × 3]>\u001b[39m \u001b[90m<lm>\u001b[39m     \n",
      "\u001b[90m11\u001b[39m   1   \u001b[90m<tibble [17 × 3]>\u001b[39m \u001b[90m<lm>\u001b[39m     \n",
      "\u001b[90m12\u001b[39m   1.5 \u001b[90m<tibble [17 × 3]>\u001b[39m \u001b[90m<lm>\u001b[39m     \n",
      "\u001b[90m13\u001b[39m   2   \u001b[90m<tibble [17 × 3]>\u001b[39m \u001b[90m<lm>\u001b[39m     \n",
      "\u001b[90m14\u001b[39m   2.5 \u001b[90m<tibble [17 × 3]>\u001b[39m \u001b[90m<lm>\u001b[39m     \n",
      "\u001b[90m15\u001b[39m   3   \u001b[90m<tibble [17 × 3]>\u001b[39m \u001b[90m<lm>\u001b[39m     \n",
      "\u001b[90m16\u001b[39m   3.5 \u001b[90m<tibble [17 × 3]>\u001b[39m \u001b[90m<lm>\u001b[39m     \n",
      "\u001b[90m17\u001b[39m   4   \u001b[90m<tibble [17 × 3]>\u001b[39m \u001b[90m<lm>\u001b[39m     \n"
     ]
    }
   ],
   "source": [
    "dat  <- dat  %>% \n",
    "    mutate(model_fit = map(data,\n",
    "                           function(data) lm(y_obs ~ x2, data=data)))\n",
    "\n",
    "print(dat)"
   ]
  },
  {
   "cell_type": "markdown",
   "metadata": {},
   "source": [
    "Let's break down what is going on in the `mutate` line above:\n",
    "* `model_fit` is the name of our new column\n",
    "* The first argument of `map` is what we want our function to iterate over. In this case, `data` is the name of the column of our nested tibbles.\n",
    "* The second argument of `map` is whatever function you want performed. Here, we specified our own function (a linear model), but you could also use built-in functions.\n",
    "\n",
    "So basically, for each observation of `data`, `map` will perform the function. It's just that in this case, a single observation of `data` is an entire tibble. \n",
    "\n",
    "(Note that `map` operates basically the same as the `*apply` family of functions (e.g., `lapply()`, `sapply`, etc.) but since `map` is part of the tidyverse, it plays better with tidyverse grammar and is more standardized.)"
   ]
  },
  {
   "cell_type": "markdown",
   "metadata": {
    "id": "crBnstZi0ZAl"
   },
   "source": [
    "Our resulting models are stored in each cell of the model_fit column. Let's see what's included in a single cell in this column:"
   ]
  },
  {
   "cell_type": "code",
   "execution_count": 52,
   "metadata": {
    "scrolled": true
   },
   "outputs": [
    {
     "data": {
      "text/html": [
       "<table class=\"dataframe\">\n",
       "<caption>A tibble: 1 × 1</caption>\n",
       "<thead>\n",
       "\t<tr><th scope=col>model_fit</th></tr>\n",
       "\t<tr><th scope=col>&lt;list&gt;</th></tr>\n",
       "</thead>\n",
       "<tbody>\n",
       "\t<tr><td>-0.02660423, 0.103168, -0.1372348, 0.03059727, -0.02660468, 0.08687411, 0.1791387, -0.2292829, 0.06875712, -0.1114032, 0.09896134, -0.01441061, 0.1396485, 0.1815616, -0.1479196, -0.07825647, 0.02050686, 0.01632427, -0.07725744, 0.1096921, 1.041945, -0.009751889, 0.1059652, 0.2004681, -0.2057152, 0.09456317, -0.08335881, 0.129244, 0.01811038, 0.1744078, 0.2185592, -0.1086836, -0.03678222, 0.06421942, 0.06227515, -0.02906825, 2, -0.4392761, -0.3876921, -0.3361081, -0.2845241, -0.2329402, -0.1813562, -0.1297722, -0.07818821, -0.02660423, 0.02497975, 0.07656373, 0.1281477, 0.1797317, 0.2313157, 0.2828997, 0.3344836, 0.3860676, 0, 1, -4.123106, 0.2425356, 0.2425356, 0.2425356, 0.2425356, 0.2425356, 0.2425356, 0.2425356, 0.2425356, 0.2425356, 0.2425356, 0.2425356, 0.2425356, 0.2425356, 0.2425356, 0.2425356, 0.2425356, 1.776357e-15, 10.0995, 0.2197359, 0.1702285, 0.1207211, 0.07121375, 0.02170637, -0.02780101, -0.07730838, -0.1268158, -0.1763231, -0.2258305, -0.2753379, -0.3248453, -0.3743526, -0.42386, -0.4733674, 1.242536, 1.269243, 1, 2, 1e-07, 2, 15, lm(formula = y_obs ~ x2, data = data), y_obs ~ x2, -0.5765109, -0.3570948, -0.3627128, -0.19765, -0.05380143, -0.4106391, -0.06101507, -0.1895914, 0.07235711, 0.01056914, 0.2162122, 0.3097093, 0.03181212, 0.1530592, 0.3034065, 0.3508079, 0.3088102, -4, -3.5, -3, -2.5, -2, -1.5, -1, -0.5, 0, 0.5, 1, 1.5, 2, 2.5, 3, 3.5, 4</td></tr>\n",
       "</tbody>\n",
       "</table>\n"
      ],
      "text/latex": [
       "A tibble: 1 × 1\n",
       "\\begin{tabular}{l}\n",
       " model\\_fit\\\\\n",
       " <list>\\\\\n",
       "\\hline\n",
       "\t -0.02660423, 0.103168, -0.1372348, 0.03059727, -0.02660468, 0.08687411, 0.1791387, -0.2292829, 0.06875712, -0.1114032, 0.09896134, -0.01441061, 0.1396485, 0.1815616, -0.1479196, -0.07825647, 0.02050686, 0.01632427, -0.07725744, 0.1096921, 1.041945, -0.009751889, 0.1059652, 0.2004681, -0.2057152, 0.09456317, -0.08335881, 0.129244, 0.01811038, 0.1744078, 0.2185592, -0.1086836, -0.03678222, 0.06421942, 0.06227515, -0.02906825, 2, -0.4392761, -0.3876921, -0.3361081, -0.2845241, -0.2329402, -0.1813562, -0.1297722, -0.07818821, -0.02660423, 0.02497975, 0.07656373, 0.1281477, 0.1797317, 0.2313157, 0.2828997, 0.3344836, 0.3860676, 0, 1, -4.123106, 0.2425356, 0.2425356, 0.2425356, 0.2425356, 0.2425356, 0.2425356, 0.2425356, 0.2425356, 0.2425356, 0.2425356, 0.2425356, 0.2425356, 0.2425356, 0.2425356, 0.2425356, 0.2425356, 1.776357e-15, 10.0995, 0.2197359, 0.1702285, 0.1207211, 0.07121375, 0.02170637, -0.02780101, -0.07730838, -0.1268158, -0.1763231, -0.2258305, -0.2753379, -0.3248453, -0.3743526, -0.42386, -0.4733674, 1.242536, 1.269243, 1, 2, 1e-07, 2, 15, lm(formula = y\\_obs \\textasciitilde{} x2, data = data), y\\_obs \\textasciitilde{} x2, -0.5765109, -0.3570948, -0.3627128, -0.19765, -0.05380143, -0.4106391, -0.06101507, -0.1895914, 0.07235711, 0.01056914, 0.2162122, 0.3097093, 0.03181212, 0.1530592, 0.3034065, 0.3508079, 0.3088102, -4, -3.5, -3, -2.5, -2, -1.5, -1, -0.5, 0, 0.5, 1, 1.5, 2, 2.5, 3, 3.5, 4\\\\\n",
       "\\end{tabular}\n"
      ],
      "text/markdown": [
       "\n",
       "A tibble: 1 × 1\n",
       "\n",
       "| model_fit &lt;list&gt; |\n",
       "|---|\n",
       "| -0.02660423, 0.103168, -0.1372348, 0.03059727, -0.02660468, 0.08687411, 0.1791387, -0.2292829, 0.06875712, -0.1114032, 0.09896134, -0.01441061, 0.1396485, 0.1815616, -0.1479196, -0.07825647, 0.02050686, 0.01632427, -0.07725744, 0.1096921, 1.041945, -0.009751889, 0.1059652, 0.2004681, -0.2057152, 0.09456317, -0.08335881, 0.129244, 0.01811038, 0.1744078, 0.2185592, -0.1086836, -0.03678222, 0.06421942, 0.06227515, -0.02906825, 2, -0.4392761, -0.3876921, -0.3361081, -0.2845241, -0.2329402, -0.1813562, -0.1297722, -0.07818821, -0.02660423, 0.02497975, 0.07656373, 0.1281477, 0.1797317, 0.2313157, 0.2828997, 0.3344836, 0.3860676, 0, 1, -4.123106, 0.2425356, 0.2425356, 0.2425356, 0.2425356, 0.2425356, 0.2425356, 0.2425356, 0.2425356, 0.2425356, 0.2425356, 0.2425356, 0.2425356, 0.2425356, 0.2425356, 0.2425356, 0.2425356, 1.776357e-15, 10.0995, 0.2197359, 0.1702285, 0.1207211, 0.07121375, 0.02170637, -0.02780101, -0.07730838, -0.1268158, -0.1763231, -0.2258305, -0.2753379, -0.3248453, -0.3743526, -0.42386, -0.4733674, 1.242536, 1.269243, 1, 2, 1e-07, 2, 15, lm(formula = y_obs ~ x2, data = data), y_obs ~ x2, -0.5765109, -0.3570948, -0.3627128, -0.19765, -0.05380143, -0.4106391, -0.06101507, -0.1895914, 0.07235711, 0.01056914, 0.2162122, 0.3097093, 0.03181212, 0.1530592, 0.3034065, 0.3508079, 0.3088102, -4, -3.5, -3, -2.5, -2, -1.5, -1, -0.5, 0, 0.5, 1, 1.5, 2, 2.5, 3, 3.5, 4 |\n",
       "\n"
      ],
      "text/plain": [
       "  model_fit                                                                                                                                                                                                                                                                                                                                                                                                                                                                                                                                                                                                                                                                                                                                                                                                                                                                                                                                                                                                                                                                                                                                                                                                                                                                                                                                                                                                                                 \n",
       "1 -0.02660423, 0.103168, -0.1372348, 0.03059727, -0.02660468, 0.08687411, 0.1791387, -0.2292829, 0.06875712, -0.1114032, 0.09896134, -0.01441061, 0.1396485, 0.1815616, -0.1479196, -0.07825647, 0.02050686, 0.01632427, -0.07725744, 0.1096921, 1.041945, -0.009751889, 0.1059652, 0.2004681, -0.2057152, 0.09456317, -0.08335881, 0.129244, 0.01811038, 0.1744078, 0.2185592, -0.1086836, -0.03678222, 0.06421942, 0.06227515, -0.02906825, 2, -0.4392761, -0.3876921, -0.3361081, -0.2845241, -0.2329402, -0.1813562, -0.1297722, -0.07818821, -0.02660423, 0.02497975, 0.07656373, 0.1281477, 0.1797317, 0.2313157, 0.2828997, 0.3344836, 0.3860676, 0, 1, -4.123106, 0.2425356, 0.2425356, 0.2425356, 0.2425356, 0.2425356, 0.2425356, 0.2425356, 0.2425356, 0.2425356, 0.2425356, 0.2425356, 0.2425356, 0.2425356, 0.2425356, 0.2425356, 0.2425356, 1.776357e-15, 10.0995, 0.2197359, 0.1702285, 0.1207211, 0.07121375, 0.02170637, -0.02780101, -0.07730838, -0.1268158, -0.1763231, -0.2258305, -0.2753379, -0.3248453, -0.3743526, -0.42386, -0.4733674, 1.242536, 1.269243, 1, 2, 1e-07, 2, 15, lm(formula = y_obs ~ x2, data = data), y_obs ~ x2, -0.5765109, -0.3570948, -0.3627128, -0.19765, -0.05380143, -0.4106391, -0.06101507, -0.1895914, 0.07235711, 0.01056914, 0.2162122, 0.3097093, 0.03181212, 0.1530592, 0.3034065, 0.3508079, 0.3088102, -4, -3.5, -3, -2.5, -2, -1.5, -1, -0.5, 0, 0.5, 1, 1.5, 2, 2.5, 3, 3.5, 4"
      ]
     },
     "metadata": {},
     "output_type": "display_data"
    }
   ],
   "source": [
    "dat[1, \"model_fit\"]"
   ]
  },
  {
   "cell_type": "markdown",
   "metadata": {},
   "source": [
    "Super ugly, but this is the actual model fit information for our first row. \n",
    "\n",
    "It's much easier to extract the information you need from each model. Let's extract the coefficients:"
   ]
  },
  {
   "cell_type": "code",
   "execution_count": 55,
   "metadata": {
    "colab": {
     "base_uri": "https://localhost:8080/"
    },
    "executionInfo": {
     "elapsed": 394,
     "status": "ok",
     "timestamp": 1611102233885,
     "user": {
      "displayName": "Patience Stevens",
      "photoUrl": "https://lh3.googleusercontent.com/a-/AOh14Gi-_9ZqhIFhAv1oMehJNvNuIKSTyrFQHzjxQKhx=s64",
      "userId": "01994571539255174942"
     },
     "user_tz": 300
    },
    "id": "311bwg-r0ZAm",
    "outputId": "932ba463-2ca6-4d8d-b7af-afc1c19f4d6a"
   },
   "outputs": [
    {
     "name": "stdout",
     "output_type": "stream",
     "text": [
      "\u001b[90m# A tibble: 17 × 4\u001b[39m\n",
      "\u001b[90m# Groups:   x1 [17]\u001b[39m\n",
      "      x1 data              model_fit coef        \n",
      "   \u001b[3m\u001b[90m<dbl>\u001b[39m\u001b[23m \u001b[3m\u001b[90m<list>\u001b[39m\u001b[23m            \u001b[3m\u001b[90m<list>\u001b[39m\u001b[23m    \u001b[3m\u001b[90m<list>\u001b[39m\u001b[23m      \n",
      "\u001b[90m 1\u001b[39m  -\u001b[31m4\u001b[39m   \u001b[90m<tibble [17 × 3]>\u001b[39m \u001b[90m<lm>\u001b[39m      \u001b[90m<df [2 × 2]>\u001b[39m\n",
      "\u001b[90m 2\u001b[39m  -\u001b[31m3\u001b[39m\u001b[31m.\u001b[39m\u001b[31m5\u001b[39m \u001b[90m<tibble [17 × 3]>\u001b[39m \u001b[90m<lm>\u001b[39m      \u001b[90m<df [2 × 2]>\u001b[39m\n",
      "\u001b[90m 3\u001b[39m  -\u001b[31m3\u001b[39m   \u001b[90m<tibble [17 × 3]>\u001b[39m \u001b[90m<lm>\u001b[39m      \u001b[90m<df [2 × 2]>\u001b[39m\n",
      "\u001b[90m 4\u001b[39m  -\u001b[31m2\u001b[39m\u001b[31m.\u001b[39m\u001b[31m5\u001b[39m \u001b[90m<tibble [17 × 3]>\u001b[39m \u001b[90m<lm>\u001b[39m      \u001b[90m<df [2 × 2]>\u001b[39m\n",
      "\u001b[90m 5\u001b[39m  -\u001b[31m2\u001b[39m   \u001b[90m<tibble [17 × 3]>\u001b[39m \u001b[90m<lm>\u001b[39m      \u001b[90m<df [2 × 2]>\u001b[39m\n",
      "\u001b[90m 6\u001b[39m  -\u001b[31m1\u001b[39m\u001b[31m.\u001b[39m\u001b[31m5\u001b[39m \u001b[90m<tibble [17 × 3]>\u001b[39m \u001b[90m<lm>\u001b[39m      \u001b[90m<df [2 × 2]>\u001b[39m\n",
      "\u001b[90m 7\u001b[39m  -\u001b[31m1\u001b[39m   \u001b[90m<tibble [17 × 3]>\u001b[39m \u001b[90m<lm>\u001b[39m      \u001b[90m<df [2 × 2]>\u001b[39m\n",
      "\u001b[90m 8\u001b[39m  -\u001b[31m0\u001b[39m\u001b[31m.\u001b[39m\u001b[31m5\u001b[39m \u001b[90m<tibble [17 × 3]>\u001b[39m \u001b[90m<lm>\u001b[39m      \u001b[90m<df [2 × 2]>\u001b[39m\n",
      "\u001b[90m 9\u001b[39m   0   \u001b[90m<tibble [17 × 3]>\u001b[39m \u001b[90m<lm>\u001b[39m      \u001b[90m<df [2 × 2]>\u001b[39m\n",
      "\u001b[90m10\u001b[39m   0.5 \u001b[90m<tibble [17 × 3]>\u001b[39m \u001b[90m<lm>\u001b[39m      \u001b[90m<df [2 × 2]>\u001b[39m\n",
      "\u001b[90m11\u001b[39m   1   \u001b[90m<tibble [17 × 3]>\u001b[39m \u001b[90m<lm>\u001b[39m      \u001b[90m<df [2 × 2]>\u001b[39m\n",
      "\u001b[90m12\u001b[39m   1.5 \u001b[90m<tibble [17 × 3]>\u001b[39m \u001b[90m<lm>\u001b[39m      \u001b[90m<df [2 × 2]>\u001b[39m\n",
      "\u001b[90m13\u001b[39m   2   \u001b[90m<tibble [17 × 3]>\u001b[39m \u001b[90m<lm>\u001b[39m      \u001b[90m<df [2 × 2]>\u001b[39m\n",
      "\u001b[90m14\u001b[39m   2.5 \u001b[90m<tibble [17 × 3]>\u001b[39m \u001b[90m<lm>\u001b[39m      \u001b[90m<df [2 × 2]>\u001b[39m\n",
      "\u001b[90m15\u001b[39m   3   \u001b[90m<tibble [17 × 3]>\u001b[39m \u001b[90m<lm>\u001b[39m      \u001b[90m<df [2 × 2]>\u001b[39m\n",
      "\u001b[90m16\u001b[39m   3.5 \u001b[90m<tibble [17 × 3]>\u001b[39m \u001b[90m<lm>\u001b[39m      \u001b[90m<df [2 × 2]>\u001b[39m\n",
      "\u001b[90m17\u001b[39m   4   \u001b[90m<tibble [17 × 3]>\u001b[39m \u001b[90m<lm>\u001b[39m      \u001b[90m<df [2 × 2]>\u001b[39m\n"
     ]
    }
   ],
   "source": [
    "dat <- dat  %>% \n",
    "        mutate(coef = map(model_fit, #now iterating over \"model_fit\" instead of \"data\"\n",
    "                      #a function to create data frame of coef names/values:\n",
    "                      function(fit) data.frame(name = names(fit$coefficients), \n",
    "                                               beta = fit$coefficients)))\n",
    "print(dat)"
   ]
  },
  {
   "cell_type": "markdown",
   "metadata": {
    "id": "c4XQqY500ZAm"
   },
   "source": [
    "They are again stored in a column called coef that holds a data frame in each cell. If you want to then finally just get a data.frame with coefficients, you can unnest the results:"
   ]
  },
  {
   "cell_type": "code",
   "execution_count": 56,
   "metadata": {
    "colab": {
     "base_uri": "https://localhost:8080/"
    },
    "executionInfo": {
     "elapsed": 506,
     "status": "ok",
     "timestamp": 1611102538878,
     "user": {
      "displayName": "Patience Stevens",
      "photoUrl": "https://lh3.googleusercontent.com/a-/AOh14Gi-_9ZqhIFhAv1oMehJNvNuIKSTyrFQHzjxQKhx=s64",
      "userId": "01994571539255174942"
     },
     "user_tz": 300
    },
    "id": "SsmPuJvD0ZAm",
    "outputId": "fbc82436-2b5a-450e-da24-89abace3a8c3"
   },
   "outputs": [
    {
     "name": "stdout",
     "output_type": "stream",
     "text": [
      "\u001b[90m# A tibble: 34 × 5\u001b[39m\n",
      "\u001b[90m# Groups:   x1 [17]\u001b[39m\n",
      "      x1 data              model_fit name           beta\n",
      "   \u001b[3m\u001b[90m<dbl>\u001b[39m\u001b[23m \u001b[3m\u001b[90m<list>\u001b[39m\u001b[23m            \u001b[3m\u001b[90m<list>\u001b[39m\u001b[23m    \u001b[3m\u001b[90m<chr>\u001b[39m\u001b[23m         \u001b[3m\u001b[90m<dbl>\u001b[39m\u001b[23m\n",
      "\u001b[90m 1\u001b[39m  -\u001b[31m4\u001b[39m   \u001b[90m<tibble [17 × 3]>\u001b[39m \u001b[90m<lm>\u001b[39m      (Intercept) -\u001b[31m0\u001b[39m\u001b[31m.\u001b[39m\u001b[31m0\u001b[39m\u001b[31m26\u001b[4m6\u001b[24m\u001b[39m\n",
      "\u001b[90m 2\u001b[39m  -\u001b[31m4\u001b[39m   \u001b[90m<tibble [17 × 3]>\u001b[39m \u001b[90m<lm>\u001b[39m      x2           0.103 \n",
      "\u001b[90m 3\u001b[39m  -\u001b[31m3\u001b[39m\u001b[31m.\u001b[39m\u001b[31m5\u001b[39m \u001b[90m<tibble [17 × 3]>\u001b[39m \u001b[90m<lm>\u001b[39m      (Intercept)  0.033\u001b[4m6\u001b[24m\n",
      "\u001b[90m 4\u001b[39m  -\u001b[31m3\u001b[39m\u001b[31m.\u001b[39m\u001b[31m5\u001b[39m \u001b[90m<tibble [17 × 3]>\u001b[39m \u001b[90m<lm>\u001b[39m      x2           0.090\u001b[4m0\u001b[24m\n",
      "\u001b[90m 5\u001b[39m  -\u001b[31m3\u001b[39m   \u001b[90m<tibble [17 × 3]>\u001b[39m \u001b[90m<lm>\u001b[39m      (Intercept)  0.103 \n",
      "\u001b[90m 6\u001b[39m  -\u001b[31m3\u001b[39m   \u001b[90m<tibble [17 × 3]>\u001b[39m \u001b[90m<lm>\u001b[39m      x2           0.104 \n",
      "\u001b[90m 7\u001b[39m  -\u001b[31m2\u001b[39m\u001b[31m.\u001b[39m\u001b[31m5\u001b[39m \u001b[90m<tibble [17 × 3]>\u001b[39m \u001b[90m<lm>\u001b[39m      (Intercept)  0.097\u001b[4m5\u001b[24m\n",
      "\u001b[90m 8\u001b[39m  -\u001b[31m2\u001b[39m\u001b[31m.\u001b[39m\u001b[31m5\u001b[39m \u001b[90m<tibble [17 × 3]>\u001b[39m \u001b[90m<lm>\u001b[39m      x2           0.088\u001b[4m3\u001b[24m\n",
      "\u001b[90m 9\u001b[39m  -\u001b[31m2\u001b[39m   \u001b[90m<tibble [17 × 3]>\u001b[39m \u001b[90m<lm>\u001b[39m      (Intercept)  0.094\u001b[4m1\u001b[24m\n",
      "\u001b[90m10\u001b[39m  -\u001b[31m2\u001b[39m   \u001b[90m<tibble [17 × 3]>\u001b[39m \u001b[90m<lm>\u001b[39m      x2           0.094\u001b[4m4\u001b[24m\n",
      "\u001b[90m# … with 24 more rows\u001b[39m\n"
     ]
    }
   ],
   "source": [
    "dat  <- dat  %>% \n",
    "        unnest(coef)\n",
    "\n",
    "print(dat)"
   ]
  },
  {
   "cell_type": "markdown",
   "metadata": {
    "id": "tteRNiZC0ZAm"
   },
   "source": [
    "You can find additional information on this approach here: http://omaymas.github.io/Climate_Change_ExpAnalysis/"
   ]
  },
  {
   "cell_type": "code",
   "execution_count": null,
   "metadata": {},
   "outputs": [],
   "source": []
  },
  {
   "cell_type": "markdown",
   "metadata": {
    "id": "A1GrvZiMiSE6"
   },
   "source": [
    "*Notebook authored by Ven Popov and edited by Krista Bond, Charles Wu, Patience Stevens, and Amy Sentis.*"
   ]
  }
 ],
 "metadata": {
  "colab": {
   "name": "data-as-objects-and-architectures.ipynb",
   "provenance": []
  },
  "kernelspec": {
   "display_name": "R",
   "language": "R",
   "name": "ir"
  },
  "language_info": {
   "codemirror_mode": "r",
   "file_extension": ".r",
   "mimetype": "text/x-r-source",
   "name": "R",
   "pygments_lexer": "r",
   "version": "4.2.0"
  }
 },
 "nbformat": 4,
 "nbformat_minor": 1
}
