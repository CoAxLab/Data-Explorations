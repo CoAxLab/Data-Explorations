{
 "cells": [
  {
   "cell_type": "markdown",
   "id": "c18f0a77",
   "metadata": {
    "id": "614c6a4a"
   },
   "source": [
    "# Exercises: Model selection"
   ]
  },
  {
   "cell_type": "markdown",
   "id": "fbe1bbad",
   "metadata": {
    "id": "7e861f62"
   },
   "source": [
    "This homework is designed to give you practice implementing model selection techniques, including best subset selection and forward/backward stepwise selection.\n",
    "\n",
    "You won't need to load in any data for this homework, we will be simulating our own."
   ]
  },
  {
   "cell_type": "markdown",
   "id": "c93e57b4",
   "metadata": {
    "id": "b065256e"
   },
   "source": [
    "---\n",
    "## 1. Best subset selection (4 points)"
   ]
  },
  {
   "cell_type": "markdown",
   "id": "77c0682a",
   "metadata": {
    "id": "bfe412c5"
   },
   "source": [
    "In this question, we will first generate simulated data, and then use it to perform best subset selection.\n",
    "\n",
    "a) Use `rnorm()` to generate a dataset including a predictor $X$ of length $n = 100$ and a noise vector $\\epsilon$ of length $n = 100$. Generate data for a response variable $Y$ of length $n = 100$ according to the model\n",
    "\n",
    "$Y = \\beta_0 + \\beta_1X + \\beta_2X^2 + \\beta_3X^3 + \\epsilon$\n",
    "\n",
    "where $\\beta_0$, $\\beta_1$, $\\beta_2$, and $\\beta_3$ are constants of your choice.\n"
   ]
  },
  {
   "cell_type": "code",
   "execution_count": null,
   "id": "3b36761b",
   "metadata": {
    "id": "82a01047"
   },
   "outputs": [],
   "source": [
    "# WRITE YOUR CODE HERE\n",
    "\n"
   ]
  },
  {
   "cell_type": "markdown",
   "id": "a916e799",
   "metadata": {
    "id": "19065c60"
   },
   "source": [
    "b) Use `regsubsets()` to perform best subset selection to determine the best model that contains the predictor variables $X$, $X^2$, . . . , $X^{10}$. Print the model summary."
   ]
  },
  {
   "cell_type": "code",
   "execution_count": null,
   "id": "29ebb054",
   "metadata": {
    "id": "2d0ea51f"
   },
   "outputs": [],
   "source": [
    "# WRITE YOUR CODE HERE\n",
    "\n"
   ]
  },
  {
   "cell_type": "code",
   "execution_count": null,
   "id": "6cd32afa",
   "metadata": {
    "id": "e584b852"
   },
   "outputs": [],
   "source": [
    "# Note: if your model summary doesn't show up when viewing your notebook on github, copy and paste the output below.\n",
    "# Otherwise you can either delete this cell or leave it blank.\n",
    "\n",
    "```\n",
    "# paste here\n",
    "\n",
    "```"
   ]
  },
  {
   "cell_type": "markdown",
   "id": "a24b7e5f",
   "metadata": {
    "id": "3528231b"
   },
   "source": [
    "c) Plot the Mallows' Cp, Bayesian Information Criteria (BIC) and the adjusted coefficient of determination, $R^2$, for each model tested. Which is the best model? Report the coefficients of the best model. "
   ]
  },
  {
   "cell_type": "code",
   "execution_count": null,
   "id": "2d2f24ed",
   "metadata": {
    "id": "6a817913"
   },
   "outputs": [],
   "source": [
    "# WRITE YOUR CODE HERE\n",
    "\n"
   ]
  },
  {
   "cell_type": "markdown",
   "id": "9a4edb88",
   "metadata": {
    "id": "e7f16d76"
   },
   "source": [
    "> *Write your response here* \n",
    "> "
   ]
  },
  {
   "cell_type": "markdown",
   "id": "3e0fbbc6",
   "metadata": {
    "id": "19d388b0"
   },
   "source": [
    "---\n",
    "## 2. Forward and backwards stepwise selection (3 points)"
   ]
  },
  {
   "cell_type": "markdown",
   "id": "2d78b8c3",
   "metadata": {
    "id": "620dc14c"
   },
   "source": [
    "Using the same simulated data from question 1, use forward stepwise selection, and backwards stepwise selections to determine the best model. Again, for both model selection methods, plot the Mallows' Cp, Bayesian Information Criteria (BIC) and the adjusted coefficient of determination, $R^2$, for each model tested. Report the coefficients of the best model. "
   ]
  },
  {
   "cell_type": "markdown",
   "id": "6d366c86",
   "metadata": {
    "id": "d734954e"
   },
   "source": [
    "a) Forward stepwise selection:"
   ]
  },
  {
   "cell_type": "code",
   "execution_count": null,
   "id": "1937a7b7",
   "metadata": {
    "id": "8018ba62"
   },
   "outputs": [],
   "source": [
    "# WRITE YOUR CODE HERE\n",
    "\n"
   ]
  },
  {
   "cell_type": "code",
   "execution_count": null,
   "id": "ee7e4b53",
   "metadata": {
    "id": "861cedcd"
   },
   "outputs": [],
   "source": [
    "# Note: if your model summary doesn't show up when viewing your notebook on github, copy and paste the output below.\n",
    "# Otherwise you can either delete this cell or leave it blank.\n",
    "\n",
    "```\n",
    "# paste here\n",
    "\n",
    "```"
   ]
  },
  {
   "cell_type": "markdown",
   "id": "e12e2d2f",
   "metadata": {
    "id": "955e381d"
   },
   "source": [
    "b) Backwards stepwise selection:"
   ]
  },
  {
   "cell_type": "code",
   "execution_count": null,
   "id": "358c7152",
   "metadata": {
    "id": "c9a50756"
   },
   "outputs": [],
   "source": [
    "# WRITE YOUR CODE HERE\n",
    "\n"
   ]
  },
  {
   "cell_type": "code",
   "execution_count": null,
   "id": "e471767d",
   "metadata": {
    "id": "30746619"
   },
   "outputs": [],
   "source": [
    "# Note: if your model summary doesn't show up when viewing your notebook on github, copy and paste the output below.\n",
    "# Otherwise you can either delete this cell or leave it blank.\n",
    "\n",
    "```\n",
    "# paste here\n",
    "\n",
    "```"
   ]
  },
  {
   "cell_type": "markdown",
   "id": "8f94933d",
   "metadata": {
    "id": "25dbc027"
   },
   "source": [
    "c) Compare your results from parts a and b with those of question 1."
   ]
  },
  {
   "cell_type": "markdown",
   "id": "6c1d76eb",
   "metadata": {
    "id": "34ac850e"
   },
   "source": [
    "> *Write your response here* \n",
    "> "
   ]
  },
  {
   "cell_type": "markdown",
   "id": "dd5c48c4",
   "metadata": {
    "id": "630f4909"
   },
   "source": [
    "---\n",
    "## 3. Training and test error (3 points)"
   ]
  },
  {
   "cell_type": "markdown",
   "id": "738faf80",
   "metadata": {
    "id": "cdea3f49"
   },
   "source": [
    "This question will explore the relationship between training and test error and the number of features included in a model. We will again use a simulated dataset. \n",
    "\n",
    "a) Simulate dataset with features $p = 20$ and observations $n = 1,000$. Generate data for a response variable $Y$ according to the model\n",
    "\n",
    "$Y = X\\beta + \\epsilon$ \n",
    "\n",
    "where $\\beta$ is random with some elements that are exactly zero.\n",
    "\n",
    "Split your simulated dataset into a training set containing $n=100$ observations and a test set containing $n=900$ observations."
   ]
  },
  {
   "cell_type": "code",
   "execution_count": null,
   "id": "7d2a0bf8",
   "metadata": {
    "id": "3f113879"
   },
   "outputs": [],
   "source": [
    "# WRITE YOUR CODE HERE\n",
    "\n"
   ]
  },
  {
   "cell_type": "markdown",
   "id": "53088a34",
   "metadata": {
    "id": "5886639c"
   },
   "source": [
    "b) Perform best subset selection on the training set, and plot the associated training and test set MSE for the best model of each size."
   ]
  },
  {
   "cell_type": "code",
   "execution_count": null,
   "id": "21520c8e",
   "metadata": {
    "id": "a1dbdf04"
   },
   "outputs": [],
   "source": [
    "# WRITE YOUR CODE HERE\n",
    "\n"
   ]
  },
  {
   "cell_type": "markdown",
   "id": "af3e6ec9",
   "metadata": {
    "id": "24f9d2f1"
   },
   "source": [
    "c) Identify the best model according the test MSE. How does this model compare to the actual model used to simulate the dataset?\n",
    "\n",
    "*Note: If the model identified contains only an intercept or all of the features, then generate a new dataset (i.e. repeat part a with a different random seed) until the test set MSE is minimized for an intermediate model size.*"
   ]
  },
  {
   "cell_type": "code",
   "execution_count": null,
   "id": "bd7bd1ec",
   "metadata": {
    "id": "87db7d52"
   },
   "outputs": [],
   "source": [
    "# WRITE YOUR CODE HERE\n",
    "\n"
   ]
  },
  {
   "cell_type": "markdown",
   "id": "a2d2ef04",
   "metadata": {
    "id": "894b4503"
   },
   "source": [
    "> *Write your response here* \n",
    "> "
   ]
  },
  {
   "cell_type": "markdown",
   "id": "a003a1a1",
   "metadata": {
    "id": "35b974f0"
   },
   "source": [
    "**DUE:** 5pm EST, April 10, 2023"
   ]
  },
  {
   "cell_type": "markdown",
   "id": "b55820e3",
   "metadata": {
    "id": "957a72c5"
   },
   "source": [
    "**IMPORTANT** Did you collaborate with anyone on this assignment? If so, list their names here. \n",
    "> *Someone's Name*"
   ]
  }
 ],
 "metadata": {
  "colab": {
   "provenance": []
  },
  "kernelspec": {
   "display_name": "R",
   "language": "R",
   "name": "ir"
  },
  "language_info": {
   "codemirror_mode": "r",
   "file_extension": ".r",
   "mimetype": "text/x-r-source",
   "name": "R",
   "pygments_lexer": "r",
   "version": "4.2.0"
  }
 },
 "nbformat": 4,
 "nbformat_minor": 5
}