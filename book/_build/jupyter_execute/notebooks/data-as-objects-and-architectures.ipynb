{
 "cells": [
  {
   "cell_type": "markdown",
   "metadata": {},
   "source": [
    "# Tutorial: Data as Objects and Tidy Data\n",
    "\n",
    "## Goals:\n",
    "* Learn about Tidy Data, long data, and wide data\n",
    "* Learn how to interact with model objects in R, including extracting coefficients"
   ]
  },
  {
   "cell_type": "markdown",
   "metadata": {},
   "source": [
    "---\n",
    "# Tidy Data"
   ]
  },
  {
   "cell_type": "markdown",
   "metadata": {
    "id": "GygYOYht0ZAK"
   },
   "source": [
    "When you are working with data frames, it is best practice to keep your data **tidy**. **Tidy data** is a very specific term in which the following are true:\n",
    "\n",
    "* Columns are variables\n",
    "* Rows are individual observations\n",
    "* Observation for each variable is stored in the corresponding cell\n",
    "\n",
    "There are two versions of the tidy data format - long and wide. To illustrate the difference, imagine a repeated measures dataset, where you gather four observations for each subject at four different time points. In the **long data** format, each row represents an **observation** at a specific timepoint for a specific subject. Each subject has multiple rows of observations. The columns will be *subject*, *timepoint*, and *observation*. For example:"
   ]
  },
  {
   "cell_type": "code",
   "execution_count": null,
   "metadata": {
    "colab": {
     "base_uri": "https://localhost:8080/",
     "height": 336
    },
    "executionInfo": {
     "elapsed": 1367,
     "status": "ok",
     "timestamp": 1611095669012,
     "user": {
      "displayName": "Patience Stevens",
      "photoUrl": "https://lh3.googleusercontent.com/a-/AOh14Gi-_9ZqhIFhAv1oMehJNvNuIKSTyrFQHzjxQKhx=s64",
      "userId": "01994571539255174942"
     },
     "user_tz": 300
    },
    "id": "6P41tAP50ZAK",
    "outputId": "747d5ddf-235f-4662-9b54-e414354b75cf"
   },
   "outputs": [
    {
     "data": {
      "text/html": [
       "<table>\n",
       "<caption>A data.frame: 12 × 3</caption>\n",
       "<thead>\n",
       "\t<tr><th scope=col>subject</th><th scope=col>timepoint</th><th scope=col>observation</th></tr>\n",
       "\t<tr><th scope=col>&lt;int&gt;</th><th scope=col>&lt;int&gt;</th><th scope=col>&lt;dbl&gt;</th></tr>\n",
       "</thead>\n",
       "<tbody>\n",
       "\t<tr><td>1</td><td>1</td><td> 0.56</td></tr>\n",
       "\t<tr><td>1</td><td>2</td><td>-0.48</td></tr>\n",
       "\t<tr><td>1</td><td>3</td><td> 0.64</td></tr>\n",
       "\t<tr><td>1</td><td>4</td><td>-0.18</td></tr>\n",
       "\t<tr><td>2</td><td>1</td><td> 0.38</td></tr>\n",
       "\t<tr><td>2</td><td>2</td><td> 0.56</td></tr>\n",
       "\t<tr><td>2</td><td>3</td><td>-1.83</td></tr>\n",
       "\t<tr><td>2</td><td>4</td><td>-0.43</td></tr>\n",
       "\t<tr><td>3</td><td>1</td><td>-0.94</td></tr>\n",
       "\t<tr><td>3</td><td>2</td><td>-1.57</td></tr>\n",
       "\t<tr><td>3</td><td>3</td><td> 1.32</td></tr>\n",
       "\t<tr><td>3</td><td>4</td><td>-0.31</td></tr>\n",
       "</tbody>\n",
       "</table>\n"
      ],
      "text/latex": [
       "A data.frame: 12 × 3\n",
       "\\begin{tabular}{lll}\n",
       " subject & timepoint & observation\\\\\n",
       " <int> & <int> & <dbl>\\\\\n",
       "\\hline\n",
       "\t 1 & 1 &  0.56\\\\\n",
       "\t 1 & 2 & -0.48\\\\\n",
       "\t 1 & 3 &  0.64\\\\\n",
       "\t 1 & 4 & -0.18\\\\\n",
       "\t 2 & 1 &  0.38\\\\\n",
       "\t 2 & 2 &  0.56\\\\\n",
       "\t 2 & 3 & -1.83\\\\\n",
       "\t 2 & 4 & -0.43\\\\\n",
       "\t 3 & 1 & -0.94\\\\\n",
       "\t 3 & 2 & -1.57\\\\\n",
       "\t 3 & 3 &  1.32\\\\\n",
       "\t 3 & 4 & -0.31\\\\\n",
       "\\end{tabular}\n"
      ],
      "text/markdown": [
       "\n",
       "A data.frame: 12 × 3\n",
       "\n",
       "| subject &lt;int&gt; | timepoint &lt;int&gt; | observation &lt;dbl&gt; |\n",
       "|---|---|---|\n",
       "| 1 | 1 |  0.56 |\n",
       "| 1 | 2 | -0.48 |\n",
       "| 1 | 3 |  0.64 |\n",
       "| 1 | 4 | -0.18 |\n",
       "| 2 | 1 |  0.38 |\n",
       "| 2 | 2 |  0.56 |\n",
       "| 2 | 3 | -1.83 |\n",
       "| 2 | 4 | -0.43 |\n",
       "| 3 | 1 | -0.94 |\n",
       "| 3 | 2 | -1.57 |\n",
       "| 3 | 3 |  1.32 |\n",
       "| 3 | 4 | -0.31 |\n",
       "\n"
      ],
      "text/plain": [
       "   subject timepoint observation\n",
       "1  1       1          0.56      \n",
       "2  1       2         -0.48      \n",
       "3  1       3          0.64      \n",
       "4  1       4         -0.18      \n",
       "5  2       1          0.38      \n",
       "6  2       2          0.56      \n",
       "7  2       3         -1.83      \n",
       "8  2       4         -0.43      \n",
       "9  3       1         -0.94      \n",
       "10 3       2         -1.57      \n",
       "11 3       3          1.32      \n",
       "12 3       4         -0.31      "
      ]
     },
     "metadata": {
      "tags": []
     },
     "output_type": "display_data"
    }
   ],
   "source": [
    "long_data <- data.frame(subject = rep(1:3, each=4),\n",
    "                        timepoint = rep(1:4, times=3),\n",
    "                        observation = round(rnorm(12), 2))\n",
    "long_data"
   ]
  },
  {
   "cell_type": "markdown",
   "metadata": {
    "id": "gfjAUDkx0ZAL"
   },
   "source": [
    "Alternatively, the data can be organized in a **wide format**, in which each row is a single **subject**, the four different timepoints are represented as different columns, and the observation for each timepoint is stored at a cell within that column. Like this (don't worry about the code for now, it is explained in the next tutorial):"
   ]
  },
  {
   "cell_type": "code",
   "execution_count": null,
   "metadata": {
    "colab": {
     "base_uri": "https://localhost:8080/",
     "height": 143
    },
    "executionInfo": {
     "elapsed": 1350,
     "status": "ok",
     "timestamp": 1611095669013,
     "user": {
      "displayName": "Patience Stevens",
      "photoUrl": "https://lh3.googleusercontent.com/a-/AOh14Gi-_9ZqhIFhAv1oMehJNvNuIKSTyrFQHzjxQKhx=s64",
      "userId": "01994571539255174942"
     },
     "user_tz": 300
    },
    "id": "f0gKFGvd0ZAL",
    "outputId": "480e1d6f-6852-4d3e-ff17-6cbdd0a06835"
   },
   "outputs": [
    {
     "data": {
      "text/html": [
       "<table>\n",
       "<caption>A data.frame: 3 × 5</caption>\n",
       "<thead>\n",
       "\t<tr><th scope=col>subject</th><th scope=col>time1</th><th scope=col>time2</th><th scope=col>time3</th><th scope=col>time4</th></tr>\n",
       "\t<tr><th scope=col>&lt;int&gt;</th><th scope=col>&lt;dbl&gt;</th><th scope=col>&lt;dbl&gt;</th><th scope=col>&lt;dbl&gt;</th><th scope=col>&lt;dbl&gt;</th></tr>\n",
       "</thead>\n",
       "<tbody>\n",
       "\t<tr><td>1</td><td> 0.56</td><td>-0.48</td><td> 0.64</td><td>-0.18</td></tr>\n",
       "\t<tr><td>2</td><td> 0.38</td><td> 0.56</td><td>-1.83</td><td>-0.43</td></tr>\n",
       "\t<tr><td>3</td><td>-0.94</td><td>-1.57</td><td> 1.32</td><td>-0.31</td></tr>\n",
       "</tbody>\n",
       "</table>\n"
      ],
      "text/latex": [
       "A data.frame: 3 × 5\n",
       "\\begin{tabular}{lllll}\n",
       " subject & time1 & time2 & time3 & time4\\\\\n",
       " <int> & <dbl> & <dbl> & <dbl> & <dbl>\\\\\n",
       "\\hline\n",
       "\t 1 &  0.56 & -0.48 &  0.64 & -0.18\\\\\n",
       "\t 2 &  0.38 &  0.56 & -1.83 & -0.43\\\\\n",
       "\t 3 & -0.94 & -1.57 &  1.32 & -0.31\\\\\n",
       "\\end{tabular}\n"
      ],
      "text/markdown": [
       "\n",
       "A data.frame: 3 × 5\n",
       "\n",
       "| subject &lt;int&gt; | time1 &lt;dbl&gt; | time2 &lt;dbl&gt; | time3 &lt;dbl&gt; | time4 &lt;dbl&gt; |\n",
       "|---|---|---|---|---|\n",
       "| 1 |  0.56 | -0.48 |  0.64 | -0.18 |\n",
       "| 2 |  0.38 |  0.56 | -1.83 | -0.43 |\n",
       "| 3 | -0.94 | -1.57 |  1.32 | -0.31 |\n",
       "\n"
      ],
      "text/plain": [
       "  subject time1 time2 time3 time4\n",
       "1 1        0.56 -0.48  0.64 -0.18\n",
       "2 2        0.38  0.56 -1.83 -0.43\n",
       "3 3       -0.94 -1.57  1.32 -0.31"
      ]
     },
     "metadata": {
      "tags": []
     },
     "output_type": "display_data"
    }
   ],
   "source": [
    "long_data  %>% \n",
    "    mutate(timepoint = paste0('time',timepoint))  %>% \n",
    "    spread(timepoint, observation)"
   ]
  },
  {
   "cell_type": "markdown",
   "metadata": {
    "id": "Ig5Hr5dD0ZAh"
   },
   "source": [
    "---\n",
    "# Interacting with model objects in R"
   ]
  },
  {
   "cell_type": "markdown",
   "metadata": {
    "id": "raUZkQY20ZAh"
   },
   "source": [
    "Whenever you run a regression or any other type of model, the resulting model is saved in an **object** with properties you can access. This is handy for fitting a model once, and then referencing different aspects of that model's performance and fit. Let's see an example:"
   ]
  },
  {
   "cell_type": "code",
   "execution_count": 13,
   "metadata": {
    "colab": {
     "base_uri": "https://localhost:8080/"
    },
    "executionInfo": {
     "elapsed": 3163,
     "status": "ok",
     "timestamp": 1611100847160,
     "user": {
      "displayName": "Patience Stevens",
      "photoUrl": "https://lh3.googleusercontent.com/a-/AOh14Gi-_9ZqhIFhAv1oMehJNvNuIKSTyrFQHzjxQKhx=s64",
      "userId": "01994571539255174942"
     },
     "user_tz": 300
    },
    "id": "POfAYyZ60ZAh",
    "outputId": "90229928-cb54-4017-f530-6e6f38be22ae"
   },
   "outputs": [
    {
     "name": "stderr",
     "output_type": "stream",
     "text": [
      "── \u001b[1mAttaching packages\u001b[22m ─────────────────────────────────────── tidyverse 1.3.2 ──\n",
      "\u001b[32m✔\u001b[39m \u001b[34mggplot2\u001b[39m 3.3.6      \u001b[32m✔\u001b[39m \u001b[34mpurrr  \u001b[39m 0.3.5 \n",
      "\u001b[32m✔\u001b[39m \u001b[34mtibble \u001b[39m 3.1.8      \u001b[32m✔\u001b[39m \u001b[34mdplyr  \u001b[39m 1.0.10\n",
      "\u001b[32m✔\u001b[39m \u001b[34mtidyr  \u001b[39m 1.2.1      \u001b[32m✔\u001b[39m \u001b[34mstringr\u001b[39m 1.4.1 \n",
      "\u001b[32m✔\u001b[39m \u001b[34mreadr  \u001b[39m 2.1.3      \u001b[32m✔\u001b[39m \u001b[34mforcats\u001b[39m 0.5.2 \n",
      "── \u001b[1mConflicts\u001b[22m ────────────────────────────────────────── tidyverse_conflicts() ──\n",
      "\u001b[31m✖\u001b[39m \u001b[34mdplyr\u001b[39m::\u001b[32mfilter()\u001b[39m masks \u001b[34mstats\u001b[39m::filter()\n",
      "\u001b[31m✖\u001b[39m \u001b[34mdplyr\u001b[39m::\u001b[32mlag()\u001b[39m    masks \u001b[34mstats\u001b[39m::lag()\n"
     ]
    },
    {
     "data": {
      "text/html": [
       "<table class=\"dataframe\">\n",
       "<caption>A data.frame: 6 × 3</caption>\n",
       "<thead>\n",
       "\t<tr><th></th><th scope=col>x1</th><th scope=col>x2</th><th scope=col>y</th></tr>\n",
       "\t<tr><th></th><th scope=col>&lt;dbl&gt;</th><th scope=col>&lt;dbl&gt;</th><th scope=col>&lt;dbl&gt;</th></tr>\n",
       "</thead>\n",
       "<tbody>\n",
       "\t<tr><th scope=row>1</th><td>-4.0</td><td>-4</td><td>-0.3820138</td></tr>\n",
       "\t<tr><th scope=row>2</th><td>-3.5</td><td>-4</td><td>-0.3706878</td></tr>\n",
       "\t<tr><th scope=row>3</th><td>-3.0</td><td>-4</td><td>-0.3525741</td></tr>\n",
       "\t<tr><th scope=row>4</th><td>-2.5</td><td>-4</td><td>-0.3241418</td></tr>\n",
       "\t<tr><th scope=row>5</th><td>-2.0</td><td>-4</td><td>-0.2807971</td></tr>\n",
       "\t<tr><th scope=row>6</th><td>-1.5</td><td>-4</td><td>-0.2175745</td></tr>\n",
       "</tbody>\n",
       "</table>\n"
      ],
      "text/latex": [
       "A data.frame: 6 × 3\n",
       "\\begin{tabular}{r|lll}\n",
       "  & x1 & x2 & y\\\\\n",
       "  & <dbl> & <dbl> & <dbl>\\\\\n",
       "\\hline\n",
       "\t1 & -4.0 & -4 & -0.3820138\\\\\n",
       "\t2 & -3.5 & -4 & -0.3706878\\\\\n",
       "\t3 & -3.0 & -4 & -0.3525741\\\\\n",
       "\t4 & -2.5 & -4 & -0.3241418\\\\\n",
       "\t5 & -2.0 & -4 & -0.2807971\\\\\n",
       "\t6 & -1.5 & -4 & -0.2175745\\\\\n",
       "\\end{tabular}\n"
      ],
      "text/markdown": [
       "\n",
       "A data.frame: 6 × 3\n",
       "\n",
       "| <!--/--> | x1 &lt;dbl&gt; | x2 &lt;dbl&gt; | y &lt;dbl&gt; |\n",
       "|---|---|---|---|\n",
       "| 1 | -4.0 | -4 | -0.3820138 |\n",
       "| 2 | -3.5 | -4 | -0.3706878 |\n",
       "| 3 | -3.0 | -4 | -0.3525741 |\n",
       "| 4 | -2.5 | -4 | -0.3241418 |\n",
       "| 5 | -2.0 | -4 | -0.2807971 |\n",
       "| 6 | -1.5 | -4 | -0.2175745 |\n",
       "\n"
      ],
      "text/plain": [
       "  x1   x2 y         \n",
       "1 -4.0 -4 -0.3820138\n",
       "2 -3.5 -4 -0.3706878\n",
       "3 -3.0 -4 -0.3525741\n",
       "4 -2.5 -4 -0.3241418\n",
       "5 -2.0 -4 -0.2807971\n",
       "6 -1.5 -4 -0.2175745"
      ]
     },
     "metadata": {},
     "output_type": "display_data"
    }
   ],
   "source": [
    "library(tidyverse) #We'll learn about this package in the next tutorial!\n",
    "\n",
    "# generate data where y is a function of two variables, x1 and x2\n",
    "x1 <- seq(-4,4,0.5) #generate data ranging from -4 to 4 in steps of 0.5\n",
    "x2 <- seq(-4,4,0.5)\n",
    "\n",
    "#specify a sigmoidal relationship between x1 and y \n",
    "#and a linear relationship between x2 and y\n",
    "dat <- expand.grid(x1=x1, x2=x2) %>% \n",
    "    mutate(y = 1/(1+exp(-x1)) + 0.1*x2)\n",
    "\n",
    "head(dat)"
   ]
  },
  {
   "cell_type": "markdown",
   "metadata": {},
   "source": [
    "Note that `expand.grid` just creates a data frame with all possible pairs of the input variables. So here, each value of `x1` was paired with an `x2` value of -4, then with an `x2` value of -3.5, etc...\n",
    "\n",
    "We'll learn more about the pipe (%>%) and `mutate` in the next tutorial!"
   ]
  },
  {
   "cell_type": "markdown",
   "metadata": {
    "id": "DGOIFowS0ZAi"
   },
   "source": [
    "Here is how y depends on x1 and x2:"
   ]
  },
  {
   "cell_type": "code",
   "execution_count": 14,
   "metadata": {
    "colab": {
     "base_uri": "https://localhost:8080/",
     "height": 257
    },
    "executionInfo": {
     "elapsed": 1218,
     "status": "ok",
     "timestamp": 1611100852114,
     "user": {
      "displayName": "Patience Stevens",
      "photoUrl": "https://lh3.googleusercontent.com/a-/AOh14Gi-_9ZqhIFhAv1oMehJNvNuIKSTyrFQHzjxQKhx=s64",
      "userId": "01994571539255174942"
     },
     "user_tz": 300
    },
    "id": "eK7wZzTg0ZAi",
    "outputId": "575918a6-701d-48fb-d627-b634d3e698a0",
    "scrolled": true
   },
   "outputs": [
    {
     "data": {
      "image/png": "[encoded data removed]",
      "text/plain": [
       "plot without title"
      ]
     },
     "metadata": {
      "filenames": {
       "image/png": "/Users/timothyv/Cloud/Google Drive/Classes/DataSciencePsychNeuro_2022/Data-Explorations/book/_build/jupyter_execute/notebooks/data-as-objects-and-architectures_11_0.png"
      },
      "image/png": {
       "height": 240,
       "width": 360
      }
     },
     "output_type": "display_data"
    }
   ],
   "source": [
    "# setting figure size\n",
    "options(repr.plot.width=6, repr.plot.height=4)\n",
    "\n",
    "dat  %>%\n",
    "    gather(var, value, x1, x2) %>% # make it long format - only x1 or x2 in each row\n",
    "    ggplot(aes(value, y)) +\n",
    "    stat_summary(geom='point',fun=mean) +\n",
    "    stat_summary(geom='line',fun=mean) +\n",
    "    facet_wrap(~var)\n"
   ]
  },
  {
   "cell_type": "markdown",
   "metadata": {
    "id": "yZHaRzcg0ZAi"
   },
   "source": [
    "Now, let's add some noise and try to fit a regression model"
   ]
  },
  {
   "cell_type": "code",
   "execution_count": 15,
   "metadata": {
    "id": "P9Wet_zl0ZAi"
   },
   "outputs": [],
   "source": [
    "#create new y_obs variable with normally distributed noise\n",
    "dat <- mutate(dat, y_obs = y + rnorm(length(y), mean=0, sd=0.1)) \n",
    "\n",
    "#fit a linear model to find the regression coefficients\n",
    "model_fit <- lm(y_obs ~ x1 + x2, data=dat) "
   ]
  },
  {
   "cell_type": "markdown",
   "metadata": {
    "id": "0KkyK-Kd0ZAi"
   },
   "source": [
    "The resulting model is saved in the `model_fit` variable. This is the \"model object\", and you can do a number of things with it. First, the `str()` command, which is a general function for printing the structure of r objects, will tell you what you can find in the model object. As you can see below, it is a list of different variables, which you can access by typing the name of the model, followed by `$variable`."
   ]
  },
  {
   "cell_type": "code",
   "execution_count": null,
   "metadata": {
    "colab": {
     "base_uri": "https://localhost:8080/"
    },
    "executionInfo": {
     "elapsed": 280,
     "status": "ok",
     "timestamp": 1611101075221,
     "user": {
      "displayName": "Patience Stevens",
      "photoUrl": "https://lh3.googleusercontent.com/a-/AOh14Gi-_9ZqhIFhAv1oMehJNvNuIKSTyrFQHzjxQKhx=s64",
      "userId": "01994571539255174942"
     },
     "user_tz": 300
    },
    "id": "ho58svUp0ZAi",
    "outputId": "8f634224-90cc-4dfc-c99c-93f6efb753af"
   },
   "outputs": [
    {
     "name": "stdout",
     "output_type": "stream",
     "text": [
      "List of 12\n",
      " $ coefficients : Named num [1:3] 0.49 0.145 0.103\n",
      "  ..- attr(*, \"names\")= chr [1:3] \"(Intercept)\" \"x1\" \"x2\"\n",
      " $ residuals    : Named num [1:289] 0.161087 -0.000838 -0.047814 0.060155 -0.099688 ...\n",
      "  ..- attr(*, \"names\")= chr [1:289] \"1\" \"2\" \"3\" \"4\" ...\n",
      " $ effects      : Named num [1:289] -8.3291 6.0409 4.283 0.0562 -0.1037 ...\n",
      "  ..- attr(*, \"names\")= chr [1:289] \"(Intercept)\" \"x1\" \"x2\" \"\" ...\n",
      " $ rank         : int 3\n",
      " $ fitted.values: Named num [1:289] -0.502 -0.429 -0.357 -0.284 -0.212 ...\n",
      "  ..- attr(*, \"names\")= chr [1:289] \"1\" \"2\" \"3\" \"4\" ...\n",
      " $ assign       : int [1:3] 0 1 2\n",
      " $ qr           :List of 5\n",
      "  ..$ qr   : num [1:289, 1:3] -17 0.0588 0.0588 0.0588 0.0588 ...\n",
      "  .. ..- attr(*, \"dimnames\")=List of 2\n",
      "  .. .. ..$ : chr [1:289] \"1\" \"2\" \"3\" \"4\" ...\n",
      "  .. .. ..$ : chr [1:3] \"(Intercept)\" \"x1\" \"x2\"\n",
      "  .. ..- attr(*, \"assign\")= int [1:3] 0 1 2\n",
      "  ..$ qraux: num [1:3] 1.06 1.08 1.09\n",
      "  ..$ pivot: int [1:3] 1 2 3\n",
      "  ..$ tol  : num 1e-07\n",
      "  ..$ rank : int 3\n",
      "  ..- attr(*, \"class\")= chr \"qr\"\n",
      " $ df.residual  : int 286\n",
      " $ xlevels      : Named list()\n",
      " $ call         : language lm(formula = y_obs ~ x1 + x2, data = dat)\n",
      " $ terms        :Classes 'terms', 'formula'  language y_obs ~ x1 + x2\n",
      "  .. ..- attr(*, \"variables\")= language list(y_obs, x1, x2)\n",
      "  .. ..- attr(*, \"factors\")= int [1:3, 1:2] 0 1 0 0 0 1\n",
      "  .. .. ..- attr(*, \"dimnames\")=List of 2\n",
      "  .. .. .. ..$ : chr [1:3] \"y_obs\" \"x1\" \"x2\"\n",
      "  .. .. .. ..$ : chr [1:2] \"x1\" \"x2\"\n",
      "  .. ..- attr(*, \"term.labels\")= chr [1:2] \"x1\" \"x2\"\n",
      "  .. ..- attr(*, \"order\")= int [1:2] 1 1\n",
      "  .. ..- attr(*, \"intercept\")= int 1\n",
      "  .. ..- attr(*, \"response\")= int 1\n",
      "  .. ..- attr(*, \".Environment\")=<environment: R_GlobalEnv> \n",
      "  .. ..- attr(*, \"predvars\")= language list(y_obs, x1, x2)\n",
      "  .. ..- attr(*, \"dataClasses\")= Named chr [1:3] \"numeric\" \"numeric\" \"numeric\"\n",
      "  .. .. ..- attr(*, \"names\")= chr [1:3] \"y_obs\" \"x1\" \"x2\"\n",
      " $ model        :'data.frame':\t289 obs. of  3 variables:\n",
      "  ..$ y_obs: num [1:289] -0.341 -0.43 -0.404 -0.224 -0.311 ...\n",
      "  ..$ x1   : num [1:289] -4 -3.5 -3 -2.5 -2 -1.5 -1 -0.5 0 0.5 ...\n",
      "  ..$ x2   : num [1:289] -4 -4 -4 -4 -4 -4 -4 -4 -4 -4 ...\n",
      "  ..- attr(*, \"terms\")=Classes 'terms', 'formula'  language y_obs ~ x1 + x2\n",
      "  .. .. ..- attr(*, \"variables\")= language list(y_obs, x1, x2)\n",
      "  .. .. ..- attr(*, \"factors\")= int [1:3, 1:2] 0 1 0 0 0 1\n",
      "  .. .. .. ..- attr(*, \"dimnames\")=List of 2\n",
      "  .. .. .. .. ..$ : chr [1:3] \"y_obs\" \"x1\" \"x2\"\n",
      "  .. .. .. .. ..$ : chr [1:2] \"x1\" \"x2\"\n",
      "  .. .. ..- attr(*, \"term.labels\")= chr [1:2] \"x1\" \"x2\"\n",
      "  .. .. ..- attr(*, \"order\")= int [1:2] 1 1\n",
      "  .. .. ..- attr(*, \"intercept\")= int 1\n",
      "  .. .. ..- attr(*, \"response\")= int 1\n",
      "  .. .. ..- attr(*, \".Environment\")=<environment: R_GlobalEnv> \n",
      "  .. .. ..- attr(*, \"predvars\")= language list(y_obs, x1, x2)\n",
      "  .. .. ..- attr(*, \"dataClasses\")= Named chr [1:3] \"numeric\" \"numeric\" \"numeric\"\n",
      "  .. .. .. ..- attr(*, \"names\")= chr [1:3] \"y_obs\" \"x1\" \"x2\"\n",
      " - attr(*, \"class\")= chr \"lm\"\n"
     ]
    }
   ],
   "source": [
    "str(model_fit) #print the structure of the model object"
   ]
  },
  {
   "cell_type": "markdown",
   "metadata": {
    "id": "zgkM2poe0ZAj"
   },
   "source": [
    "For example, if we want to extract the estimated regression coefficients, we can type this, which returns a named vector."
   ]
  },
  {
   "cell_type": "code",
   "execution_count": 18,
   "metadata": {
    "colab": {
     "base_uri": "https://localhost:8080/",
     "height": 34
    },
    "executionInfo": {
     "elapsed": 377,
     "status": "ok",
     "timestamp": 1610118964548,
     "user": {
      "displayName": "Patience Stevens",
      "photoUrl": "https://lh3.googleusercontent.com/a-/AOh14GjqRUDcMR4tFdKvnsAyURx4cVRhor4TDPTxlFcGig=s64",
      "userId": "06497997468254738540"
     },
     "user_tz": 300
    },
    "id": "eSP2I1iD0ZAj",
    "outputId": "6a8b3254-c956-49ca-9d85-dc6cd66e5c1b"
   },
   "outputs": [
    {
     "data": {
      "text/html": [
       "<style>\n",
       ".dl-inline {width: auto; margin:0; padding: 0}\n",
       ".dl-inline>dt, .dl-inline>dd {float: none; width: auto; display: inline-block}\n",
       ".dl-inline>dt::after {content: \":\\0020\"; padding-right: .5ex}\n",
       ".dl-inline>dt:not(:first-of-type) {padding-left: .5ex}\n",
       "</style><dl class=dl-inline><dt>(Intercept)</dt><dd>0.503054186787634</dd><dt>x1</dt><dd>0.145736690427283</dd><dt>x2</dt><dd>0.101914512975517</dd></dl>\n"
      ],
      "text/latex": [
       "\\begin{description*}\n",
       "\\item[(Intercept)] 0.503054186787634\n",
       "\\item[x1] 0.145736690427283\n",
       "\\item[x2] 0.101914512975517\n",
       "\\end{description*}\n"
      ],
      "text/markdown": [
       "(Intercept)\n",
       ":   0.503054186787634x1\n",
       ":   0.145736690427283x2\n",
       ":   0.101914512975517\n",
       "\n"
      ],
      "text/plain": [
       "(Intercept)          x1          x2 \n",
       "  0.5030542   0.1457367   0.1019145 "
      ]
     },
     "metadata": {},
     "output_type": "display_data"
    }
   ],
   "source": [
    "model_fit$coefficients"
   ]
  },
  {
   "cell_type": "markdown",
   "metadata": {
    "id": "T18PjuC80ZAj"
   },
   "source": [
    "If we run multiple models, we might want to store these values in a data.frame, rather than a named vector like this:"
   ]
  },
  {
   "cell_type": "code",
   "execution_count": 19,
   "metadata": {
    "colab": {
     "base_uri": "https://localhost:8080/",
     "height": 141
    },
    "executionInfo": {
     "elapsed": 364,
     "status": "ok",
     "timestamp": 1610118966164,
     "user": {
      "displayName": "Patience Stevens",
      "photoUrl": "https://lh3.googleusercontent.com/a-/AOh14GjqRUDcMR4tFdKvnsAyURx4cVRhor4TDPTxlFcGig=s64",
      "userId": "06497997468254738540"
     },
     "user_tz": 300
    },
    "id": "RifpOV1b0ZAj",
    "outputId": "638d3a73-2df3-41c0-e423-27b1b1faea37"
   },
   "outputs": [
    {
     "data": {
      "text/html": [
       "<table class=\"dataframe\">\n",
       "<caption>A data.frame: 3 × 2</caption>\n",
       "<thead>\n",
       "\t<tr><th></th><th scope=col>name</th><th scope=col>value</th></tr>\n",
       "\t<tr><th></th><th scope=col>&lt;chr&gt;</th><th scope=col>&lt;dbl&gt;</th></tr>\n",
       "</thead>\n",
       "<tbody>\n",
       "\t<tr><th scope=row>(Intercept)</th><td>(Intercept)</td><td>0.5030542</td></tr>\n",
       "\t<tr><th scope=row>x1</th><td>x1         </td><td>0.1457367</td></tr>\n",
       "\t<tr><th scope=row>x2</th><td>x2         </td><td>0.1019145</td></tr>\n",
       "</tbody>\n",
       "</table>\n"
      ],
      "text/latex": [
       "A data.frame: 3 × 2\n",
       "\\begin{tabular}{r|ll}\n",
       "  & name & value\\\\\n",
       "  & <chr> & <dbl>\\\\\n",
       "\\hline\n",
       "\t(Intercept) & (Intercept) & 0.5030542\\\\\n",
       "\tx1 & x1          & 0.1457367\\\\\n",
       "\tx2 & x2          & 0.1019145\\\\\n",
       "\\end{tabular}\n"
      ],
      "text/markdown": [
       "\n",
       "A data.frame: 3 × 2\n",
       "\n",
       "| <!--/--> | name &lt;chr&gt; | value &lt;dbl&gt; |\n",
       "|---|---|---|\n",
       "| (Intercept) | (Intercept) | 0.5030542 |\n",
       "| x1 | x1          | 0.1457367 |\n",
       "| x2 | x2          | 0.1019145 |\n",
       "\n"
      ],
      "text/plain": [
       "            name        value    \n",
       "(Intercept) (Intercept) 0.5030542\n",
       "x1          x1          0.1457367\n",
       "x2          x2          0.1019145"
      ]
     },
     "metadata": {},
     "output_type": "display_data"
    }
   ],
   "source": [
    "#store the coefficients in a variable\n",
    "coef <- model_fit$coefficients \n",
    "\n",
    "#save the name/value of the coefficients in a dataframe\n",
    "data.frame(name = names(coef), value = coef) "
   ]
  },
  {
   "cell_type": "markdown",
   "metadata": {
    "id": "AbWkCc8P0ZAj"
   },
   "source": [
    "You can also extract the prediction of the model. They are stored under `$fitted.values`, or you can get them by typing `fitted(model_fit)`, which returns the same values. Then, we can plot the observed values against the predicted values:"
   ]
  },
  {
   "cell_type": "code",
   "execution_count": 20,
   "metadata": {
    "colab": {
     "base_uri": "https://localhost:8080/",
     "height": 257
    },
    "executionInfo": {
     "elapsed": 876,
     "status": "ok",
     "timestamp": 1610118968793,
     "user": {
      "displayName": "Patience Stevens",
      "photoUrl": "https://lh3.googleusercontent.com/a-/AOh14GjqRUDcMR4tFdKvnsAyURx4cVRhor4TDPTxlFcGig=s64",
      "userId": "06497997468254738540"
     },
     "user_tz": 300
    },
    "id": "xaG8BE1u0ZAj",
    "outputId": "2a8281be-0d54-4a9d-aabc-7745036ebd51"
   },
   "outputs": [
    {
     "data": {
      "text/html": [
       "<table class=\"dataframe\">\n",
       "<caption>A data.frame: 6 × 5</caption>\n",
       "<thead>\n",
       "\t<tr><th></th><th scope=col>x1</th><th scope=col>x2</th><th scope=col>y</th><th scope=col>y_obs</th><th scope=col>fitted</th></tr>\n",
       "\t<tr><th></th><th scope=col>&lt;dbl&gt;</th><th scope=col>&lt;dbl&gt;</th><th scope=col>&lt;dbl&gt;</th><th scope=col>&lt;dbl&gt;</th><th scope=col>&lt;dbl&gt;</th></tr>\n",
       "</thead>\n",
       "<tbody>\n",
       "\t<tr><th scope=row>1</th><td>-4.0</td><td>-4</td><td>-0.3820138</td><td>-0.39720021</td><td>-0.4875506</td></tr>\n",
       "\t<tr><th scope=row>2</th><td>-3.5</td><td>-4</td><td>-0.3706878</td><td>-0.40502036</td><td>-0.4146823</td></tr>\n",
       "\t<tr><th scope=row>3</th><td>-3.0</td><td>-4</td><td>-0.3525741</td><td>-0.37797924</td><td>-0.3418139</td></tr>\n",
       "\t<tr><th scope=row>4</th><td>-2.5</td><td>-4</td><td>-0.3241418</td><td>-0.41380740</td><td>-0.2689456</td></tr>\n",
       "\t<tr><th scope=row>5</th><td>-2.0</td><td>-4</td><td>-0.2807971</td><td>-0.20525168</td><td>-0.1960772</td></tr>\n",
       "\t<tr><th scope=row>6</th><td>-1.5</td><td>-4</td><td>-0.2175745</td><td>-0.09077483</td><td>-0.1232089</td></tr>\n",
       "</tbody>\n",
       "</table>\n"
      ],
      "text/latex": [
       "A data.frame: 6 × 5\n",
       "\\begin{tabular}{r|lllll}\n",
       "  & x1 & x2 & y & y\\_obs & fitted\\\\\n",
       "  & <dbl> & <dbl> & <dbl> & <dbl> & <dbl>\\\\\n",
       "\\hline\n",
       "\t1 & -4.0 & -4 & -0.3820138 & -0.39720021 & -0.4875506\\\\\n",
       "\t2 & -3.5 & -4 & -0.3706878 & -0.40502036 & -0.4146823\\\\\n",
       "\t3 & -3.0 & -4 & -0.3525741 & -0.37797924 & -0.3418139\\\\\n",
       "\t4 & -2.5 & -4 & -0.3241418 & -0.41380740 & -0.2689456\\\\\n",
       "\t5 & -2.0 & -4 & -0.2807971 & -0.20525168 & -0.1960772\\\\\n",
       "\t6 & -1.5 & -4 & -0.2175745 & -0.09077483 & -0.1232089\\\\\n",
       "\\end{tabular}\n"
      ],
      "text/markdown": [
       "\n",
       "A data.frame: 6 × 5\n",
       "\n",
       "| <!--/--> | x1 &lt;dbl&gt; | x2 &lt;dbl&gt; | y &lt;dbl&gt; | y_obs &lt;dbl&gt; | fitted &lt;dbl&gt; |\n",
       "|---|---|---|---|---|---|\n",
       "| 1 | -4.0 | -4 | -0.3820138 | -0.39720021 | -0.4875506 |\n",
       "| 2 | -3.5 | -4 | -0.3706878 | -0.40502036 | -0.4146823 |\n",
       "| 3 | -3.0 | -4 | -0.3525741 | -0.37797924 | -0.3418139 |\n",
       "| 4 | -2.5 | -4 | -0.3241418 | -0.41380740 | -0.2689456 |\n",
       "| 5 | -2.0 | -4 | -0.2807971 | -0.20525168 | -0.1960772 |\n",
       "| 6 | -1.5 | -4 | -0.2175745 | -0.09077483 | -0.1232089 |\n",
       "\n"
      ],
      "text/plain": [
       "  x1   x2 y          y_obs       fitted    \n",
       "1 -4.0 -4 -0.3820138 -0.39720021 -0.4875506\n",
       "2 -3.5 -4 -0.3706878 -0.40502036 -0.4146823\n",
       "3 -3.0 -4 -0.3525741 -0.37797924 -0.3418139\n",
       "4 -2.5 -4 -0.3241418 -0.41380740 -0.2689456\n",
       "5 -2.0 -4 -0.2807971 -0.20525168 -0.1960772\n",
       "6 -1.5 -4 -0.2175745 -0.09077483 -0.1232089"
      ]
     },
     "metadata": {},
     "output_type": "display_data"
    }
   ],
   "source": [
    "#extract model estimate of y for each x and store in df as fitted\n",
    "dat$fitted <- model_fit$fitted.values \n",
    "\n",
    "head(dat) #we see \"fitted\" column added"
   ]
  },
  {
   "cell_type": "code",
   "execution_count": 21,
   "metadata": {
    "colab": {
     "base_uri": "https://localhost:8080/",
     "height": 204
    },
    "executionInfo": {
     "elapsed": 347,
     "status": "ok",
     "timestamp": 1610118970344,
     "user": {
      "displayName": "Patience Stevens",
      "photoUrl": "https://lh3.googleusercontent.com/a-/AOh14GjqRUDcMR4tFdKvnsAyURx4cVRhor4TDPTxlFcGig=s64",
      "userId": "06497997468254738540"
     },
     "user_tz": 300
    },
    "id": "HmA3jL8R0ZAk",
    "outputId": "f2f25b46-27fb-4be2-84d1-3782e09a36bb"
   },
   "outputs": [
    {
     "data": {
      "image/png": "[encoded data removed]",
      "text/plain": [
       "plot without title"
      ]
     },
     "metadata": {
      "filenames": {
       "image/png": "/Users/timothyv/Cloud/Google Drive/Classes/DataSciencePsychNeuro_2022/Data-Explorations/book/_build/jupyter_execute/notebooks/data-as-objects-and-architectures_22_0.png"
      },
      "image/png": {
       "height": 240,
       "width": 360
      }
     },
     "output_type": "display_data"
    }
   ],
   "source": [
    "#plot fitted against the observed data \n",
    "ggplot(dat, aes(fitted, y_obs)) + \n",
    "    stat_summary(geom='point',fun=mean)"
   ]
  },
  {
   "cell_type": "markdown",
   "metadata": {
    "id": "222zspi80ZAk"
   },
   "source": [
    "Given your fitted model, you can also easily generate predictions of y given new values of x using the `predict` function: "
   ]
  },
  {
   "cell_type": "code",
   "execution_count": null,
   "metadata": {
    "colab": {
     "base_uri": "https://localhost:8080/",
     "height": 34
    },
    "executionInfo": {
     "elapsed": 303,
     "status": "ok",
     "timestamp": 1610118972422,
     "user": {
      "displayName": "Patience Stevens",
      "photoUrl": "https://lh3.googleusercontent.com/a-/AOh14GjqRUDcMR4tFdKvnsAyURx4cVRhor4TDPTxlFcGig=s64",
      "userId": "06497997468254738540"
     },
     "user_tz": 300
    },
    "id": "2ajyC3eS0ZAk",
    "outputId": "afc0ffca-a206-4c74-e36c-229da2782fd6",
    "scrolled": false
   },
   "outputs": [
    {
     "data": {
      "text/html": [
       "<strong>1:</strong> 0.744664879536758"
      ],
      "text/latex": [
       "\\textbf{1:} 0.744664879536758"
      ],
      "text/markdown": [
       "**1:** 0.744664879536758"
      ],
      "text/plain": [
       "        1 \n",
       "0.7446649 "
      ]
     },
     "metadata": {
      "tags": []
     },
     "output_type": "display_data"
    }
   ],
   "source": [
    "new_data <- data.frame(x1=-5, x2=10) #new x-values to give to the model \n",
    "predict(model_fit, newdata = new_data) #predict the y value for a given x "
   ]
  },
  {
   "cell_type": "markdown",
   "metadata": {},
   "source": [
    "That's all for now! We'll dive into some more advanced functions for data manipulation in R in the next tutorial."
   ]
  },
  {
   "cell_type": "markdown",
   "metadata": {
    "id": "BUm4wLV1ibtZ"
   },
   "source": [
    "*Notebook authored by Ven Popov and edited by Krista Bond, Charles Wu, Patience Stevens, Amy Sentis, and Fiona Horner.*"
   ]
  }
 ],
 "metadata": {
  "colab": {
   "collapsed_sections": [],
   "name": "techniques-for-data-cleansing.ipynb",
   "provenance": []
  },
  "kernelspec": {
   "display_name": "R",
   "language": "R",
   "name": "ir"
  },
  "language_info": {
   "codemirror_mode": "r",
   "file_extension": ".r",
   "mimetype": "text/x-r-source",
   "name": "R",
   "pygments_lexer": "r",
   "version": "4.2.0"
  }
 },
 "nbformat": 4,
 "nbformat_minor": 1
}