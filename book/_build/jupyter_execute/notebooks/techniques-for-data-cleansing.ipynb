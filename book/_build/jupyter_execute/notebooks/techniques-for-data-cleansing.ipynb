{
 "cells": [
  {
   "cell_type": "markdown",
   "metadata": {},
   "source": [
    "# Tutorial: Data cleansing\n",
    "In this tutorial, we'll talk about how to use \"model objects\" in R. \n",
    "\n",
    "## Goals:\n",
    "* Learn how to interact with model objects in R including extracting coefficients\n",
    "* Learn how to use the `nest()` function\n",
    "* Learn how to use the `map()` function"
   ]
  },
  {
   "cell_type": "markdown",
   "metadata": {
    "id": "Ig5Hr5dD0ZAh"
   },
   "source": [
    "---\n",
    "# Interacting with model objects in R"
   ]
  },
  {
   "cell_type": "markdown",
   "metadata": {
    "id": "raUZkQY20ZAh"
   },
   "source": [
    "Whenever you run a regression or any other type of model, the resulting model is saved in an object with properties you can access. This is handy for fitting a model once, and then referencing different aspects of that model's performance and fit. Let's see an example:"
   ]
  },
  {
   "cell_type": "code",
   "execution_count": null,
   "metadata": {
    "colab": {
     "base_uri": "https://localhost:8080/"
    },
    "executionInfo": {
     "elapsed": 3163,
     "status": "ok",
     "timestamp": 1611100847160,
     "user": {
      "displayName": "Patience Stevens",
      "photoUrl": "https://lh3.googleusercontent.com/a-/AOh14Gi-_9ZqhIFhAv1oMehJNvNuIKSTyrFQHzjxQKhx=s64",
      "userId": "01994571539255174942"
     },
     "user_tz": 300
    },
    "id": "POfAYyZ60ZAh",
    "outputId": "90229928-cb54-4017-f530-6e6f38be22ae"
   },
   "outputs": [
    {
     "name": "stderr",
     "output_type": "stream",
     "text": [
      "── \u001b[1mAttaching packages\u001b[22m ─────────────────────────────────────── tidyverse 1.3.0 ──\n",
      "\n",
      "\u001b[32m✔\u001b[39m \u001b[34mggplot2\u001b[39m 3.3.3     \u001b[32m✔\u001b[39m \u001b[34mpurrr  \u001b[39m 0.3.4\n",
      "\u001b[32m✔\u001b[39m \u001b[34mtibble \u001b[39m 3.0.4     \u001b[32m✔\u001b[39m \u001b[34mdplyr  \u001b[39m 1.0.2\n",
      "\u001b[32m✔\u001b[39m \u001b[34mtidyr  \u001b[39m 1.1.2     \u001b[32m✔\u001b[39m \u001b[34mstringr\u001b[39m 1.4.0\n",
      "\u001b[32m✔\u001b[39m \u001b[34mreadr  \u001b[39m 1.4.0     \u001b[32m✔\u001b[39m \u001b[34mforcats\u001b[39m 0.5.0\n",
      "\n",
      "── \u001b[1mConflicts\u001b[22m ────────────────────────────────────────── tidyverse_conflicts() ──\n",
      "\u001b[31m✖\u001b[39m \u001b[34mdplyr\u001b[39m::\u001b[32mfilter()\u001b[39m masks \u001b[34mstats\u001b[39m::filter()\n",
      "\u001b[31m✖\u001b[39m \u001b[34mdplyr\u001b[39m::\u001b[32mlag()\u001b[39m    masks \u001b[34mstats\u001b[39m::lag()\n",
      "\n"
     ]
    }
   ],
   "source": [
    "library(tidyverse)\n",
    "\n",
    "# generate data where y is a function of two variables, x1 and x2\n",
    "x1 <- seq(-4,4,0.5) #generate data ranging from -4 to 4 in steps of 0.5\n",
    "x2 <- seq(-4,4,0.5)\n",
    "#specify a sigmoidal relationship between x1 and y and a linear relationship between x2 and y\n",
    "dat <- expand.grid(x1=x1, x2=x2)  %>% mutate(y = 1/(1+exp(-x1)) + 0.1*x2)"
   ]
  },
  {
   "cell_type": "markdown",
   "metadata": {
    "id": "DGOIFowS0ZAi"
   },
   "source": [
    "Here is how y depends on x1 and x2:"
   ]
  },
  {
   "cell_type": "code",
   "execution_count": null,
   "metadata": {
    "colab": {
     "base_uri": "https://localhost:8080/",
     "height": 257
    },
    "executionInfo": {
     "elapsed": 1218,
     "status": "ok",
     "timestamp": 1611100852114,
     "user": {
      "displayName": "Patience Stevens",
      "photoUrl": "https://lh3.googleusercontent.com/a-/AOh14Gi-_9ZqhIFhAv1oMehJNvNuIKSTyrFQHzjxQKhx=s64",
      "userId": "01994571539255174942"
     },
     "user_tz": 300
    },
    "id": "eK7wZzTg0ZAi",
    "outputId": "575918a6-701d-48fb-d627-b634d3e698a0"
   },
   "outputs": [
    {
     "data": {
      "image/png": "[encoded data removed]",
      "text/plain": [
       "plot without title"
      ]
     },
     "metadata": {
      "filenames": {
       "image/png": "/Users/timothyv/Cloud/Google Drive/Classes/DataSciencePsychNeuro_2022/Data-Explorations/book/_build/jupyter_execute/notebooks/techniques-for-data-cleansing_5_0.png"
      },
      "image/png": {
       "height": 240,
       "width": 360
      },
      "tags": []
     },
     "output_type": "display_data"
    }
   ],
   "source": [
    "options(repr.plot.width=6, repr.plot.height=4)\n",
    "dat  %>%\n",
    "    gather(var, value, x1, x2)  %>% # make it long format - only x1 or x2 in each row\n",
    "    ggplot(aes(value, y)) +\n",
    "    stat_summary(geom='point',fun=mean) +\n",
    "    stat_summary(geom='line',fun=mean) +\n",
    "    facet_wrap(~var)"
   ]
  },
  {
   "cell_type": "markdown",
   "metadata": {
    "id": "yZHaRzcg0ZAi"
   },
   "source": [
    "Now, let's add some noise and try to fit a regression model"
   ]
  },
  {
   "cell_type": "code",
   "execution_count": null,
   "metadata": {
    "id": "P9Wet_zl0ZAi"
   },
   "outputs": [],
   "source": [
    "dat <- mutate(dat, y_obs = y + rnorm(length(y), mean=0, sd=0.1)) #add normally distributed noise\n",
    "model_fit <- lm(y_obs ~ x1 + x2, data=dat) #fit a linear model to find the regression coeff."
   ]
  },
  {
   "cell_type": "markdown",
   "metadata": {
    "id": "0KkyK-Kd0ZAi"
   },
   "source": [
    "The resulting model is save in the `model_fit` variable. This is the \"model object\", and you can do a number of things with it. First, the `str` command, which is a general function for printing the structure of r objects, will tell you what you can find in the model object. As you can see below, it is a list of different variables, which you can access by typing the name of the model, followed by `$variable`."
   ]
  },
  {
   "cell_type": "code",
   "execution_count": null,
   "metadata": {
    "colab": {
     "base_uri": "https://localhost:8080/"
    },
    "executionInfo": {
     "elapsed": 280,
     "status": "ok",
     "timestamp": 1611101075221,
     "user": {
      "displayName": "Patience Stevens",
      "photoUrl": "https://lh3.googleusercontent.com/a-/AOh14Gi-_9ZqhIFhAv1oMehJNvNuIKSTyrFQHzjxQKhx=s64",
      "userId": "01994571539255174942"
     },
     "user_tz": 300
    },
    "id": "ho58svUp0ZAi",
    "outputId": "8f634224-90cc-4dfc-c99c-93f6efb753af"
   },
   "outputs": [
    {
     "name": "stdout",
     "output_type": "stream",
     "text": [
      "List of 12\n",
      " $ coefficients : Named num [1:3] 0.49 0.145 0.103\n",
      "  ..- attr(*, \"names\")= chr [1:3] \"(Intercept)\" \"x1\" \"x2\"\n",
      " $ residuals    : Named num [1:289] 0.161087 -0.000838 -0.047814 0.060155 -0.099688 ...\n",
      "  ..- attr(*, \"names\")= chr [1:289] \"1\" \"2\" \"3\" \"4\" ...\n",
      " $ effects      : Named num [1:289] -8.3291 6.0409 4.283 0.0562 -0.1037 ...\n",
      "  ..- attr(*, \"names\")= chr [1:289] \"(Intercept)\" \"x1\" \"x2\" \"\" ...\n",
      " $ rank         : int 3\n",
      " $ fitted.values: Named num [1:289] -0.502 -0.429 -0.357 -0.284 -0.212 ...\n",
      "  ..- attr(*, \"names\")= chr [1:289] \"1\" \"2\" \"3\" \"4\" ...\n",
      " $ assign       : int [1:3] 0 1 2\n",
      " $ qr           :List of 5\n",
      "  ..$ qr   : num [1:289, 1:3] -17 0.0588 0.0588 0.0588 0.0588 ...\n",
      "  .. ..- attr(*, \"dimnames\")=List of 2\n",
      "  .. .. ..$ : chr [1:289] \"1\" \"2\" \"3\" \"4\" ...\n",
      "  .. .. ..$ : chr [1:3] \"(Intercept)\" \"x1\" \"x2\"\n",
      "  .. ..- attr(*, \"assign\")= int [1:3] 0 1 2\n",
      "  ..$ qraux: num [1:3] 1.06 1.08 1.09\n",
      "  ..$ pivot: int [1:3] 1 2 3\n",
      "  ..$ tol  : num 1e-07\n",
      "  ..$ rank : int 3\n",
      "  ..- attr(*, \"class\")= chr \"qr\"\n",
      " $ df.residual  : int 286\n",
      " $ xlevels      : Named list()\n",
      " $ call         : language lm(formula = y_obs ~ x1 + x2, data = dat)\n",
      " $ terms        :Classes 'terms', 'formula'  language y_obs ~ x1 + x2\n",
      "  .. ..- attr(*, \"variables\")= language list(y_obs, x1, x2)\n",
      "  .. ..- attr(*, \"factors\")= int [1:3, 1:2] 0 1 0 0 0 1\n",
      "  .. .. ..- attr(*, \"dimnames\")=List of 2\n",
      "  .. .. .. ..$ : chr [1:3] \"y_obs\" \"x1\" \"x2\"\n",
      "  .. .. .. ..$ : chr [1:2] \"x1\" \"x2\"\n",
      "  .. ..- attr(*, \"term.labels\")= chr [1:2] \"x1\" \"x2\"\n",
      "  .. ..- attr(*, \"order\")= int [1:2] 1 1\n",
      "  .. ..- attr(*, \"intercept\")= int 1\n",
      "  .. ..- attr(*, \"response\")= int 1\n",
      "  .. ..- attr(*, \".Environment\")=<environment: R_GlobalEnv> \n",
      "  .. ..- attr(*, \"predvars\")= language list(y_obs, x1, x2)\n",
      "  .. ..- attr(*, \"dataClasses\")= Named chr [1:3] \"numeric\" \"numeric\" \"numeric\"\n",
      "  .. .. ..- attr(*, \"names\")= chr [1:3] \"y_obs\" \"x1\" \"x2\"\n",
      " $ model        :'data.frame':\t289 obs. of  3 variables:\n",
      "  ..$ y_obs: num [1:289] -0.341 -0.43 -0.404 -0.224 -0.311 ...\n",
      "  ..$ x1   : num [1:289] -4 -3.5 -3 -2.5 -2 -1.5 -1 -0.5 0 0.5 ...\n",
      "  ..$ x2   : num [1:289] -4 -4 -4 -4 -4 -4 -4 -4 -4 -4 ...\n",
      "  ..- attr(*, \"terms\")=Classes 'terms', 'formula'  language y_obs ~ x1 + x2\n",
      "  .. .. ..- attr(*, \"variables\")= language list(y_obs, x1, x2)\n",
      "  .. .. ..- attr(*, \"factors\")= int [1:3, 1:2] 0 1 0 0 0 1\n",
      "  .. .. .. ..- attr(*, \"dimnames\")=List of 2\n",
      "  .. .. .. .. ..$ : chr [1:3] \"y_obs\" \"x1\" \"x2\"\n",
      "  .. .. .. .. ..$ : chr [1:2] \"x1\" \"x2\"\n",
      "  .. .. ..- attr(*, \"term.labels\")= chr [1:2] \"x1\" \"x2\"\n",
      "  .. .. ..- attr(*, \"order\")= int [1:2] 1 1\n",
      "  .. .. ..- attr(*, \"intercept\")= int 1\n",
      "  .. .. ..- attr(*, \"response\")= int 1\n",
      "  .. .. ..- attr(*, \".Environment\")=<environment: R_GlobalEnv> \n",
      "  .. .. ..- attr(*, \"predvars\")= language list(y_obs, x1, x2)\n",
      "  .. .. ..- attr(*, \"dataClasses\")= Named chr [1:3] \"numeric\" \"numeric\" \"numeric\"\n",
      "  .. .. .. ..- attr(*, \"names\")= chr [1:3] \"y_obs\" \"x1\" \"x2\"\n",
      " - attr(*, \"class\")= chr \"lm\"\n"
     ]
    }
   ],
   "source": [
    "str(model_fit) #print the structure of the model object"
   ]
  },
  {
   "cell_type": "markdown",
   "metadata": {
    "id": "zgkM2poe0ZAj"
   },
   "source": [
    "For example, if we want to extract the estimated regression coefficients, we can type this, which returns a named vector."
   ]
  },
  {
   "cell_type": "code",
   "execution_count": null,
   "metadata": {
    "colab": {
     "base_uri": "https://localhost:8080/",
     "height": 34
    },
    "executionInfo": {
     "elapsed": 377,
     "status": "ok",
     "timestamp": 1610118964548,
     "user": {
      "displayName": "Patience Stevens",
      "photoUrl": "https://lh3.googleusercontent.com/a-/AOh14GjqRUDcMR4tFdKvnsAyURx4cVRhor4TDPTxlFcGig=s64",
      "userId": "06497997468254738540"
     },
     "user_tz": 300
    },
    "id": "eSP2I1iD0ZAj",
    "outputId": "6a8b3254-c956-49ca-9d85-dc6cd66e5c1b"
   },
   "outputs": [
    {
     "data": {
      "text/html": [
       "<style>\n",
       ".dl-inline {width: auto; margin:0; padding: 0}\n",
       ".dl-inline>dt, .dl-inline>dd {float: none; width: auto; display: inline-block}\n",
       ".dl-inline>dt::after {content: \":\\0020\"; padding-right: .5ex}\n",
       ".dl-inline>dt:not(:first-of-type) {padding-left: .5ex}\n",
       "</style><dl class=dl-inline><dt>(Intercept)</dt><dd>0.503229779527678</dd><dt>x1</dt><dd>0.147682156091528</dd><dt>x2</dt><dd>0.0979845880466721</dd></dl>\n"
      ],
      "text/latex": [
       "\\begin{description*}\n",
       "\\item[(Intercept)] 0.503229779527678\n",
       "\\item[x1] 0.147682156091528\n",
       "\\item[x2] 0.0979845880466721\n",
       "\\end{description*}\n"
      ],
      "text/markdown": [
       "(Intercept)\n",
       ":   0.503229779527678x1\n",
       ":   0.147682156091528x2\n",
       ":   0.0979845880466721\n",
       "\n"
      ],
      "text/plain": [
       "(Intercept)          x1          x2 \n",
       " 0.50322978  0.14768216  0.09798459 "
      ]
     },
     "metadata": {
      "tags": []
     },
     "output_type": "display_data"
    }
   ],
   "source": [
    "model_fit$coefficients"
   ]
  },
  {
   "cell_type": "markdown",
   "metadata": {
    "id": "T18PjuC80ZAj"
   },
   "source": [
    "If we run multiple models, we might want to store these values in a data.frame, rather than a named vector like this:"
   ]
  },
  {
   "cell_type": "code",
   "execution_count": null,
   "metadata": {
    "colab": {
     "base_uri": "https://localhost:8080/",
     "height": 141
    },
    "executionInfo": {
     "elapsed": 364,
     "status": "ok",
     "timestamp": 1610118966164,
     "user": {
      "displayName": "Patience Stevens",
      "photoUrl": "https://lh3.googleusercontent.com/a-/AOh14GjqRUDcMR4tFdKvnsAyURx4cVRhor4TDPTxlFcGig=s64",
      "userId": "06497997468254738540"
     },
     "user_tz": 300
    },
    "id": "RifpOV1b0ZAj",
    "outputId": "638d3a73-2df3-41c0-e423-27b1b1faea37"
   },
   "outputs": [
    {
     "data": {
      "text/html": [
       "<table>\n",
       "<caption>A data.frame: 3 × 2</caption>\n",
       "<thead>\n",
       "\t<tr><th></th><th scope=col>name</th><th scope=col>value</th></tr>\n",
       "\t<tr><th></th><th scope=col>&lt;chr&gt;</th><th scope=col>&lt;dbl&gt;</th></tr>\n",
       "</thead>\n",
       "<tbody>\n",
       "\t<tr><th scope=row>(Intercept)</th><td>(Intercept)</td><td>0.50322978</td></tr>\n",
       "\t<tr><th scope=row>x1</th><td>x1         </td><td>0.14768216</td></tr>\n",
       "\t<tr><th scope=row>x2</th><td>x2         </td><td>0.09798459</td></tr>\n",
       "</tbody>\n",
       "</table>\n"
      ],
      "text/latex": [
       "A data.frame: 3 × 2\n",
       "\\begin{tabular}{r|ll}\n",
       "  & name & value\\\\\n",
       "  & <chr> & <dbl>\\\\\n",
       "\\hline\n",
       "\t(Intercept) & (Intercept) & 0.50322978\\\\\n",
       "\tx1 & x1          & 0.14768216\\\\\n",
       "\tx2 & x2          & 0.09798459\\\\\n",
       "\\end{tabular}\n"
      ],
      "text/markdown": [
       "\n",
       "A data.frame: 3 × 2\n",
       "\n",
       "| <!--/--> | name &lt;chr&gt; | value &lt;dbl&gt; |\n",
       "|---|---|---|\n",
       "| (Intercept) | (Intercept) | 0.50322978 |\n",
       "| x1 | x1          | 0.14768216 |\n",
       "| x2 | x2          | 0.09798459 |\n",
       "\n"
      ],
      "text/plain": [
       "            name        value     \n",
       "(Intercept) (Intercept) 0.50322978\n",
       "x1          x1          0.14768216\n",
       "x2          x2          0.09798459"
      ]
     },
     "metadata": {
      "tags": []
     },
     "output_type": "display_data"
    }
   ],
   "source": [
    "coef <- model_fit$coefficients #store the coefficients in a variable\n",
    "data.frame(name = names(coef), value = coef) #save the name/value of the coefficients in a dataframe"
   ]
  },
  {
   "cell_type": "markdown",
   "metadata": {
    "id": "AbWkCc8P0ZAj"
   },
   "source": [
    "You can extract the prediction of the model. They are stored under `$fitted.values`, or you can also get them by typing `fitted(model_fit)`, which returns the same values. Then, we can plot the observed values against the predicted values:"
   ]
  },
  {
   "cell_type": "code",
   "execution_count": null,
   "metadata": {
    "colab": {
     "base_uri": "https://localhost:8080/",
     "height": 257
    },
    "executionInfo": {
     "elapsed": 876,
     "status": "ok",
     "timestamp": 1610118968793,
     "user": {
      "displayName": "Patience Stevens",
      "photoUrl": "https://lh3.googleusercontent.com/a-/AOh14GjqRUDcMR4tFdKvnsAyURx4cVRhor4TDPTxlFcGig=s64",
      "userId": "06497997468254738540"
     },
     "user_tz": 300
    },
    "id": "xaG8BE1u0ZAj",
    "outputId": "2a8281be-0d54-4a9d-aabc-7745036ebd51"
   },
   "outputs": [
    {
     "data": {
      "image/png": "[encoded data removed]",
      "text/plain": [
       "plot without title"
      ]
     },
     "metadata": {
      "filenames": {
       "image/png": "/Users/timothyv/Cloud/Google Drive/Classes/DataSciencePsychNeuro_2022/Data-Explorations/book/_build/jupyter_execute/notebooks/techniques-for-data-cleansing_15_0.png"
      },
      "image/png": {
       "height": 240,
       "width": 360
      },
      "tags": []
     },
     "output_type": "display_data"
    }
   ],
   "source": [
    "dat$fitted <- model_fit$fitted.values #extract model estimate of y for each x and store in df as fitted\n",
    "ggplot(dat, aes(fitted, y_obs)) + #plot against the observed data \n",
    "    stat_summary(geom='point',fun=mean)"
   ]
  },
  {
   "cell_type": "code",
   "execution_count": null,
   "metadata": {
    "colab": {
     "base_uri": "https://localhost:8080/",
     "height": 204
    },
    "executionInfo": {
     "elapsed": 347,
     "status": "ok",
     "timestamp": 1610118970344,
     "user": {
      "displayName": "Patience Stevens",
      "photoUrl": "https://lh3.googleusercontent.com/a-/AOh14GjqRUDcMR4tFdKvnsAyURx4cVRhor4TDPTxlFcGig=s64",
      "userId": "06497997468254738540"
     },
     "user_tz": 300
    },
    "id": "HmA3jL8R0ZAk",
    "outputId": "f2f25b46-27fb-4be2-84d1-3782e09a36bb"
   },
   "outputs": [
    {
     "data": {
      "text/html": [
       "<table>\n",
       "<caption>A data.frame: 6 × 5</caption>\n",
       "<thead>\n",
       "\t<tr><th></th><th scope=col>x1</th><th scope=col>x2</th><th scope=col>y</th><th scope=col>y_obs</th><th scope=col>fitted</th></tr>\n",
       "\t<tr><th></th><th scope=col>&lt;dbl&gt;</th><th scope=col>&lt;dbl&gt;</th><th scope=col>&lt;dbl&gt;</th><th scope=col>&lt;dbl&gt;</th><th scope=col>&lt;dbl&gt;</th></tr>\n",
       "</thead>\n",
       "<tbody>\n",
       "\t<tr><th scope=row>1</th><td>-4.0</td><td>-4</td><td>-0.3820138</td><td>-0.2334409</td><td>-0.4794372</td></tr>\n",
       "\t<tr><th scope=row>2</th><td>-3.5</td><td>-4</td><td>-0.3706878</td><td>-0.3947202</td><td>-0.4055961</td></tr>\n",
       "\t<tr><th scope=row>3</th><td>-3.0</td><td>-4</td><td>-0.3525741</td><td>-0.4338976</td><td>-0.3317550</td></tr>\n",
       "\t<tr><th scope=row>4</th><td>-2.5</td><td>-4</td><td>-0.3241418</td><td>-0.1831898</td><td>-0.2579140</td></tr>\n",
       "\t<tr><th scope=row>5</th><td>-2.0</td><td>-4</td><td>-0.2807971</td><td>-0.4672971</td><td>-0.1840729</td></tr>\n",
       "\t<tr><th scope=row>6</th><td>-1.5</td><td>-4</td><td>-0.2175745</td><td>-0.1628049</td><td>-0.1102318</td></tr>\n",
       "</tbody>\n",
       "</table>\n"
      ],
      "text/latex": [
       "A data.frame: 6 × 5\n",
       "\\begin{tabular}{r|lllll}\n",
       "  & x1 & x2 & y & y\\_obs & fitted\\\\\n",
       "  & <dbl> & <dbl> & <dbl> & <dbl> & <dbl>\\\\\n",
       "\\hline\n",
       "\t1 & -4.0 & -4 & -0.3820138 & -0.2334409 & -0.4794372\\\\\n",
       "\t2 & -3.5 & -4 & -0.3706878 & -0.3947202 & -0.4055961\\\\\n",
       "\t3 & -3.0 & -4 & -0.3525741 & -0.4338976 & -0.3317550\\\\\n",
       "\t4 & -2.5 & -4 & -0.3241418 & -0.1831898 & -0.2579140\\\\\n",
       "\t5 & -2.0 & -4 & -0.2807971 & -0.4672971 & -0.1840729\\\\\n",
       "\t6 & -1.5 & -4 & -0.2175745 & -0.1628049 & -0.1102318\\\\\n",
       "\\end{tabular}\n"
      ],
      "text/markdown": [
       "\n",
       "A data.frame: 6 × 5\n",
       "\n",
       "| <!--/--> | x1 &lt;dbl&gt; | x2 &lt;dbl&gt; | y &lt;dbl&gt; | y_obs &lt;dbl&gt; | fitted &lt;dbl&gt; |\n",
       "|---|---|---|---|---|---|\n",
       "| 1 | -4.0 | -4 | -0.3820138 | -0.2334409 | -0.4794372 |\n",
       "| 2 | -3.5 | -4 | -0.3706878 | -0.3947202 | -0.4055961 |\n",
       "| 3 | -3.0 | -4 | -0.3525741 | -0.4338976 | -0.3317550 |\n",
       "| 4 | -2.5 | -4 | -0.3241418 | -0.1831898 | -0.2579140 |\n",
       "| 5 | -2.0 | -4 | -0.2807971 | -0.4672971 | -0.1840729 |\n",
       "| 6 | -1.5 | -4 | -0.2175745 | -0.1628049 | -0.1102318 |\n",
       "\n"
      ],
      "text/plain": [
       "  x1   x2 y          y_obs      fitted    \n",
       "1 -4.0 -4 -0.3820138 -0.2334409 -0.4794372\n",
       "2 -3.5 -4 -0.3706878 -0.3947202 -0.4055961\n",
       "3 -3.0 -4 -0.3525741 -0.4338976 -0.3317550\n",
       "4 -2.5 -4 -0.3241418 -0.1831898 -0.2579140\n",
       "5 -2.0 -4 -0.2807971 -0.4672971 -0.1840729\n",
       "6 -1.5 -4 -0.2175745 -0.1628049 -0.1102318"
      ]
     },
     "metadata": {
      "tags": []
     },
     "output_type": "display_data"
    }
   ],
   "source": [
    "head(dat) #dataframe for fitted and obs. values. "
   ]
  },
  {
   "cell_type": "markdown",
   "metadata": {
    "id": "222zspi80ZAk"
   },
   "source": [
    "Given your fitted model, you can also easily generate predictions of y given new values of x using the `predict` function: "
   ]
  },
  {
   "cell_type": "code",
   "execution_count": null,
   "metadata": {
    "colab": {
     "base_uri": "https://localhost:8080/",
     "height": 34
    },
    "executionInfo": {
     "elapsed": 303,
     "status": "ok",
     "timestamp": 1610118972422,
     "user": {
      "displayName": "Patience Stevens",
      "photoUrl": "https://lh3.googleusercontent.com/a-/AOh14GjqRUDcMR4tFdKvnsAyURx4cVRhor4TDPTxlFcGig=s64",
      "userId": "06497997468254738540"
     },
     "user_tz": 300
    },
    "id": "2ajyC3eS0ZAk",
    "outputId": "afc0ffca-a206-4c74-e36c-229da2782fd6"
   },
   "outputs": [
    {
     "data": {
      "text/html": [
       "<strong>1:</strong> 0.744664879536758"
      ],
      "text/latex": [
       "\\textbf{1:} 0.744664879536758"
      ],
      "text/markdown": [
       "**1:** 0.744664879536758"
      ],
      "text/plain": [
       "        1 \n",
       "0.7446649 "
      ]
     },
     "metadata": {
      "tags": []
     },
     "output_type": "display_data"
    }
   ],
   "source": [
    "new_data <- data.frame(x1=-5, x2=10) #new x-values to give to the model \n",
    "predict(model_fit, newdata = new_data) #predict the y value for a given x "
   ]
  },
  {
   "cell_type": "markdown",
   "metadata": {
    "id": "2VrX-f-A0ZAk"
   },
   "source": [
    "This is where the fun part comes in. You can use the `nest` and `map` commands from `tidyverse` to fit a model for different subgroups, then extract the results of all models. Let's pretend that x1 is the participant number and we have different subjects, for which we have y and x2 values.\n",
    "\n",
    "First, nest creates a nested data.frame, in which the data.frame for each group is stored in a different cell"
   ]
  },
  {
   "cell_type": "code",
   "execution_count": null,
   "metadata": {
    "colab": {
     "base_uri": "https://localhost:8080/"
    },
    "executionInfo": {
     "elapsed": 299,
     "status": "ok",
     "timestamp": 1611102085416,
     "user": {
      "displayName": "Patience Stevens",
      "photoUrl": "https://lh3.googleusercontent.com/a-/AOh14Gi-_9ZqhIFhAv1oMehJNvNuIKSTyrFQHzjxQKhx=s64",
      "userId": "01994571539255174942"
     },
     "user_tz": 300
    },
    "id": "pN3moNim0ZAl",
    "outputId": "3776234f-8f4b-4e80-cb15-ae4407e24dd6"
   },
   "outputs": [
    {
     "name": "stdout",
     "output_type": "stream",
     "text": [
      "\u001b[90m# A tibble: 17 x 2\u001b[39m\n",
      "\u001b[90m# Groups:   x1 [17]\u001b[39m\n",
      "      x1 data             \n",
      "   \u001b[3m\u001b[90m<dbl>\u001b[39m\u001b[23m \u001b[3m\u001b[90m<list>\u001b[39m\u001b[23m           \n",
      "\u001b[90m 1\u001b[39m  -\u001b[31m4\u001b[39m   \u001b[90m<tibble [17 × 3]>\u001b[39m\n",
      "\u001b[90m 2\u001b[39m  -\u001b[31m3\u001b[39m\u001b[31m.\u001b[39m\u001b[31m5\u001b[39m \u001b[90m<tibble [17 × 3]>\u001b[39m\n",
      "\u001b[90m 3\u001b[39m  -\u001b[31m3\u001b[39m   \u001b[90m<tibble [17 × 3]>\u001b[39m\n",
      "\u001b[90m 4\u001b[39m  -\u001b[31m2\u001b[39m\u001b[31m.\u001b[39m\u001b[31m5\u001b[39m \u001b[90m<tibble [17 × 3]>\u001b[39m\n",
      "\u001b[90m 5\u001b[39m  -\u001b[31m2\u001b[39m   \u001b[90m<tibble [17 × 3]>\u001b[39m\n",
      "\u001b[90m 6\u001b[39m  -\u001b[31m1\u001b[39m\u001b[31m.\u001b[39m\u001b[31m5\u001b[39m \u001b[90m<tibble [17 × 3]>\u001b[39m\n",
      "\u001b[90m 7\u001b[39m  -\u001b[31m1\u001b[39m   \u001b[90m<tibble [17 × 3]>\u001b[39m\n",
      "\u001b[90m 8\u001b[39m  -\u001b[31m0\u001b[39m\u001b[31m.\u001b[39m\u001b[31m5\u001b[39m \u001b[90m<tibble [17 × 3]>\u001b[39m\n",
      "\u001b[90m 9\u001b[39m   0   \u001b[90m<tibble [17 × 3]>\u001b[39m\n",
      "\u001b[90m10\u001b[39m   0.5 \u001b[90m<tibble [17 × 3]>\u001b[39m\n",
      "\u001b[90m11\u001b[39m   1   \u001b[90m<tibble [17 × 3]>\u001b[39m\n",
      "\u001b[90m12\u001b[39m   1.5 \u001b[90m<tibble [17 × 3]>\u001b[39m\n",
      "\u001b[90m13\u001b[39m   2   \u001b[90m<tibble [17 × 3]>\u001b[39m\n",
      "\u001b[90m14\u001b[39m   2.5 \u001b[90m<tibble [17 × 3]>\u001b[39m\n",
      "\u001b[90m15\u001b[39m   3   \u001b[90m<tibble [17 × 3]>\u001b[39m\n",
      "\u001b[90m16\u001b[39m   3.5 \u001b[90m<tibble [17 × 3]>\u001b[39m\n",
      "\u001b[90m17\u001b[39m   4   \u001b[90m<tibble [17 × 3]>\u001b[39m\n"
     ]
    }
   ],
   "source": [
    "dat  %>%\n",
    "    group_by(x1) %>% \n",
    "    nest() %>%\n",
    "    print()"
   ]
  },
  {
   "cell_type": "markdown",
   "metadata": {
    "id": "MzwhQ05-0ZAl"
   },
   "source": [
    "Remember, we want to fit models to each subgroup. The `map` function applies a given function to a set of data in an iterative way -- so this would be a convenient approach. Some of the benefits of using `map` are that you do not have to write a series of for-loops (it's efficient/vectorized) and it makes your code easier to read (and thus error check). Now you can use `map` to fit a model to each subgroup like this:"
   ]
  },
  {
   "cell_type": "code",
   "execution_count": null,
   "metadata": {
    "colab": {
     "base_uri": "https://localhost:8080/"
    },
    "executionInfo": {
     "elapsed": 383,
     "status": "ok",
     "timestamp": 1611102175553,
     "user": {
      "displayName": "Patience Stevens",
      "photoUrl": "https://lh3.googleusercontent.com/a-/AOh14Gi-_9ZqhIFhAv1oMehJNvNuIKSTyrFQHzjxQKhx=s64",
      "userId": "01994571539255174942"
     },
     "user_tz": 300
    },
    "id": "Y7F2ZJdL0ZAl",
    "outputId": "94ef64dc-11a2-4738-b42b-1435114b6fc8"
   },
   "outputs": [
    {
     "name": "stdout",
     "output_type": "stream",
     "text": [
      "\u001b[90m# A tibble: 17 x 3\u001b[39m\n",
      "\u001b[90m# Groups:   x1 [17]\u001b[39m\n",
      "      x1 data              model_fit\n",
      "   \u001b[3m\u001b[90m<dbl>\u001b[39m\u001b[23m \u001b[3m\u001b[90m<list>\u001b[39m\u001b[23m            \u001b[3m\u001b[90m<list>\u001b[39m\u001b[23m   \n",
      "\u001b[90m 1\u001b[39m  -\u001b[31m4\u001b[39m   \u001b[90m<tibble [17 × 3]>\u001b[39m \u001b[90m<lm>\u001b[39m     \n",
      "\u001b[90m 2\u001b[39m  -\u001b[31m3\u001b[39m\u001b[31m.\u001b[39m\u001b[31m5\u001b[39m \u001b[90m<tibble [17 × 3]>\u001b[39m \u001b[90m<lm>\u001b[39m     \n",
      "\u001b[90m 3\u001b[39m  -\u001b[31m3\u001b[39m   \u001b[90m<tibble [17 × 3]>\u001b[39m \u001b[90m<lm>\u001b[39m     \n",
      "\u001b[90m 4\u001b[39m  -\u001b[31m2\u001b[39m\u001b[31m.\u001b[39m\u001b[31m5\u001b[39m \u001b[90m<tibble [17 × 3]>\u001b[39m \u001b[90m<lm>\u001b[39m     \n",
      "\u001b[90m 5\u001b[39m  -\u001b[31m2\u001b[39m   \u001b[90m<tibble [17 × 3]>\u001b[39m \u001b[90m<lm>\u001b[39m     \n",
      "\u001b[90m 6\u001b[39m  -\u001b[31m1\u001b[39m\u001b[31m.\u001b[39m\u001b[31m5\u001b[39m \u001b[90m<tibble [17 × 3]>\u001b[39m \u001b[90m<lm>\u001b[39m     \n",
      "\u001b[90m 7\u001b[39m  -\u001b[31m1\u001b[39m   \u001b[90m<tibble [17 × 3]>\u001b[39m \u001b[90m<lm>\u001b[39m     \n",
      "\u001b[90m 8\u001b[39m  -\u001b[31m0\u001b[39m\u001b[31m.\u001b[39m\u001b[31m5\u001b[39m \u001b[90m<tibble [17 × 3]>\u001b[39m \u001b[90m<lm>\u001b[39m     \n",
      "\u001b[90m 9\u001b[39m   0   \u001b[90m<tibble [17 × 3]>\u001b[39m \u001b[90m<lm>\u001b[39m     \n",
      "\u001b[90m10\u001b[39m   0.5 \u001b[90m<tibble [17 × 3]>\u001b[39m \u001b[90m<lm>\u001b[39m     \n",
      "\u001b[90m11\u001b[39m   1   \u001b[90m<tibble [17 × 3]>\u001b[39m \u001b[90m<lm>\u001b[39m     \n",
      "\u001b[90m12\u001b[39m   1.5 \u001b[90m<tibble [17 × 3]>\u001b[39m \u001b[90m<lm>\u001b[39m     \n",
      "\u001b[90m13\u001b[39m   2   \u001b[90m<tibble [17 × 3]>\u001b[39m \u001b[90m<lm>\u001b[39m     \n",
      "\u001b[90m14\u001b[39m   2.5 \u001b[90m<tibble [17 × 3]>\u001b[39m \u001b[90m<lm>\u001b[39m     \n",
      "\u001b[90m15\u001b[39m   3   \u001b[90m<tibble [17 × 3]>\u001b[39m \u001b[90m<lm>\u001b[39m     \n",
      "\u001b[90m16\u001b[39m   3.5 \u001b[90m<tibble [17 × 3]>\u001b[39m \u001b[90m<lm>\u001b[39m     \n",
      "\u001b[90m17\u001b[39m   4   \u001b[90m<tibble [17 × 3]>\u001b[39m \u001b[90m<lm>\u001b[39m     \n"
     ]
    }
   ],
   "source": [
    "dat  %>% \n",
    "    group_by(x1)  %>% \n",
    "    nest()  %>% \n",
    "    mutate(model_fit = map(data, function(data) lm(y_obs ~ x2, data=data)))  %>% \n",
    "    print()"
   ]
  },
  {
   "cell_type": "markdown",
   "metadata": {
    "id": "crBnstZi0ZAl"
   },
   "source": [
    "The resulting models are stored in each cell of the model_fit column. You can then extract the coefficients for each model:"
   ]
  },
  {
   "cell_type": "code",
   "execution_count": null,
   "metadata": {
    "colab": {
     "base_uri": "https://localhost:8080/"
    },
    "executionInfo": {
     "elapsed": 394,
     "status": "ok",
     "timestamp": 1611102233885,
     "user": {
      "displayName": "Patience Stevens",
      "photoUrl": "https://lh3.googleusercontent.com/a-/AOh14Gi-_9ZqhIFhAv1oMehJNvNuIKSTyrFQHzjxQKhx=s64",
      "userId": "01994571539255174942"
     },
     "user_tz": 300
    },
    "id": "311bwg-r0ZAm",
    "outputId": "932ba463-2ca6-4d8d-b7af-afc1c19f4d6a"
   },
   "outputs": [
    {
     "name": "stdout",
     "output_type": "stream",
     "text": [
      "\u001b[90m# A tibble: 17 x 4\u001b[39m\n",
      "\u001b[90m# Groups:   x1 [17]\u001b[39m\n",
      "      x1 data              model_fit coef            \n",
      "   \u001b[3m\u001b[90m<dbl>\u001b[39m\u001b[23m \u001b[3m\u001b[90m<list>\u001b[39m\u001b[23m            \u001b[3m\u001b[90m<list>\u001b[39m\u001b[23m    \u001b[3m\u001b[90m<list>\u001b[39m\u001b[23m          \n",
      "\u001b[90m 1\u001b[39m  -\u001b[31m4\u001b[39m   \u001b[90m<tibble [17 × 3]>\u001b[39m \u001b[90m<lm>\u001b[39m      \u001b[90m<df[,2] [2 × 2]>\u001b[39m\n",
      "\u001b[90m 2\u001b[39m  -\u001b[31m3\u001b[39m\u001b[31m.\u001b[39m\u001b[31m5\u001b[39m \u001b[90m<tibble [17 × 3]>\u001b[39m \u001b[90m<lm>\u001b[39m      \u001b[90m<df[,2] [2 × 2]>\u001b[39m\n",
      "\u001b[90m 3\u001b[39m  -\u001b[31m3\u001b[39m   \u001b[90m<tibble [17 × 3]>\u001b[39m \u001b[90m<lm>\u001b[39m      \u001b[90m<df[,2] [2 × 2]>\u001b[39m\n",
      "\u001b[90m 4\u001b[39m  -\u001b[31m2\u001b[39m\u001b[31m.\u001b[39m\u001b[31m5\u001b[39m \u001b[90m<tibble [17 × 3]>\u001b[39m \u001b[90m<lm>\u001b[39m      \u001b[90m<df[,2] [2 × 2]>\u001b[39m\n",
      "\u001b[90m 5\u001b[39m  -\u001b[31m2\u001b[39m   \u001b[90m<tibble [17 × 3]>\u001b[39m \u001b[90m<lm>\u001b[39m      \u001b[90m<df[,2] [2 × 2]>\u001b[39m\n",
      "\u001b[90m 6\u001b[39m  -\u001b[31m1\u001b[39m\u001b[31m.\u001b[39m\u001b[31m5\u001b[39m \u001b[90m<tibble [17 × 3]>\u001b[39m \u001b[90m<lm>\u001b[39m      \u001b[90m<df[,2] [2 × 2]>\u001b[39m\n",
      "\u001b[90m 7\u001b[39m  -\u001b[31m1\u001b[39m   \u001b[90m<tibble [17 × 3]>\u001b[39m \u001b[90m<lm>\u001b[39m      \u001b[90m<df[,2] [2 × 2]>\u001b[39m\n",
      "\u001b[90m 8\u001b[39m  -\u001b[31m0\u001b[39m\u001b[31m.\u001b[39m\u001b[31m5\u001b[39m \u001b[90m<tibble [17 × 3]>\u001b[39m \u001b[90m<lm>\u001b[39m      \u001b[90m<df[,2] [2 × 2]>\u001b[39m\n",
      "\u001b[90m 9\u001b[39m   0   \u001b[90m<tibble [17 × 3]>\u001b[39m \u001b[90m<lm>\u001b[39m      \u001b[90m<df[,2] [2 × 2]>\u001b[39m\n",
      "\u001b[90m10\u001b[39m   0.5 \u001b[90m<tibble [17 × 3]>\u001b[39m \u001b[90m<lm>\u001b[39m      \u001b[90m<df[,2] [2 × 2]>\u001b[39m\n",
      "\u001b[90m11\u001b[39m   1   \u001b[90m<tibble [17 × 3]>\u001b[39m \u001b[90m<lm>\u001b[39m      \u001b[90m<df[,2] [2 × 2]>\u001b[39m\n",
      "\u001b[90m12\u001b[39m   1.5 \u001b[90m<tibble [17 × 3]>\u001b[39m \u001b[90m<lm>\u001b[39m      \u001b[90m<df[,2] [2 × 2]>\u001b[39m\n",
      "\u001b[90m13\u001b[39m   2   \u001b[90m<tibble [17 × 3]>\u001b[39m \u001b[90m<lm>\u001b[39m      \u001b[90m<df[,2] [2 × 2]>\u001b[39m\n",
      "\u001b[90m14\u001b[39m   2.5 \u001b[90m<tibble [17 × 3]>\u001b[39m \u001b[90m<lm>\u001b[39m      \u001b[90m<df[,2] [2 × 2]>\u001b[39m\n",
      "\u001b[90m15\u001b[39m   3   \u001b[90m<tibble [17 × 3]>\u001b[39m \u001b[90m<lm>\u001b[39m      \u001b[90m<df[,2] [2 × 2]>\u001b[39m\n",
      "\u001b[90m16\u001b[39m   3.5 \u001b[90m<tibble [17 × 3]>\u001b[39m \u001b[90m<lm>\u001b[39m      \u001b[90m<df[,2] [2 × 2]>\u001b[39m\n",
      "\u001b[90m17\u001b[39m   4   \u001b[90m<tibble [17 × 3]>\u001b[39m \u001b[90m<lm>\u001b[39m      \u001b[90m<df[,2] [2 × 2]>\u001b[39m\n"
     ]
    }
   ],
   "source": [
    "dat  %>% \n",
    "    group_by(x1)  %>% \n",
    "    nest()  %>% \n",
    "    mutate(model_fit = map(data, function(data) lm(y_obs ~ x2, data=data)),\n",
    "           coef = map(model_fit, function(fit) data.frame(name=names(fit$coefficients), beta=fit$coefficients)))  %>% \n",
    "    print()"
   ]
  },
  {
   "cell_type": "markdown",
   "metadata": {
    "id": "c4XQqY500ZAm"
   },
   "source": [
    "They are again stored in a column called coef. If you want to then finally just get a data.frame with coefficients, you can unnest the results:"
   ]
  },
  {
   "cell_type": "code",
   "execution_count": null,
   "metadata": {
    "colab": {
     "base_uri": "https://localhost:8080/"
    },
    "executionInfo": {
     "elapsed": 506,
     "status": "ok",
     "timestamp": 1611102538878,
     "user": {
      "displayName": "Patience Stevens",
      "photoUrl": "https://lh3.googleusercontent.com/a-/AOh14Gi-_9ZqhIFhAv1oMehJNvNuIKSTyrFQHzjxQKhx=s64",
      "userId": "01994571539255174942"
     },
     "user_tz": 300
    },
    "id": "SsmPuJvD0ZAm",
    "outputId": "fbc82436-2b5a-450e-da24-89abace3a8c3"
   },
   "outputs": [
    {
     "name": "stdout",
     "output_type": "stream",
     "text": [
      "\u001b[90m# A tibble: 34 x 5\u001b[39m\n",
      "\u001b[90m# Groups:   x1 [17]\u001b[39m\n",
      "      x1 data              model_fit name          beta\n",
      "   \u001b[3m\u001b[90m<dbl>\u001b[39m\u001b[23m \u001b[3m\u001b[90m<list>\u001b[39m\u001b[23m            \u001b[3m\u001b[90m<list>\u001b[39m\u001b[23m    \u001b[3m\u001b[90m<chr>\u001b[39m\u001b[23m        \u001b[3m\u001b[90m<dbl>\u001b[39m\u001b[23m\n",
      "\u001b[90m 1\u001b[39m  -\u001b[31m4\u001b[39m   \u001b[90m<tibble [17 × 3]>\u001b[39m \u001b[90m<lm>\u001b[39m      (Intercept) 0.033\u001b[4m3\u001b[24m\n",
      "\u001b[90m 2\u001b[39m  -\u001b[31m4\u001b[39m   \u001b[90m<tibble [17 × 3]>\u001b[39m \u001b[90m<lm>\u001b[39m      x2          0.086\u001b[4m8\u001b[24m\n",
      "\u001b[90m 3\u001b[39m  -\u001b[31m3\u001b[39m\u001b[31m.\u001b[39m\u001b[31m5\u001b[39m \u001b[90m<tibble [17 × 3]>\u001b[39m \u001b[90m<lm>\u001b[39m      (Intercept) 0.021\u001b[4m9\u001b[24m\n",
      "\u001b[90m 4\u001b[39m  -\u001b[31m3\u001b[39m\u001b[31m.\u001b[39m\u001b[31m5\u001b[39m \u001b[90m<tibble [17 × 3]>\u001b[39m \u001b[90m<lm>\u001b[39m      x2          0.097\u001b[4m4\u001b[24m\n",
      "\u001b[90m 5\u001b[39m  -\u001b[31m3\u001b[39m   \u001b[90m<tibble [17 × 3]>\u001b[39m \u001b[90m<lm>\u001b[39m      (Intercept) 0.059\u001b[4m9\u001b[24m\n",
      "\u001b[90m 6\u001b[39m  -\u001b[31m3\u001b[39m   \u001b[90m<tibble [17 × 3]>\u001b[39m \u001b[90m<lm>\u001b[39m      x2          0.088\u001b[4m7\u001b[24m\n",
      "\u001b[90m 7\u001b[39m  -\u001b[31m2\u001b[39m\u001b[31m.\u001b[39m\u001b[31m5\u001b[39m \u001b[90m<tibble [17 × 3]>\u001b[39m \u001b[90m<lm>\u001b[39m      (Intercept) 0.033\u001b[4m2\u001b[24m\n",
      "\u001b[90m 8\u001b[39m  -\u001b[31m2\u001b[39m\u001b[31m.\u001b[39m\u001b[31m5\u001b[39m \u001b[90m<tibble [17 × 3]>\u001b[39m \u001b[90m<lm>\u001b[39m      x2          0.103 \n",
      "\u001b[90m 9\u001b[39m  -\u001b[31m2\u001b[39m   \u001b[90m<tibble [17 × 3]>\u001b[39m \u001b[90m<lm>\u001b[39m      (Intercept) 0.121 \n",
      "\u001b[90m10\u001b[39m  -\u001b[31m2\u001b[39m   \u001b[90m<tibble [17 × 3]>\u001b[39m \u001b[90m<lm>\u001b[39m      x2          0.109 \n",
      "\u001b[90m# … with 24 more rows\u001b[39m\n"
     ]
    }
   ],
   "source": [
    "dat  %>% \n",
    "    group_by(x1)  %>% \n",
    "    nest()  %>% \n",
    "    mutate(model_fit = map(data, function(data) lm(y_obs ~ x2, data=data)),\n",
    "           coef = map(model_fit, function(fit) data.frame(name=names(fit$coefficients), beta=fit$coefficients))) %>%\n",
    "    unnest(coef) %>%\n",
    "    print()"
   ]
  },
  {
   "cell_type": "markdown",
   "metadata": {
    "id": "tteRNiZC0ZAm"
   },
   "source": [
    "You can find additional information on this approach here: http://omaymas.github.io/Climate_Change_ExpAnalysis/"
   ]
  },
  {
   "cell_type": "markdown",
   "metadata": {
    "id": "BUm4wLV1ibtZ"
   },
   "source": [
    "*Notebook authored by Ven Popov and edited by Krista Bond, Charles Wu, Patience Stevens, and Amy Sentis.*"
   ]
  }
 ],
 "metadata": {
  "colab": {
   "collapsed_sections": [],
   "name": "techniques-for-data-cleansing.ipynb",
   "provenance": []
  },
  "kernelspec": {
   "display_name": "R",
   "language": "R",
   "name": "ir"
  },
  "language_info": {
   "codemirror_mode": "r",
   "file_extension": ".r",
   "mimetype": "text/x-r-source",
   "name": "R",
   "pygments_lexer": "r",
   "version": "4.0.2"
  }
 },
 "nbformat": 4,
 "nbformat_minor": 1
}