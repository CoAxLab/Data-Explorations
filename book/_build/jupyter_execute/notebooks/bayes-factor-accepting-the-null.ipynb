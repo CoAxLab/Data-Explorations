{
 "cells": [
  {
   "cell_type": "markdown",
   "metadata": {
    "id": "5mqe-dNqWbX6"
   },
   "source": [
    "# Tutorial: Bayes factors\n",
    "\n",
    " >\"I have approximate answers and possible beliefs and different degrees of uncertainty about different things, but I am not absolutely sure of anything [...]\" - Richard Feynman \n",
    "\n",
    "This lab introduces the Bayes factor and its implementation in R.\n",
    "\n",
    "## Goals:\n",
    "* Learn how to use the [BayesFactor](https://cran.r-project.org/web/packages/BayesFactor/BayesFactor.pdf) library\n",
    "* Learn how to quantify the amount of evidence for alternative hypotheses (instead of fully supporting or fully rejecting them altogether) \n",
    "\n",
    "This lab draws on [Richard Morey's introduction to the BayesFactor library](https://richarddmorey.github.io/BayesFactor/#help)."
   ]
  },
  {
   "cell_type": "markdown",
   "metadata": {
    "id": "nGiZYIn3WbX_"
   },
   "source": [
    "---\n",
    "#  What is a Bayes factor? \n",
    "  * The Bayes factor is the analytical response to the question: What is the strength of the evidence for my model, given a competing hypothesis? If you're interested in the *relative* weight of evidence for competing hypotheses, then the Bayes Factor is for you. \n",
    "  * The Bayes factor is a ratio of the evidence for one model over another. It can be expressed as the relative likelihood of the data given a set of hypotheses: \n",
    "  \n",
    "  $$BF = \\frac{P(D|H_1)}{P(D|H_0)}$$\n",
    "  \n",
    "* Similar to the Bayesian Information Criterion (BIC), the Bayes factor penalizes model complexity. \n",
    "\n",
    "\n",
    "Look [here](http://statmath.wu.ac.at/research/talks/resources/talkheld.pdf) and [here](https://link.springer.com/article/10.3758/s13423-017-1262-3) for a more in-depth treatment. "
   ]
  },
  {
   "cell_type": "markdown",
   "metadata": {
    "id": "E-iZURoeWbYA"
   },
   "source": [
    "---\n",
    "# Implementing the Bayes factor with a simple example"
   ]
  },
  {
   "cell_type": "markdown",
   "metadata": {
    "id": "XX-f_aN6k96M"
   },
   "source": [
    "First, install and load the `BayesFactor` library. Also load `tidyverse` for some data manipulation. "
   ]
  },
  {
   "cell_type": "code",
   "execution_count": 1,
   "metadata": {
    "colab": {
     "base_uri": "https://localhost:8080/"
    },
    "executionInfo": {
     "elapsed": 229004,
     "status": "ok",
     "timestamp": 1613054569714,
     "user": {
      "displayName": "Patience Stevens",
      "photoUrl": "https://lh3.googleusercontent.com/a-/AOh14Gi-_9ZqhIFhAv1oMehJNvNuIKSTyrFQHzjxQKhx=s64",
      "userId": "01994571539255174942"
     },
     "user_tz": 300
    },
    "id": "Lam5hYoCWbYA",
    "outputId": "4348e646-dc33-49c6-e6f6-753204fde6ef"
   },
   "outputs": [
    {
     "name": "stderr",
     "output_type": "stream",
     "text": [
      "Installing package into ‘/usr/local/lib/R/site-library’\n",
      "(as ‘lib’ is unspecified)\n",
      "\n",
      "also installing the dependencies ‘elliptic’, ‘contfrac’, ‘deSolve’, ‘coda’, ‘pbapply’, ‘mvtnorm’, ‘gtools’, ‘MatrixModels’, ‘hypergeo’, ‘RcppEigen’\n",
      "\n",
      "\n"
     ]
    }
   ],
   "source": [
    "# install.packages(\"BayesFactor\") #install "
   ]
  },
  {
   "cell_type": "code",
   "execution_count": 2,
   "metadata": {
    "colab": {
     "base_uri": "https://localhost:8080/"
    },
    "executionInfo": {
     "elapsed": 1853,
     "status": "ok",
     "timestamp": 1613054635105,
     "user": {
      "displayName": "Patience Stevens",
      "photoUrl": "https://lh3.googleusercontent.com/a-/AOh14Gi-_9ZqhIFhAv1oMehJNvNuIKSTyrFQHzjxQKhx=s64",
      "userId": "01994571539255174942"
     },
     "user_tz": 300
    },
    "id": "V8kjGSzHWbYB",
    "outputId": "572c20e2-f9f9-406a-ee5a-40945590d545"
   },
   "outputs": [
    {
     "name": "stderr",
     "output_type": "stream",
     "text": [
      "Loading required package: coda\n",
      "\n",
      "Loading required package: Matrix\n",
      "\n",
      "************\n",
      "Welcome to BayesFactor 0.9.12-4.2. If you have questions, please contact Richard Morey (richarddmorey@gmail.com).\n",
      "\n",
      "Type BFManual() to open the manual.\n",
      "************\n",
      "\n"
     ]
    }
   ],
   "source": [
    "library(BayesFactor)\n",
    "library(tidyverse) # also import tidyverse for data manipulation\n",
    "# there are functions to calculate BF for many different tests, including correlations, linear regresssion, and t-tests - uncomment below to see them all\n",
    "# lsf.str(\"package:BayesFactor\") # outputs a list of all of the functions in the package"
   ]
  },
  {
   "cell_type": "markdown",
   "metadata": {
    "id": "TgPbij7BWbYC"
   },
   "source": [
    "Let's start with a simple example. We'll use the `sleep` dataset included in R to calculate the evidence for the null hypothesis that there is no effect of sleep deprivation on reaction time. As a reminder, here's what the `sleep` dataset looks like. "
   ]
  },
  {
   "cell_type": "code",
   "execution_count": 3,
   "metadata": {
    "colab": {
     "base_uri": "https://localhost:8080/",
     "height": 717
    },
    "executionInfo": {
     "elapsed": 571,
     "status": "ok",
     "timestamp": 1613054647335,
     "user": {
      "displayName": "Patience Stevens",
      "photoUrl": "https://lh3.googleusercontent.com/a-/AOh14Gi-_9ZqhIFhAv1oMehJNvNuIKSTyrFQHzjxQKhx=s64",
      "userId": "01994571539255174942"
     },
     "user_tz": 300
    },
    "id": "nQZhcSxRBj8B",
    "outputId": "5ee0e407-317b-45de-d7e6-a16f3f3057e3"
   },
   "outputs": [
    {
     "data": {
      "text/html": [
       "<table class=\"dataframe\">\n",
       "<caption>A data.frame: 20 × 3</caption>\n",
       "<thead>\n",
       "\t<tr><th scope=col>extra</th><th scope=col>group</th><th scope=col>ID</th></tr>\n",
       "\t<tr><th scope=col>&lt;dbl&gt;</th><th scope=col>&lt;fct&gt;</th><th scope=col>&lt;fct&gt;</th></tr>\n",
       "</thead>\n",
       "<tbody>\n",
       "\t<tr><td> 0.7</td><td>1</td><td>1 </td></tr>\n",
       "\t<tr><td>-1.6</td><td>1</td><td>2 </td></tr>\n",
       "\t<tr><td>-0.2</td><td>1</td><td>3 </td></tr>\n",
       "\t<tr><td>-1.2</td><td>1</td><td>4 </td></tr>\n",
       "\t<tr><td>-0.1</td><td>1</td><td>5 </td></tr>\n",
       "\t<tr><td> 3.4</td><td>1</td><td>6 </td></tr>\n",
       "\t<tr><td> 3.7</td><td>1</td><td>7 </td></tr>\n",
       "\t<tr><td> 0.8</td><td>1</td><td>8 </td></tr>\n",
       "\t<tr><td> 0.0</td><td>1</td><td>9 </td></tr>\n",
       "\t<tr><td> 2.0</td><td>1</td><td>10</td></tr>\n",
       "\t<tr><td> 1.9</td><td>2</td><td>1 </td></tr>\n",
       "\t<tr><td> 0.8</td><td>2</td><td>2 </td></tr>\n",
       "\t<tr><td> 1.1</td><td>2</td><td>3 </td></tr>\n",
       "\t<tr><td> 0.1</td><td>2</td><td>4 </td></tr>\n",
       "\t<tr><td>-0.1</td><td>2</td><td>5 </td></tr>\n",
       "\t<tr><td> 4.4</td><td>2</td><td>6 </td></tr>\n",
       "\t<tr><td> 5.5</td><td>2</td><td>7 </td></tr>\n",
       "\t<tr><td> 1.6</td><td>2</td><td>8 </td></tr>\n",
       "\t<tr><td> 4.6</td><td>2</td><td>9 </td></tr>\n",
       "\t<tr><td> 3.4</td><td>2</td><td>10</td></tr>\n",
       "</tbody>\n",
       "</table>\n"
      ],
      "text/latex": [
       "A data.frame: 20 × 3\n",
       "\\begin{tabular}{lll}\n",
       " extra & group & ID\\\\\n",
       " <dbl> & <fct> & <fct>\\\\\n",
       "\\hline\n",
       "\t  0.7 & 1 & 1 \\\\\n",
       "\t -1.6 & 1 & 2 \\\\\n",
       "\t -0.2 & 1 & 3 \\\\\n",
       "\t -1.2 & 1 & 4 \\\\\n",
       "\t -0.1 & 1 & 5 \\\\\n",
       "\t  3.4 & 1 & 6 \\\\\n",
       "\t  3.7 & 1 & 7 \\\\\n",
       "\t  0.8 & 1 & 8 \\\\\n",
       "\t  0.0 & 1 & 9 \\\\\n",
       "\t  2.0 & 1 & 10\\\\\n",
       "\t  1.9 & 2 & 1 \\\\\n",
       "\t  0.8 & 2 & 2 \\\\\n",
       "\t  1.1 & 2 & 3 \\\\\n",
       "\t  0.1 & 2 & 4 \\\\\n",
       "\t -0.1 & 2 & 5 \\\\\n",
       "\t  4.4 & 2 & 6 \\\\\n",
       "\t  5.5 & 2 & 7 \\\\\n",
       "\t  1.6 & 2 & 8 \\\\\n",
       "\t  4.6 & 2 & 9 \\\\\n",
       "\t  3.4 & 2 & 10\\\\\n",
       "\\end{tabular}\n"
      ],
      "text/markdown": [
       "\n",
       "A data.frame: 20 × 3\n",
       "\n",
       "| extra &lt;dbl&gt; | group &lt;fct&gt; | ID &lt;fct&gt; |\n",
       "|---|---|---|\n",
       "|  0.7 | 1 | 1  |\n",
       "| -1.6 | 1 | 2  |\n",
       "| -0.2 | 1 | 3  |\n",
       "| -1.2 | 1 | 4  |\n",
       "| -0.1 | 1 | 5  |\n",
       "|  3.4 | 1 | 6  |\n",
       "|  3.7 | 1 | 7  |\n",
       "|  0.8 | 1 | 8  |\n",
       "|  0.0 | 1 | 9  |\n",
       "|  2.0 | 1 | 10 |\n",
       "|  1.9 | 2 | 1  |\n",
       "|  0.8 | 2 | 2  |\n",
       "|  1.1 | 2 | 3  |\n",
       "|  0.1 | 2 | 4  |\n",
       "| -0.1 | 2 | 5  |\n",
       "|  4.4 | 2 | 6  |\n",
       "|  5.5 | 2 | 7  |\n",
       "|  1.6 | 2 | 8  |\n",
       "|  4.6 | 2 | 9  |\n",
       "|  3.4 | 2 | 10 |\n",
       "\n"
      ],
      "text/plain": [
       "   extra group ID\n",
       "1   0.7  1     1 \n",
       "2  -1.6  1     2 \n",
       "3  -0.2  1     3 \n",
       "4  -1.2  1     4 \n",
       "5  -0.1  1     5 \n",
       "6   3.4  1     6 \n",
       "7   3.7  1     7 \n",
       "8   0.8  1     8 \n",
       "9   0.0  1     9 \n",
       "10  2.0  1     10\n",
       "11  1.9  2     1 \n",
       "12  0.8  2     2 \n",
       "13  1.1  2     3 \n",
       "14  0.1  2     4 \n",
       "15 -0.1  2     5 \n",
       "16  4.4  2     6 \n",
       "17  5.5  2     7 \n",
       "18  1.6  2     8 \n",
       "19  4.6  2     9 \n",
       "20  3.4  2     10"
      ]
     },
     "metadata": {
      "tags": []
     },
     "output_type": "display_data"
    }
   ],
   "source": [
    "sleep\n",
    "?sleep"
   ]
  },
  {
   "cell_type": "markdown",
   "metadata": {
    "id": "JaE-BYOxB_VL"
   },
   "source": [
    "This is a within-subjects dataset measuring the impact of acertain drug on sleep. `extra` is the change in amount of sleep (in hours), `group` is whether they received the treatment, and `ID` is the participant identifier.\n",
    "\n",
    "Let's try running a traditional t-test on this, before we get into Bayes Factors. "
   ]
  },
  {
   "cell_type": "code",
   "execution_count": 14,
   "metadata": {
    "colab": {
     "base_uri": "https://localhost:8080/",
     "height": 470
    },
    "executionInfo": {
     "elapsed": 296,
     "status": "ok",
     "timestamp": 1613055829746,
     "user": {
      "displayName": "Patience Stevens",
      "photoUrl": "https://lh3.googleusercontent.com/a-/AOh14Gi-_9ZqhIFhAv1oMehJNvNuIKSTyrFQHzjxQKhx=s64",
      "userId": "01994571539255174942"
     },
     "user_tz": 300
    },
    "id": "6jaKlzODWbYC",
    "outputId": "c445254f-8675-4cfc-b94a-8db55625a4c0"
   },
   "outputs": [
    {
     "data": {
      "text/html": [
       "<table class=\"dataframe\">\n",
       "<caption>A data.frame: 6 × 4</caption>\n",
       "<thead>\n",
       "\t<tr><th></th><th scope=col>ID</th><th scope=col>group1</th><th scope=col>group2</th><th scope=col>diffScores</th></tr>\n",
       "\t<tr><th></th><th scope=col>&lt;fct&gt;</th><th scope=col>&lt;dbl&gt;</th><th scope=col>&lt;dbl&gt;</th><th scope=col>&lt;dbl&gt;</th></tr>\n",
       "</thead>\n",
       "<tbody>\n",
       "\t<tr><th scope=row>1</th><td>1</td><td> 0.7</td><td> 1.9</td><td>-1.2</td></tr>\n",
       "\t<tr><th scope=row>2</th><td>2</td><td>-1.6</td><td> 0.8</td><td>-2.4</td></tr>\n",
       "\t<tr><th scope=row>3</th><td>3</td><td>-0.2</td><td> 1.1</td><td>-1.3</td></tr>\n",
       "\t<tr><th scope=row>4</th><td>4</td><td>-1.2</td><td> 0.1</td><td>-1.3</td></tr>\n",
       "\t<tr><th scope=row>5</th><td>5</td><td>-0.1</td><td>-0.1</td><td> 0.0</td></tr>\n",
       "\t<tr><th scope=row>6</th><td>6</td><td> 3.4</td><td> 4.4</td><td>-1.0</td></tr>\n",
       "</tbody>\n",
       "</table>\n"
      ],
      "text/latex": [
       "A data.frame: 6 × 4\n",
       "\\begin{tabular}{r|llll}\n",
       "  & ID & group1 & group2 & diffScores\\\\\n",
       "  & <fct> & <dbl> & <dbl> & <dbl>\\\\\n",
       "\\hline\n",
       "\t1 & 1 &  0.7 &  1.9 & -1.2\\\\\n",
       "\t2 & 2 & -1.6 &  0.8 & -2.4\\\\\n",
       "\t3 & 3 & -0.2 &  1.1 & -1.3\\\\\n",
       "\t4 & 4 & -1.2 &  0.1 & -1.3\\\\\n",
       "\t5 & 5 & -0.1 & -0.1 &  0.0\\\\\n",
       "\t6 & 6 &  3.4 &  4.4 & -1.0\\\\\n",
       "\\end{tabular}\n"
      ],
      "text/markdown": [
       "\n",
       "A data.frame: 6 × 4\n",
       "\n",
       "| <!--/--> | ID &lt;fct&gt; | group1 &lt;dbl&gt; | group2 &lt;dbl&gt; | diffScores &lt;dbl&gt; |\n",
       "|---|---|---|---|---|\n",
       "| 1 | 1 |  0.7 |  1.9 | -1.2 |\n",
       "| 2 | 2 | -1.6 |  0.8 | -2.4 |\n",
       "| 3 | 3 | -0.2 |  1.1 | -1.3 |\n",
       "| 4 | 4 | -1.2 |  0.1 | -1.3 |\n",
       "| 5 | 5 | -0.1 | -0.1 |  0.0 |\n",
       "| 6 | 6 |  3.4 |  4.4 | -1.0 |\n",
       "\n"
      ],
      "text/plain": [
       "  ID group1 group2 diffScores\n",
       "1 1   0.7    1.9   -1.2      \n",
       "2 2  -1.6    0.8   -2.4      \n",
       "3 3  -0.2    1.1   -1.3      \n",
       "4 4  -1.2    0.1   -1.3      \n",
       "5 5  -0.1   -0.1    0.0      \n",
       "6 6   3.4    4.4   -1.0      "
      ]
     },
     "metadata": {
      "tags": []
     },
     "output_type": "display_data"
    },
    {
     "data": {
      "text/plain": [
       "\n",
       "\tPaired t-test\n",
       "\n",
       "data:  sleep_wd$group1 and sleep_wd$group2\n",
       "t = -4.0621, df = 9, p-value = 0.002833\n",
       "alternative hypothesis: true difference in means is not equal to 0\n",
       "95 percent confidence interval:\n",
       " -2.4598858 -0.7001142\n",
       "sample estimates:\n",
       "mean of the differences \n",
       "                  -1.58 \n"
      ]
     },
     "metadata": {
      "tags": []
     },
     "output_type": "display_data"
    }
   ],
   "source": [
    "## Compute difference scores\n",
    "# ?spread\n",
    "sleep$group <- as.factor(c(rep(\"group1\",10),rep(\"group2\",10))) # resetting the group values to avoid having integers as column names\n",
    "sleep_wd <- sleep %>%\n",
    "  spread(key=group,value=extra) %>% # wide format - all measurements for one participant are in same row\n",
    "  mutate(diffScores= group1 - group2) # in case you want to look at the differences. \n",
    "head(sleep_wd)\n",
    "\n",
    "## Traditional paired t-test\n",
    "t.test(sleep_wd$group1,sleep_wd$group2,paired=TRUE) "
   ]
  },
  {
   "cell_type": "markdown",
   "metadata": {
    "id": "UK5CF30OmBjv"
   },
   "source": [
    "In the test above, the difference scores are found to be significantly different from 0 ($t=-4.06$, $p<0.005$ ), with group 1 values being smaller than group 2 values. Now let's look at Bayes factors for this same example. "
   ]
  },
  {
   "cell_type": "code",
   "execution_count": 15,
   "metadata": {
    "colab": {
     "base_uri": "https://localhost:8080/",
     "height": 153
    },
    "executionInfo": {
     "elapsed": 394,
     "status": "ok",
     "timestamp": 1613055873369,
     "user": {
      "displayName": "Patience Stevens",
      "photoUrl": "https://lh3.googleusercontent.com/a-/AOh14Gi-_9ZqhIFhAv1oMehJNvNuIKSTyrFQHzjxQKhx=s64",
      "userId": "01994571539255174942"
     },
     "user_tz": 300
    },
    "id": "N7Gncfk0WbYC",
    "outputId": "8a0080df-89fc-4f8f-9f33-a01d03b67a81"
   },
   "outputs": [
    {
     "data": {
      "text/plain": [
       "Bayes factor analysis\n",
       "--------------\n",
       "[1] Alt., r=0.707 : 17.25888 ±0%\n",
       "\n",
       "Against denominator:\n",
       "  Null, mu = 0 \n",
       "---\n",
       "Bayes factor type: BFoneSample, JZS\n"
      ]
     },
     "metadata": {
      "tags": []
     },
     "output_type": "display_data"
    }
   ],
   "source": [
    "# ?ttestBF\n",
    "bf = ttestBF(x = sleep_wd$group1,y=sleep_wd$group2, paired=TRUE) # this is the BF object\n",
    "bf # the relative evidence for the alternative hypothesis (nonzero difference between conditions)"
   ]
  },
  {
   "cell_type": "markdown",
   "metadata": {
    "id": "pQfSayXLWbYD"
   },
   "source": [
    "Note the denominator specification in the output! Make sure to interpret these correctly. Here, the denominator is the null hypothesis, so this is the relative evidence for the alternative hypothesis, that the difference in sleep gotten between conditions is non-zero. "
   ]
  },
  {
   "cell_type": "code",
   "execution_count": null,
   "metadata": {
    "id": "W1SzqlkNWbYD",
    "outputId": "f476722b-fd6c-48aa-f866-cd4d121fe14a"
   },
   "outputs": [
    {
     "data": {
      "text/plain": [
       "Bayes factor analysis\n",
       "--------------\n",
       "[1] Null, mu=0 : 0.05794119 ±0%\n",
       "\n",
       "Against denominator:\n",
       "  Alternative, r = 0.707106781186548, mu =/= 0 \n",
       "---\n",
       "Bayes factor type: BFoneSample, JZS\n"
      ]
     },
     "metadata": {
      "tags": []
     },
     "output_type": "display_data"
    }
   ],
   "source": [
    "1/bf #the relative evidence for the null hypothesis (no difference between conditions)"
   ]
  },
  {
   "cell_type": "markdown",
   "metadata": {
    "id": "eh5GQxPIWbYD"
   },
   "source": [
    "As you can see, the evidence for the alternative (17.25) is much higher than for the null (0.06).\n",
    "\n",
    "Now let's test a directional hypothesis: Instead of determining *Is $x$ different from $y$?*, we'll ask more specifically *Is $x$ **less than** $y$?*. To do this, set the `nullInterval` argument to the range of interest. Here, we will compute the weight of evidence for the alternative hypothesis that the difference in the amount of sleep gotten between conditions will be negative, so the range is from `-Inf` to `0`."
   ]
  },
  {
   "cell_type": "code",
   "execution_count": 17,
   "metadata": {
    "colab": {
     "base_uri": "https://localhost:8080/",
     "height": 170
    },
    "executionInfo": {
     "elapsed": 261,
     "status": "ok",
     "timestamp": 1613056582192,
     "user": {
      "displayName": "Patience Stevens",
      "photoUrl": "https://lh3.googleusercontent.com/a-/AOh14Gi-_9ZqhIFhAv1oMehJNvNuIKSTyrFQHzjxQKhx=s64",
      "userId": "01994571539255174942"
     },
     "user_tz": 300
    },
    "id": "980fSgfLWbYD",
    "outputId": "609c0ffb-15c2-41ad-ec97-45c2ab2606a3"
   },
   "outputs": [
    {
     "data": {
      "text/plain": [
       "Bayes factor analysis\n",
       "--------------\n",
       "[1] Alt., r=0.707 -Inf<d<0    : 34.41694  ±0%\n",
       "[2] Alt., r=0.707 !(-Inf<d<0) : 0.1008246 ±0.06%\n",
       "\n",
       "Against denominator:\n",
       "  Null, mu = 0 \n",
       "---\n",
       "Bayes factor type: BFoneSample, JZS\n"
      ]
     },
     "metadata": {
      "tags": []
     },
     "output_type": "display_data"
    }
   ],
   "source": [
    "#we can also test a directional hypothesis  \n",
    "bfInterval = ttestBF(x = sleep_wd$diffScores, nullInterval=c(-Inf,0)) #here we test the hypothesis that the difference is less than 0\n",
    "bfInterval"
   ]
  },
  {
   "cell_type": "markdown",
   "metadata": {
    "id": "W18krZGBWbYE"
   },
   "source": [
    "Here you can see the evidence for both possible situations evalauated against the null as the denominator. Line 1 shows the evidence that the difference between conditions is negative, and line 2 shows the evidence tha the difference between conditions is  non-negative (positive). You can see that the evidence is more strongly in favor of a negative difference (34.42) than a positive difference (0.10)."
   ]
  },
  {
   "cell_type": "markdown",
   "metadata": {
    "id": "fcwDCTfnWbYE"
   },
   "source": [
    "Now, what if you were interested in directly comparing the evidence for a negative difference with the evidence for a positive difference? You can directly manipulate the Bayes Factor object to achieve this. Since both of these evidence ratios have the same denominator, we can directly compare these results like this: "
   ]
  },
  {
   "cell_type": "code",
   "execution_count": 18,
   "metadata": {
    "colab": {
     "base_uri": "https://localhost:8080/",
     "height": 153
    },
    "executionInfo": {
     "elapsed": 454,
     "status": "ok",
     "timestamp": 1613056584870,
     "user": {
      "displayName": "Patience Stevens",
      "photoUrl": "https://lh3.googleusercontent.com/a-/AOh14Gi-_9ZqhIFhAv1oMehJNvNuIKSTyrFQHzjxQKhx=s64",
      "userId": "01994571539255174942"
     },
     "user_tz": 300
    },
    "id": "0_Vk4IA0WbYE",
    "outputId": "a7abf985-28b2-4b53-fd95-697ee3f60c5f"
   },
   "outputs": [
    {
     "data": {
      "text/plain": [
       "Bayes factor analysis\n",
       "--------------\n",
       "[1] Alt., r=0.707 -Inf<d<0 : 341.3547 ±0.06%\n",
       "\n",
       "Against denominator:\n",
       "  Alternative, r = 0.707106781186548, mu =/= 0 !(-Inf<d<0) \n",
       "---\n",
       "Bayes factor type: BFoneSample, JZS\n"
      ]
     },
     "metadata": {
      "tags": []
     },
     "output_type": "display_data"
    }
   ],
   "source": [
    "bfNegative = bfInterval[1] / bfInterval[2] #here we compare the evidence for a negative difference against the evidence for a positive one\n",
    "\n",
    "bfNegative\n",
    "#note the denominator specification"
   ]
  },
  {
   "cell_type": "markdown",
   "metadata": {
    "id": "Xg-wikQYWbYE"
   },
   "source": [
    "And like before, we can take the inverse of this ratio to find the evidence for a positive difference against the evidence for a negative one: "
   ]
  },
  {
   "cell_type": "code",
   "execution_count": 19,
   "metadata": {
    "colab": {
     "base_uri": "https://localhost:8080/",
     "height": 153
    },
    "executionInfo": {
     "elapsed": 290,
     "status": "ok",
     "timestamp": 1613056592655,
     "user": {
      "displayName": "Patience Stevens",
      "photoUrl": "https://lh3.googleusercontent.com/a-/AOh14Gi-_9ZqhIFhAv1oMehJNvNuIKSTyrFQHzjxQKhx=s64",
      "userId": "01994571539255174942"
     },
     "user_tz": 300
    },
    "id": "IeoHnOZ9WbYF",
    "outputId": "b56108ba-4520-4e38-e9bd-84db4e1207d5"
   },
   "outputs": [
    {
     "data": {
      "text/plain": [
       "Bayes factor analysis\n",
       "--------------\n",
       "[1] Alt., r=0.707 !(-Inf<d<0) : 0.002929504 ±0.06%\n",
       "\n",
       "Against denominator:\n",
       "  Alternative, r = 0.707106781186548, mu =/= 0 -Inf<d<0 \n",
       "---\n",
       "Bayes factor type: BFoneSample, JZS\n"
      ]
     },
     "metadata": {
      "tags": []
     },
     "output_type": "display_data"
    }
   ],
   "source": [
    "bfPositive = 1 / bfNegative #as you might expect, the evidence for a positive difference is miniscule \n",
    "bfPositive"
   ]
  },
  {
   "cell_type": "markdown",
   "metadata": {
    "id": "3suS20ZiWbYF"
   },
   "source": [
    "Now we've conducted Bayes factor analyses for three different alternative hypotheses: that the difference scores are non-zero, that the difference scores are negative, and that the difference scores are positive. You can use the `plot` function in the `BayesFactor` package to visually evaluate the difference in the relative evidence for each of these hypotheses."
   ]
  },
  {
   "cell_type": "code",
   "execution_count": 21,
   "metadata": {
    "colab": {
     "base_uri": "https://localhost:8080/",
     "height": 187
    },
    "executionInfo": {
     "elapsed": 290,
     "status": "ok",
     "timestamp": 1613057242011,
     "user": {
      "displayName": "Patience Stevens",
      "photoUrl": "https://lh3.googleusercontent.com/a-/AOh14Gi-_9ZqhIFhAv1oMehJNvNuIKSTyrFQHzjxQKhx=s64",
      "userId": "01994571539255174942"
     },
     "user_tz": 300
    },
    "id": "-S9Kzkf_WbYF",
    "outputId": "824f6bd4-29f9-499d-c1a0-1a1e1e2ec4da"
   },
   "outputs": [
    {
     "data": {
      "text/plain": [
       "Bayes factor analysis\n",
       "--------------\n",
       "[1] Alt., r=0.707             : 17.25888  ±0%\n",
       "[2] Alt., r=0.707 -Inf<d<0    : 34.41694  ±0%\n",
       "[3] Alt., r=0.707 !(-Inf<d<0) : 0.1008246 ±0.06%\n",
       "\n",
       "Against denominator:\n",
       "  Null, mu = 0 \n",
       "---\n",
       "Bayes factor type: BFoneSample, JZS\n"
      ]
     },
     "metadata": {
      "tags": []
     },
     "output_type": "display_data"
    }
   ],
   "source": [
    "allbf = c(bf, bfInterval)\n",
    "\n",
    "allbf"
   ]
  },
  {
   "cell_type": "code",
   "execution_count": 22,
   "metadata": {
    "colab": {
     "base_uri": "https://localhost:8080/",
     "height": 437
    },
    "executionInfo": {
     "elapsed": 898,
     "status": "ok",
     "timestamp": 1613057245589,
     "user": {
      "displayName": "Patience Stevens",
      "photoUrl": "https://lh3.googleusercontent.com/a-/AOh14Gi-_9ZqhIFhAv1oMehJNvNuIKSTyrFQHzjxQKhx=s64",
      "userId": "01994571539255174942"
     },
     "user_tz": 300
    },
    "id": "dkUaZugZWbYG",
    "outputId": "1254f523-c251-4540-9afb-49e0d45fb3af"
   },
   "outputs": [
    {
     "data": {
      "image/png": "[encoded data removed]",
      "text/plain": [
       "Plot with title “vs. Null, mu = 0”"
      ]
     },
     "metadata": {
      "filenames": {
       "image/png": "/Users/timothyv/Cloud/Google Drive/Classes/DataSciencePsychNeuro_2022/Data-Explorations/book/_build/jupyter_execute/notebooks/bayes-factor-accepting-the-null_23_0.png"
      },
      "image/png": {
       "height": 420,
       "width": 420
      },
      "tags": []
     },
     "output_type": "display_data"
    }
   ],
   "source": [
    "plot(allbf)"
   ]
  },
  {
   "cell_type": "markdown",
   "metadata": {
    "id": "rHAstvM5t7wX"
   },
   "source": [
    "Ahhhh... so lovely :)"
   ]
  },
  {
   "cell_type": "markdown",
   "metadata": {
    "id": "kUDNjdYxWbYG"
   },
   "source": [
    "---\n",
    "# Calculating the Bayes Factor for comparison of candidate mixed effect models"
   ]
  },
  {
   "cell_type": "markdown",
   "metadata": {
    "id": "ZFUBDHlvWbYG"
   },
   "source": [
    "Now let's see how to apply this to hierarchical linear regression, using the `ToothGrowth` data set. The dependent variable is `len`, the length of the tooth, and the independent variables are `supp`, the type of supplement they took (Vitamin C or Orange Juice), and `dose`, the amount of supplement they took."
   ]
  },
  {
   "cell_type": "code",
   "execution_count": 24,
   "metadata": {
    "colab": {
     "base_uri": "https://localhost:8080/",
     "height": 623
    },
    "executionInfo": {
     "elapsed": 311,
     "status": "ok",
     "timestamp": 1613057897135,
     "user": {
      "displayName": "Patience Stevens",
      "photoUrl": "https://lh3.googleusercontent.com/a-/AOh14Gi-_9ZqhIFhAv1oMehJNvNuIKSTyrFQHzjxQKhx=s64",
      "userId": "01994571539255174942"
     },
     "user_tz": 300
    },
    "id": "HNdj6WspWbYG",
    "outputId": "0ffeb46d-c9ce-4cd5-dcd0-ea9bd15c432a"
   },
   "outputs": [
    {
     "data": {
      "text/html": [
       "<table class=\"dataframe\">\n",
       "<caption>A data.frame: 6 × 3</caption>\n",
       "<thead>\n",
       "\t<tr><th></th><th scope=col>len</th><th scope=col>supp</th><th scope=col>dose</th></tr>\n",
       "\t<tr><th></th><th scope=col>&lt;dbl&gt;</th><th scope=col>&lt;fct&gt;</th><th scope=col>&lt;dbl&gt;</th></tr>\n",
       "</thead>\n",
       "<tbody>\n",
       "\t<tr><th scope=row>1</th><td> 4.2</td><td>VC</td><td>0.5</td></tr>\n",
       "\t<tr><th scope=row>2</th><td>11.5</td><td>VC</td><td>0.5</td></tr>\n",
       "\t<tr><th scope=row>3</th><td> 7.3</td><td>VC</td><td>0.5</td></tr>\n",
       "\t<tr><th scope=row>4</th><td> 5.8</td><td>VC</td><td>0.5</td></tr>\n",
       "\t<tr><th scope=row>5</th><td> 6.4</td><td>VC</td><td>0.5</td></tr>\n",
       "\t<tr><th scope=row>6</th><td>10.0</td><td>VC</td><td>0.5</td></tr>\n",
       "</tbody>\n",
       "</table>\n"
      ],
      "text/latex": [
       "A data.frame: 6 × 3\n",
       "\\begin{tabular}{r|lll}\n",
       "  & len & supp & dose\\\\\n",
       "  & <dbl> & <fct> & <dbl>\\\\\n",
       "\\hline\n",
       "\t1 &  4.2 & VC & 0.5\\\\\n",
       "\t2 & 11.5 & VC & 0.5\\\\\n",
       "\t3 &  7.3 & VC & 0.5\\\\\n",
       "\t4 &  5.8 & VC & 0.5\\\\\n",
       "\t5 &  6.4 & VC & 0.5\\\\\n",
       "\t6 & 10.0 & VC & 0.5\\\\\n",
       "\\end{tabular}\n"
      ],
      "text/markdown": [
       "\n",
       "A data.frame: 6 × 3\n",
       "\n",
       "| <!--/--> | len &lt;dbl&gt; | supp &lt;fct&gt; | dose &lt;dbl&gt; |\n",
       "|---|---|---|---|\n",
       "| 1 |  4.2 | VC | 0.5 |\n",
       "| 2 | 11.5 | VC | 0.5 |\n",
       "| 3 |  7.3 | VC | 0.5 |\n",
       "| 4 |  5.8 | VC | 0.5 |\n",
       "| 5 |  6.4 | VC | 0.5 |\n",
       "| 6 | 10.0 | VC | 0.5 |\n",
       "\n"
      ],
      "text/plain": [
       "  len  supp dose\n",
       "1  4.2 VC   0.5 \n",
       "2 11.5 VC   0.5 \n",
       "3  7.3 VC   0.5 \n",
       "4  5.8 VC   0.5 \n",
       "5  6.4 VC   0.5 \n",
       "6 10.0 VC   0.5 "
      ]
     },
     "metadata": {
      "tags": []
     },
     "output_type": "display_data"
    },
    {
     "data": {
      "text/plain": [
       "\n",
       "Call:\n",
       "lm(formula = len ~ supp + dose + supp:dose, data = ToothGrowth)\n",
       "\n",
       "Residuals:\n",
       "    Min      1Q  Median      3Q     Max \n",
       "-7.5433 -2.4921 -0.5033  2.7117  7.8567 \n",
       "\n",
       "Coefficients:\n",
       "            Estimate Std. Error t value Pr(>|t|)    \n",
       "(Intercept)  20.6633     0.6791  30.425  < 2e-16 ***\n",
       "suppVC       -3.7000     0.9605  -3.852 0.000303 ***\n",
       "dose         21.3102     2.7631   7.712  2.3e-10 ***\n",
       "suppVC:dose   8.8529     3.9076   2.266 0.027366 *  \n",
       "---\n",
       "Signif. codes:  0 ‘***’ 0.001 ‘**’ 0.01 ‘*’ 0.05 ‘.’ 0.1 ‘ ’ 1\n",
       "\n",
       "Residual standard error: 3.72 on 56 degrees of freedom\n",
       "Multiple R-squared:  0.7755,\tAdjusted R-squared:  0.7635 \n",
       "F-statistic:  64.5 on 3 and 56 DF,  p-value: < 2.2e-16\n"
      ]
     },
     "metadata": {
      "tags": []
     },
     "output_type": "display_data"
    }
   ],
   "source": [
    "data(ToothGrowth)\n",
    "head(ToothGrowth)\n",
    "# ?ToothGrowth\n",
    "\n",
    "# model log10 of dose instead of dose directly\n",
    "ToothGrowth$dose = log10(ToothGrowth$dose)\n",
    "\n",
    "# Classic analysis for comparison\n",
    "lmToothGrowth <- lm(len ~ supp + dose + supp:dose, data=ToothGrowth)\n",
    "summary(lmToothGrowth)"
   ]
  },
  {
   "cell_type": "markdown",
   "metadata": {
    "id": "snOr3jKfWbYG"
   },
   "source": [
    "The classic analysis shows low p-values for the effects of supplement type and dose on tooth growth with an interaction effect. We can use the `lmBF` function to calculate the Bayes factors for all potential models of interest against a null intercept-only model. "
   ]
  },
  {
   "cell_type": "code",
   "execution_count": 25,
   "metadata": {
    "colab": {
     "base_uri": "https://localhost:8080/",
     "height": 204
    },
    "executionInfo": {
     "elapsed": 851,
     "status": "ok",
     "timestamp": 1613057989572,
     "user": {
      "displayName": "Patience Stevens",
      "photoUrl": "https://lh3.googleusercontent.com/a-/AOh14Gi-_9ZqhIFhAv1oMehJNvNuIKSTyrFQHzjxQKhx=s64",
      "userId": "01994571539255174942"
     },
     "user_tz": 300
    },
    "id": "3EroYz1wWbYH",
    "outputId": "22a88f21-ad7f-4331-aec1-0c473628feaa"
   },
   "outputs": [
    {
     "data": {
      "text/plain": [
       "Bayes factor analysis\n",
       "--------------\n",
       "[1] supp + dose + supp:dose : 1.651389e+15 ±3.73%\n",
       "[2] supp + dose             : 1.54362e+15  ±1.42%\n",
       "[3] dose                    : 2.769593e+13 ±0.01%\n",
       "[4] supp                    : 1.198757     ±0.01%\n",
       "\n",
       "Against denominator:\n",
       "  Intercept only \n",
       "---\n",
       "Bayes factor type: BFlinearModel, JZS\n"
      ]
     },
     "metadata": {
      "tags": []
     },
     "output_type": "display_data"
    }
   ],
   "source": [
    "full <- lmBF(len ~ supp + dose + supp:dose, data=ToothGrowth) #all predictors + interaction\n",
    "noInteraction <- lmBF(len ~ supp + dose, data=ToothGrowth) #no interaction\n",
    "onlyDose <- lmBF(len ~ dose, data=ToothGrowth) #only dose\n",
    "onlySupp <- lmBF(len ~ supp, data=ToothGrowth) #only supplementation\n",
    "\n",
    "allBFs <- c(full, noInteraction, onlyDose, onlySupp)\n",
    "allBFs"
   ]
  },
  {
   "cell_type": "code",
   "execution_count": null,
   "metadata": {
    "id": "Jv5rN1vHWbYH",
    "outputId": "b9c0f7b3-8256-4ebd-ff9b-b69b09c53916"
   },
   "outputs": [
    {
     "data": {
      "image/png": "[encoded data removed]",
      "text/plain": [
       "Plot with title “vs. Intercept only”"
      ]
     },
     "metadata": {
      "filenames": {
       "image/png": "/Users/timothyv/Cloud/Google Drive/Classes/DataSciencePsychNeuro_2022/Data-Explorations/book/_build/jupyter_execute/notebooks/bayes-factor-accepting-the-null_30_0.png"
      },
      "tags": []
     },
     "output_type": "display_data"
    }
   ],
   "source": [
    "plot(allBFs)"
   ]
  },
  {
   "cell_type": "markdown",
   "metadata": {
    "id": "STALzgJfWbYH"
   },
   "source": [
    "The results from the interaction model and the no-interaction model are close. Let's directly evaluate these two hypotheses against one another."
   ]
  },
  {
   "cell_type": "code",
   "execution_count": null,
   "metadata": {
    "id": "mgVmlZs4WbYH",
    "outputId": "4299b238-1c33-41e1-cc2e-25cf194b04e7"
   },
   "outputs": [
    {
     "data": {
      "text/plain": [
       "Bayes factor analysis\n",
       "--------------\n",
       "[1] supp + dose + supp:dose : 1.02911 ±1.56%\n",
       "\n",
       "Against denominator:\n",
       "  len ~ supp + dose \n",
       "---\n",
       "Bayes factor type: BFlinearModel, JZS\n"
      ]
     },
     "metadata": {
      "tags": []
     },
     "output_type": "display_data"
    }
   ],
   "source": [
    "full / noInteraction"
   ]
  },
  {
   "cell_type": "markdown",
   "metadata": {
    "id": "Pj0DmOXfWbYH"
   },
   "source": [
    "Even after direct comparison, there's no clear difference between the two models. It would probably depend on the context what you decide to do with this information - if there's prior literature to suggest that the interaction should play a role, you might lean toward using the more complex model even though the difference between the two isn't dramatic in this case. Otherwise, it would make sense to stick with the simpler model. "
   ]
  },
  {
   "cell_type": "markdown",
   "metadata": {
    "id": "J9FyI3wLX1bG"
   },
   "source": [
    "*Notebook authored by Krista Bond and edited by Charles Wu, Patience Stevens, and Amy Sentis.*"
   ]
  }
 ],
 "metadata": {
  "colab": {
   "name": "bayes-factor-accepting-the-null.ipynb",
   "provenance": []
  },
  "kernelspec": {
   "display_name": "R",
   "language": "R",
   "name": "ir"
  },
  "language_info": {
   "codemirror_mode": "r",
   "file_extension": ".r",
   "mimetype": "text/x-r-source",
   "name": "R",
   "pygments_lexer": "r",
   "version": "4.0.2"
  }
 },
 "nbformat": 4,
 "nbformat_minor": 1
}