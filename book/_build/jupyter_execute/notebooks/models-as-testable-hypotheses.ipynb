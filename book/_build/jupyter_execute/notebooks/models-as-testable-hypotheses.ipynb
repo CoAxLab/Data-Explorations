{
 "cells": [
  {
   "cell_type": "markdown",
   "id": "174ba987",
   "metadata": {},
   "source": [
    "# Tutorial: Introduction to R, functions, and good coding habits\n",
    "\n",
    "## Goals:\n",
    "* Learn some basic R commands\n",
    "* Learn how to write a function in R\n",
    "* Learn best practices for writing and maintaining code\n",
    "\n",
    "This tutorial draws from [Software Carpentry: Programming with R](https://swcarpentry.github.io/r-novice-inflammation/) section 2, the R [tidyverse style guide](https://style.tidyverse.org), and the [Good Research Code Handbook](https://goodresearch.dev)."
   ]
  },
  {
   "cell_type": "markdown",
   "id": "36c0de75",
   "metadata": {
    "id": "DSbZZ6q0c2nL"
   },
   "source": [
    "---\n",
    "# Basic R Commands\n",
    "\n",
    "## Arithmetic\n",
    "\n",
    "In R, you can do basic arithmetic just like any other programming language e.g.,"
   ]
  },
  {
   "cell_type": "code",
   "execution_count": 1,
   "id": "4b943155",
   "metadata": {
    "colab": {
     "base_uri": "https://localhost:8080/",
     "height": 69
    },
    "executionInfo": {
     "elapsed": 1109,
     "status": "ok",
     "timestamp": 1611095668592,
     "user": {
      "displayName": "Patience Stevens",
      "photoUrl": "https://lh3.googleusercontent.com/a-/AOh14Gi-_9ZqhIFhAv1oMehJNvNuIKSTyrFQHzjxQKhx=s64",
      "userId": "01994571539255174942"
     },
     "user_tz": 300
    },
    "id": "NHz9WgOMc-2Z",
    "outputId": "9012b762-a648-4c69-eee8-a8c927374fa3"
   },
   "outputs": [
    {
     "data": {
      "text/html": [
       "8"
      ],
      "text/latex": [
       "8"
      ],
      "text/markdown": [
       "8"
      ],
      "text/plain": [
       "[1] 8"
      ]
     },
     "metadata": {},
     "output_type": "display_data"
    },
    {
     "data": {
      "text/html": [
       "-2"
      ],
      "text/latex": [
       "-2"
      ],
      "text/markdown": [
       "-2"
      ],
      "text/plain": [
       "[1] -2"
      ]
     },
     "metadata": {},
     "output_type": "display_data"
    },
    {
     "data": {
      "text/html": [
       "125"
      ],
      "text/latex": [
       "125"
      ],
      "text/markdown": [
       "125"
      ],
      "text/plain": [
       "[1] 125"
      ]
     },
     "metadata": {},
     "output_type": "display_data"
    }
   ],
   "source": [
    "6 + 2\n",
    "10 - 3 * 4\n",
    "5^3"
   ]
  },
  {
   "cell_type": "markdown",
   "id": "f4c55b88",
   "metadata": {
    "id": "mAlJh1JmdDY7"
   },
   "source": [
    "## Data structures\n",
    "\n",
    "#### Vectors\n",
    "Vectors are lists of numbers or strings. "
   ]
  },
  {
   "cell_type": "code",
   "execution_count": 3,
   "id": "e7233800",
   "metadata": {
    "colab": {
     "base_uri": "https://localhost:8080/"
    },
    "executionInfo": {
     "elapsed": 1092,
     "status": "ok",
     "timestamp": 1611095668594,
     "user": {
      "displayName": "Patience Stevens",
      "photoUrl": "https://lh3.googleusercontent.com/a-/AOh14Gi-_9ZqhIFhAv1oMehJNvNuIKSTyrFQHzjxQKhx=s64",
      "userId": "01994571539255174942"
     },
     "user_tz": 300
    },
    "id": "rMaIPMt4dOc-",
    "outputId": "d7756a06-0e35-46b8-f060-01d6810de274"
   },
   "outputs": [
    {
     "name": "stdout",
     "output_type": "stream",
     "text": [
      "[1] \"mean of vector a: 2\"\n",
      "[1] \"sum of vector b: 15\"\n"
     ]
    }
   ],
   "source": [
    "a <- c(1,2,3)\n",
    "b <- c(4,5,6)\n",
    "print(paste(\"mean of vector a:\",mean(a)))\n",
    "print(paste(\"sum of vector b:\",sum(b)))"
   ]
  },
  {
   "cell_type": "markdown",
   "id": "39757004",
   "metadata": {
    "id": "IKuizusTeLpT"
   },
   "source": [
    "You can do element-wise operations on two vectors easily:"
   ]
  },
  {
   "cell_type": "code",
   "execution_count": null,
   "id": "ae752de7",
   "metadata": {
    "colab": {
     "base_uri": "https://localhost:8080/",
     "height": 34
    },
    "executionInfo": {
     "elapsed": 1076,
     "status": "ok",
     "timestamp": 1611095668597,
     "user": {
      "displayName": "Patience Stevens",
      "photoUrl": "https://lh3.googleusercontent.com/a-/AOh14Gi-_9ZqhIFhAv1oMehJNvNuIKSTyrFQHzjxQKhx=s64",
      "userId": "01994571539255174942"
     },
     "user_tz": 300
    },
    "id": "9McHF1LMePix",
    "outputId": "154e41ef-24b3-49a8-c03c-68b6f48e8f5b"
   },
   "outputs": [
    {
     "data": {
      "text/html": [
       "<style>\n",
       ".list-inline {list-style: none; margin:0; padding: 0}\n",
       ".list-inline>li {display: inline-block}\n",
       ".list-inline>li:not(:last-child)::after {content: \"\\00b7\"; padding: 0 .5ex}\n",
       "</style>\n",
       "<ol class=list-inline><li>4</li><li>10</li><li>18</li></ol>\n"
      ],
      "text/latex": [
       "\\begin{enumerate*}\n",
       "\\item 4\n",
       "\\item 10\n",
       "\\item 18\n",
       "\\end{enumerate*}\n"
      ],
      "text/markdown": [
       "1. 4\n",
       "2. 10\n",
       "3. 18\n",
       "\n",
       "\n"
      ],
      "text/plain": [
       "[1]  4 10 18"
      ]
     },
     "metadata": {
      "tags": []
     },
     "output_type": "display_data"
    }
   ],
   "source": [
    "a*b"
   ]
  },
  {
   "cell_type": "markdown",
   "id": "44ef2e7d",
   "metadata": {
    "id": "7XYEg4IoeYOt"
   },
   "source": [
    "#### Data frames\n",
    "Data frames can contain data of mixed types such as numbers and strings. Usually, each column is a different variable (e.g., Age, Test Score), and items within each column are of the same type. "
   ]
  },
  {
   "cell_type": "code",
   "execution_count": 4,
   "id": "b0a9734f",
   "metadata": {
    "colab": {
     "base_uri": "https://localhost:8080/",
     "height": 143
    },
    "executionInfo": {
     "elapsed": 1204,
     "status": "ok",
     "timestamp": 1611095668743,
     "user": {
      "displayName": "Patience Stevens",
      "photoUrl": "https://lh3.googleusercontent.com/a-/AOh14Gi-_9ZqhIFhAv1oMehJNvNuIKSTyrFQHzjxQKhx=s64",
      "userId": "01994571539255174942"
     },
     "user_tz": 300
    },
    "id": "wHLr4mp1fDbR",
    "outputId": "f98a40b2-f0bf-404e-e8c8-1777b268c22c"
   },
   "outputs": [
    {
     "data": {
      "text/html": [
       "<table class=\"dataframe\">\n",
       "<caption>A data.frame: 3 × 3</caption>\n",
       "<thead>\n",
       "\t<tr><th scope=col>avar</th><th scope=col>bvar</th><th scope=col>cvar</th></tr>\n",
       "\t<tr><th scope=col>&lt;dbl&gt;</th><th scope=col>&lt;dbl&gt;</th><th scope=col>&lt;chr&gt;</th></tr>\n",
       "</thead>\n",
       "<tbody>\n",
       "\t<tr><td>1</td><td>4</td><td>one  </td></tr>\n",
       "\t<tr><td>2</td><td>5</td><td>two  </td></tr>\n",
       "\t<tr><td>3</td><td>6</td><td>three</td></tr>\n",
       "</tbody>\n",
       "</table>\n"
      ],
      "text/latex": [
       "A data.frame: 3 × 3\n",
       "\\begin{tabular}{lll}\n",
       " avar & bvar & cvar\\\\\n",
       " <dbl> & <dbl> & <chr>\\\\\n",
       "\\hline\n",
       "\t 1 & 4 & one  \\\\\n",
       "\t 2 & 5 & two  \\\\\n",
       "\t 3 & 6 & three\\\\\n",
       "\\end{tabular}\n"
      ],
      "text/markdown": [
       "\n",
       "A data.frame: 3 × 3\n",
       "\n",
       "| avar &lt;dbl&gt; | bvar &lt;dbl&gt; | cvar &lt;chr&gt; |\n",
       "|---|---|---|\n",
       "| 1 | 4 | one   |\n",
       "| 2 | 5 | two   |\n",
       "| 3 | 6 | three |\n",
       "\n"
      ],
      "text/plain": [
       "  avar bvar cvar \n",
       "1 1    4    one  \n",
       "2 2    5    two  \n",
       "3 3    6    three"
      ]
     },
     "metadata": {},
     "output_type": "display_data"
    }
   ],
   "source": [
    "c <- c(\"one\", \"two\", \"three\")\n",
    "data <- data.frame(avar = a,bvar = b,cvar = c)\n",
    "data"
   ]
  },
  {
   "cell_type": "markdown",
   "id": "a202fff7",
   "metadata": {
    "id": "DRQI9bdHgKX2"
   },
   "source": [
    "In the data frame printed above, you can see that both variables **avar** and **bvar** are type **\\<dbl\\>** (short for \"double\", another term for numeric) while variable **cvar** is type **\\<chr\\>**, or \"character\". \n",
    "\n"
   ]
  },
  {
   "cell_type": "markdown",
   "id": "d3e363e9",
   "metadata": {
    "id": "Q9TPx4z9g9T3"
   },
   "source": [
    "## Indexing"
   ]
  },
  {
   "cell_type": "markdown",
   "id": "4cb240f7",
   "metadata": {
    "id": "p9Aq5_PBhAtU"
   },
   "source": [
    "In a vector, you can index data by its position (starting at index 1): "
   ]
  },
  {
   "cell_type": "code",
   "execution_count": null,
   "id": "0fdc394e",
   "metadata": {
    "colab": {
     "base_uri": "https://localhost:8080/",
     "height": 34
    },
    "executionInfo": {
     "elapsed": 1188,
     "status": "ok",
     "timestamp": 1611095668745,
     "user": {
      "displayName": "Patience Stevens",
      "photoUrl": "https://lh3.googleusercontent.com/a-/AOh14Gi-_9ZqhIFhAv1oMehJNvNuIKSTyrFQHzjxQKhx=s64",
      "userId": "01994571539255174942"
     },
     "user_tz": 300
    },
    "id": "wcpm1Jp6hPw1",
    "outputId": "b224f3ce-c54d-4ee6-c972-ad8b4baef614"
   },
   "outputs": [
    {
     "data": {
      "text/html": [
       "2"
      ],
      "text/latex": [
       "2"
      ],
      "text/markdown": [
       "2"
      ],
      "text/plain": [
       "[1] 2"
      ]
     },
     "metadata": {
      "tags": []
     },
     "output_type": "display_data"
    }
   ],
   "source": [
    "a[2]"
   ]
  },
  {
   "cell_type": "markdown",
   "id": "dbb317ee",
   "metadata": {
    "id": "iXIwwT6EfZUA"
   },
   "source": [
    "In a data frame, you can index data by its column and row number using `data[row, col]`:"
   ]
  },
  {
   "cell_type": "code",
   "execution_count": 6,
   "id": "f62a61f4",
   "metadata": {
    "colab": {
     "base_uri": "https://localhost:8080/",
     "height": 34
    },
    "executionInfo": {
     "elapsed": 1173,
     "status": "ok",
     "timestamp": 1611095668747,
     "user": {
      "displayName": "Patience Stevens",
      "photoUrl": "https://lh3.googleusercontent.com/a-/AOh14Gi-_9ZqhIFhAv1oMehJNvNuIKSTyrFQHzjxQKhx=s64",
      "userId": "01994571539255174942"
     },
     "user_tz": 300
    },
    "id": "RmvJgTHrfy7K",
    "outputId": "2443b402-1528-400e-cdf1-7b8119c3b914",
    "scrolled": true
   },
   "outputs": [
    {
     "data": {
      "text/html": [
       "2"
      ],
      "text/latex": [
       "2"
      ],
      "text/markdown": [
       "2"
      ],
      "text/plain": [
       "[1] 2"
      ]
     },
     "metadata": {},
     "output_type": "display_data"
    }
   ],
   "source": [
    "data[2,1]"
   ]
  },
  {
   "cell_type": "markdown",
   "id": "62f9609d",
   "metadata": {
    "id": "fwo5cHGrhgBR"
   },
   "source": [
    "You can index a particular column in a data frame by its variable name using `$`: "
   ]
  },
  {
   "cell_type": "code",
   "execution_count": null,
   "id": "bf3b1bcb",
   "metadata": {
    "colab": {
     "base_uri": "https://localhost:8080/",
     "height": 34
    },
    "executionInfo": {
     "elapsed": 1156,
     "status": "ok",
     "timestamp": 1611095668749,
     "user": {
      "displayName": "Patience Stevens",
      "photoUrl": "https://lh3.googleusercontent.com/a-/AOh14Gi-_9ZqhIFhAv1oMehJNvNuIKSTyrFQHzjxQKhx=s64",
      "userId": "01994571539255174942"
     },
     "user_tz": 300
    },
    "id": "IL-iohTwhrUi",
    "outputId": "8b7370b5-4092-4962-94de-fe7f226ba713"
   },
   "outputs": [
    {
     "data": {
      "text/html": [
       "<style>\n",
       ".list-inline {list-style: none; margin:0; padding: 0}\n",
       ".list-inline>li {display: inline-block}\n",
       ".list-inline>li:not(:last-child)::after {content: \"\\00b7\"; padding: 0 .5ex}\n",
       "</style>\n",
       "<ol class=list-inline><li>4</li><li>5</li><li>6</li></ol>\n"
      ],
      "text/latex": [
       "\\begin{enumerate*}\n",
       "\\item 4\n",
       "\\item 5\n",
       "\\item 6\n",
       "\\end{enumerate*}\n"
      ],
      "text/markdown": [
       "1. 4\n",
       "2. 5\n",
       "3. 6\n",
       "\n",
       "\n"
      ],
      "text/plain": [
       "[1] 4 5 6"
      ]
     },
     "metadata": {
      "tags": []
     },
     "output_type": "display_data"
    }
   ],
   "source": [
    "data$bvar"
   ]
  },
  {
   "cell_type": "markdown",
   "id": "caecfab3",
   "metadata": {
    "id": "sCFOZpW3ht-H"
   },
   "source": [
    "Or, you can access a particular column or row by its position in the data frame:"
   ]
  },
  {
   "cell_type": "code",
   "execution_count": null,
   "id": "29815326",
   "metadata": {
    "colab": {
     "base_uri": "https://localhost:8080/",
     "height": 52
    },
    "executionInfo": {
     "elapsed": 1142,
     "status": "ok",
     "timestamp": 1611095668752,
     "user": {
      "displayName": "Patience Stevens",
      "photoUrl": "https://lh3.googleusercontent.com/a-/AOh14Gi-_9ZqhIFhAv1oMehJNvNuIKSTyrFQHzjxQKhx=s64",
      "userId": "01994571539255174942"
     },
     "user_tz": 300
    },
    "id": "5DdXFO5vh1rO",
    "outputId": "99089e31-6e62-4113-975b-1a5a581ce9cf"
   },
   "outputs": [
    {
     "name": "stdout",
     "output_type": "stream",
     "text": [
      "[1] \"Column 3\"\n"
     ]
    },
    {
     "data": {
      "text/html": [
       "<style>\n",
       ".list-inline {list-style: none; margin:0; padding: 0}\n",
       ".list-inline>li {display: inline-block}\n",
       ".list-inline>li:not(:last-child)::after {content: \"\\00b7\"; padding: 0 .5ex}\n",
       "</style>\n",
       "<ol class=list-inline><li>'one'</li><li>'two'</li><li>'three'</li></ol>\n"
      ],
      "text/latex": [
       "\\begin{enumerate*}\n",
       "\\item 'one'\n",
       "\\item 'two'\n",
       "\\item 'three'\n",
       "\\end{enumerate*}\n"
      ],
      "text/markdown": [
       "1. 'one'\n",
       "2. 'two'\n",
       "3. 'three'\n",
       "\n",
       "\n"
      ],
      "text/plain": [
       "[1] \"one\"   \"two\"   \"three\""
      ]
     },
     "metadata": {
      "tags": []
     },
     "output_type": "display_data"
    }
   ],
   "source": [
    "print(\"Column 3\")\n",
    "data[,3]"
   ]
  },
  {
   "cell_type": "code",
   "execution_count": null,
   "id": "03eee591",
   "metadata": {
    "colab": {
     "base_uri": "https://localhost:8080/",
     "height": 118
    },
    "executionInfo": {
     "elapsed": 1381,
     "status": "ok",
     "timestamp": 1611095669010,
     "user": {
      "displayName": "Patience Stevens",
      "photoUrl": "https://lh3.googleusercontent.com/a-/AOh14Gi-_9ZqhIFhAv1oMehJNvNuIKSTyrFQHzjxQKhx=s64",
      "userId": "01994571539255174942"
     },
     "user_tz": 300
    },
    "id": "by2Yei7RiIJN",
    "outputId": "d5a7af92-d428-449b-eb9b-9c865831842f"
   },
   "outputs": [
    {
     "name": "stdout",
     "output_type": "stream",
     "text": [
      "[1] \"Row 1\"\n"
     ]
    },
    {
     "data": {
      "text/html": [
       "<table>\n",
       "<caption>A data.frame: 1 × 3</caption>\n",
       "<thead>\n",
       "\t<tr><th></th><th scope=col>avar</th><th scope=col>bvar</th><th scope=col>cvar</th></tr>\n",
       "\t<tr><th></th><th scope=col>&lt;dbl&gt;</th><th scope=col>&lt;dbl&gt;</th><th scope=col>&lt;chr&gt;</th></tr>\n",
       "</thead>\n",
       "<tbody>\n",
       "\t<tr><th scope=row>1</th><td>1</td><td>4</td><td>one</td></tr>\n",
       "</tbody>\n",
       "</table>\n"
      ],
      "text/latex": [
       "A data.frame: 1 × 3\n",
       "\\begin{tabular}{r|lll}\n",
       "  & avar & bvar & cvar\\\\\n",
       "  & <dbl> & <dbl> & <chr>\\\\\n",
       "\\hline\n",
       "\t1 & 1 & 4 & one\\\\\n",
       "\\end{tabular}\n"
      ],
      "text/markdown": [
       "\n",
       "A data.frame: 1 × 3\n",
       "\n",
       "| <!--/--> | avar &lt;dbl&gt; | bvar &lt;dbl&gt; | cvar &lt;chr&gt; |\n",
       "|---|---|---|---|\n",
       "| 1 | 1 | 4 | one |\n",
       "\n"
      ],
      "text/plain": [
       "  avar bvar cvar\n",
       "1 1    4    one "
      ]
     },
     "metadata": {
      "tags": []
     },
     "output_type": "display_data"
    }
   ],
   "source": [
    "print(\"Row 1\")\n",
    "data[1,]"
   ]
  },
  {
   "cell_type": "markdown",
   "id": "9c66a52d",
   "metadata": {},
   "source": [
    "Or with square brackets and the row or column name:"
   ]
  },
  {
   "cell_type": "code",
   "execution_count": 11,
   "id": "581ba2d0",
   "metadata": {},
   "outputs": [
    {
     "data": {
      "text/html": [
       "<style>\n",
       ".list-inline {list-style: none; margin:0; padding: 0}\n",
       ".list-inline>li {display: inline-block}\n",
       ".list-inline>li:not(:last-child)::after {content: \"\\00b7\"; padding: 0 .5ex}\n",
       "</style>\n",
       "<ol class=list-inline><li>'one'</li><li>'two'</li><li>'three'</li></ol>\n"
      ],
      "text/latex": [
       "\\begin{enumerate*}\n",
       "\\item 'one'\n",
       "\\item 'two'\n",
       "\\item 'three'\n",
       "\\end{enumerate*}\n"
      ],
      "text/markdown": [
       "1. 'one'\n",
       "2. 'two'\n",
       "3. 'three'\n",
       "\n",
       "\n"
      ],
      "text/plain": [
       "[1] \"one\"   \"two\"   \"three\""
      ]
     },
     "metadata": {},
     "output_type": "display_data"
    }
   ],
   "source": [
    "data[,\"cvar\"]"
   ]
  },
  {
   "cell_type": "code",
   "execution_count": null,
   "id": "60986d1b",
   "metadata": {},
   "outputs": [],
   "source": []
  },
  {
   "cell_type": "markdown",
   "id": "ca5a58ff",
   "metadata": {},
   "source": [
    "---\n",
    "# How to write a function in R"
   ]
  },
  {
   "cell_type": "markdown",
   "id": "407cb85f",
   "metadata": {},
   "source": [
    "In the lecture and readings, you went over how to construct a testable hypothesis of the form:\n",
    "\n",
    "$Y=f(X)$\n",
    "\n",
    "This also describes the basic form of a function. A function takes an input set of variables ($X$), perfoms a basic operation on them ($f$), and generates an output or set of outputs ($Y$). What you will learn here is how to implement that with code."
   ]
  },
  {
   "cell_type": "markdown",
   "id": "afb69951",
   "metadata": {},
   "source": [
    "Functions are useful in elminating redundant or repetitive code, as well as for separating discrete tasks. Function definitions contain certain components:\n",
    "* function name\n",
    "* input parameters\n",
    "* function operation\n",
    "* return statement\n",
    "* return parameters\n",
    "\n",
    "The example function below converts temperatures in Fanrenheit to temperatures in Celsius. Note the formatting structure of the function: \n",
    "* the first line contains a descriptive function name, `fahrenheit_to_celsius`, and the input parameter, `temp_F`\n",
    "* the body of the function performs the temperature conversion, the function operation, and is contained within curly braces\n",
    "* the last line contains the return statement and the return parameter, `temp_C`\n",
    "\n",
    "*Aside: R does not require a formal return statement. The variable in the last line of the function body will be return automatically. However, especially while in the learning phase, it is best to explicitly define the return statement.*\n",
    "\n",
    "The functional form of the conversion from $temp_F$ to $temp_C$ is: $temp_C = \\frac{(temp_F-32)*5}{9}$. Here we will just translate that into R form.\n"
   ]
  },
  {
   "cell_type": "code",
   "execution_count": 1,
   "id": "8c06ee20",
   "metadata": {},
   "outputs": [],
   "source": [
    "fahrenheit_to_celsius <- function(temp_F) {\n",
    "  temp_C <- (temp_F - 32) * 5 / 9\n",
    "  return(temp_C)\n",
    "}"
   ]
  },
  {
   "cell_type": "markdown",
   "id": "db1d37c5",
   "metadata": {},
   "source": [
    "When you execute the cell above, R will build the function **fahrenheit_to_celsius** and it will be available in your global environment. \n",
    "\n",
    "To then call the function, simply invoke the function name with the required input parameters, just like you would any pre-defined function. For example:"
   ]
  },
  {
   "cell_type": "code",
   "execution_count": 2,
   "id": "94913b8e",
   "metadata": {},
   "outputs": [
    {
     "data": {
      "text/html": [
       "0"
      ],
      "text/latex": [
       "0"
      ],
      "text/markdown": [
       "0"
      ],
      "text/plain": [
       "[1] 0"
      ]
     },
     "metadata": {},
     "output_type": "display_data"
    },
    {
     "data": {
      "text/html": [
       "100"
      ],
      "text/latex": [
       "100"
      ],
      "text/markdown": [
       "100"
      ],
      "text/plain": [
       "[1] 100"
      ]
     },
     "metadata": {},
     "output_type": "display_data"
    }
   ],
   "source": [
    "# freezing point of water\n",
    "fahrenheit_to_celsius(32)\n",
    "\n",
    "# boiling point of water\n",
    "fahrenheit_to_celsius(212)"
   ]
  },
  {
   "cell_type": "markdown",
   "id": "85e0bb05",
   "metadata": {},
   "source": [
    "There are two ways that functions in R can receive input parameters, somewhat dependent on the function definition. Parameters can be assigned to a variable, named in the function call itself, e.g., ```function_name(variable = value)```. Alternatively, parameters can be assigned simply by order and matched from left to right. Finally, not all input parameters are required if default values are set in the function definition.\n",
    "\n",
    "Let's illustrate with the following example:"
   ]
  },
  {
   "cell_type": "code",
   "execution_count": 3,
   "id": "eeba4332",
   "metadata": {},
   "outputs": [],
   "source": [
    "input_1 <- 20\n",
    "my_sum <- function(input_1, input_2 = 10) { #input_2 is given a default value of 10\n",
    "  output <- input_1 + input_2\n",
    "  return(output)\n",
    "}"
   ]
  },
  {
   "cell_type": "markdown",
   "id": "797599e3",
   "metadata": {},
   "source": [
    "Now, let's try running our function a few different ways. Note the differing behavior depending on the form of the input parameters: "
   ]
  },
  {
   "cell_type": "code",
   "execution_count": 4,
   "id": "bdfb5767",
   "metadata": {},
   "outputs": [
    {
     "data": {
      "text/html": [
       "12"
      ],
      "text/latex": [
       "12"
      ],
      "text/markdown": [
       "12"
      ],
      "text/plain": [
       "[1] 12"
      ]
     },
     "metadata": {},
     "output_type": "display_data"
    }
   ],
   "source": [
    "my_sum(2)"
   ]
  },
  {
   "cell_type": "code",
   "execution_count": 5,
   "id": "9fbd8de3",
   "metadata": {},
   "outputs": [
    {
     "data": {
      "text/html": [
       "7"
      ],
      "text/latex": [
       "7"
      ],
      "text/markdown": [
       "7"
      ],
      "text/plain": [
       "[1] 7"
      ]
     },
     "metadata": {},
     "output_type": "display_data"
    }
   ],
   "source": [
    "my_sum(3, 4)"
   ]
  },
  {
   "cell_type": "code",
   "execution_count": 6,
   "id": "2d33e995",
   "metadata": {},
   "outputs": [
    {
     "data": {
      "text/html": [
       "4"
      ],
      "text/latex": [
       "4"
      ],
      "text/markdown": [
       "4"
      ],
      "text/plain": [
       "[1] 4"
      ]
     },
     "metadata": {},
     "output_type": "display_data"
    }
   ],
   "source": [
    "my_sum(input_1 = 1, 3)"
   ]
  },
  {
   "cell_type": "code",
   "execution_count": 7,
   "id": "913f1f09",
   "metadata": {},
   "outputs": [
    {
     "ename": "ERROR",
     "evalue": "Error in my_sum(input_2 = 3): argument \"input_1\" is missing, with no default\n",
     "output_type": "error",
     "traceback": [
      "Error in my_sum(input_2 = 3): argument \"input_1\" is missing, with no default\nTraceback:\n",
      "1. my_sum(input_2 = 3)"
     ]
    }
   ],
   "source": [
    "my_sum(input_2 = 3)"
   ]
  },
  {
   "cell_type": "markdown",
   "id": "d4be0b93",
   "metadata": {},
   "source": [
    "Why do we receive an error on the last function call? Looking at the error message is informative. The function definition doesn't contain a default value for `input_1`, and since the only input parameter comes in the form of a named variable for `input_2`, the function call doesn't provide a value to use for `input_1`. Thus, the addition operation in the function body can not be performed."
   ]
  },
  {
   "cell_type": "markdown",
   "id": "f06fc0d6",
   "metadata": {},
   "source": [
    "---\n",
    "# Good research code practices"
   ]
  },
  {
   "cell_type": "markdown",
   "id": "1adade5b",
   "metadata": {},
   "source": [
    "The [Good Research Code Handbook](https://goodresearch.dev) is an excellent resource written by Patrick Mineault, a software engineer at Google with a PhD in computational neuroscience. The handbook is particularly useful for grad students and postdocs whose research incorporates lots of programming. It contains helpful information about code organization such that it is clear and easy to understand and work reliably.\n",
    "\n",
    "Let's walk through some gems together:"
   ]
  },
  {
   "cell_type": "markdown",
   "id": "94c191e5",
   "metadata": {},
   "source": [
    "## Keep code consistent"
   ]
  },
  {
   "cell_type": "markdown",
   "id": "95e41039",
   "metadata": {},
   "source": [
    "> \"Good coding style is like correct punctuation: you can manage without it, butitsuremakesthingseasiertoread.\" - The tidyverse style guide\n",
    "\n",
    "The R [tidyverse style guide](https://style.tidyverse.org), derived from Google's original R style guide, provides a set of consistent (if somewhat arbitrary) rules that facilitate writing clear code. \n",
    "\n",
    "This tutorial will only focus on some basic rules, but as always, there are more resources available that provide more detailed information."
   ]
  },
  {
   "cell_type": "markdown",
   "id": "2b9fdf16",
   "metadata": {},
   "source": [
    "**File names** should be meaningful and limited to letters, numbers, dashes and underscores. Avoid using special characters. Some examples of good and bad file names:\n",
    "\n",
    "```\n",
    "# good\n",
    "fit_models.R\n",
    "utility_functions.R\n",
    "\n",
    "# bad\n",
    "fit models.R\n",
    "foo.r\n",
    "stuff.r\n",
    "```\n",
    "\n",
    "It is also often helpful to use a numerical prefix if a set of files are designed to be run in a specific order. "
   ]
  },
  {
   "cell_type": "markdown",
   "id": "1cdb0537",
   "metadata": {},
   "source": [
    "Similarly, **object names** (variables and functions) should be meaningful and limited to lowercase letters and numbers, with underscores used to separate words. This style is also known as snake case. For example:\n",
    "\n",
    "```\n",
    "# good\n",
    "day_one\n",
    "day_1\n",
    "\n",
    "# bad\n",
    "dayOne    #camel case\n",
    "dayone\n",
    "```\n",
    "\n",
    "(Note: some people use camel case (`dayOne`) because it is easier to write, but snake case is generally preferred because it's easier to read.)\n",
    "\n",
    "Note that certain object names should be avoided, such those that overlap with common operation, e.g., `mean`."
   ]
  },
  {
   "cell_type": "markdown",
   "id": "9f10b816",
   "metadata": {},
   "source": [
    "**Long lines**: code should be limited to 80 characters per line. There are specific ways to handle longer lines that call or define functions.\n",
    "\n",
    "If a function call doesn't fit on a single line, separate the input parameters on the subsequent lines. For example:\n",
    "\n",
    "```\n",
    "# good\n",
    "do_something_very_complicated(\n",
    "  something = \"that\",\n",
    "  requires = many,\n",
    "  arguments = \"some of which may be long\"\n",
    ")\n",
    "\n",
    "# bad\n",
    "do_something_very_complicated(\"that\", requires, many, arguments,\n",
    "                              \"some of which may be long\"\n",
    "                              )\n",
    "```\n",
    "\n",
    "If a function definition doesn't fit on a single line, separate the input parameters on subsequent lines, indented to match the opening bracket of the function, as shown below:\n",
    "\n",
    "```\n",
    "long_function_name <- function(a = \"a long argument\",\n",
    "                               b = \"another argument\",\n",
    "                               c = \"another long argument\") {\n",
    "  # As usual code is indented by two spaces.\n",
    "}\n",
    "```"
   ]
  },
  {
   "cell_type": "markdown",
   "id": "d3356181",
   "metadata": {},
   "source": [
    "**Assignment** should use the left arrow convention, `<-`, instead of `=`. On the surface, it may seem that these two symbols operate the same way, but they actually don't and are not interchangeable. Run the code blocks below to see if you can figure out how they differ."
   ]
  },
  {
   "cell_type": "code",
   "execution_count": 11,
   "id": "7b6851e7",
   "metadata": {
    "scrolled": true
   },
   "outputs": [
    {
     "data": {
      "text/html": [
       "5.5"
      ],
      "text/latex": [
       "5.5"
      ],
      "text/markdown": [
       "5.5"
      ],
      "text/plain": [
       "[1] 5.5"
      ]
     },
     "metadata": {},
     "output_type": "display_data"
    }
   ],
   "source": [
    "mean(x = 1:10)"
   ]
  },
  {
   "cell_type": "code",
   "execution_count": 12,
   "id": "37132351",
   "metadata": {},
   "outputs": [
    {
     "ename": "ERROR",
     "evalue": "Error in eval(expr, envir, enclos): object 'x' not found\n",
     "output_type": "error",
     "traceback": [
      "Error in eval(expr, envir, enclos): object 'x' not found\nTraceback:\n"
     ]
    }
   ],
   "source": [
    "x"
   ]
  },
  {
   "cell_type": "code",
   "execution_count": 13,
   "id": "648f0786",
   "metadata": {},
   "outputs": [
    {
     "data": {
      "text/html": [
       "5.5"
      ],
      "text/latex": [
       "5.5"
      ],
      "text/markdown": [
       "5.5"
      ],
      "text/plain": [
       "[1] 5.5"
      ]
     },
     "metadata": {},
     "output_type": "display_data"
    }
   ],
   "source": [
    "mean(x <- 1:10)"
   ]
  },
  {
   "cell_type": "code",
   "execution_count": 14,
   "id": "11ab3a37",
   "metadata": {},
   "outputs": [
    {
     "data": {
      "text/html": [
       "<style>\n",
       ".list-inline {list-style: none; margin:0; padding: 0}\n",
       ".list-inline>li {display: inline-block}\n",
       ".list-inline>li:not(:last-child)::after {content: \"\\00b7\"; padding: 0 .5ex}\n",
       "</style>\n",
       "<ol class=list-inline><li>1</li><li>2</li><li>3</li><li>4</li><li>5</li><li>6</li><li>7</li><li>8</li><li>9</li><li>10</li></ol>\n"
      ],
      "text/latex": [
       "\\begin{enumerate*}\n",
       "\\item 1\n",
       "\\item 2\n",
       "\\item 3\n",
       "\\item 4\n",
       "\\item 5\n",
       "\\item 6\n",
       "\\item 7\n",
       "\\item 8\n",
       "\\item 9\n",
       "\\item 10\n",
       "\\end{enumerate*}\n"
      ],
      "text/markdown": [
       "1. 1\n",
       "2. 2\n",
       "3. 3\n",
       "4. 4\n",
       "5. 5\n",
       "6. 6\n",
       "7. 7\n",
       "8. 8\n",
       "9. 9\n",
       "10. 10\n",
       "\n",
       "\n"
      ],
      "text/plain": [
       " [1]  1  2  3  4  5  6  7  8  9 10"
      ]
     },
     "metadata": {},
     "output_type": "display_data"
    }
   ],
   "source": [
    "x"
   ]
  },
  {
   "cell_type": "markdown",
   "id": "1faf6795",
   "metadata": {},
   "source": [
    "There are also instances where the assignment arrow cannot be used, like when defining arguments in function. Using ` <- ` can therefore help with code readability. Fun fact, you can also assign objects the other direction, e.g., `value -> name`, but this is rarely used. \n",
    "\n",
    "Since the arrow is somewhat annoying to type, handy shortcuts exist:\n",
    "\n",
    "Mac: `Option` + `-`\n",
    "\n",
    "PC: `Alt` + `-`"
   ]
  },
  {
   "cell_type": "markdown",
   "id": "ae8e27ee",
   "metadata": {},
   "source": [
    "**Logical variables and vectors** should be dfined using `TRUE` and `FALSE` instead of the shortened `T` and `F` forms.\n"
   ]
  },
  {
   "cell_type": "markdown",
   "id": "95fa813d",
   "metadata": {},
   "source": [
    "## Keep jupyter notebooks tidy\n"
   ]
  },
  {
   "cell_type": "markdown",
   "id": "3ec79cbb",
   "metadata": {},
   "source": [
    "There are additional considerations to keep in mind when working with jupyter notebooks. Since they are particularly useful for literate programming (combining code, graphics and text), they provide lots of flexibility and don't necessitate a rigid, linear flow through the notebook cells. It therefore requires even more discipline to maintain notebooks and the code within them.\n",
    "\n",
    "One of the most helpful tips for keeping a notebook tidy is to ensure that your notebook runs from top to bottom. Restarting the notebook kernel and running through all the cells before commiting to git is a good habit to get into and can save time in the future.\n",
    "\n",
    "Thinking more broadly, using jupyter notebook for everything is not best practice. Developing code and analysis pipeline inside an integrated development environment ([IDE](https://en.wikipedia.org/wiki/Integrated_development_environment)), such as RStudio for R, is helpful for efficiency and developing good coding habits."
   ]
  },
  {
   "cell_type": "markdown",
   "id": "e7ffca6f",
   "metadata": {},
   "source": [
    "## Delete dead code\n"
   ]
  },
  {
   "cell_type": "markdown",
   "id": "c6808ddc",
   "metadata": {},
   "source": [
    "<img src=\"https://goodresearch.dev/_images/final.doc.gif\" alt=\"FINAL.doc\" width=\"400\"/>"
   ]
  },
  {
   "cell_type": "markdown",
   "id": "555f3613",
   "metadata": {},
   "source": [
    "Code that gets developed over time, as is often the case in research, can accumulate lots of no-longer-necessary components. This can lead to the phenomenon of dead code, code that never gets called or run. \n",
    "\n",
    "> \"You know who hates dead code? You, in three months.\" - Patrick Mineault. \n",
    "\n",
    "Not only can dead code create problems, it can also be an enormous waste of time to wade through. It is good to develop a habit of cleaning up code projects as you work, but particularly when wrapping up a project or putting it on the back burner. Remember that when using git to version control your projects, it is always possible to go back in time and recover deleted code or old versions if necessary. \n"
   ]
  },
  {
   "cell_type": "markdown",
   "id": "a77f058b",
   "metadata": {},
   "source": [
    "## Use pure functions\n",
    "\n"
   ]
  },
  {
   "cell_type": "markdown",
   "id": "ac6046e2",
   "metadata": {},
   "source": [
    "Pure functions follow a particular structure, with inputs coming from the input parameters and outputs returning in the return statement. For instance, using our sum function from earlier in the tutorial:\n",
    "\n",
    "```\n",
    "my_sum <- function(input_1, input_2) {\n",
    "  output <- input_1 + input_2\n",
    "  return(output)\n",
    "}\n",
    "```\n",
    "\n",
    "A pure function can also be thought of as static black box. Something goes into the box, operations occur, a result is output. In this case, both the inputs and the black box itself remains unchanged. \n",
    "\n",
    "If you are building a very complex function, it is best practice to break it into smaller functions that each do a clearly defined step in the larger function. This will greatly help with debugging and troubleshooting. These can then be combined into a \"master\" function:\n",
    "\n",
    "```\n",
    "small_fun1  <- function(a, b){\n",
    "    #does step 1\n",
    "    #returns step 1\n",
    "}\n",
    "\n",
    "small_fun2  <- function(a, b){\n",
    "    #does step 2\n",
    "    #returns step 2\n",
    "}\n",
    "\n",
    "big_fun  <- function(a, b){\n",
    "    small_fun1(a, b)\n",
    "    small_fun2(a, b)\n",
    "}\n",
    "```"
   ]
  },
  {
   "cell_type": "markdown",
   "id": "7c001107",
   "metadata": {},
   "source": [
    "## Bad code: things not to do"
   ]
  },
  {
   "cell_type": "markdown",
   "id": "ac4c5df1",
   "metadata": {},
   "source": [
    "Sometimes it can be equally helpful to know what not to do. Here's a brief list of some common pitfalls to avoid in your code:\n",
    "\n",
    "* mysterious object names that don’t provide helpful info about function\n",
    "* magic numbers, or hard-coded values without explanation\n",
    "* redundant or duplicated code\n",
    "* large functions that do too much and become unwieldy (e.g., mixing IO and computation)\n",
    "* too many nested ifs and for loops"
   ]
  },
  {
   "cell_type": "markdown",
   "id": "af832358",
   "metadata": {},
   "source": [
    "## Documenting"
   ]
  },
  {
   "cell_type": "markdown",
   "id": "a63a0f8b",
   "metadata": {},
   "source": [
    "Most of you are probably familiar with comments within code as a way of documenting. However, this is only one type of documentation, albeit a very useful form. Documentation can really be though of as any meta-information that you write about the code. Therefore, all of the following can be considered documentation, and indeed, all are helpful to incorporate into your own practice:\n",
    "\n",
    "* comments (both single-line and multi-line)\n",
    "* docstrings located at the top of functions that describe function operations, inputs and outputs\n",
    "* README.md documents in github (and elsewhere)\n",
    "* usage documentation\n",
    "* jupyter notebooks as tutorials for using code/pipelines"
   ]
  },
  {
   "cell_type": "markdown",
   "id": "32ccbb11",
   "metadata": {},
   "source": [
    "*Notebook authored by Amy Sentis and Fiona Horner.*"
   ]
  }
 ],
 "metadata": {
  "colab": {
   "name": "constructing-a-testable-hypothesis.ipynb",
   "provenance": []
  },
  "kernelspec": {
   "display_name": "R",
   "language": "R",
   "name": "ir"
  },
  "language_info": {
   "codemirror_mode": "r",
   "file_extension": ".r",
   "mimetype": "text/x-r-source",
   "name": "R",
   "pygments_lexer": "r",
   "version": "4.2.0"
  }
 },
 "nbformat": 4,
 "nbformat_minor": 5
}