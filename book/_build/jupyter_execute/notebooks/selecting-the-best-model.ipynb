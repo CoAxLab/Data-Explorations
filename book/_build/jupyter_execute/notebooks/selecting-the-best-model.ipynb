{
 "cells": [
  {
   "cell_type": "markdown",
   "metadata": {
    "id": "UuhJeQeAakNd"
   },
   "source": [
    "# Tutorial: Model selection\n",
    "\n",
    "This lab focuses on how to select the best model and implementing subset selection in R.\n",
    "\n",
    "## Goals:\n",
    "* Learn to use the `regsubsets` function\n",
    "\n",
    "This lab draws from the practice sets at the end of Chapter 6 in James, G., Witten, D., Hastie, T., & Tibshirani, R. (2013). \"An introduction to statistical learning: with applications in r.\" "
   ]
  },
  {
   "cell_type": "markdown",
   "metadata": {
    "id": "PtSAYA-rakNk"
   },
   "source": [
    "---\n",
    "# Best subset selection\n",
    "\n",
    "First we start with a tour of using the built-in functions for best subset selection. For this we will load the [Hitters (baseball) dataset](https://vincentarelbundock.github.io/Rdatasets/doc/ISLR/Hitters.html) included in ISLR."
   ]
  },
  {
   "cell_type": "code",
   "execution_count": null,
   "metadata": {
    "colab": {
     "base_uri": "https://localhost:8080/",
     "height": 51
    },
    "id": "o0QXiev1akNl",
    "outputId": "eb92ba50-f238-4c82-8bd5-5bc892d7eee6"
   },
   "outputs": [
    {
     "data": {
      "text/html": [
       "<style>\n",
       ".list-inline {list-style: none; margin:0; padding: 0}\n",
       ".list-inline>li {display: inline-block}\n",
       ".list-inline>li:not(:last-child)::after {content: \"\\00b7\"; padding: 0 .5ex}\n",
       "</style>\n",
       "<ol class=list-inline><li>'AtBat'</li><li>'Hits'</li><li>'HmRun'</li><li>'Runs'</li><li>'RBI'</li><li>'Walks'</li><li>'Years'</li><li>'CAtBat'</li><li>'CHits'</li><li>'CHmRun'</li><li>'CRuns'</li><li>'CRBI'</li><li>'CWalks'</li><li>'League'</li><li>'Division'</li><li>'PutOuts'</li><li>'Assists'</li><li>'Errors'</li><li>'Salary'</li><li>'NewLeague'</li></ol>\n"
      ],
      "text/latex": [
       "\\begin{enumerate*}\n",
       "\\item 'AtBat'\n",
       "\\item 'Hits'\n",
       "\\item 'HmRun'\n",
       "\\item 'Runs'\n",
       "\\item 'RBI'\n",
       "\\item 'Walks'\n",
       "\\item 'Years'\n",
       "\\item 'CAtBat'\n",
       "\\item 'CHits'\n",
       "\\item 'CHmRun'\n",
       "\\item 'CRuns'\n",
       "\\item 'CRBI'\n",
       "\\item 'CWalks'\n",
       "\\item 'League'\n",
       "\\item 'Division'\n",
       "\\item 'PutOuts'\n",
       "\\item 'Assists'\n",
       "\\item 'Errors'\n",
       "\\item 'Salary'\n",
       "\\item 'NewLeague'\n",
       "\\end{enumerate*}\n"
      ],
      "text/markdown": [
       "1. 'AtBat'\n",
       "2. 'Hits'\n",
       "3. 'HmRun'\n",
       "4. 'Runs'\n",
       "5. 'RBI'\n",
       "6. 'Walks'\n",
       "7. 'Years'\n",
       "8. 'CAtBat'\n",
       "9. 'CHits'\n",
       "10. 'CHmRun'\n",
       "11. 'CRuns'\n",
       "12. 'CRBI'\n",
       "13. 'CWalks'\n",
       "14. 'League'\n",
       "15. 'Division'\n",
       "16. 'PutOuts'\n",
       "17. 'Assists'\n",
       "18. 'Errors'\n",
       "19. 'Salary'\n",
       "20. 'NewLeague'\n",
       "\n",
       "\n"
      ],
      "text/plain": [
       " [1] \"AtBat\"     \"Hits\"      \"HmRun\"     \"Runs\"      \"RBI\"       \"Walks\"    \n",
       " [7] \"Years\"     \"CAtBat\"    \"CHits\"     \"CHmRun\"    \"CRuns\"     \"CRBI\"     \n",
       "[13] \"CWalks\"    \"League\"    \"Division\"  \"PutOuts\"   \"Assists\"   \"Errors\"   \n",
       "[19] \"Salary\"    \"NewLeague\""
      ]
     },
     "metadata": {
      "tags": []
     },
     "output_type": "display_data"
    },
    {
     "data": {
      "text/html": [
       "<style>\n",
       ".list-inline {list-style: none; margin:0; padding: 0}\n",
       ".list-inline>li {display: inline-block}\n",
       ".list-inline>li:not(:last-child)::after {content: \"\\00b7\"; padding: 0 .5ex}\n",
       "</style>\n",
       "<ol class=list-inline><li>263</li><li>20</li></ol>\n"
      ],
      "text/latex": [
       "\\begin{enumerate*}\n",
       "\\item 263\n",
       "\\item 20\n",
       "\\end{enumerate*}\n"
      ],
      "text/markdown": [
       "1. 263\n",
       "2. 20\n",
       "\n",
       "\n"
      ],
      "text/plain": [
       "[1] 263  20"
      ]
     },
     "metadata": {
      "tags": []
     },
     "output_type": "display_data"
    }
   ],
   "source": [
    "install.packages(\"ISLR\") # uncomment if you don't have ISLR package installed\n",
    "# Load the Baseball dataset\n",
    "library(ISLR)\n",
    "library(tidyverse) # for some data frame manipulation\n",
    "names(Hitters)# \n",
    "dim(Hitters)\n",
    "\n",
    "# Uncomment the line below to see the help function for the data set.\n",
    "#help(Hitters)"
   ]
  },
  {
   "cell_type": "markdown",
   "metadata": {
    "id": "mK_Cj42VakNm"
   },
   "source": [
    "One thing to notice is that this data set has a lot of missing values that are indicated as `na` in r. R includes a library of functions that are useful for dealing with missing data. "
   ]
  },
  {
   "cell_type": "code",
   "execution_count": null,
   "metadata": {
    "colab": {
     "base_uri": "https://localhost:8080/",
     "height": 68
    },
    "id": "eroDg5HoakNo",
    "outputId": "547c13bb-8f27-46e3-86e5-d175841739d5"
   },
   "outputs": [
    {
     "name": "stdout",
     "output_type": "stream",
     "text": [
      "[1] 59\n"
     ]
    },
    {
     "data": {
      "text/html": [
       "<style>\n",
       ".list-inline {list-style: none; margin:0; padding: 0}\n",
       ".list-inline>li {display: inline-block}\n",
       ".list-inline>li:not(:last-child)::after {content: \"\\00b7\"; padding: 0 .5ex}\n",
       "</style>\n",
       "<ol class=list-inline><li>263</li><li>20</li></ol>\n"
      ],
      "text/latex": [
       "\\begin{enumerate*}\n",
       "\\item 263\n",
       "\\item 20\n",
       "\\end{enumerate*}\n"
      ],
      "text/markdown": [
       "1. 263\n",
       "2. 20\n",
       "\n",
       "\n"
      ],
      "text/plain": [
       "[1] 263  20"
      ]
     },
     "metadata": {
      "tags": []
     },
     "output_type": "display_data"
    },
    {
     "data": {
      "text/html": [
       "0"
      ],
      "text/latex": [
       "0"
      ],
      "text/markdown": [
       "0"
      ],
      "text/plain": [
       "[1] 0"
      ]
     },
     "metadata": {
      "tags": []
     },
     "output_type": "display_data"
    }
   ],
   "source": [
    "print(sum(is.na(Hitters)))\n",
    "# R lets you filter out the empty values using na.omit\n",
    "\n",
    "# Using na.omit to make a new data set that only includes\n",
    "# those observations where all variables are observed\n",
    "Hitters=na.omit(Hitters)\n",
    "\n",
    "dim(Hitters) # Notice that the dimensions reduced by 59 rows\n",
    "sum(is.na(Hitters)) # And there are no longer any \"na\" values"
   ]
  },
  {
   "cell_type": "markdown",
   "metadata": {
    "id": "1CzDJpENakNo"
   },
   "source": [
    "Now that we've cleaned the data set, let's work with best subset selection. We will perform subset selection using `regsubsets()`, which is part of the `leaps` package. "
   ]
  },
  {
   "cell_type": "code",
   "execution_count": null,
   "metadata": {
    "id": "cA_7z6h4akNo"
   },
   "outputs": [],
   "source": [
    "# Uncomment the line below if you haven't installed the leaps package yet\n",
    "install.packages(\"leaps\")\n",
    "library(leaps)\n",
    "?regsubsets # uncomment to learn more about regsubsets function"
   ]
  },
  {
   "cell_type": "markdown",
   "metadata": {
    "id": "zeRCKpvsakNo"
   },
   "source": [
    "For this practice we will be using the [regsubsets function](https://www.rdocumentation.org/packages/leaps/versions/2.1-1/topics/regsubsets). The `regsubsets` function identifies the best model as a function of the number of predictors it has. Here, 'best' is quantified as adjusted $R^2$, Bayesian Information Criterion scores (BIC) or Mallow's Cp. \n",
    "\n",
    "Let's see which aspects of a hitter's performance best accounts for annual salary. To start, let's try just including four predictor variables. "
   ]
  },
  {
   "cell_type": "code",
   "execution_count": null,
   "metadata": {
    "colab": {
     "base_uri": "https://localhost:8080/",
     "height": 289
    },
    "id": "NDv-RBH5akNp",
    "outputId": "b4385dc0-ea7b-4df0-fe4a-0e32016ac976"
   },
   "outputs": [
    {
     "data": {
      "text/plain": [
       "Subset selection object\n",
       "Call: regsubsets.formula(Salary ~ ., select(Hitters, c(AtBat, Hits, \n",
       "    HmRun, Salary, Assists)))\n",
       "4 Variables  (and intercept)\n",
       "        Forced in Forced out\n",
       "AtBat       FALSE      FALSE\n",
       "Hits        FALSE      FALSE\n",
       "HmRun       FALSE      FALSE\n",
       "Assists     FALSE      FALSE\n",
       "1 subsets of each size up to 4\n",
       "Selection Algorithm: exhaustive\n",
       "         AtBat Hits HmRun Assists\n",
       "1  ( 1 ) \" \"   \"*\"  \" \"   \" \"    \n",
       "2  ( 1 ) \" \"   \"*\"  \"*\"   \" \"    \n",
       "3  ( 1 ) \"*\"   \"*\"  \"*\"   \" \"    \n",
       "4  ( 1 ) \"*\"   \"*\"  \"*\"   \"*\"    "
      ]
     },
     "metadata": {
      "tags": []
     },
     "output_type": "display_data"
    }
   ],
   "source": [
    "# regsubsets uses the same model configuration as lm()\n",
    "# so, configure the model in regsubsets as regsubsets(model, data)\n",
    "regfit.full = regsubsets(Salary~., select(Hitters,c(AtBat,Hits,HmRun,Salary,Assists))) #use every variable EXCEPT salary as a predictor\n",
    "summary(regfit.full) # Asterisks indicate that a field is included in the model"
   ]
  },
  {
   "cell_type": "markdown",
   "metadata": {
    "id": "s6vtNrSzakNp"
   },
   "source": [
    "Because there were so few variables to worry about, the exhaustive algorithm was used. The table with asterisks and quotes shows the best model for each level of complexity. \n",
    "\n",
    "The asterisks indicate when a variable is included in the model. The way to interpret this summary is that each row indicates the variables to include with models of increasing complexity. The first row is a one-dimensional model (i.e., 1 variable, only includes `Hits`). The second row is a two-dimensional model and so on.\n",
    "\n",
    "You may have also noticed the `Forced in` and `Forced out` columns. This reflects whether you have manually included or excluded variables in the subset selection. For example, if I excluded `AtBat`, then the `Forced out` colum for that variable would read `True`. I technically forced out most of the variables, but since that was done using `select()` instead of the `force.out` functionality of regsubsets, those variables aren't reported here. \n",
    "\n",
    "Now let's run `regsubsets()` again using all 19 variables (other than `Salary`, which is our outcome)."
   ]
  },
  {
   "cell_type": "code",
   "execution_count": null,
   "metadata": {
    "colab": {
     "base_uri": "https://localhost:8080/",
     "height": 1000
    },
    "id": "a35Ij05JakNq",
    "outputId": "00f902e6-cbf8-428d-970f-be3d82126365"
   },
   "outputs": [
    {
     "data": {
      "text/plain": [
       "Subset selection object\n",
       "Call: regsubsets.formula(Salary ~ ., Hitters, nvmax = 19)\n",
       "19 Variables  (and intercept)\n",
       "           Forced in Forced out\n",
       "AtBat          FALSE      FALSE\n",
       "Hits           FALSE      FALSE\n",
       "HmRun          FALSE      FALSE\n",
       "Runs           FALSE      FALSE\n",
       "RBI            FALSE      FALSE\n",
       "Walks          FALSE      FALSE\n",
       "Years          FALSE      FALSE\n",
       "CAtBat         FALSE      FALSE\n",
       "CHits          FALSE      FALSE\n",
       "CHmRun         FALSE      FALSE\n",
       "CRuns          FALSE      FALSE\n",
       "CRBI           FALSE      FALSE\n",
       "CWalks         FALSE      FALSE\n",
       "LeagueN        FALSE      FALSE\n",
       "DivisionW      FALSE      FALSE\n",
       "PutOuts        FALSE      FALSE\n",
       "Assists        FALSE      FALSE\n",
       "Errors         FALSE      FALSE\n",
       "NewLeagueN     FALSE      FALSE\n",
       "1 subsets of each size up to 19\n",
       "Selection Algorithm: exhaustive\n",
       "          AtBat Hits HmRun Runs RBI Walks Years CAtBat CHits CHmRun CRuns CRBI\n",
       "1  ( 1 )  \" \"   \" \"  \" \"   \" \"  \" \" \" \"   \" \"   \" \"    \" \"   \" \"    \" \"   \"*\" \n",
       "2  ( 1 )  \" \"   \"*\"  \" \"   \" \"  \" \" \" \"   \" \"   \" \"    \" \"   \" \"    \" \"   \"*\" \n",
       "3  ( 1 )  \" \"   \"*\"  \" \"   \" \"  \" \" \" \"   \" \"   \" \"    \" \"   \" \"    \" \"   \"*\" \n",
       "4  ( 1 )  \" \"   \"*\"  \" \"   \" \"  \" \" \" \"   \" \"   \" \"    \" \"   \" \"    \" \"   \"*\" \n",
       "5  ( 1 )  \"*\"   \"*\"  \" \"   \" \"  \" \" \" \"   \" \"   \" \"    \" \"   \" \"    \" \"   \"*\" \n",
       "6  ( 1 )  \"*\"   \"*\"  \" \"   \" \"  \" \" \"*\"   \" \"   \" \"    \" \"   \" \"    \" \"   \"*\" \n",
       "7  ( 1 )  \" \"   \"*\"  \" \"   \" \"  \" \" \"*\"   \" \"   \"*\"    \"*\"   \"*\"    \" \"   \" \" \n",
       "8  ( 1 )  \"*\"   \"*\"  \" \"   \" \"  \" \" \"*\"   \" \"   \" \"    \" \"   \"*\"    \"*\"   \" \" \n",
       "9  ( 1 )  \"*\"   \"*\"  \" \"   \" \"  \" \" \"*\"   \" \"   \"*\"    \" \"   \" \"    \"*\"   \"*\" \n",
       "10  ( 1 ) \"*\"   \"*\"  \" \"   \" \"  \" \" \"*\"   \" \"   \"*\"    \" \"   \" \"    \"*\"   \"*\" \n",
       "11  ( 1 ) \"*\"   \"*\"  \" \"   \" \"  \" \" \"*\"   \" \"   \"*\"    \" \"   \" \"    \"*\"   \"*\" \n",
       "12  ( 1 ) \"*\"   \"*\"  \" \"   \"*\"  \" \" \"*\"   \" \"   \"*\"    \" \"   \" \"    \"*\"   \"*\" \n",
       "13  ( 1 ) \"*\"   \"*\"  \" \"   \"*\"  \" \" \"*\"   \" \"   \"*\"    \" \"   \" \"    \"*\"   \"*\" \n",
       "14  ( 1 ) \"*\"   \"*\"  \"*\"   \"*\"  \" \" \"*\"   \" \"   \"*\"    \" \"   \" \"    \"*\"   \"*\" \n",
       "15  ( 1 ) \"*\"   \"*\"  \"*\"   \"*\"  \" \" \"*\"   \" \"   \"*\"    \"*\"   \" \"    \"*\"   \"*\" \n",
       "16  ( 1 ) \"*\"   \"*\"  \"*\"   \"*\"  \"*\" \"*\"   \" \"   \"*\"    \"*\"   \" \"    \"*\"   \"*\" \n",
       "17  ( 1 ) \"*\"   \"*\"  \"*\"   \"*\"  \"*\" \"*\"   \" \"   \"*\"    \"*\"   \" \"    \"*\"   \"*\" \n",
       "18  ( 1 ) \"*\"   \"*\"  \"*\"   \"*\"  \"*\" \"*\"   \"*\"   \"*\"    \"*\"   \" \"    \"*\"   \"*\" \n",
       "19  ( 1 ) \"*\"   \"*\"  \"*\"   \"*\"  \"*\" \"*\"   \"*\"   \"*\"    \"*\"   \"*\"    \"*\"   \"*\" \n",
       "          CWalks LeagueN DivisionW PutOuts Assists Errors NewLeagueN\n",
       "1  ( 1 )  \" \"    \" \"     \" \"       \" \"     \" \"     \" \"    \" \"       \n",
       "2  ( 1 )  \" \"    \" \"     \" \"       \" \"     \" \"     \" \"    \" \"       \n",
       "3  ( 1 )  \" \"    \" \"     \" \"       \"*\"     \" \"     \" \"    \" \"       \n",
       "4  ( 1 )  \" \"    \" \"     \"*\"       \"*\"     \" \"     \" \"    \" \"       \n",
       "5  ( 1 )  \" \"    \" \"     \"*\"       \"*\"     \" \"     \" \"    \" \"       \n",
       "6  ( 1 )  \" \"    \" \"     \"*\"       \"*\"     \" \"     \" \"    \" \"       \n",
       "7  ( 1 )  \" \"    \" \"     \"*\"       \"*\"     \" \"     \" \"    \" \"       \n",
       "8  ( 1 )  \"*\"    \" \"     \"*\"       \"*\"     \" \"     \" \"    \" \"       \n",
       "9  ( 1 )  \"*\"    \" \"     \"*\"       \"*\"     \" \"     \" \"    \" \"       \n",
       "10  ( 1 ) \"*\"    \" \"     \"*\"       \"*\"     \"*\"     \" \"    \" \"       \n",
       "11  ( 1 ) \"*\"    \"*\"     \"*\"       \"*\"     \"*\"     \" \"    \" \"       \n",
       "12  ( 1 ) \"*\"    \"*\"     \"*\"       \"*\"     \"*\"     \" \"    \" \"       \n",
       "13  ( 1 ) \"*\"    \"*\"     \"*\"       \"*\"     \"*\"     \"*\"    \" \"       \n",
       "14  ( 1 ) \"*\"    \"*\"     \"*\"       \"*\"     \"*\"     \"*\"    \" \"       \n",
       "15  ( 1 ) \"*\"    \"*\"     \"*\"       \"*\"     \"*\"     \"*\"    \" \"       \n",
       "16  ( 1 ) \"*\"    \"*\"     \"*\"       \"*\"     \"*\"     \"*\"    \" \"       \n",
       "17  ( 1 ) \"*\"    \"*\"     \"*\"       \"*\"     \"*\"     \"*\"    \"*\"       \n",
       "18  ( 1 ) \"*\"    \"*\"     \"*\"       \"*\"     \"*\"     \"*\"    \"*\"       \n",
       "19  ( 1 ) \"*\"    \"*\"     \"*\"       \"*\"     \"*\"     \"*\"    \"*\"       "
      ]
     },
     "metadata": {
      "tags": []
     },
     "output_type": "display_data"
    }
   ],
   "source": [
    "regfit.full = regsubsets(Salary~., Hitters, nvmax=19) #< \"nvmax\" allows the model selection to include up to 19 variables (limited to 8 by default)\n",
    "reg.summary = summary(regfit.full)\n",
    "reg.summary"
   ]
  },
  {
   "cell_type": "markdown",
   "metadata": {
    "id": "cef2FoaHakNt"
   },
   "source": [
    "Once again, the exhaustive algorithm was used, and the best model for each level of complexity is shown above. To find which of these subsets is the best model we'll have to evaluate the bias-adjusted model fit measures (adjusting for complexity) that are output."
   ]
  },
  {
   "cell_type": "code",
   "execution_count": null,
   "metadata": {
    "colab": {
     "base_uri": "https://localhost:8080/",
     "height": 113
    },
    "id": "KxoHLnJJakNt",
    "outputId": "e6485d5c-136f-4c86-c9f3-908612a821cf"
   },
   "outputs": [
    {
     "data": {
      "text/html": [
       "<dl>\n",
       "\t<dt>$names</dt>\n",
       "\t\t<dd><style>\n",
       ".list-inline {list-style: none; margin:0; padding: 0}\n",
       ".list-inline>li {display: inline-block}\n",
       ".list-inline>li:not(:last-child)::after {content: \"\\00b7\"; padding: 0 .5ex}\n",
       "</style>\n",
       "<ol class=list-inline><li>'which'</li><li>'rsq'</li><li>'rss'</li><li>'adjr2'</li><li>'cp'</li><li>'bic'</li><li>'outmat'</li><li>'obj'</li></ol>\n",
       "</dd>\n",
       "\t<dt>$class</dt>\n",
       "\t\t<dd>'summary.regsubsets'</dd>\n",
       "</dl>\n"
      ],
      "text/latex": [
       "\\begin{description}\n",
       "\\item[\\$names] \\begin{enumerate*}\n",
       "\\item 'which'\n",
       "\\item 'rsq'\n",
       "\\item 'rss'\n",
       "\\item 'adjr2'\n",
       "\\item 'cp'\n",
       "\\item 'bic'\n",
       "\\item 'outmat'\n",
       "\\item 'obj'\n",
       "\\end{enumerate*}\n",
       "\n",
       "\\item[\\$class] 'summary.regsubsets'\n",
       "\\end{description}\n"
      ],
      "text/markdown": [
       "$names\n",
       ":   1. 'which'\n",
       "2. 'rsq'\n",
       "3. 'rss'\n",
       "4. 'adjr2'\n",
       "5. 'cp'\n",
       "6. 'bic'\n",
       "7. 'outmat'\n",
       "8. 'obj'\n",
       "\n",
       "\n",
       "\n",
       "$class\n",
       ":   'summary.regsubsets'\n",
       "\n",
       "\n"
      ],
      "text/plain": [
       "$names\n",
       "[1] \"which\"  \"rsq\"    \"rss\"    \"adjr2\"  \"cp\"     \"bic\"    \"outmat\" \"obj\"   \n",
       "\n",
       "$class\n",
       "[1] \"summary.regsubsets\"\n"
      ]
     },
     "metadata": {
      "tags": []
     },
     "output_type": "display_data"
    }
   ],
   "source": [
    "# See what is included in the summary object\n",
    "attributes(reg.summary)"
   ]
  },
  {
   "cell_type": "markdown",
   "metadata": {
    "id": "svUnQEZZakNu"
   },
   "source": [
    "Instead of squinting at the asterisks table above, you can directly query which variables were included for each model using the `which` attribute."
   ]
  },
  {
   "cell_type": "code",
   "execution_count": null,
   "metadata": {
    "colab": {
     "base_uri": "https://localhost:8080/",
     "height": 675
    },
    "id": "2q0oLJ9_akNu",
    "outputId": "ef3f1754-d6fd-4dcf-e624-a93069bf262d"
   },
   "outputs": [
    {
     "data": {
      "text/html": [
       "<table class=\"dataframe\">\n",
       "<caption>A matrix: 19 × 20 of type lgl</caption>\n",
       "<thead>\n",
       "\t<tr><th></th><th scope=col>(Intercept)</th><th scope=col>AtBat</th><th scope=col>Hits</th><th scope=col>HmRun</th><th scope=col>Runs</th><th scope=col>RBI</th><th scope=col>Walks</th><th scope=col>Years</th><th scope=col>CAtBat</th><th scope=col>CHits</th><th scope=col>CHmRun</th><th scope=col>CRuns</th><th scope=col>CRBI</th><th scope=col>CWalks</th><th scope=col>LeagueN</th><th scope=col>DivisionW</th><th scope=col>PutOuts</th><th scope=col>Assists</th><th scope=col>Errors</th><th scope=col>NewLeagueN</th></tr>\n",
       "</thead>\n",
       "<tbody>\n",
       "\t<tr><th scope=row>1</th><td>TRUE</td><td>FALSE</td><td>FALSE</td><td>FALSE</td><td>FALSE</td><td>FALSE</td><td>FALSE</td><td>FALSE</td><td>FALSE</td><td>FALSE</td><td>FALSE</td><td>FALSE</td><td> TRUE</td><td>FALSE</td><td>FALSE</td><td>FALSE</td><td>FALSE</td><td>FALSE</td><td>FALSE</td><td>FALSE</td></tr>\n",
       "\t<tr><th scope=row>2</th><td>TRUE</td><td>FALSE</td><td> TRUE</td><td>FALSE</td><td>FALSE</td><td>FALSE</td><td>FALSE</td><td>FALSE</td><td>FALSE</td><td>FALSE</td><td>FALSE</td><td>FALSE</td><td> TRUE</td><td>FALSE</td><td>FALSE</td><td>FALSE</td><td>FALSE</td><td>FALSE</td><td>FALSE</td><td>FALSE</td></tr>\n",
       "\t<tr><th scope=row>3</th><td>TRUE</td><td>FALSE</td><td> TRUE</td><td>FALSE</td><td>FALSE</td><td>FALSE</td><td>FALSE</td><td>FALSE</td><td>FALSE</td><td>FALSE</td><td>FALSE</td><td>FALSE</td><td> TRUE</td><td>FALSE</td><td>FALSE</td><td>FALSE</td><td> TRUE</td><td>FALSE</td><td>FALSE</td><td>FALSE</td></tr>\n",
       "\t<tr><th scope=row>4</th><td>TRUE</td><td>FALSE</td><td> TRUE</td><td>FALSE</td><td>FALSE</td><td>FALSE</td><td>FALSE</td><td>FALSE</td><td>FALSE</td><td>FALSE</td><td>FALSE</td><td>FALSE</td><td> TRUE</td><td>FALSE</td><td>FALSE</td><td> TRUE</td><td> TRUE</td><td>FALSE</td><td>FALSE</td><td>FALSE</td></tr>\n",
       "\t<tr><th scope=row>5</th><td>TRUE</td><td> TRUE</td><td> TRUE</td><td>FALSE</td><td>FALSE</td><td>FALSE</td><td>FALSE</td><td>FALSE</td><td>FALSE</td><td>FALSE</td><td>FALSE</td><td>FALSE</td><td> TRUE</td><td>FALSE</td><td>FALSE</td><td> TRUE</td><td> TRUE</td><td>FALSE</td><td>FALSE</td><td>FALSE</td></tr>\n",
       "\t<tr><th scope=row>6</th><td>TRUE</td><td> TRUE</td><td> TRUE</td><td>FALSE</td><td>FALSE</td><td>FALSE</td><td> TRUE</td><td>FALSE</td><td>FALSE</td><td>FALSE</td><td>FALSE</td><td>FALSE</td><td> TRUE</td><td>FALSE</td><td>FALSE</td><td> TRUE</td><td> TRUE</td><td>FALSE</td><td>FALSE</td><td>FALSE</td></tr>\n",
       "\t<tr><th scope=row>7</th><td>TRUE</td><td>FALSE</td><td> TRUE</td><td>FALSE</td><td>FALSE</td><td>FALSE</td><td> TRUE</td><td>FALSE</td><td> TRUE</td><td> TRUE</td><td> TRUE</td><td>FALSE</td><td>FALSE</td><td>FALSE</td><td>FALSE</td><td> TRUE</td><td> TRUE</td><td>FALSE</td><td>FALSE</td><td>FALSE</td></tr>\n",
       "\t<tr><th scope=row>8</th><td>TRUE</td><td> TRUE</td><td> TRUE</td><td>FALSE</td><td>FALSE</td><td>FALSE</td><td> TRUE</td><td>FALSE</td><td>FALSE</td><td>FALSE</td><td> TRUE</td><td> TRUE</td><td>FALSE</td><td> TRUE</td><td>FALSE</td><td> TRUE</td><td> TRUE</td><td>FALSE</td><td>FALSE</td><td>FALSE</td></tr>\n",
       "\t<tr><th scope=row>9</th><td>TRUE</td><td> TRUE</td><td> TRUE</td><td>FALSE</td><td>FALSE</td><td>FALSE</td><td> TRUE</td><td>FALSE</td><td> TRUE</td><td>FALSE</td><td>FALSE</td><td> TRUE</td><td> TRUE</td><td> TRUE</td><td>FALSE</td><td> TRUE</td><td> TRUE</td><td>FALSE</td><td>FALSE</td><td>FALSE</td></tr>\n",
       "\t<tr><th scope=row>10</th><td>TRUE</td><td> TRUE</td><td> TRUE</td><td>FALSE</td><td>FALSE</td><td>FALSE</td><td> TRUE</td><td>FALSE</td><td> TRUE</td><td>FALSE</td><td>FALSE</td><td> TRUE</td><td> TRUE</td><td> TRUE</td><td>FALSE</td><td> TRUE</td><td> TRUE</td><td> TRUE</td><td>FALSE</td><td>FALSE</td></tr>\n",
       "\t<tr><th scope=row>11</th><td>TRUE</td><td> TRUE</td><td> TRUE</td><td>FALSE</td><td>FALSE</td><td>FALSE</td><td> TRUE</td><td>FALSE</td><td> TRUE</td><td>FALSE</td><td>FALSE</td><td> TRUE</td><td> TRUE</td><td> TRUE</td><td> TRUE</td><td> TRUE</td><td> TRUE</td><td> TRUE</td><td>FALSE</td><td>FALSE</td></tr>\n",
       "\t<tr><th scope=row>12</th><td>TRUE</td><td> TRUE</td><td> TRUE</td><td>FALSE</td><td> TRUE</td><td>FALSE</td><td> TRUE</td><td>FALSE</td><td> TRUE</td><td>FALSE</td><td>FALSE</td><td> TRUE</td><td> TRUE</td><td> TRUE</td><td> TRUE</td><td> TRUE</td><td> TRUE</td><td> TRUE</td><td>FALSE</td><td>FALSE</td></tr>\n",
       "\t<tr><th scope=row>13</th><td>TRUE</td><td> TRUE</td><td> TRUE</td><td>FALSE</td><td> TRUE</td><td>FALSE</td><td> TRUE</td><td>FALSE</td><td> TRUE</td><td>FALSE</td><td>FALSE</td><td> TRUE</td><td> TRUE</td><td> TRUE</td><td> TRUE</td><td> TRUE</td><td> TRUE</td><td> TRUE</td><td> TRUE</td><td>FALSE</td></tr>\n",
       "\t<tr><th scope=row>14</th><td>TRUE</td><td> TRUE</td><td> TRUE</td><td> TRUE</td><td> TRUE</td><td>FALSE</td><td> TRUE</td><td>FALSE</td><td> TRUE</td><td>FALSE</td><td>FALSE</td><td> TRUE</td><td> TRUE</td><td> TRUE</td><td> TRUE</td><td> TRUE</td><td> TRUE</td><td> TRUE</td><td> TRUE</td><td>FALSE</td></tr>\n",
       "\t<tr><th scope=row>15</th><td>TRUE</td><td> TRUE</td><td> TRUE</td><td> TRUE</td><td> TRUE</td><td>FALSE</td><td> TRUE</td><td>FALSE</td><td> TRUE</td><td> TRUE</td><td>FALSE</td><td> TRUE</td><td> TRUE</td><td> TRUE</td><td> TRUE</td><td> TRUE</td><td> TRUE</td><td> TRUE</td><td> TRUE</td><td>FALSE</td></tr>\n",
       "\t<tr><th scope=row>16</th><td>TRUE</td><td> TRUE</td><td> TRUE</td><td> TRUE</td><td> TRUE</td><td> TRUE</td><td> TRUE</td><td>FALSE</td><td> TRUE</td><td> TRUE</td><td>FALSE</td><td> TRUE</td><td> TRUE</td><td> TRUE</td><td> TRUE</td><td> TRUE</td><td> TRUE</td><td> TRUE</td><td> TRUE</td><td>FALSE</td></tr>\n",
       "\t<tr><th scope=row>17</th><td>TRUE</td><td> TRUE</td><td> TRUE</td><td> TRUE</td><td> TRUE</td><td> TRUE</td><td> TRUE</td><td>FALSE</td><td> TRUE</td><td> TRUE</td><td>FALSE</td><td> TRUE</td><td> TRUE</td><td> TRUE</td><td> TRUE</td><td> TRUE</td><td> TRUE</td><td> TRUE</td><td> TRUE</td><td> TRUE</td></tr>\n",
       "\t<tr><th scope=row>18</th><td>TRUE</td><td> TRUE</td><td> TRUE</td><td> TRUE</td><td> TRUE</td><td> TRUE</td><td> TRUE</td><td> TRUE</td><td> TRUE</td><td> TRUE</td><td>FALSE</td><td> TRUE</td><td> TRUE</td><td> TRUE</td><td> TRUE</td><td> TRUE</td><td> TRUE</td><td> TRUE</td><td> TRUE</td><td> TRUE</td></tr>\n",
       "\t<tr><th scope=row>19</th><td>TRUE</td><td> TRUE</td><td> TRUE</td><td> TRUE</td><td> TRUE</td><td> TRUE</td><td> TRUE</td><td> TRUE</td><td> TRUE</td><td> TRUE</td><td> TRUE</td><td> TRUE</td><td> TRUE</td><td> TRUE</td><td> TRUE</td><td> TRUE</td><td> TRUE</td><td> TRUE</td><td> TRUE</td><td> TRUE</td></tr>\n",
       "</tbody>\n",
       "</table>\n"
      ],
      "text/latex": [
       "A matrix: 19 × 20 of type lgl\n",
       "\\begin{tabular}{r|llllllllllllllllllll}\n",
       "  & (Intercept) & AtBat & Hits & HmRun & Runs & RBI & Walks & Years & CAtBat & CHits & CHmRun & CRuns & CRBI & CWalks & LeagueN & DivisionW & PutOuts & Assists & Errors & NewLeagueN\\\\\n",
       "\\hline\n",
       "\t1 & TRUE & FALSE & FALSE & FALSE & FALSE & FALSE & FALSE & FALSE & FALSE & FALSE & FALSE & FALSE &  TRUE & FALSE & FALSE & FALSE & FALSE & FALSE & FALSE & FALSE\\\\\n",
       "\t2 & TRUE & FALSE &  TRUE & FALSE & FALSE & FALSE & FALSE & FALSE & FALSE & FALSE & FALSE & FALSE &  TRUE & FALSE & FALSE & FALSE & FALSE & FALSE & FALSE & FALSE\\\\\n",
       "\t3 & TRUE & FALSE &  TRUE & FALSE & FALSE & FALSE & FALSE & FALSE & FALSE & FALSE & FALSE & FALSE &  TRUE & FALSE & FALSE & FALSE &  TRUE & FALSE & FALSE & FALSE\\\\\n",
       "\t4 & TRUE & FALSE &  TRUE & FALSE & FALSE & FALSE & FALSE & FALSE & FALSE & FALSE & FALSE & FALSE &  TRUE & FALSE & FALSE &  TRUE &  TRUE & FALSE & FALSE & FALSE\\\\\n",
       "\t5 & TRUE &  TRUE &  TRUE & FALSE & FALSE & FALSE & FALSE & FALSE & FALSE & FALSE & FALSE & FALSE &  TRUE & FALSE & FALSE &  TRUE &  TRUE & FALSE & FALSE & FALSE\\\\\n",
       "\t6 & TRUE &  TRUE &  TRUE & FALSE & FALSE & FALSE &  TRUE & FALSE & FALSE & FALSE & FALSE & FALSE &  TRUE & FALSE & FALSE &  TRUE &  TRUE & FALSE & FALSE & FALSE\\\\\n",
       "\t7 & TRUE & FALSE &  TRUE & FALSE & FALSE & FALSE &  TRUE & FALSE &  TRUE &  TRUE &  TRUE & FALSE & FALSE & FALSE & FALSE &  TRUE &  TRUE & FALSE & FALSE & FALSE\\\\\n",
       "\t8 & TRUE &  TRUE &  TRUE & FALSE & FALSE & FALSE &  TRUE & FALSE & FALSE & FALSE &  TRUE &  TRUE & FALSE &  TRUE & FALSE &  TRUE &  TRUE & FALSE & FALSE & FALSE\\\\\n",
       "\t9 & TRUE &  TRUE &  TRUE & FALSE & FALSE & FALSE &  TRUE & FALSE &  TRUE & FALSE & FALSE &  TRUE &  TRUE &  TRUE & FALSE &  TRUE &  TRUE & FALSE & FALSE & FALSE\\\\\n",
       "\t10 & TRUE &  TRUE &  TRUE & FALSE & FALSE & FALSE &  TRUE & FALSE &  TRUE & FALSE & FALSE &  TRUE &  TRUE &  TRUE & FALSE &  TRUE &  TRUE &  TRUE & FALSE & FALSE\\\\\n",
       "\t11 & TRUE &  TRUE &  TRUE & FALSE & FALSE & FALSE &  TRUE & FALSE &  TRUE & FALSE & FALSE &  TRUE &  TRUE &  TRUE &  TRUE &  TRUE &  TRUE &  TRUE & FALSE & FALSE\\\\\n",
       "\t12 & TRUE &  TRUE &  TRUE & FALSE &  TRUE & FALSE &  TRUE & FALSE &  TRUE & FALSE & FALSE &  TRUE &  TRUE &  TRUE &  TRUE &  TRUE &  TRUE &  TRUE & FALSE & FALSE\\\\\n",
       "\t13 & TRUE &  TRUE &  TRUE & FALSE &  TRUE & FALSE &  TRUE & FALSE &  TRUE & FALSE & FALSE &  TRUE &  TRUE &  TRUE &  TRUE &  TRUE &  TRUE &  TRUE &  TRUE & FALSE\\\\\n",
       "\t14 & TRUE &  TRUE &  TRUE &  TRUE &  TRUE & FALSE &  TRUE & FALSE &  TRUE & FALSE & FALSE &  TRUE &  TRUE &  TRUE &  TRUE &  TRUE &  TRUE &  TRUE &  TRUE & FALSE\\\\\n",
       "\t15 & TRUE &  TRUE &  TRUE &  TRUE &  TRUE & FALSE &  TRUE & FALSE &  TRUE &  TRUE & FALSE &  TRUE &  TRUE &  TRUE &  TRUE &  TRUE &  TRUE &  TRUE &  TRUE & FALSE\\\\\n",
       "\t16 & TRUE &  TRUE &  TRUE &  TRUE &  TRUE &  TRUE &  TRUE & FALSE &  TRUE &  TRUE & FALSE &  TRUE &  TRUE &  TRUE &  TRUE &  TRUE &  TRUE &  TRUE &  TRUE & FALSE\\\\\n",
       "\t17 & TRUE &  TRUE &  TRUE &  TRUE &  TRUE &  TRUE &  TRUE & FALSE &  TRUE &  TRUE & FALSE &  TRUE &  TRUE &  TRUE &  TRUE &  TRUE &  TRUE &  TRUE &  TRUE &  TRUE\\\\\n",
       "\t18 & TRUE &  TRUE &  TRUE &  TRUE &  TRUE &  TRUE &  TRUE &  TRUE &  TRUE &  TRUE & FALSE &  TRUE &  TRUE &  TRUE &  TRUE &  TRUE &  TRUE &  TRUE &  TRUE &  TRUE\\\\\n",
       "\t19 & TRUE &  TRUE &  TRUE &  TRUE &  TRUE &  TRUE &  TRUE &  TRUE &  TRUE &  TRUE &  TRUE &  TRUE &  TRUE &  TRUE &  TRUE &  TRUE &  TRUE &  TRUE &  TRUE &  TRUE\\\\\n",
       "\\end{tabular}\n"
      ],
      "text/markdown": [
       "\n",
       "A matrix: 19 × 20 of type lgl\n",
       "\n",
       "| <!--/--> | (Intercept) | AtBat | Hits | HmRun | Runs | RBI | Walks | Years | CAtBat | CHits | CHmRun | CRuns | CRBI | CWalks | LeagueN | DivisionW | PutOuts | Assists | Errors | NewLeagueN |\n",
       "|---|---|---|---|---|---|---|---|---|---|---|---|---|---|---|---|---|---|---|---|---|\n",
       "| 1 | TRUE | FALSE | FALSE | FALSE | FALSE | FALSE | FALSE | FALSE | FALSE | FALSE | FALSE | FALSE |  TRUE | FALSE | FALSE | FALSE | FALSE | FALSE | FALSE | FALSE |\n",
       "| 2 | TRUE | FALSE |  TRUE | FALSE | FALSE | FALSE | FALSE | FALSE | FALSE | FALSE | FALSE | FALSE |  TRUE | FALSE | FALSE | FALSE | FALSE | FALSE | FALSE | FALSE |\n",
       "| 3 | TRUE | FALSE |  TRUE | FALSE | FALSE | FALSE | FALSE | FALSE | FALSE | FALSE | FALSE | FALSE |  TRUE | FALSE | FALSE | FALSE |  TRUE | FALSE | FALSE | FALSE |\n",
       "| 4 | TRUE | FALSE |  TRUE | FALSE | FALSE | FALSE | FALSE | FALSE | FALSE | FALSE | FALSE | FALSE |  TRUE | FALSE | FALSE |  TRUE |  TRUE | FALSE | FALSE | FALSE |\n",
       "| 5 | TRUE |  TRUE |  TRUE | FALSE | FALSE | FALSE | FALSE | FALSE | FALSE | FALSE | FALSE | FALSE |  TRUE | FALSE | FALSE |  TRUE |  TRUE | FALSE | FALSE | FALSE |\n",
       "| 6 | TRUE |  TRUE |  TRUE | FALSE | FALSE | FALSE |  TRUE | FALSE | FALSE | FALSE | FALSE | FALSE |  TRUE | FALSE | FALSE |  TRUE |  TRUE | FALSE | FALSE | FALSE |\n",
       "| 7 | TRUE | FALSE |  TRUE | FALSE | FALSE | FALSE |  TRUE | FALSE |  TRUE |  TRUE |  TRUE | FALSE | FALSE | FALSE | FALSE |  TRUE |  TRUE | FALSE | FALSE | FALSE |\n",
       "| 8 | TRUE |  TRUE |  TRUE | FALSE | FALSE | FALSE |  TRUE | FALSE | FALSE | FALSE |  TRUE |  TRUE | FALSE |  TRUE | FALSE |  TRUE |  TRUE | FALSE | FALSE | FALSE |\n",
       "| 9 | TRUE |  TRUE |  TRUE | FALSE | FALSE | FALSE |  TRUE | FALSE |  TRUE | FALSE | FALSE |  TRUE |  TRUE |  TRUE | FALSE |  TRUE |  TRUE | FALSE | FALSE | FALSE |\n",
       "| 10 | TRUE |  TRUE |  TRUE | FALSE | FALSE | FALSE |  TRUE | FALSE |  TRUE | FALSE | FALSE |  TRUE |  TRUE |  TRUE | FALSE |  TRUE |  TRUE |  TRUE | FALSE | FALSE |\n",
       "| 11 | TRUE |  TRUE |  TRUE | FALSE | FALSE | FALSE |  TRUE | FALSE |  TRUE | FALSE | FALSE |  TRUE |  TRUE |  TRUE |  TRUE |  TRUE |  TRUE |  TRUE | FALSE | FALSE |\n",
       "| 12 | TRUE |  TRUE |  TRUE | FALSE |  TRUE | FALSE |  TRUE | FALSE |  TRUE | FALSE | FALSE |  TRUE |  TRUE |  TRUE |  TRUE |  TRUE |  TRUE |  TRUE | FALSE | FALSE |\n",
       "| 13 | TRUE |  TRUE |  TRUE | FALSE |  TRUE | FALSE |  TRUE | FALSE |  TRUE | FALSE | FALSE |  TRUE |  TRUE |  TRUE |  TRUE |  TRUE |  TRUE |  TRUE |  TRUE | FALSE |\n",
       "| 14 | TRUE |  TRUE |  TRUE |  TRUE |  TRUE | FALSE |  TRUE | FALSE |  TRUE | FALSE | FALSE |  TRUE |  TRUE |  TRUE |  TRUE |  TRUE |  TRUE |  TRUE |  TRUE | FALSE |\n",
       "| 15 | TRUE |  TRUE |  TRUE |  TRUE |  TRUE | FALSE |  TRUE | FALSE |  TRUE |  TRUE | FALSE |  TRUE |  TRUE |  TRUE |  TRUE |  TRUE |  TRUE |  TRUE |  TRUE | FALSE |\n",
       "| 16 | TRUE |  TRUE |  TRUE |  TRUE |  TRUE |  TRUE |  TRUE | FALSE |  TRUE |  TRUE | FALSE |  TRUE |  TRUE |  TRUE |  TRUE |  TRUE |  TRUE |  TRUE |  TRUE | FALSE |\n",
       "| 17 | TRUE |  TRUE |  TRUE |  TRUE |  TRUE |  TRUE |  TRUE | FALSE |  TRUE |  TRUE | FALSE |  TRUE |  TRUE |  TRUE |  TRUE |  TRUE |  TRUE |  TRUE |  TRUE |  TRUE |\n",
       "| 18 | TRUE |  TRUE |  TRUE |  TRUE |  TRUE |  TRUE |  TRUE |  TRUE |  TRUE |  TRUE | FALSE |  TRUE |  TRUE |  TRUE |  TRUE |  TRUE |  TRUE |  TRUE |  TRUE |  TRUE |\n",
       "| 19 | TRUE |  TRUE |  TRUE |  TRUE |  TRUE |  TRUE |  TRUE |  TRUE |  TRUE |  TRUE |  TRUE |  TRUE |  TRUE |  TRUE |  TRUE |  TRUE |  TRUE |  TRUE |  TRUE |  TRUE |\n",
       "\n"
      ],
      "text/plain": [
       "   (Intercept) AtBat Hits  HmRun Runs  RBI   Walks Years CAtBat CHits CHmRun\n",
       "1  TRUE        FALSE FALSE FALSE FALSE FALSE FALSE FALSE FALSE  FALSE FALSE \n",
       "2  TRUE        FALSE  TRUE FALSE FALSE FALSE FALSE FALSE FALSE  FALSE FALSE \n",
       "3  TRUE        FALSE  TRUE FALSE FALSE FALSE FALSE FALSE FALSE  FALSE FALSE \n",
       "4  TRUE        FALSE  TRUE FALSE FALSE FALSE FALSE FALSE FALSE  FALSE FALSE \n",
       "5  TRUE         TRUE  TRUE FALSE FALSE FALSE FALSE FALSE FALSE  FALSE FALSE \n",
       "6  TRUE         TRUE  TRUE FALSE FALSE FALSE  TRUE FALSE FALSE  FALSE FALSE \n",
       "7  TRUE        FALSE  TRUE FALSE FALSE FALSE  TRUE FALSE  TRUE   TRUE  TRUE \n",
       "8  TRUE         TRUE  TRUE FALSE FALSE FALSE  TRUE FALSE FALSE  FALSE  TRUE \n",
       "9  TRUE         TRUE  TRUE FALSE FALSE FALSE  TRUE FALSE  TRUE  FALSE FALSE \n",
       "10 TRUE         TRUE  TRUE FALSE FALSE FALSE  TRUE FALSE  TRUE  FALSE FALSE \n",
       "11 TRUE         TRUE  TRUE FALSE FALSE FALSE  TRUE FALSE  TRUE  FALSE FALSE \n",
       "12 TRUE         TRUE  TRUE FALSE  TRUE FALSE  TRUE FALSE  TRUE  FALSE FALSE \n",
       "13 TRUE         TRUE  TRUE FALSE  TRUE FALSE  TRUE FALSE  TRUE  FALSE FALSE \n",
       "14 TRUE         TRUE  TRUE  TRUE  TRUE FALSE  TRUE FALSE  TRUE  FALSE FALSE \n",
       "15 TRUE         TRUE  TRUE  TRUE  TRUE FALSE  TRUE FALSE  TRUE   TRUE FALSE \n",
       "16 TRUE         TRUE  TRUE  TRUE  TRUE  TRUE  TRUE FALSE  TRUE   TRUE FALSE \n",
       "17 TRUE         TRUE  TRUE  TRUE  TRUE  TRUE  TRUE FALSE  TRUE   TRUE FALSE \n",
       "18 TRUE         TRUE  TRUE  TRUE  TRUE  TRUE  TRUE  TRUE  TRUE   TRUE FALSE \n",
       "19 TRUE         TRUE  TRUE  TRUE  TRUE  TRUE  TRUE  TRUE  TRUE   TRUE  TRUE \n",
       "   CRuns CRBI  CWalks LeagueN DivisionW PutOuts Assists Errors NewLeagueN\n",
       "1  FALSE  TRUE FALSE  FALSE   FALSE     FALSE   FALSE   FALSE  FALSE     \n",
       "2  FALSE  TRUE FALSE  FALSE   FALSE     FALSE   FALSE   FALSE  FALSE     \n",
       "3  FALSE  TRUE FALSE  FALSE   FALSE      TRUE   FALSE   FALSE  FALSE     \n",
       "4  FALSE  TRUE FALSE  FALSE    TRUE      TRUE   FALSE   FALSE  FALSE     \n",
       "5  FALSE  TRUE FALSE  FALSE    TRUE      TRUE   FALSE   FALSE  FALSE     \n",
       "6  FALSE  TRUE FALSE  FALSE    TRUE      TRUE   FALSE   FALSE  FALSE     \n",
       "7  FALSE FALSE FALSE  FALSE    TRUE      TRUE   FALSE   FALSE  FALSE     \n",
       "8   TRUE FALSE  TRUE  FALSE    TRUE      TRUE   FALSE   FALSE  FALSE     \n",
       "9   TRUE  TRUE  TRUE  FALSE    TRUE      TRUE   FALSE   FALSE  FALSE     \n",
       "10  TRUE  TRUE  TRUE  FALSE    TRUE      TRUE    TRUE   FALSE  FALSE     \n",
       "11  TRUE  TRUE  TRUE   TRUE    TRUE      TRUE    TRUE   FALSE  FALSE     \n",
       "12  TRUE  TRUE  TRUE   TRUE    TRUE      TRUE    TRUE   FALSE  FALSE     \n",
       "13  TRUE  TRUE  TRUE   TRUE    TRUE      TRUE    TRUE    TRUE  FALSE     \n",
       "14  TRUE  TRUE  TRUE   TRUE    TRUE      TRUE    TRUE    TRUE  FALSE     \n",
       "15  TRUE  TRUE  TRUE   TRUE    TRUE      TRUE    TRUE    TRUE  FALSE     \n",
       "16  TRUE  TRUE  TRUE   TRUE    TRUE      TRUE    TRUE    TRUE  FALSE     \n",
       "17  TRUE  TRUE  TRUE   TRUE    TRUE      TRUE    TRUE    TRUE   TRUE     \n",
       "18  TRUE  TRUE  TRUE   TRUE    TRUE      TRUE    TRUE    TRUE   TRUE     \n",
       "19  TRUE  TRUE  TRUE   TRUE    TRUE      TRUE    TRUE    TRUE   TRUE     "
      ]
     },
     "metadata": {
      "tags": []
     },
     "output_type": "display_data"
    }
   ],
   "source": [
    "# You can directly query which terms are included at each level of complexity\n",
    "reg.summary$which"
   ]
  },
  {
   "cell_type": "markdown",
   "metadata": {
    "id": "BWVClQvvakNv"
   },
   "source": [
    "Now let's look at the adjusted model fit for each of these models. Note that there are four different measures of model fit (RSS, Adjusted $R^2$, Mallow's Cp, BIC) included in the code below."
   ]
  },
  {
   "cell_type": "code",
   "execution_count": null,
   "metadata": {
    "colab": {
     "base_uri": "https://localhost:8080/",
     "height": 437
    },
    "id": "EyvzgKV4akNv",
    "outputId": "291360c1-835b-4b51-9da9-e783f239779e"
   },
   "outputs": [
    {
     "data": {
      "image/png": "[encoded data removed]",
      "text/plain": [
       "plot without title"
      ]
     },
     "metadata": {
      "filenames": {
       "image/png": "/Users/timothyv/Cloud/Google Drive/Classes/DataSciencePsychNeuro_2022/Data-Explorations/book/_build/jupyter_execute/notebooks/selecting-the-best-model_16_0.png"
      },
      "image/png": {
       "height": 420,
       "width": 420
      },
      "tags": []
     },
     "output_type": "display_data"
    }
   ],
   "source": [
    "# Uncomment the model fit measures you want to look at. \n",
    "\n",
    "numvar = 1:length(reg.summary$rss)# Make a vector that lists the number of variables in sequence, from 1 to 19. \n",
    "allfalse = rep(FALSE,length(reg.summary$rss))# Starting point for an indicator that marks the best model choice for each metric.\n",
    "\n",
    "# #rss\n",
    "# rss.df <- data.frame(numvar = numvar, rss = reg.summary$rss, minrss = allfalse)\n",
    "# rss.df$minrss[which.min(reg.summary$rss)] <- TRUE\n",
    "# ggplot(rss.df,aes(x=numvar,y=rss,shape=minrss,col=minrss)) + \n",
    "#     geom_point(size=3) + theme_light() + \n",
    "#     labs(x = \"Number of Variables\", y = \"RSS\", color=\"Minimum RSS\", shape=\"Minimum RSS\")\n",
    "\n",
    "#adjr2\n",
    "adjr2.df <- data.frame(numvar = numvar, adjr2 <- reg.summary$adjr2, maxadjr2 <- allfalse)\n",
    "adjr2.df$maxadjr2[which.max(reg.summary$adjr2)] <- TRUE\n",
    "ggplot(adjr2.df,aes(x=numvar,y=adjr2,shape=maxadjr2,col=maxadjr2)) + \n",
    "    geom_point(size=3) + theme_light() + \n",
    "    labs(x = \"Number of Variables\", y = 'Adj'~R^2, color='Maximum Adj'~R^2, shape='Maximum Adj'~R^2)\n",
    "\n",
    "# #mallow's cp\n",
    "# cp.df <- data.frame(numvar = numvar, cp <- reg.summary$cp, mincp <- allfalse)\n",
    "# cp.df$mincp[which.min(reg.summary$cp)] <- TRUE\n",
    "# ggplot(cp.df,aes(x=numvar,y=cp,shape=mincp,col=mincp)) + \n",
    "#     geom_point(size=3) + theme_light() + \n",
    "#     labs(x = \"Number of Variables\", y = \"Mallow's CP\", color=\"Maximum CP\", shape=\"Maximum CP\")\n",
    "\n",
    "# #bic\n",
    "# bic.df <- data.frame(numvar = numvar,bic <- reg.summary$bic, minbic <- allfalse)\n",
    "# bic.df$minbic[which.min(reg.summary$bic)] <- TRUE\n",
    "# ggplot(bic.df,aes(x=numvar,y=bic,shape=minbic,col=minbic)) + \n",
    "#     geom_point(size=3) + theme_light() + \n",
    "#     labs(x = \"Number of Variables\", y = \"BIC\", color=\"Minimum BIC\", shape=\"Minimum BIC\")"
   ]
  },
  {
   "cell_type": "markdown",
   "metadata": {
    "id": "K4WgZNZkkL4f"
   },
   "source": [
    "You can also play around with some of the built-in plotting functions from `regsubset()` : "
   ]
  },
  {
   "cell_type": "code",
   "execution_count": null,
   "metadata": {
    "id": "muK-gloKakNw",
    "outputId": "22b72c13-6948-42a9-e3cf-42a60ed79603"
   },
   "outputs": [
    {
     "data": {
      "image/png": "[encoded data removed]",
      "text/plain": [
       "plot without title"
      ]
     },
     "metadata": {
      "filenames": {
       "image/png": "/Users/timothyv/Cloud/Google Drive/Classes/DataSciencePsychNeuro_2022/Data-Explorations/book/_build/jupyter_execute/notebooks/selecting-the-best-model_18_0.png"
      },
      "tags": []
     },
     "output_type": "display_data"
    }
   ],
   "source": [
    "plot(regfit.full, scale=\"bic\") #BIC\n",
    "# plot(regfit.full, scale=\"adjr2\") #adjusted R^2\n",
    "# plot(regfit.full, scale=\"Cp\") #Mallow's Cp"
   ]
  },
  {
   "cell_type": "markdown",
   "metadata": {
    "id": "keBx1Q1xakNw"
   },
   "source": [
    "In the plot above, each model is represented by a row. The models are sorted from those with the most negative BICs (at the top) to those with the least negative BICs (at the bottom). The variables included in each model are denoted by colored-in squares. \n",
    "We see that many models have a BIC of around −150. However, the model\n",
    "with the lowest BIC (and thus the best one) contains only six variables: AtBat,\n",
    "Hits, Walks, CRBI, DivisionW, and PutOuts. \n",
    "\n",
    "Below, we look at which model is \"best\" according to the various bias-adjusted metrics. "
   ]
  },
  {
   "cell_type": "code",
   "execution_count": null,
   "metadata": {
    "id": "pOhP39xiakNw",
    "outputId": "61082391-b8cd-4c74-ab0b-b8013a86fa40"
   },
   "outputs": [
    {
     "data": {
      "text/html": [
       "6"
      ],
      "text/latex": [
       "6"
      ],
      "text/markdown": [
       "6"
      ],
      "text/plain": [
       "[1] 6"
      ]
     },
     "metadata": {
      "tags": []
     },
     "output_type": "display_data"
    },
    {
     "data": {
      "text/html": [
       "11"
      ],
      "text/latex": [
       "11"
      ],
      "text/markdown": [
       "11"
      ],
      "text/plain": [
       "[1] 11"
      ]
     },
     "metadata": {
      "tags": []
     },
     "output_type": "display_data"
    },
    {
     "data": {
      "text/html": [
       "10"
      ],
      "text/latex": [
       "10"
      ],
      "text/markdown": [
       "10"
      ],
      "text/plain": [
       "[1] 10"
      ]
     },
     "metadata": {
      "tags": []
     },
     "output_type": "display_data"
    }
   ],
   "source": [
    "# identify which model has the best bias-adjusted fit\n",
    "which.min(reg.summary$bic) \n",
    "which.max(reg.summary$adjr2)\n",
    "which.min(reg.summary$cp)"
   ]
  },
  {
   "cell_type": "markdown",
   "metadata": {
    "id": "tfkCbpTkakNx"
   },
   "source": [
    "Right now, there's a clear discrepancy in fit among the bias-adjusted model evaluations. How could we use cross-validation to help determine which model is best? (*Note: if you'd like to predict outputs from models in `regsubsets`, see pg 248-250 of the James textbook.*)"
   ]
  },
  {
   "cell_type": "markdown",
   "metadata": {
    "id": "bPliWS7zghq_"
   },
   "source": [
    "*Notebook authored by Ven Popov and edited by Krista Bond, Charles Wu, Patience Stevens, and Amy Sentis.*"
   ]
  }
 ],
 "metadata": {
  "colab": {
   "name": "selecting-the-best-model.ipynb",
   "provenance": []
  },
  "kernelspec": {
   "display_name": "R",
   "language": "R",
   "name": "ir"
  },
  "language_info": {
   "codemirror_mode": "r",
   "file_extension": ".r",
   "mimetype": "text/x-r-source",
   "name": "R",
   "pygments_lexer": "r",
   "version": "4.0.2"
  }
 },
 "nbformat": 4,
 "nbformat_minor": 1
}