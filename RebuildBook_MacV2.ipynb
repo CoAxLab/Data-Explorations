{
 "cells": [
  {
   "cell_type": "code",
   "execution_count": 1,
   "id": "654e882e-f9d5-44ce-8ffb-6714477ec505",
   "metadata": {},
   "outputs": [
    {
     "name": "stdout",
     "output_type": "stream",
     "text": [
      "zsh: bad option string: '-rm -rf book/_build/'\n",
      "\u001b[32m\u001b[1mRunning Jupyter-Book v1.0.3\u001b[0m\n",
      "\u001b[34m\u001b[1mSource Folder: \u001b[0m/Users/jiangruitong/Documents/Documents Folder/GitHub/Data-Explorations/book\n",
      "\u001b[34m\u001b[1mConfig Path: \u001b[0m/Users/jiangruitong/Documents/Documents Folder/GitHub/Data-Explorations/book/_config.yml\n",
      "\u001b[34m\u001b[1mOutput Path: \u001b[0m/Users/jiangruitong/Documents/Documents Folder/GitHub/Data-Explorations/book/_build/html\n",
      "\u001b[01mRunning Sphinx v6.2.1\u001b[39;49;00m\n",
      "[etoc] Changing master_doc to 'intro'\n",
      "\u001b[01mmyst v1.0.0:\u001b[39;49;00m MdParserConfig(commonmark_only=False, gfm_only=False, enable_extensions={'colon_fence', 'dollarmath', 'substitution', 'linkify', 'tasklist'}, disable_syntax=[], all_links_external=False, url_schemes=('mailto', 'http', 'https'), ref_domains=None, fence_as_directive=set(), number_code_blocks=[], title_to_header=False, heading_anchors=0, heading_slug_func=None, html_meta={}, footnote_transition=True, words_per_minute=200, substitutions={}, linkify_fuzzy_links=True, dmath_allow_labels=True, dmath_allow_space=True, dmath_allow_digits=True, dmath_double_inline=False, update_mathjax=True, mathjax_classes='tex2jax_process|mathjax_process|math|output_area', enable_checkboxes=False, suppress_warnings=[], highlight_code_blocks=True)\n",
      "\u001b[01mmyst-nb v1.1.2:\u001b[39;49;00m NbParserConfig(custom_formats={}, metadata_key='mystnb', cell_metadata_key='mystnb', kernel_rgx_aliases={}, eval_name_regex='^[a-zA-Z_][a-zA-Z0-9_]*$', execution_mode='off', execution_cache_path='', execution_excludepatterns=[], execution_timeout=30, execution_in_temp=False, execution_allow_errors=False, execution_raise_on_error=False, execution_show_tb=False, merge_streams=False, render_plugin='default', remove_code_source=False, remove_code_outputs=False, code_prompt_show='Show code cell {type}', code_prompt_hide='Hide code cell {type}', number_source_lines=False, output_stderr='show', render_text_lexer='myst-ansi', render_error_lexer='ipythontb', render_image_options={}, render_figure_options={}, render_markdown_format='commonmark', output_folder='build', append_css=True, metadata_to_fm=False)\n",
      "Using jupyter-cache at: /Users/jiangruitong/Documents/Documents Folder/GitHub/Data-Explorations/book/_build/.jupyter_cache\n",
      "\u001b[01msphinx-multitoc-numbering v0.1.3:\u001b[39;49;00m Loaded\n",
      "\u001b[01mbuilding [mo]: \u001b[39;49;00mtargets for 0 po files that are out of date\n",
      "\u001b[01mwriting output... \u001b[39;49;00m\n",
      "\u001b[01mbuilding [html]: \u001b[39;49;00mtargets for 107 source files that are out of date\n",
      "\u001b[01mupdating environment: \u001b[39;49;00m[new config] 107 added, 0 changed, 0 removed\n",
      "/opt/anaconda3/lib/python3.12/site-packages/nbformat/__init__.py:96: MissingIDFieldWarning: Cell is missing an id field, this will become a hard error in future nbformat versions. You may want to use `normalize()` on your notebooks before validations (available since nbformat 5.1.4). Previous versions of nbformat are fixing this issue transparently, and will stop doing so in the future.\n",
      "  validate(nb)\n",
      "\u001b[01mreading sources... \u001b[39;49;00m[100%] \u001b[35mvideo1\u001b[39;49;00m                                               \n",
      "\u001b[91m/Users/jiangruitong/Documents/Documents Folder/GitHub/Data-Explorations/book/exercises/cross-validation.ipynb:170002: WARNING: Non-consecutive header level increase; H1 to H4 [myst.header]\u001b[39;49;00m\n",
      "\u001b[31m/Users/jiangruitong/Documents/Documents Folder/GitHub/Data-Explorations/book/exercises/cross-validation.ipynb:10003: ERROR: Document or section may not begin with a transition.\u001b[39;49;00m\n",
      "\u001b[31m/Users/jiangruitong/Documents/Documents Folder/GitHub/Data-Explorations/book/exercises/cross-validation.ipynb:20003: ERROR: Document or section may not begin with a transition.\u001b[39;49;00m\n",
      "\u001b[31m/Users/jiangruitong/Documents/Documents Folder/GitHub/Data-Explorations/book/exercises/the-beauty-of-knn.ipynb:20003: ERROR: Document or section may not begin with a transition.\u001b[39;49;00m\n",
      "\u001b[31m/Users/jiangruitong/Documents/Documents Folder/GitHub/Data-Explorations/book/exercises/the-beauty-of-knn.ipynb:90003: ERROR: Document or section may not begin with a transition.\u001b[39;49;00m\n",
      "\u001b[31m/Users/jiangruitong/Documents/Documents Folder/GitHub/Data-Explorations/book/exercises/the-beauty-of-knn.ipynb:170003: ERROR: Document or section may not begin with a transition.\u001b[39;49;00m\n",
      "\u001b[31m/Users/jiangruitong/Documents/Documents Folder/GitHub/Data-Explorations/book/exercises/the-beauty-of-knn.ipynb:230003: ERROR: Document or section may not begin with a transition.\u001b[39;49;00m\n",
      "\u001b[91m/Users/jiangruitong/Documents/Documents Folder/GitHub/Data-Explorations/book/markdown.md:77: WARNING: Unknown interpreted text role \"cite\". [myst.role_unknown]\u001b[39;49;00m\n",
      "\u001b[91m/Users/jiangruitong/Documents/Documents Folder/GitHub/Data-Explorations/book/markdown.md:94: WARNING: Unknown directive type: 'bibliography' [myst.directive_unknown]\u001b[39;49;00m\n",
      "\u001b[91m/Users/jiangruitong/Documents/Documents Folder/GitHub/Data-Explorations/book/notebooks/01-Introduction-to-data-investigations.ipynb:60002: WARNING: Non-consecutive header level increase; H1 to H3 [myst.header]\u001b[39;49;00m\n",
      "\u001b[91m/Users/jiangruitong/Documents/Documents Folder/GitHub/Data-Explorations/book/notebooks/models-as-testable-hypotheses.ipynb:40004: WARNING: Non-consecutive header level increase; H2 to H4 [myst.header]\u001b[39;49;00m\n",
      "\u001b[91m/Users/jiangruitong/Documents/Documents Folder/GitHub/Data-Explorations/book/notebooks/models-as-testable-hypotheses.ipynb:80002: WARNING: Non-consecutive header level increase; H2 to H4 [myst.header]\u001b[39;49;00m\n",
      "\u001b[91m/Users/jiangruitong/Documents/Documents Folder/GitHub/Data-Explorations/book/notebooks/techniques-for-data-cleansing.ipynb:970002: WARNING: Non-consecutive header level increase; H1 to H3 [myst.header]\u001b[39;49;00m\n",
      "\u001b[91m/Users/jiangruitong/Documents/Documents Folder/GitHub/Data-Explorations/book/notebooks/techniques-for-data-cleansing.ipynb:990007: WARNING: Non-consecutive header level increase; H1 to H3 [myst.header]\u001b[39;49;00m\n",
      "\u001b[91m/Users/jiangruitong/Documents/Documents Folder/GitHub/Data-Explorations/book/notebooks/techniques-for-data-cleansing.ipynb:1010002: WARNING: Non-consecutive header level increase; H1 to H3 [myst.header]\u001b[39;49;00m\n",
      "\u001b[91m/Users/jiangruitong/Documents/Documents Folder/GitHub/Data-Explorations/book/video1.md:1: WARNING: Document headings start at H2, not H1 [myst.header]\u001b[39;49;00m\n",
      "\u001b[01mlooking for now-outdated files... \u001b[39;49;00mnone found\n",
      "\u001b[01mpickling environment... \u001b[39;49;00mdone\n",
      "\u001b[01mchecking consistency... \u001b[39;49;00m\u001b[91m/Users/jiangruitong/Documents/Documents Folder/GitHub/Data-Explorations/book/discussions/Fiona-test.md: WARNING: document isn't included in any toctree\u001b[39;49;00m\n",
      "\u001b[91m/Users/jiangruitong/Documents/Documents Folder/GitHub/Data-Explorations/book/discussions/what-is-learnable.md: WARNING: document isn't included in any toctree\u001b[39;49;00m\n",
      "\u001b[91m/Users/jiangruitong/Documents/Documents Folder/GitHub/Data-Explorations/book/lectures/art-of-data-investigations.md: WARNING: document isn't included in any toctree\u001b[39;49;00m\n",
      "\u001b[91m/Users/jiangruitong/Documents/Documents Folder/GitHub/Data-Explorations/book/lectures/constructing-a-testable-hypothesis.md: WARNING: document isn't included in any toctree\u001b[39;49;00m\n",
      "\u001b[91m/Users/jiangruitong/Documents/Documents Folder/GitHub/Data-Explorations/book/lectures/video-test-1.ipynb: WARNING: document isn't included in any toctree\u001b[39;49;00m\n",
      "\u001b[91m/Users/jiangruitong/Documents/Documents Folder/GitHub/Data-Explorations/book/lectures/what-is-learnable.md: WARNING: document isn't included in any toctree\u001b[39;49;00m\n",
      "\u001b[91m/Users/jiangruitong/Documents/Documents Folder/GitHub/Data-Explorations/book/markdown.md: WARNING: document isn't included in any toctree\u001b[39;49;00m\n",
      "\u001b[91m/Users/jiangruitong/Documents/Documents Folder/GitHub/Data-Explorations/book/notebooks/01-Introduction-to-data-investigations.ipynb: WARNING: document isn't included in any toctree\u001b[39;49;00m\n",
      "\u001b[91m/Users/jiangruitong/Documents/Documents Folder/GitHub/Data-Explorations/book/notebooks/Untitled.ipynb: WARNING: document isn't included in any toctree\u001b[39;49;00m\n",
      "\u001b[91m/Users/jiangruitong/Documents/Documents Folder/GitHub/Data-Explorations/book/notebooks/art-of-data-investigations.ipynb: WARNING: document isn't included in any toctree\u001b[39;49;00m\n",
      "\u001b[91m/Users/jiangruitong/Documents/Documents Folder/GitHub/Data-Explorations/book/notebooks/cross-validation.old.ipynb: WARNING: document isn't included in any toctree\u001b[39;49;00m\n",
      "\u001b[91m/Users/jiangruitong/Documents/Documents Folder/GitHub/Data-Explorations/book/notebooks/what-is-learnable.ipynb: WARNING: document isn't included in any toctree\u001b[39;49;00m\n",
      "\u001b[91m/Users/jiangruitong/Documents/Documents Folder/GitHub/Data-Explorations/book/video1.md: WARNING: document isn't included in any toctree\u001b[39;49;00m\n",
      "done\n",
      "\u001b[01mpreparing documents... \u001b[39;49;00mdone\n",
      "\u001b[01mwriting output... \u001b[39;49;00m[100%] \u001b[32mvideo1\u001b[39;49;00m                                                \n",
      "\u001b[01mgenerating indices... \u001b[39;49;00mgenindex done\n",
      "\u001b[01mwriting additional pages... \u001b[39;49;00msearch done\n",
      "\u001b[01mcopying images... \u001b[39;49;00m[100%] \u001b[33m_build/jupyter_execute/216c7fcbcd9e407ab8ad7da224442ca710d4fcc9a7293a3a3608476c19a0fc8c.png\u001b[39;49;00m\n",
      "\u001b[01mcopying static files... \u001b[39;49;00mdone\n",
      "\u001b[01mcopying extra files... \u001b[39;49;00mdone\n",
      "\u001b[01mdumping search index in English (code: en)... \u001b[39;49;00mdone\n",
      "\u001b[01mdumping object inventory... \u001b[39;49;00mdone\n",
      "\u001b[01mbuild succeeded, 29 warnings.\u001b[39;49;00m\n",
      "\n",
      "The HTML pages are in book/_build/html.\n",
      "\n",
      "\u001b[92m===============================================================================\u001b[0m\n",
      "\n",
      "Finished generating HTML for book.\n",
      "Your book's HTML pages are here:\n",
      "    book/_build/html/\n",
      "You can look at your book by opening this file in a browser:\n",
      "    book/_build/html/index.html\n",
      "Or paste this line directly into your browser bar:\n",
      "    file:///Users/jiangruitong/Documents/Documents Folder/GitHub/Data-Explorations/book/_build/html/index.html            \n",
      "\n",
      "\u001b[92m===============================================================================\u001b[0m\n",
      "\n"
     ]
    }
   ],
   "source": [
    "!-rm -rf book/_build/\n",
    "!jupyter-book build --all book"
   ]
  }
 ],
 "metadata": {
  "kernelspec": {
   "display_name": "Python [conda env:base] *",
   "language": "python",
   "name": "conda-base-py"
  },
  "language_info": {
   "codemirror_mode": {
    "name": "ipython",
    "version": 3
   },
   "file_extension": ".py",
   "mimetype": "text/x-python",
   "name": "python",
   "nbconvert_exporter": "python",
   "pygments_lexer": "ipython3",
   "version": "3.12.2"
  }
 },
 "nbformat": 4,
 "nbformat_minor": 5
}
