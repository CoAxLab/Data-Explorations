{
 "cells": [
  {
   "cell_type": "code",
   "execution_count": null,
   "id": "07e5ed3a-4360-40e7-9934-7949e9e8d526",
   "metadata": {},
   "outputs": [],
   "source": [
    "# Single commands with \"!\"\n",
    "!rmdir /s /q book\\_build\n",
    "#rm -rf book/_build/\n",
    "!jupyter-book build --all book\n",
    "!ghp-import -n -p -f book/_build/html\n"
   ]
  },
  {
   "cell_type": "code",
   "execution_count": null,
   "id": "47037e61-d085-4af8-8519-4e82b2aaad34",
   "metadata": {},
   "outputs": [],
   "source": []
  }
 ],
 "metadata": {
  "kernelspec": {
   "display_name": "Python 3 (ipykernel)",
   "language": "python",
   "name": "python3"
  },
  "language_info": {
   "codemirror_mode": {
    "name": "ipython",
    "version": 3
   },
   "file_extension": ".py",
   "mimetype": "text/x-python",
   "name": "python",
   "nbconvert_exporter": "python",
   "pygments_lexer": "ipython3",
   "version": "3.12.7"
  }
 },
 "nbformat": 4,
 "nbformat_minor": 5
}
